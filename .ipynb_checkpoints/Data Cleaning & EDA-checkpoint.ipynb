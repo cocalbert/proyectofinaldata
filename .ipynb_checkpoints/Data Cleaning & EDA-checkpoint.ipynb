{
 "cells": [
  {
   "cell_type": "markdown",
   "id": "b8c07e75",
   "metadata": {},
   "source": [
    "# GOALS"
   ]
  },
  {
   "cell_type": "markdown",
   "id": "ffeb06da",
   "metadata": {},
   "source": [
    "- *Top hiring companies (curiosity)*\n",
    "- Positon Categorization (Analyst, Scientist & Engineer)\n",
    "- Proportion Data vs Science vs Engineer (Roles)\n",
    "- Modality Proportion (Trainee, Junior, Mid & Senior)\n",
    "- Seniority x Category\n",
    "- Location Percentage\n",
    "- Keywords Exploration (soft, hard and tools)"
   ]
  },
  {
   "cell_type": "markdown",
   "id": "5e3c0350",
   "metadata": {},
   "source": [
    "# LIBRARIES"
   ]
  },
  {
   "cell_type": "code",
   "execution_count": 244,
   "id": "631f4a2c",
   "metadata": {},
   "outputs": [],
   "source": [
    "import re\n",
    "import sys\n",
    "import nltk\n",
    "import unidecode\n",
    "import numpy as np\n",
    "import pandas as pd\n",
    "import seaborn as sns\n",
    "from nltk import Text\n",
    "from textblob import TextBlob\n",
    "from langdetect import detect\n",
    "from collections import Counter\n",
    "import matplotlib.pyplot as plt\n",
    "from wordcloud import WordCloud\n",
    "from nltk.corpus import stopwords\n",
    "from googletrans import Translator\n",
    "from nltk.stem import WordNetLemmatizer\n",
    "from nltk.tokenize import word_tokenize, RegexpTokenizer\n",
    "from sklearn.feature_extraction.text import CountVectorizer, TfidfVectorizer\n",
    "%matplotlib inline\n",
    "pd.set_option('display.max_colwidth', None)"
   ]
  },
  {
   "cell_type": "code",
   "execution_count": 245,
   "id": "e494ed1c",
   "metadata": {},
   "outputs": [],
   "source": [
    "df = pd.read_csv('data_jobs_total.csv')"
   ]
  },
  {
   "cell_type": "code",
   "execution_count": 246,
   "id": "455dcf50",
   "metadata": {},
   "outputs": [
    {
     "name": "stdout",
     "output_type": "stream",
     "text": [
      "<class 'pandas.core.frame.DataFrame'>\n",
      "RangeIndex: 383 entries, 0 to 382\n",
      "Data columns (total 5 columns):\n",
      " #   Column       Non-Null Count  Dtype \n",
      "---  ------       --------------  ----- \n",
      " 0   title        383 non-null    object\n",
      " 1   company      382 non-null    object\n",
      " 2   location     382 non-null    object\n",
      " 3   modality     371 non-null    object\n",
      " 4   description  382 non-null    object\n",
      "dtypes: object(5)\n",
      "memory usage: 15.1+ KB\n"
     ]
    }
   ],
   "source": [
    "df.info()"
   ]
  },
  {
   "cell_type": "code",
   "execution_count": 247,
   "id": "e570db7d",
   "metadata": {},
   "outputs": [
    {
     "data": {
      "text/html": [
       "<div>\n",
       "<style scoped>\n",
       "    .dataframe tbody tr th:only-of-type {\n",
       "        vertical-align: middle;\n",
       "    }\n",
       "\n",
       "    .dataframe tbody tr th {\n",
       "        vertical-align: top;\n",
       "    }\n",
       "\n",
       "    .dataframe thead th {\n",
       "        text-align: right;\n",
       "    }\n",
       "</style>\n",
       "<table border=\"1\" class=\"dataframe\">\n",
       "  <thead>\n",
       "    <tr style=\"text-align: right;\">\n",
       "      <th></th>\n",
       "      <th>title</th>\n",
       "      <th>company</th>\n",
       "      <th>location</th>\n",
       "      <th>modality</th>\n",
       "      <th>description</th>\n",
       "    </tr>\n",
       "  </thead>\n",
       "  <tbody>\n",
       "    <tr>\n",
       "      <th>0</th>\n",
       "      <td>Senior Game Data Analyst</td>\n",
       "      <td>Tilting Point</td>\n",
       "      <td>Barcelona, Catalonia, Spain</td>\n",
       "      <td>Hybrid</td>\n",
       "      <td>\\nAt Tilting Point, we combine data, technology, talent and groundbreaking marketing to scale games to success. As the Senior Game Data Analyst, you will work closely with game teams to help inform decision-making regarding features of the game, balancing, player interactions, finding hidden opportunities and much more.\\nYour Future at Tilting PointAnalyze large, complex datasets to address ad-hoc and long-term operational and strategic business questionsDraw meaningful conclusions and provide actionable insights from data to shape and influence in-game features, economies, and future product roadmapsOwn the taxonomy for game data, ensuring all key performance metrics are measurable and can be analyzed efficiently.Present analytical findings as both written communication and visual representations that are clear, concise, and understandable, to both technical and non-technical audiences.Build relationships with stakeholders and processes around data deliverables to ensure data driven decisions can be made at all levels across Tilting PointCollaborate with all teams at Tilting Point, driving and supporting data and analytics related projects with game team, User Acquisition, Marketing, Engineering, and more\\nYour XP &amp; SkillsEffectively communicate in English across verbal and written form.University degree (BA or BS) in Analytics, Economics, Mathematics, Statistics, Business Management, Information Systems, Computer Science or a related field3+ years of work experience as a data analyst or scientist, supporting consumer-facing products, mobile app/game preferredProficient with SQL2+ years with Python/R a plusAdept in at least one visualization tool such as TableauFamiliarity with PySpark and/or Amplitude a plusPassionate about mobile/social gaming with a good understanding of the market.\\n</td>\n",
       "    </tr>\n",
       "    <tr>\n",
       "      <th>1</th>\n",
       "      <td>Data Analyst (Operations Team)</td>\n",
       "      <td>Holaluz</td>\n",
       "      <td>Barcelona, Catalonia, Spain</td>\n",
       "      <td>On-site</td>\n",
       "      <td>\\nDescription\\n\\n¿Quiénes somos?\\n\\nSomos Holaluz, la empresa que lleva una década revolucionando el sector energético. Nacimos para cambiar el mundo conectando a las personas con la energía verde 💡💚, y tú y el planeta sois nuestra motivación para ser como somos y hacer lo que hacemos.\\n\\nNuestra voluntad de hacer las cosas de un modo distinto, nos ha llevado a liderar la transformación del sector eléctrico y a ser la primera eléctrica en obtener el certificado BCorp.\\n\\n¿Te sumas? Únete a la revolución.\\n\\n¿Qué harás?\\n\\nFormarás parte del Chapter de Data Analytics, con foco en el área de Operaciones.\\n\\n¿Qué esperamos de ti?\\n\\nIdentificar las grandes necesidades de Data Analytics dentro del área de Operaciones y transformarlas en proyectos que impacten positivamente sus OKRs. Transformar los datos relativos a Operaciones y Customer Care en Insights accionables que mejoren la satisfacción de nuestras clientas y que hagan más eficiente el trabajo del equipo del área de Operaciones. También tendrás que comunicar toda la información crítica e insights a otros departamentos relevantes y a la empresa en general ya que Holaluz trabaja por y para el cliente.Mentorizar y dar soporte al resto de integrantes del equipo de Data Analytics que trabajan en el equipo de Customer Care y en Operaciones. El objetivo es ayudarles en su crecimiento profesionalRealizar la interlocución con todos los integrantes del área de Operaciones para asegurar que se cumplen los OKRs definidos y que también se atienden las necesidades surgidas del día a día. Deberás contribuir en la mejora contínua del área y para ello tendrás que empaparte de los procesos, la operativa y los retos para poder proponer mejorasParticipar activamente en la mejora continua del Chapter de Data Analytics: identificación de best practices, priorización de proyectos, puesta en marcha de modelos de Machine Learning, etc.Desarrollar una planificación clara y estructurada de los datos con el objetivo de identificar las oportunidades de mejora y conocer qué necesita el cliente externo e interno.Trabajar en la configuración de la infraestructura de datos de Operaciones que impacta en la gestión del cliente, incluidas las plataformas de análisis, almacenamiento y reporte de datos. Esta tarea la realizarás con el apoyo del Chapter de Data Analytics\\n\\nY como #SayThingsAsTheyAre es uno de nuestros valores, queremos ser claros y transparentes en explicarte qué harás durante tus primeros 6 meses en Holaluz.\\n\\nEn 1 mes...\\n\\nDespués del primer mes ya sabrás cómo está todo montado, te habrás empapado de la cultura y la visión, te habrás reunido con todos los equipos y sabrás qué es lo que hacen y qué necesitan.Empezarás a analizar las decisiones que han hecho los diferentes equipos y áreas para empezar a enfrentarte a tus primeros retos.También habrás ido a comer algún día con las personas del equipo, habrás asistido a algunas de las sesiones que hacemos con el objetivo de que fluya el conocimiento.\\n\\nEn 3 meses...\\n\\nSeguro que ya habrás tomado muchas decisiones sobre cómo aportar en Operaciones y en el Chapter de Data Analytics. Estarás trabajando codo a codo con tus colegas, en otras palabras, habrás visto la LUZ.Habrás disfrutado de algún team building con el equipo y habrás tenido la oportunidad de hacer más de una presentación.\\n\\nEn 6 meses...\\n\\nTendrás (casi) todo bajo control y habrás contribuido en la madurez y crecimiento de tu equipo. Habrás aportado valor más allá de tu equipo compartiendo conocimiento, y haciendo valer toda tu experiencia para mejorar el área de Operaciones y el Chapter de Data Analytics.Además, habrás tenido varias reuniones con tu responsable para saber cómo te sientes en tus primeros meses con Holaluz.\\n\\n¿Cómo lo harás?\\n\\nOtro de nuestros valores es #KeepRowing o seguir remando, lo que significa que el trabajo en equipo y la alineación del mismo es fundamental para poder avanzar y hacer frente a nuestros objetivos compartidos.\\n\\nEn Holaluz hemos construido un sistema organizativo robusto y en constante iteración, que nos permite adaptarnos a los constantes cambios que demanda la industria y lograr el propósito que perseguimos. En Holaluz las reuniones y decisiones se toman de forma colaborativa, fluye el feedback 🤟 entre los diferentes equipos y se fomenta el apoyo entre personas.\\n\\n¿Con quién lo harás?\\n\\n#AlwaysPeopleFirst es también un valor muy importante en Holaluz, y para nosotros es clave tener un buen equipo de trabajo, por eso te explicamos que somos un equipo de unas 800 personas con un ambiente inmejorable, y con las que tendrás la oportunidad de trabajar en tu día a día 😁.\\n\\nAdemás, trabajarás de la mano con Adrià y Víctor de tu equipo de Data y junto con tus stakeholders. ¿Sabías que nuestro Chapter de Analytics está compuesto por casi el 50% de talento femenino? ¡Te presentamos a dos compañeras!\\n\\n👩🏾‍🎤 Marta \\n\\nMatemática, valenciana y gran aficionada al baloncesto. Es muy fan de hacer listas para todo y darle un toque de humor a cada reunión. Marta combina sus múltiples hobbies con su pasión por una visualización bien estructurada. Y a pesar de tener muchas reuniones, si le ofreces tomar un café mientras comentáis algún tema, aceptará sin dudarlo.\\n\\n🦹🏻‍♀️ Èlia\\n\\nEs la más joven del equipo pero desborda sabiduría. Èlia es una optimista incorregible con un don para encontrar el lado bueno de las cosas. En 5min te contagiará su buen rollo. A la catalana del equipo le encanta la escalada y siempre busca nuevos retos con unas ganas inagotables por aprender de otras áreas. El saber no ocupa lugar.\\n\\n¿Dónde lo harás?Qué mejor lugar para hacerlo que en nuestras oficinas de Barcelona a sólo 200 metros del mar 🌊. Esta excepcional ubicación al lado de la playa es perfecta para hacer un break con chapuzón y poder poner en práctica otro de nuestros valores #HaveFun.\\n\\nRequirements\\n\\n¿Qué necesitamos?\\n\\nHemos pensado muy muy bien lo que buscamos y lo que de verdad importa:\\n\\nLicenciatura en Ciencias Empresariales/Económicas, Matemáticas o Ingeniería.Más de 5 años de experiencia en el campo de Data Analytics, y solvencia en el uso de SQL y de PythonHabilidades analíticas de alto nivel y capacidad de traducir información en insights accionables y en informes concisos.Storytelling y capacidad de comunicar las conclusiones de tus análisis.Capacidad para trabajar eficazmente en equipo.Gran atención a los detalles.No hace falta que seas Shakespeare, pero sí que puedas comunicarte en Inglés.\\n\\nTodo suma, así que si tienes alguna de estas cosas SUMA Y SIGUE:\\n\\nFormación y experiencia en análisis de datos y en el uso de modelos de analítica avanzada y Machine Learning.Elaboración de dashboards.Conocimientos de PowerBI.\\n\\nRequisitos deseables:\\n\\nOrientación al Cliente.Capacidad para mantener relaciones interpersonales.Alta capacidad de implicación, dedicación y motivación.Elevada orientación a la consecución de objetivos y al cumplimiento de resultados.Excelente capacidad de análisis.\\n\\nBenefits\\n\\n¿Qué ofrecemos?\\n\\nOtro de los valores que nos caracteriza en Holaluz es #EsPosible. Por ello, ofrecemos una serie de medidas para que puedas desarrollarte 360º y conseguir todo aquello que te propongas, tanto a nivel personal como profesional:\\n\\nLa mayor fuente de nuestra energía: ¡nuestra gente!\\n\\nÚnete a una empresa donde las personas son lo primero, con un ambiente de trabajo inmejorable y un gran talento donde realmente vivimos nuestros valores. Para ello ofrecemos una serie de ventajas y beneficios que te permitirán estar apoyado tanto a nivel personal como profesional.\\n\\nSOSTENIBILIDAD\\n\\nÚnete a la primera empresa de servicios eléctricos con certificación B Corp de Europa, y actualmente #1 en el ranking mundial ESG para compañías eléctricas.Tarifa competitiva de movilidad sostenible con eCooltra. Se trata de bicicletas y patinetes eléctricos, para que puedas llegar a la oficina de forma rápida y económica, utilizando un transporte individual y ecológico. \\n\\nSALUD Y BIENESTAR\\n\\nSeguro médico privado con Adeslas.Suscripción de gimnasio a Andjoy (Gympass).Fruta ecológica todos los días.Té y café en la oficina. \\n\\nEQUILIBRIO TRABAJO-VIDA\\n\\nRégimen de Retribución Flexible en guardería, transporte y comida con Cobee.Tarifa Wifi competitiva con Unique.Creemos en la autonomía y la responsabilidad personal por lo que ofrecemos horarios de trabajo flexibles y la opción de trabajar de forma remota 6 días al mes (19 por trimestre).Referencias: obtén recompensas si contratamos a personas talentosas que tú nos recomiendes para que se unan a Holaluz.Parking - mejores tarifas en W Hotel.Como empresa certificada Baby Friendly: Guardería interna para ayudar a integrar vida y trabajo a las nuevas familias.\"Casals\" (campamentos durante los largos meses de verano pero también en otras vacaciones). \\n\\nAUTODESARROLLO\\n\\nEventos de creación de equipos.Acceso a contenidos de formación.Biblioteca propia, con contenidos muy diversos.Clases de idiomas gratuitas en clases de inglés, castellano y catalán. \\n\\n”Celebramos la diversidad en el mundo y queremos que nuestro equipo refleje esto de manera inclusiva. En Holaluz, estamos comprometidos con la igualdad de oportunidades de empleo independientemente de la etnia, religión, sexo, origen nacional, orientación sexual, edad, estado civil, discapacidad, género, identidad o expresión de género. Además, nos esforzamos por empoderar a las mujeres en el lugar de trabajo.”\\n</td>\n",
       "    </tr>\n",
       "    <tr>\n",
       "      <th>2</th>\n",
       "      <td>Data Engineer</td>\n",
       "      <td>IOMED</td>\n",
       "      <td>Barcelona, Catalonia, Spain</td>\n",
       "      <td>Hybrid</td>\n",
       "      <td>\\nAbout the job\\nIOMED Data Engineering Team is responsible for building and maintaining optimized and highly available data pipelines that facilitate information extraction and transformation for our main products and internal applications. The core of your role will be designing, architecting, implementing, and testing data extraction and transformation tools in a microservices environment:\\nData processing pipelinesData model transformationsComponents of a multi-modal distributed database.\\nYou will collaborate with the rest of the Data Engineering team in analyzing and understanding data sources, participating in the design, and providing insights and guidance on database technology and data modeling best practices.\\nThis role should work closely with the Business Development and Data Science teams, gathering technical requirements for data governance and data quality across the company.\\nAbout you\\nYou will be working in a very dynamic environment, which means that you must have a strong problem-solving ability, organization skills, and be proactive.\\nIn terms of personality, we are looking for someone who enjoys working in a wide range of areas and adapts quickly to new situations.\\nTasks\\nYou will have to feel comfortable giving support to the rest of the team and you can definitely expect to:\\nQuery, model and deploy with PostgreSQL, Redis, RabbitMQ.ETL with SQL and PythonDesign, implement &amp; test microservices.Integrate our products with external APIs.Development and testing of our core products and frameworks.Be comfortable with container development with Docker.Testing, logging, measuring and alerting of the deployed services.Monitor the existing metrics, analyze data, and collaborate with other teams in an effort to identify and implement a system and process improvements.Ensure that the collected data is of high quality and optimal for use across the team and the business at largeOversee activities of the junior data engineering teams, ensuring proper execution of their duties and alignment with business vision and objectives\\nWhat we are looking for\\nAt least 8 years of working experience working in a data engineering department, preferably as a Data Engineer in a fast-paced environment and complex businessSetting and a demonstrated experience in building and maintaining reliable and scalable ETL.Experience in data warehousing inclusive of dimensional modeling concepts and demonstrate proficiency in programming (SQL and Python will be your main tools of the trade).Proven skills of putting microservices to use, and you’re comfortable with working with containers in a cluster architecture.Work well in a team, can teach &amp; learn from others, and communicate what you’re working on with non-technical team members.\\n\\nWhat we offer\\nCompetitive Salary.Permanent contract.Company profit-sharing scheme valued at up to €15,000 per year.Flexible remuneration with restaurant tickets, transport tickets, nursery, training, and medical insurance.Flexible schedule, with the possibility of home office.28 days of vacations per year.A warm, transparent and supportive team, with a huge emphasis on work-life balance.The opportunity to make your mark in e-health and AI.\\nAbout IOMED \\nIOMED is a leading technology start-up company in the field of massive medical data extraction and processing. It is made up of a united, young, dynamic, and flexible team, which, after several years of working together, is characterized by its agility, enjoyment of work, and rapport. Accordingly, we are looking for candidates with the desire to innovate, launch a relevant project, and grow with it, always enjoying teamwork and challenges, which are many, every day.\\nAs an employer, we offer equal opportunity. We want to grow our team with talented, dynamic people who want to make their mark in the field of AI and research, regardless of race, color, religion, national origin, gender, physical disability, or age.\\nWhat we do \\nNowadays, there is still great difficulty in accessing Real-World Data (Real-World Data), which are those contained in Electronic Health Records (EHR), since up to 85% of the existing clinical data is not structured. This represents a loss of opportunity for the sector to improve its healthcare processes and clinical research.\\nIOMED has developed a Natural Language Processing solution that extracts and transforms clinical data into an international and federated model, OMOP CDM, resulting in a structured, standardized, and interoperable database that contains complete clinical information from hospitals.\\nIn this way, professionals and the industry can make use of this data and obtain evidence based on all the data, Real World Evidence, that has essential value when it comes to making decisions, among others. All this, in addition, to assuring the protection and governance of the data at all times.\\n</td>\n",
       "    </tr>\n",
       "    <tr>\n",
       "      <th>3</th>\n",
       "      <td>Analista de Datos Junior</td>\n",
       "      <td>CGI</td>\n",
       "      <td>Spain</td>\n",
       "      <td>Remote</td>\n",
       "      <td>\\nSomos una multinacional canadiense especializada en consultoría tecnológica, con presencia en 21 sectores en más de 400 ubicaciones en todo el mundo, proveemos servicios de consultoría de negocio y de TI integrales, escalables y sostenibles que están analizados globalmente y entregados localmente.\\nEstamos buscando un/a analista de datos (junior)  para impulsar nuestro equipo y realizar un trabajo de calidad del dato y realización de modelos de control para un cliente estratégico dentro de un gran proyecto.\\nFunciones:Realización de modelos de controlRealización de informes periódicosprocesos tácticosSoporte a aplicativo corporativo del clientecertificación de nuevos desarrollos\\nRequisitos deseados:SQLExcelVBA\\nGrupo CGI ofrece:\\n-Contratación indefinida-Horario flexible.-Proyectos estable de larga duración.-Pertenecer a un equipo de trabajo altamente cualificado en una empresa joven en proceso de expansión.-Trabajar en un ambiente de trabajo amigable, donde la estrecha relación con los managers y con RRHH facilita el espíritu emprendedor, el intercambio de ideas, la iniciativa y el desarrollo de las personas.-Formación en distintas tecnologías.-Desarrollo profesional.\\nSi tienes capacidad de trabajo y ganas de seguir aprendiendo en una empresa dinámica y en constante crecimiento... ¡Esta es tu oportunidad!\\n</td>\n",
       "    </tr>\n",
       "    <tr>\n",
       "      <th>4</th>\n",
       "      <td>Data Analyst</td>\n",
       "      <td>Olala Homes</td>\n",
       "      <td>Barcelona, Catalonia, Spain</td>\n",
       "      <td>Hybrid</td>\n",
       "      <td>\\nOlala Homes is a unique tech-enabled hospitality management company focusing on the short-term vacation rental segment through the ownership and management of over 400 units across multiple countries and cities. Olala Homes’ lean business model coupled with its real estate development expertise and topped with its strong team form a solid base for its ambitious future expansion plan across Spain, Europe, and beyond. The company’s HQ is located in Barcelona with satellite offices in Greece, Romania, Portugal, and Israel. Olala Homes is part of the Rina Group, a group of companies investing in Tourism &amp; Hospitality, Industrial Minerals, Real Estate, and Agriculture across 3 continents.\\nJob Brief We are seeking a skilled and motivated Data Analyst to join our team in the hospitality industry. As a Data Analyst, you will be responsible for collecting, analyzing, and interpreting data to help drive informed decision-making and improve operational efficiency within our organization. Your expertise in data analysis and strong business acumen will play a crucial role in optimizing our operations, enhancing customer experiences, and identifying growth opportunities. This is an exciting opportunity for a talented individual to contribute to the success of our organization through data-driven insights.\\nMain responsibilities:Data Collection and Analysis: Gather data from various sources, including internal databases, customer feedback, and external data sets. Analyze and interpret this data to identify trends, patterns, and insights relevant to the hospitality industry.Performance Tracking: Develop and maintain performance metrics and dashboards to monitor key performance indicators (KPIs) across different aspects of our hospitality operations. Regularly evaluate and report on performance trends, providing actionable recommendations for improvement.Operational Efficiency: Identify areas of operational inefficiencies and collaborate with cross-functional teams to develop strategies and solutions. Utilize data analysis techniques to optimize processes, reduce costs, and enhance productivity within the organization.Customer Insights: Analyze customer feedback, preferences, and behavior to generate actionable insights that can be used to enhance customer experiences. Provide recommendations on how to improve customer satisfaction and loyalty based on data analysis.Data Visualization and Reporting: Create visually appealing and informative reports, charts, and presentations to effectively communicate complex data insights to both technical and non-technical stakeholders. Use data visualization tools and techniques to present findings in a clear and concise manner.Continuous Learning and Improvement: Stay updated with the latest data analysis techniques, tools, and industry trends. Proactively identify opportunities for process improvement and propose innovative solutions to enhance the effectiveness and efficiency of data analysis.\\nRequirements:Minimum 2 years of experience as a Data Analyst or Business Data AnalystBS in Mathematics, Economics, Computer Science, Information Management or StatisticsTechnical expertise regarding data models, database design development, data mining and segmentation techniques. Preferably within the hospitality industry.Excellent written and verbal communication skillsStrong analytical skills with the ability to collect, organize, analyze, and disseminate significant amounts of information with attention to detail and accuracyAdvanced knowledge in Excel, SQL and PhytonFamiliarity with database management systems and data warehousing concepts.Experience in building reports for data visualization (ideally Power BI)Zendesk Knowledge is a big plusProfessional level of English \\nIf you are passionate about data analysis and its application to the hospitality industry, and if you thrive in a dynamic and results-oriented environment, we would love to hear from you. Join our team and contribute to shaping the future of our organization through data-driven decision-making.\\nWhat we offer:Competitive salary with other benefits such as employee discounts staying in Olala Homes’ properties, weekly fruit basket in the office, happy hour, etc.Opportunity to be mentored by experienced professionals and gain first-hand know-how in a swift pacePositive corporate culture to be proud to be a part of a fast growing company\\n</td>\n",
       "    </tr>\n",
       "    <tr>\n",
       "      <th>...</th>\n",
       "      <td>...</td>\n",
       "      <td>...</td>\n",
       "      <td>...</td>\n",
       "      <td>...</td>\n",
       "      <td>...</td>\n",
       "    </tr>\n",
       "    <tr>\n",
       "      <th>378</th>\n",
       "      <td>Tech &amp; Data Strategy Consultant (f/m/d)</td>\n",
       "      <td>Omnicom Media Group</td>\n",
       "      <td>Barcelona, Catalonia, Spain</td>\n",
       "      <td>Hybrid</td>\n",
       "      <td>\\nAt TRKKN, we are driven by the excitement of taking our client's data-driven businesses to new heights. As the leading European Google partner and reseller of Google Cloud &amp; Google Marketing Platform, we act as a catalyst for cutting-edge digital marketing solutions. Our team is diverse, international, inspiring, and operates in a fast-growing digital &amp; technological environment. This provides the ideal and dynamic work environment for individuals with a hunger for growth, responsibility, and the desire to shape their future. With Google in close proximity, the learning and development opportunities at TRKKN are limitless\\n\\n\\n\\nHow you will make an impact…\\n\\nAs a Tech &amp; Data Strategy Consultant at TRKKN, you will play a critical role in connecting people, data &amp; tech. You will lead companies towards digital maturity by systematically identifying levers and technical solutions from Google Marketing Platform and Google Cloud that help advertisers to solve their business challenges in the evolving privacy centric ecosystem.\\n\\nSpecifically, you will be responsible for:\\n\\n Providing strategic consulting to our clients on 1st party data strategy, tech stack, and other related topics \\n\\n Conducting Tech &amp; Data Maturity Assessments for clients and provide recommendations for improvement\\n\\n Leading Strategy Workshops for clients on various topics, such as Privacy\\n\\n Supporting other TRKKN service teams with your expertise in Tech &amp; Data Strategy Consulting\\n\\n Collecting and analyzing customer data to identify opportunities for improvement and increase customer satisfaction\\n\\n Working closely with account leads on strategic clients to ensure that clients receive the best possible consulting experience\\n\\n Managing multiple projects and priorities effectively, meeting deadlines and exceeding client expectations\\n\\n Keeping up-to-date with the latest industry trends and best practices in Tech &amp; Data Strategy\\n\\n \\n\\n\\nThe person we are looking for…\\n\\n Has solid consulting experience in tech &amp; data, preferably in the tech and digital marketing industry\\n\\n Has experience with google fund ownership and management \\n\\n Has proven track record of success in delivering exceptional customer service and driving business growth\\n\\n Has excellent communication and interpersonal skills with the ability to build strong relationships with clients and stakeholders\\n\\n Has strong account management skills and the ability to effectively manage multiple clients and priorities\\n\\n Is a strategic thinker and highly detail-oriented with exceptional organizational skills\\n\\n Excels as a self-starter and is driven to continuously improve and exceed customer expectations\\n\\n Has a passion for tech &amp; data topics and a desire to work with high-performance teams\\n\\n Is an excellent communicator in fluent English (German is a plus)\\n\\n\\n\\n \\nOur benefits\\n\\nWe empower you to take responsibility right from the start and provide you with an environment for enormous growth potential within the company and beyond your initial role. We see you as an important part of our success story - We grow with you, you grow with us!\\n\\nIn addition, you can expect:\\n\\n Competitive salary\\n\\n Knowledge sharing &amp; company events\\n\\n Personal development plan &amp; leadership training\\n\\n Hybrid work model\\n\\n Choose your own device\\n\\n\\n</td>\n",
       "    </tr>\n",
       "    <tr>\n",
       "      <th>379</th>\n",
       "      <td>Ayudante de investigación para el grupo de investigación AI and Data for Society (Temporal)</td>\n",
       "      <td>Universitat Oberta de Catalunya</td>\n",
       "      <td>Barcelona, Catalonia, Spain</td>\n",
       "      <td>Hybrid</td>\n",
       "      <td>\\nBuscamos Ayudante de investigación para el proyecto “AI and Data for Society” (AID4So) del IN3 de la Universidad.\\nEl grupo de investigación AI and Data for Society (AID4So) se centra tanto en el desarrollo de nuevos métodos en Inteligencia Artificial (IA), aprendizaje automático y Big Data Analytics, como en su aplicación para resolver cuestiones de investigación en ámbito de la ciencia de datos, Ciencias Sociales Computacionales y Humanidades Digitales. El grupo pone al ser humano en el centro de su esfuerzo de investigación y presta especial atención al estudio y uso de métodos éticos, sostenibles y explicables en IA y aprendizaje automático.\\nFunciones:Ayudar a los investigadores y investigadoras del grupo en las tareas de procesamiento, análisis y programación de datos con el objetivo de realizar investigaciones innovadoras en IA y Data Analytics, por ejemplo mediante la consulta de la API y el análisis de la salida de los grandes modelos de lenguaje OpenAI. Se realizará una contratación laboral temporal de 6 meses, a jornada a determinar (entre completa y el 50%), con previsión de incorporación lo antes posible.La sede de referencia será en de la Rbla. Del Poblenou, 156 (distrito del 22@) y tendrás posibilidad de teletrabajar, según necesidades organizativas y naturaleza de las tareas. Sobre la UOCLa UOC es una universidad pionera y experta en aprendizaje online que forma a las personas a lo largo de la vida y que focaliza la investigación y la innovación en la interacción entre la tecnología y las ciencias humanas y sociales. Es una Universidad global, nativa digital y con mandato público.En la UOC queremos incorporar el mejor talento, velando por la igualdad de oportunidades sin tener en cuenta razones de género, edad, etnia o religión, orientación sexual o cualquier otra condición física, personal o social ajena a las condiciones de mérito y capacidad.\\nLos procesos de selección de la UOC se basan en los principios OTM-R (open, transparent and merit-based recruitment), con el objetivo de implementar prácticas de reclutamiento abiertas, transparentes y basadas en el mérito. ¿Qué tipo de perfil buscamos?Licenciatura en Informática, Física, Matemáticas o ámbitos afinesConocimientos de última generación en análisis de datos, PNL, grandes modelos de lenguaje y algoritmos de aprendizaje automático.Competencia laboral en inglésConocimientos avanzados de codificación en PythonConocimientos avanzados de Data Science, NLP, bibliotecas de aprendizaje profundo y automático en Python También valoramos...Grado MSC Publicaciones relevantes de la zonaExperiencia en la elaboración de propuestas de investigaciónCompetencia laboral en catalán y/o castellanoConocimientos de AWSExperiencia con el API OPENAIExperiencia con algoritmos de análisis de redes sociales Para poder participar en el proceso de selección, es necesario registrarse como candidato/a en el espacio Únete a nuestro equipo, en el portal www.uoc.edu y, una vez dado de alta, y dentro del espacio de candidato/a, presentar la solicitud\\n</td>\n",
       "    </tr>\n",
       "    <tr>\n",
       "      <th>380</th>\n",
       "      <td>Consultant (all genders) Data Systems</td>\n",
       "      <td>INVENSITY</td>\n",
       "      <td>Barcelona, Catalonia, Spain</td>\n",
       "      <td>On-site</td>\n",
       "      <td>\\nPossible roles and tasks\\nTake responsibility for planning and implementing complex software projects as a software project managerDevelop complex software solutions for big data, mobile development and cloud computing projects with modern toolsAnalyze customer requirements and design complete tool landscapes and software architectures as a software architectDesign and visualize customer processes as a process simulation engineerAs a software project lead, realize software project planning, control the development and present the results to the customer\\n\\nProfile\\nSuccessfully completed studies in Computer Science or an interdisciplinary Computer Science courseEnthusiasm for the development of technologies, open-mindedness and willingness to quickly familiarize oneself with new topicsIntuitive working with version control programs, such as gitFirst experiences in programming, handling databases, SW architecture tools and UML 2.0 are advantageousVery good Spanish and English language skillsWillingness to travel\\n\\nBenefits\\nStrategic design as well as management interactionResponsibility and leadershipIndividual technical and soft skill trainingsLocal and INVENSITY-wide team eventsPersonal mentoring with selected mentor\\n\\nYour contact person\\nTomas Braithwaite Jonas\\ntomas.jonas@invensity.com\\n+49 172 70 03 49\\nAbout Us\\nWith us, you can expect a creative, professionally broad-based and appreciative environment in which you will work together with other unique talents on highly innovative topics. Our international teams link our knowledge carriers on a global level.\\nWith a focus on sustainability and value creation, we approach tasks in a targeted manner. We promote the professional and personal development of our employees with regular training sessions at our in-house INVENSITY Academy and individual mentoring for each employee.\\nINVENSITY is an innovation and technology consultancy with international orientation. We support our customers with individual solutions for technological challenges throughout the entire development process. Our clients are primarily from the high-tech industries, including optical technologies, automotive and transportation, aerospace, healthcare and life sciences, energy and utilities, telecommunications and electronics, and defense. We have offices in Germany (Hamburg, Düsseldorf, Wiesbaden, Stuttgart, Munich), Spain (Barcelona), the Philippines (Manila) and the USA (Detroit, MI).\\nLearn more about INVENSITY, our offices and how we work at https://www.invensity.com/career.\\n</td>\n",
       "    </tr>\n",
       "    <tr>\n",
       "      <th>381</th>\n",
       "      <td>Product Data Consultant (m/f/d)</td>\n",
       "      <td>ZF Group</td>\n",
       "      <td>Barcelona, Catalonia, Spain</td>\n",
       "      <td>Hybrid</td>\n",
       "      <td>\\n                Job description:\\n\\nWe are looking for a new colleague to join the Aftermarket team at our location in Barcelona.\\n\\n \\n\\nYour tasks:\\n\\n Develop &amp; align product data and processes for the supply chain standardization &amp; SCM tooling for product data Derive projects from product data strategy within the domain to empower the organization with new technologies to increase process automation &amp; improved decision making (e.g. with AI, Digital Twin, Analytic Self Service) Lead projects (“classic”, agile, DevOps), taskforces and hackathons in product data management and manage/ contribute to them from other domains, functions or corporate projects Transform and implement information architecture, simplify access to information Develop, optimize and maintain tools and systems for data usage and enable analytics.  \\n\\nYour profile:\\n\\n Very good competencies in setting priorities based on business impact/ in fast changing environments Very good capabilities in business to IT relationship management Experience in SAP R3/S4 Hana, Material Management, PIM solutions as well as a good understanding of Data Management is required Analytical, communicative, language skills (Business English and optional Spanish or Portuguese).  \\n\\nGrading: Depending on requirements and qualifications.\\n\\nThe position is part of the ZF Global Employee Referral Program.\\n\\n\\n</td>\n",
       "    </tr>\n",
       "    <tr>\n",
       "      <th>382</th>\n",
       "      <td>Principal Data Scientist</td>\n",
       "      <td>Experfy</td>\n",
       "      <td>Barcelona, Catalonia, Spain</td>\n",
       "      <td>On-site</td>\n",
       "      <td>\\nOpportunity Description\\nWe are seeking a Principal Data Scientist with strongly developed expertise in graph-based AI and related technologies to maximize utilization of data and knowledge in the client's data and digital transformation.\\nESSENTIAL EXPERIENCE:\\nDegree in mathematics, computer science, engineering, physics, statistics, economics, computational sciences or a related quantitative discipline and 5+ years of analytical experience in an industrial or commercial setting OR PhD degree with at least 3+ years of industry experienceExperience AI/ML/NLP modelling of complex datasetsAdvanced software development skills in at least two of the standard data science languages (such as Python, R, Scala, C++, Julia) and strong data manipulations skills (e.g. SQL, NoSQL, graph, etc.)Knowledge of SQL and relational databases, query authoring (SQL) and designing variety of databases (e.g. Postgres SQL)Comfortable working in cloud and high-performance compute environments (e.g. AWS, Apache Spark)Disciplined AI/ML deployment (MLOps, CI/CD) and Agile deliveryExperience in coordination of delivery teams and providing feedback to their managementExcellent written and verbal communication, business analysis, and consultancy skills\\nPREFERRED EXPERIENCE:\\nKnowledge on health care knowledge management systems (e.g. ICD, SNOMED, MedDRA, UMLS) preferredExperience AI/ML modelling of complex datasets, network analysis or direct experience in creating and maintaining graph data modelsExperience with a variety of graph technologies Knowledge of graph databases like Neo4J (Cypher, causal clusters), JanusGraph (Gremlin, GraphML), AWS Neptune, OrientDBExpertise in machine learning/deep learning-based graph algorithms relevant to link prediction, ranking/recommendation, completion, community detection, node embedding, etc\\nRequirements\\nResponsibilities\\nLead data science area deliverables for digital products / programs / initiatives including the allocation of work within the team, monitors the quantitative and qualitative achievements of the team, and reports resultsWork as an individual contributor, providing data science expertise to digital products / programs / initiativesApply in-depth experience with both statistical and modern data science approaches, including unsupervised, supervised, regression algorithms. Apply advanced techniques such as neural networks, deep learning, NLP and federated learningBuild models, algorithms, simulations and experiments by writing highly optimized code and using state-of-the art machine learning technologiesCollaborate cross-functionally in teams involved in data driven analytics to maximize impact of graph-based capabilitiesBuild and manage support models incorporated into digital or AI products; Work with Infrastructure and Ops teams to ensure appropriate architecture and toolingCapacity to mentor junior personnelBe able to apply in-depth experience with both statistical and modern data science approaches to business cases and knowledge management tasksStrong written and verbal communication skills - ability to communicate complex ideas up to people of varying technical skillsWork with developers, engineers, and MLOps to deliver AI/ML solutions for new products/services\\n</td>\n",
       "    </tr>\n",
       "  </tbody>\n",
       "</table>\n",
       "<p>383 rows × 5 columns</p>\n",
       "</div>"
      ],
      "text/plain": [
       "                                                                                           title  \\\n",
       "0                                                                       Senior Game Data Analyst   \n",
       "1                                                                 Data Analyst (Operations Team)   \n",
       "2                                                                                  Data Engineer   \n",
       "3                                                                       Analista de Datos Junior   \n",
       "4                                                                                   Data Analyst   \n",
       "..                                                                                           ...   \n",
       "378                                                      Tech & Data Strategy Consultant (f/m/d)   \n",
       "379  Ayudante de investigación para el grupo de investigación AI and Data for Society (Temporal)   \n",
       "380                                                        Consultant (all genders) Data Systems   \n",
       "381                                                              Product Data Consultant (m/f/d)   \n",
       "382                                                                     Principal Data Scientist   \n",
       "\n",
       "                             company                     location modality  \\\n",
       "0                      Tilting Point  Barcelona, Catalonia, Spain   Hybrid   \n",
       "1                            Holaluz  Barcelona, Catalonia, Spain  On-site   \n",
       "2                              IOMED  Barcelona, Catalonia, Spain   Hybrid   \n",
       "3                                CGI                        Spain   Remote   \n",
       "4                        Olala Homes  Barcelona, Catalonia, Spain   Hybrid   \n",
       "..                               ...                          ...      ...   \n",
       "378              Omnicom Media Group  Barcelona, Catalonia, Spain   Hybrid   \n",
       "379  Universitat Oberta de Catalunya  Barcelona, Catalonia, Spain   Hybrid   \n",
       "380                        INVENSITY  Barcelona, Catalonia, Spain  On-site   \n",
       "381                         ZF Group  Barcelona, Catalonia, Spain   Hybrid   \n",
       "382                          Experfy  Barcelona, Catalonia, Spain  On-site   \n",
       "\n",
       "                                                                                                                                                                                                                                                                                                                                                                                                                                                                                                                                                                                                                                                                                                                                                                                                                                                                                                                                                                                                                                                                                                                                                                                                                                                                                                                                                                                                                                                                                                                                                                                                                                                                                                                                                                                                                                                                                                                                                                                                                                                                                                                                                                                                                                                                                                                                                                                                                                                                                                                                                                                                                                                                                                                                                                                                                                                                                                                                                                                                                                                                                                                                                                                                                                                                                                                                                                                                                                                                                                                                                                                                                                                                                                                                                                                                                                                                                                                                                                                                                                                                                                                                                                                                                                                                                                                                                                                                                                                                                                                                                                                                                                                                                                                                                                                                                                                                                                                                                                                                                                                                                                                                                                                                                                                                                                                                                                                                                                                                                                                                                                                                                                                                                                                                                                                                                                                                                                                                                                                                                                                                                                                                                                                                                                                                                                                                                                                                                                                                                                                                                                                                                                                                                                                                                                                                                                                                                                                                                                                                                                                                                                                                                                                                                                                                                                                                                                                                                                                                                                                                                                                                                                                                                                                                                                                                                                                                                                                                                                                                                                                                                                                                                                                                                                                                                                                                                                                                                                                                                                                                                                                                                                                                                                                                                                                                                                                                                                                                                                                                                                                                                                                                                                                                                                                                                                                                                                                                                                                                                                                                                                                                                                                                                                                                                                                                                                             description  \n",
       "0                                                                                                                                                                                                                                                                                                                                                                                                                                                                                                                                                                                                                                                                                                                                                                                                                                                                                                                                                                                                                                                                                                                                                                                                                                                                                                                                                                                                                                                                                                                                                                                                                                                                                                                                                                                                                                                                                                                                                                                                                                                                                                                                                                                                                                                                                                                                                                                                                                                                                                                                                                                                                                                                                                                                                                                                                                                                                                                                                                                                                                                                                                                                                                                                                                                                                                                                                                                                                                                                                                                                                                                                                                                                                                                                                                                                                                                                                                                                                                                                                                                                                                                                                                                                                                                                                                                                                                                                                                                                                                                                                                                                                                                                                                                                                                                                                                                                                                                                                                                                                                                                                                                                                                                                                                                                                                                                                                                                                                                                                                                                                                                                                                                                                                                                                                                                                                                                                                                                                                                                                                                                                                                                                                                                                                                                                                                                                                                                                                                                                                                                                                                                                                                                                                                                                                                                                                                                                                                                                                                                                                                                                                                                                                                                                                                                                                                                                                                                                                                                                                                                                                                                                                                                                                                                                                                                                                                                                                                                                           \\nAt Tilting Point, we combine data, technology, talent and groundbreaking marketing to scale games to success. As the Senior Game Data Analyst, you will work closely with game teams to help inform decision-making regarding features of the game, balancing, player interactions, finding hidden opportunities and much more.\\nYour Future at Tilting PointAnalyze large, complex datasets to address ad-hoc and long-term operational and strategic business questionsDraw meaningful conclusions and provide actionable insights from data to shape and influence in-game features, economies, and future product roadmapsOwn the taxonomy for game data, ensuring all key performance metrics are measurable and can be analyzed efficiently.Present analytical findings as both written communication and visual representations that are clear, concise, and understandable, to both technical and non-technical audiences.Build relationships with stakeholders and processes around data deliverables to ensure data driven decisions can be made at all levels across Tilting PointCollaborate with all teams at Tilting Point, driving and supporting data and analytics related projects with game team, User Acquisition, Marketing, Engineering, and more\\nYour XP & SkillsEffectively communicate in English across verbal and written form.University degree (BA or BS) in Analytics, Economics, Mathematics, Statistics, Business Management, Information Systems, Computer Science or a related field3+ years of work experience as a data analyst or scientist, supporting consumer-facing products, mobile app/game preferredProficient with SQL2+ years with Python/R a plusAdept in at least one visualization tool such as TableauFamiliarity with PySpark and/or Amplitude a plusPassionate about mobile/social gaming with a good understanding of the market.\\n   \n",
       "1    \\nDescription\\n\\n¿Quiénes somos?\\n\\nSomos Holaluz, la empresa que lleva una década revolucionando el sector energético. Nacimos para cambiar el mundo conectando a las personas con la energía verde 💡💚, y tú y el planeta sois nuestra motivación para ser como somos y hacer lo que hacemos.\\n\\nNuestra voluntad de hacer las cosas de un modo distinto, nos ha llevado a liderar la transformación del sector eléctrico y a ser la primera eléctrica en obtener el certificado BCorp.\\n\\n¿Te sumas? Únete a la revolución.\\n\\n¿Qué harás?\\n\\nFormarás parte del Chapter de Data Analytics, con foco en el área de Operaciones.\\n\\n¿Qué esperamos de ti?\\n\\nIdentificar las grandes necesidades de Data Analytics dentro del área de Operaciones y transformarlas en proyectos que impacten positivamente sus OKRs. Transformar los datos relativos a Operaciones y Customer Care en Insights accionables que mejoren la satisfacción de nuestras clientas y que hagan más eficiente el trabajo del equipo del área de Operaciones. También tendrás que comunicar toda la información crítica e insights a otros departamentos relevantes y a la empresa en general ya que Holaluz trabaja por y para el cliente.Mentorizar y dar soporte al resto de integrantes del equipo de Data Analytics que trabajan en el equipo de Customer Care y en Operaciones. El objetivo es ayudarles en su crecimiento profesionalRealizar la interlocución con todos los integrantes del área de Operaciones para asegurar que se cumplen los OKRs definidos y que también se atienden las necesidades surgidas del día a día. Deberás contribuir en la mejora contínua del área y para ello tendrás que empaparte de los procesos, la operativa y los retos para poder proponer mejorasParticipar activamente en la mejora continua del Chapter de Data Analytics: identificación de best practices, priorización de proyectos, puesta en marcha de modelos de Machine Learning, etc.Desarrollar una planificación clara y estructurada de los datos con el objetivo de identificar las oportunidades de mejora y conocer qué necesita el cliente externo e interno.Trabajar en la configuración de la infraestructura de datos de Operaciones que impacta en la gestión del cliente, incluidas las plataformas de análisis, almacenamiento y reporte de datos. Esta tarea la realizarás con el apoyo del Chapter de Data Analytics\\n\\nY como #SayThingsAsTheyAre es uno de nuestros valores, queremos ser claros y transparentes en explicarte qué harás durante tus primeros 6 meses en Holaluz.\\n\\nEn 1 mes...\\n\\nDespués del primer mes ya sabrás cómo está todo montado, te habrás empapado de la cultura y la visión, te habrás reunido con todos los equipos y sabrás qué es lo que hacen y qué necesitan.Empezarás a analizar las decisiones que han hecho los diferentes equipos y áreas para empezar a enfrentarte a tus primeros retos.También habrás ido a comer algún día con las personas del equipo, habrás asistido a algunas de las sesiones que hacemos con el objetivo de que fluya el conocimiento.\\n\\nEn 3 meses...\\n\\nSeguro que ya habrás tomado muchas decisiones sobre cómo aportar en Operaciones y en el Chapter de Data Analytics. Estarás trabajando codo a codo con tus colegas, en otras palabras, habrás visto la LUZ.Habrás disfrutado de algún team building con el equipo y habrás tenido la oportunidad de hacer más de una presentación.\\n\\nEn 6 meses...\\n\\nTendrás (casi) todo bajo control y habrás contribuido en la madurez y crecimiento de tu equipo. Habrás aportado valor más allá de tu equipo compartiendo conocimiento, y haciendo valer toda tu experiencia para mejorar el área de Operaciones y el Chapter de Data Analytics.Además, habrás tenido varias reuniones con tu responsable para saber cómo te sientes en tus primeros meses con Holaluz.\\n\\n¿Cómo lo harás?\\n\\nOtro de nuestros valores es #KeepRowing o seguir remando, lo que significa que el trabajo en equipo y la alineación del mismo es fundamental para poder avanzar y hacer frente a nuestros objetivos compartidos.\\n\\nEn Holaluz hemos construido un sistema organizativo robusto y en constante iteración, que nos permite adaptarnos a los constantes cambios que demanda la industria y lograr el propósito que perseguimos. En Holaluz las reuniones y decisiones se toman de forma colaborativa, fluye el feedback 🤟 entre los diferentes equipos y se fomenta el apoyo entre personas.\\n\\n¿Con quién lo harás?\\n\\n#AlwaysPeopleFirst es también un valor muy importante en Holaluz, y para nosotros es clave tener un buen equipo de trabajo, por eso te explicamos que somos un equipo de unas 800 personas con un ambiente inmejorable, y con las que tendrás la oportunidad de trabajar en tu día a día 😁.\\n\\nAdemás, trabajarás de la mano con Adrià y Víctor de tu equipo de Data y junto con tus stakeholders. ¿Sabías que nuestro Chapter de Analytics está compuesto por casi el 50% de talento femenino? ¡Te presentamos a dos compañeras!\\n\\n👩🏾‍🎤 Marta \\n\\nMatemática, valenciana y gran aficionada al baloncesto. Es muy fan de hacer listas para todo y darle un toque de humor a cada reunión. Marta combina sus múltiples hobbies con su pasión por una visualización bien estructurada. Y a pesar de tener muchas reuniones, si le ofreces tomar un café mientras comentáis algún tema, aceptará sin dudarlo.\\n\\n🦹🏻‍♀️ Èlia\\n\\nEs la más joven del equipo pero desborda sabiduría. Èlia es una optimista incorregible con un don para encontrar el lado bueno de las cosas. En 5min te contagiará su buen rollo. A la catalana del equipo le encanta la escalada y siempre busca nuevos retos con unas ganas inagotables por aprender de otras áreas. El saber no ocupa lugar.\\n\\n¿Dónde lo harás?Qué mejor lugar para hacerlo que en nuestras oficinas de Barcelona a sólo 200 metros del mar 🌊. Esta excepcional ubicación al lado de la playa es perfecta para hacer un break con chapuzón y poder poner en práctica otro de nuestros valores #HaveFun.\\n\\nRequirements\\n\\n¿Qué necesitamos?\\n\\nHemos pensado muy muy bien lo que buscamos y lo que de verdad importa:\\n\\nLicenciatura en Ciencias Empresariales/Económicas, Matemáticas o Ingeniería.Más de 5 años de experiencia en el campo de Data Analytics, y solvencia en el uso de SQL y de PythonHabilidades analíticas de alto nivel y capacidad de traducir información en insights accionables y en informes concisos.Storytelling y capacidad de comunicar las conclusiones de tus análisis.Capacidad para trabajar eficazmente en equipo.Gran atención a los detalles.No hace falta que seas Shakespeare, pero sí que puedas comunicarte en Inglés.\\n\\nTodo suma, así que si tienes alguna de estas cosas SUMA Y SIGUE:\\n\\nFormación y experiencia en análisis de datos y en el uso de modelos de analítica avanzada y Machine Learning.Elaboración de dashboards.Conocimientos de PowerBI.\\n\\nRequisitos deseables:\\n\\nOrientación al Cliente.Capacidad para mantener relaciones interpersonales.Alta capacidad de implicación, dedicación y motivación.Elevada orientación a la consecución de objetivos y al cumplimiento de resultados.Excelente capacidad de análisis.\\n\\nBenefits\\n\\n¿Qué ofrecemos?\\n\\nOtro de los valores que nos caracteriza en Holaluz es #EsPosible. Por ello, ofrecemos una serie de medidas para que puedas desarrollarte 360º y conseguir todo aquello que te propongas, tanto a nivel personal como profesional:\\n\\nLa mayor fuente de nuestra energía: ¡nuestra gente!\\n\\nÚnete a una empresa donde las personas son lo primero, con un ambiente de trabajo inmejorable y un gran talento donde realmente vivimos nuestros valores. Para ello ofrecemos una serie de ventajas y beneficios que te permitirán estar apoyado tanto a nivel personal como profesional.\\n\\nSOSTENIBILIDAD\\n\\nÚnete a la primera empresa de servicios eléctricos con certificación B Corp de Europa, y actualmente #1 en el ranking mundial ESG para compañías eléctricas.Tarifa competitiva de movilidad sostenible con eCooltra. Se trata de bicicletas y patinetes eléctricos, para que puedas llegar a la oficina de forma rápida y económica, utilizando un transporte individual y ecológico. \\n\\nSALUD Y BIENESTAR\\n\\nSeguro médico privado con Adeslas.Suscripción de gimnasio a Andjoy (Gympass).Fruta ecológica todos los días.Té y café en la oficina. \\n\\nEQUILIBRIO TRABAJO-VIDA\\n\\nRégimen de Retribución Flexible en guardería, transporte y comida con Cobee.Tarifa Wifi competitiva con Unique.Creemos en la autonomía y la responsabilidad personal por lo que ofrecemos horarios de trabajo flexibles y la opción de trabajar de forma remota 6 días al mes (19 por trimestre).Referencias: obtén recompensas si contratamos a personas talentosas que tú nos recomiendes para que se unan a Holaluz.Parking - mejores tarifas en W Hotel.Como empresa certificada Baby Friendly: Guardería interna para ayudar a integrar vida y trabajo a las nuevas familias.\"Casals\" (campamentos durante los largos meses de verano pero también en otras vacaciones). \\n\\nAUTODESARROLLO\\n\\nEventos de creación de equipos.Acceso a contenidos de formación.Biblioteca propia, con contenidos muy diversos.Clases de idiomas gratuitas en clases de inglés, castellano y catalán. \\n\\n”Celebramos la diversidad en el mundo y queremos que nuestro equipo refleje esto de manera inclusiva. En Holaluz, estamos comprometidos con la igualdad de oportunidades de empleo independientemente de la etnia, religión, sexo, origen nacional, orientación sexual, edad, estado civil, discapacidad, género, identidad o expresión de género. Además, nos esforzamos por empoderar a las mujeres en el lugar de trabajo.”\\n   \n",
       "2                                                                                                                                                                                                                                                                                                                                                                                                                                                                                                                                                                                                                                                                                                                                                                                                                                                                                                                                                                                                                                                                                                                                                                                                                                                                                                                                                                                                                                                                                                                                                                                                                                                                                                                                                                                                                                                                                                                                                                                                                                                                                                                                                                                                                                                                                                                                                                                                                                                                                                                                                                                                                                                                                                                                                                                                                                                                                                                                                                                                                                                                                                                                                                                                                                                                                                                                                                                                                                                                                                                                                                                                                                                                                                                                                                                                                                                                                                                                                                                                                                                                                                                                                                                                                                                                                                                                                                                                                                                                                                                                                                                                                                                                                                                                                                 \\nAbout the job\\nIOMED Data Engineering Team is responsible for building and maintaining optimized and highly available data pipelines that facilitate information extraction and transformation for our main products and internal applications. The core of your role will be designing, architecting, implementing, and testing data extraction and transformation tools in a microservices environment:\\nData processing pipelinesData model transformationsComponents of a multi-modal distributed database.\\nYou will collaborate with the rest of the Data Engineering team in analyzing and understanding data sources, participating in the design, and providing insights and guidance on database technology and data modeling best practices.\\nThis role should work closely with the Business Development and Data Science teams, gathering technical requirements for data governance and data quality across the company.\\nAbout you\\nYou will be working in a very dynamic environment, which means that you must have a strong problem-solving ability, organization skills, and be proactive.\\nIn terms of personality, we are looking for someone who enjoys working in a wide range of areas and adapts quickly to new situations.\\nTasks\\nYou will have to feel comfortable giving support to the rest of the team and you can definitely expect to:\\nQuery, model and deploy with PostgreSQL, Redis, RabbitMQ.ETL with SQL and PythonDesign, implement & test microservices.Integrate our products with external APIs.Development and testing of our core products and frameworks.Be comfortable with container development with Docker.Testing, logging, measuring and alerting of the deployed services.Monitor the existing metrics, analyze data, and collaborate with other teams in an effort to identify and implement a system and process improvements.Ensure that the collected data is of high quality and optimal for use across the team and the business at largeOversee activities of the junior data engineering teams, ensuring proper execution of their duties and alignment with business vision and objectives\\nWhat we are looking for\\nAt least 8 years of working experience working in a data engineering department, preferably as a Data Engineer in a fast-paced environment and complex businessSetting and a demonstrated experience in building and maintaining reliable and scalable ETL.Experience in data warehousing inclusive of dimensional modeling concepts and demonstrate proficiency in programming (SQL and Python will be your main tools of the trade).Proven skills of putting microservices to use, and you’re comfortable with working with containers in a cluster architecture.Work well in a team, can teach & learn from others, and communicate what you’re working on with non-technical team members.\\n\\nWhat we offer\\nCompetitive Salary.Permanent contract.Company profit-sharing scheme valued at up to €15,000 per year.Flexible remuneration with restaurant tickets, transport tickets, nursery, training, and medical insurance.Flexible schedule, with the possibility of home office.28 days of vacations per year.A warm, transparent and supportive team, with a huge emphasis on work-life balance.The opportunity to make your mark in e-health and AI.\\nAbout IOMED \\nIOMED is a leading technology start-up company in the field of massive medical data extraction and processing. It is made up of a united, young, dynamic, and flexible team, which, after several years of working together, is characterized by its agility, enjoyment of work, and rapport. Accordingly, we are looking for candidates with the desire to innovate, launch a relevant project, and grow with it, always enjoying teamwork and challenges, which are many, every day.\\nAs an employer, we offer equal opportunity. We want to grow our team with talented, dynamic people who want to make their mark in the field of AI and research, regardless of race, color, religion, national origin, gender, physical disability, or age.\\nWhat we do \\nNowadays, there is still great difficulty in accessing Real-World Data (Real-World Data), which are those contained in Electronic Health Records (EHR), since up to 85% of the existing clinical data is not structured. This represents a loss of opportunity for the sector to improve its healthcare processes and clinical research.\\nIOMED has developed a Natural Language Processing solution that extracts and transforms clinical data into an international and federated model, OMOP CDM, resulting in a structured, standardized, and interoperable database that contains complete clinical information from hospitals.\\nIn this way, professionals and the industry can make use of this data and obtain evidence based on all the data, Real World Evidence, that has essential value when it comes to making decisions, among others. All this, in addition, to assuring the protection and governance of the data at all times.\\n   \n",
       "3                                                                                                                                                                                                                                                                                                                                                                                                                                                                                                                                                                                                                                                                                                                                                                                                                                                                                                                                                                                                                                                                                                                                                                                                                                                                                                                                                                                                                                                                                                                                                                                                                                                                                                                                                                                                                                                                                                                                                                                                                                                                                                                                                                                                                                                                                                                                                                                                                                                                                                                                                                                                                                                                                                                                                                                                                                                                                                                                                                                                                                                                                                                                                                                                                                                                                                                                                                                                                                                                                                                                                                                                                                                                                                                                                                                                                                                                                                                                                                                                                                                                                                                                                                                                                                                                                                                                                                                                                                                                                                                                                                                                                                                                                                                                                                                                                                                                                                                                                                                                                                                                                                                                                                                                                                                                                                                                                                                                                                                                                                                                                                                                                                                                                                                                                                                                                                                                                                                                                                                                                                                                                                                                                                                                                                                                                                                                                                                                                                                                                                                                                                                                                                                                                                                                                                                                                                                                                                                                                                                                                                                                                                                                                                                                                                                                                                                                                                                                                                                                                                                                                                                                                                                                                                                                                                                                                                                                                                                                                                                                                                                                                                                                                                                                                                                                                                                                                                                                                                                                 \\nSomos una multinacional canadiense especializada en consultoría tecnológica, con presencia en 21 sectores en más de 400 ubicaciones en todo el mundo, proveemos servicios de consultoría de negocio y de TI integrales, escalables y sostenibles que están analizados globalmente y entregados localmente.\\nEstamos buscando un/a analista de datos (junior)  para impulsar nuestro equipo y realizar un trabajo de calidad del dato y realización de modelos de control para un cliente estratégico dentro de un gran proyecto.\\nFunciones:Realización de modelos de controlRealización de informes periódicosprocesos tácticosSoporte a aplicativo corporativo del clientecertificación de nuevos desarrollos\\nRequisitos deseados:SQLExcelVBA\\nGrupo CGI ofrece:\\n-Contratación indefinida-Horario flexible.-Proyectos estable de larga duración.-Pertenecer a un equipo de trabajo altamente cualificado en una empresa joven en proceso de expansión.-Trabajar en un ambiente de trabajo amigable, donde la estrecha relación con los managers y con RRHH facilita el espíritu emprendedor, el intercambio de ideas, la iniciativa y el desarrollo de las personas.-Formación en distintas tecnologías.-Desarrollo profesional.\\nSi tienes capacidad de trabajo y ganas de seguir aprendiendo en una empresa dinámica y en constante crecimiento... ¡Esta es tu oportunidad!\\n   \n",
       "4                                                                                                                                                                                                                                                                                                                                                                                                                                                                                                                                                                                                                                                                                                                                                                                                                                                                                                                                                                                                                                                                                                                                                                                                                                                                                                                                                                                                                                                                                                                                                                                                                                                                                                                                                                                                                                                                                                                                                                                                                                                                                                                                                                                                                                                                                                                                                                                                                                                                                                                                                                                                                                                                                                                                                                                                                                                                                                                                                                                                                                                                                                                                                                                                                                                                                                                                                                                                                                                                                                                                                                                                                                                                                                                                                                                                                                                                                                                                                                                                                                                                                                                                                                                                                                                                                                                                                                                                                                                                                                                                                                                                                                                                                                                                                                                                                                                                                                                                                                                                                                                                                                                                                                                                                                                                 \\nOlala Homes is a unique tech-enabled hospitality management company focusing on the short-term vacation rental segment through the ownership and management of over 400 units across multiple countries and cities. Olala Homes’ lean business model coupled with its real estate development expertise and topped with its strong team form a solid base for its ambitious future expansion plan across Spain, Europe, and beyond. The company’s HQ is located in Barcelona with satellite offices in Greece, Romania, Portugal, and Israel. Olala Homes is part of the Rina Group, a group of companies investing in Tourism & Hospitality, Industrial Minerals, Real Estate, and Agriculture across 3 continents.\\nJob Brief We are seeking a skilled and motivated Data Analyst to join our team in the hospitality industry. As a Data Analyst, you will be responsible for collecting, analyzing, and interpreting data to help drive informed decision-making and improve operational efficiency within our organization. Your expertise in data analysis and strong business acumen will play a crucial role in optimizing our operations, enhancing customer experiences, and identifying growth opportunities. This is an exciting opportunity for a talented individual to contribute to the success of our organization through data-driven insights.\\nMain responsibilities:Data Collection and Analysis: Gather data from various sources, including internal databases, customer feedback, and external data sets. Analyze and interpret this data to identify trends, patterns, and insights relevant to the hospitality industry.Performance Tracking: Develop and maintain performance metrics and dashboards to monitor key performance indicators (KPIs) across different aspects of our hospitality operations. Regularly evaluate and report on performance trends, providing actionable recommendations for improvement.Operational Efficiency: Identify areas of operational inefficiencies and collaborate with cross-functional teams to develop strategies and solutions. Utilize data analysis techniques to optimize processes, reduce costs, and enhance productivity within the organization.Customer Insights: Analyze customer feedback, preferences, and behavior to generate actionable insights that can be used to enhance customer experiences. Provide recommendations on how to improve customer satisfaction and loyalty based on data analysis.Data Visualization and Reporting: Create visually appealing and informative reports, charts, and presentations to effectively communicate complex data insights to both technical and non-technical stakeholders. Use data visualization tools and techniques to present findings in a clear and concise manner.Continuous Learning and Improvement: Stay updated with the latest data analysis techniques, tools, and industry trends. Proactively identify opportunities for process improvement and propose innovative solutions to enhance the effectiveness and efficiency of data analysis.\\nRequirements:Minimum 2 years of experience as a Data Analyst or Business Data AnalystBS in Mathematics, Economics, Computer Science, Information Management or StatisticsTechnical expertise regarding data models, database design development, data mining and segmentation techniques. Preferably within the hospitality industry.Excellent written and verbal communication skillsStrong analytical skills with the ability to collect, organize, analyze, and disseminate significant amounts of information with attention to detail and accuracyAdvanced knowledge in Excel, SQL and PhytonFamiliarity with database management systems and data warehousing concepts.Experience in building reports for data visualization (ideally Power BI)Zendesk Knowledge is a big plusProfessional level of English \\nIf you are passionate about data analysis and its application to the hospitality industry, and if you thrive in a dynamic and results-oriented environment, we would love to hear from you. Join our team and contribute to shaping the future of our organization through data-driven decision-making.\\nWhat we offer:Competitive salary with other benefits such as employee discounts staying in Olala Homes’ properties, weekly fruit basket in the office, happy hour, etc.Opportunity to be mentored by experienced professionals and gain first-hand know-how in a swift pacePositive corporate culture to be proud to be a part of a fast growing company\\n   \n",
       "..                                                                                                                                                                                                                                                                                                                                                                                                                                                                                                                                                                                                                                                                                                                                                                                                                                                                                                                                                                                                                                                                                                                                                                                                                                                                                                                                                                                                                                                                                                                                                                                                                                                                                                                                                                                                                                                                                                                                                                                                                                                                                                                                                                                                                                                                                                                                                                                                                                                                                                                                                                                                                                                                                                                                                                                                                                                                                                                                                                                                                                                                                                                                                                                                                                                                                                                                                                                                                                                                                                                                                                                                                                                                                                                                                                                                                                                                                                                                                                                                                                                                                                                                                                                                                                                                                                                                                                                                                                                                                                                                                                                                                                                                                                                                                                                                                                                                                                                                                                                                                                                                                                                                                                                                                                                                                                                                                                                                                                                                                                                                                                                                                                                                                                                                                                                                                                                                                                                                                                                                                                                                                                                                                                                                                                                                                                                                                                                                                                                                                                                                                                                                                                                                                                                                                                                                                                                                                                                                                                                                                                                                                                                                                                                                                                                                                                                                                                                                                                                                                                                                                                                                                                                                                                                                                                                                                                                                                                                                                                                                                                                                                                                                                                                                                                                                                                                                                                                                                                                                                                                                                                                                                                                                                                                                                                                                                                                                                                                                                                                                                                                                                                                                                                                                                                                                                                                                                                                                                                                                                                                                                                                                                                                                                                                                                                                                                                                   ...  \n",
       "378                                                                                                                                                                                                                                                                                                                                                                                                                                                                                                                                                                                                                                                                                                                                                                                                                                                                                                                                                                                                                                                                                                                                                                                                                                                                                                                                                                                                                                                                                                                                                                                                                                                                                                                                                                                                                                                                                                                                                                                                                                                                                                                                                                                                                                                                                                                                                                                                                                                                                                                                                                                                                                                                                                                                                                                                                                                                                                                                                                                                                                                                                                                                                                                                                                                                                                                                                                                                                                                                                                                                                                                                                                                                                                                                                                                                                                                                                                                                                                                                                                                                                                                                                                                                                                                                                                                                                                                                                                                                                                                                                                                                                                                                                                                                                                                                                                                                                                                                                                                                                                                                                                                                                                                                                                                                                                                                                                                                                                                                                                                                                                                                                                                                                                                                                                                                                                                                                                                                                                                                                                                                                                                                                                                                                                                                                                                                                               \\nAt TRKKN, we are driven by the excitement of taking our client's data-driven businesses to new heights. As the leading European Google partner and reseller of Google Cloud & Google Marketing Platform, we act as a catalyst for cutting-edge digital marketing solutions. Our team is diverse, international, inspiring, and operates in a fast-growing digital & technological environment. This provides the ideal and dynamic work environment for individuals with a hunger for growth, responsibility, and the desire to shape their future. With Google in close proximity, the learning and development opportunities at TRKKN are limitless\\n\\n\\n\\nHow you will make an impact…\\n\\nAs a Tech & Data Strategy Consultant at TRKKN, you will play a critical role in connecting people, data & tech. You will lead companies towards digital maturity by systematically identifying levers and technical solutions from Google Marketing Platform and Google Cloud that help advertisers to solve their business challenges in the evolving privacy centric ecosystem.\\n\\nSpecifically, you will be responsible for:\\n\\n Providing strategic consulting to our clients on 1st party data strategy, tech stack, and other related topics \\n\\n Conducting Tech & Data Maturity Assessments for clients and provide recommendations for improvement\\n\\n Leading Strategy Workshops for clients on various topics, such as Privacy\\n\\n Supporting other TRKKN service teams with your expertise in Tech & Data Strategy Consulting\\n\\n Collecting and analyzing customer data to identify opportunities for improvement and increase customer satisfaction\\n\\n Working closely with account leads on strategic clients to ensure that clients receive the best possible consulting experience\\n\\n Managing multiple projects and priorities effectively, meeting deadlines and exceeding client expectations\\n\\n Keeping up-to-date with the latest industry trends and best practices in Tech & Data Strategy\\n\\n \\n\\n\\nThe person we are looking for…\\n\\n Has solid consulting experience in tech & data, preferably in the tech and digital marketing industry\\n\\n Has experience with google fund ownership and management \\n\\n Has proven track record of success in delivering exceptional customer service and driving business growth\\n\\n Has excellent communication and interpersonal skills with the ability to build strong relationships with clients and stakeholders\\n\\n Has strong account management skills and the ability to effectively manage multiple clients and priorities\\n\\n Is a strategic thinker and highly detail-oriented with exceptional organizational skills\\n\\n Excels as a self-starter and is driven to continuously improve and exceed customer expectations\\n\\n Has a passion for tech & data topics and a desire to work with high-performance teams\\n\\n Is an excellent communicator in fluent English (German is a plus)\\n\\n\\n\\n \\nOur benefits\\n\\nWe empower you to take responsibility right from the start and provide you with an environment for enormous growth potential within the company and beyond your initial role. We see you as an important part of our success story - We grow with you, you grow with us!\\n\\nIn addition, you can expect:\\n\\n Competitive salary\\n\\n Knowledge sharing & company events\\n\\n Personal development plan & leadership training\\n\\n Hybrid work model\\n\\n Choose your own device\\n\\n\\n   \n",
       "379                                                                                                                                                                                                                                                                                                                                                                                                                                                                                                                                                                                                                                                                                                                                                                                                                                                                                                                                                                                                                                                                                                                                                                                                                                                                                                                                                                                                                                                                                                                                                                                                                                                                                                                                                                                                                                                                                                                                                                                                                                                                                                                                                                                                                                                                                                                                                                                                                                                                                                                                                                                                                                                                                                                                                                                                                                                                                                                                                                                                                                                                                                                                                                                                                                                                                                                                                                                                                                                                                                                                                                                                                                                                                                                                                                                                                                                                                                                                                                                                                                                                                                                                                                                                                                                                                                                                                                                                                                                                                                                                                                                                                                                                                                                                                                                                                                                                                                                                                                                                                                                                                                                                                                                                                                                                                                                                                                                                                                                                                                                                                                                                                                                                                                                                                                                                                                                                                                                                                                                                                                                                                                                                                                                                                                                                                                                                                                                                                                                                                                                                                                                                                                                                                \\nBuscamos Ayudante de investigación para el proyecto “AI and Data for Society” (AID4So) del IN3 de la Universidad.\\nEl grupo de investigación AI and Data for Society (AID4So) se centra tanto en el desarrollo de nuevos métodos en Inteligencia Artificial (IA), aprendizaje automático y Big Data Analytics, como en su aplicación para resolver cuestiones de investigación en ámbito de la ciencia de datos, Ciencias Sociales Computacionales y Humanidades Digitales. El grupo pone al ser humano en el centro de su esfuerzo de investigación y presta especial atención al estudio y uso de métodos éticos, sostenibles y explicables en IA y aprendizaje automático.\\nFunciones:Ayudar a los investigadores y investigadoras del grupo en las tareas de procesamiento, análisis y programación de datos con el objetivo de realizar investigaciones innovadoras en IA y Data Analytics, por ejemplo mediante la consulta de la API y el análisis de la salida de los grandes modelos de lenguaje OpenAI. Se realizará una contratación laboral temporal de 6 meses, a jornada a determinar (entre completa y el 50%), con previsión de incorporación lo antes posible.La sede de referencia será en de la Rbla. Del Poblenou, 156 (distrito del 22@) y tendrás posibilidad de teletrabajar, según necesidades organizativas y naturaleza de las tareas. Sobre la UOCLa UOC es una universidad pionera y experta en aprendizaje online que forma a las personas a lo largo de la vida y que focaliza la investigación y la innovación en la interacción entre la tecnología y las ciencias humanas y sociales. Es una Universidad global, nativa digital y con mandato público.En la UOC queremos incorporar el mejor talento, velando por la igualdad de oportunidades sin tener en cuenta razones de género, edad, etnia o religión, orientación sexual o cualquier otra condición física, personal o social ajena a las condiciones de mérito y capacidad.\\nLos procesos de selección de la UOC se basan en los principios OTM-R (open, transparent and merit-based recruitment), con el objetivo de implementar prácticas de reclutamiento abiertas, transparentes y basadas en el mérito. ¿Qué tipo de perfil buscamos?Licenciatura en Informática, Física, Matemáticas o ámbitos afinesConocimientos de última generación en análisis de datos, PNL, grandes modelos de lenguaje y algoritmos de aprendizaje automático.Competencia laboral en inglésConocimientos avanzados de codificación en PythonConocimientos avanzados de Data Science, NLP, bibliotecas de aprendizaje profundo y automático en Python También valoramos...Grado MSC Publicaciones relevantes de la zonaExperiencia en la elaboración de propuestas de investigaciónCompetencia laboral en catalán y/o castellanoConocimientos de AWSExperiencia con el API OPENAIExperiencia con algoritmos de análisis de redes sociales Para poder participar en el proceso de selección, es necesario registrarse como candidato/a en el espacio Únete a nuestro equipo, en el portal www.uoc.edu y, una vez dado de alta, y dentro del espacio de candidato/a, presentar la solicitud\\n   \n",
       "380                                                                                                                                                                                                                                                                                                                                                                                                                                                                                                                                                                                                                                                                                                                                                                                                                                                                                                                                                                                                                                                                                                                                                                                                                                                                                                                                                                                                                                                                                                                                                                                                                                                                                                                                                                                                                                                                                                                                                                                                                                                                                                                                                                                                                                                                                                                                                                                                                                                                                                                                                                                                                                                                                                                                                                                                                                                                                                                                                                                                                                                                                                                                                                                                                                                                                                                                                                                                                                                                                                                                                                                                                                                                                                                                                                                                                                                                                                                                                                                                                                                                                                                                                                                                                                                                                                                                                                                                                                                                                                                                                                                                                                                                                                                                                                                                                                                                                                                                                                                                                                                                                                                                                                                                                                                                                                                                                                                                                                                                                                                                                                                                                                                                                                                                                                                                                                                                                                                                                                                                                                                                                                                                                                                                                                                                                                                                                                                                                                                                                                                                                                                                                                                                                                                                                                                                                                                                                                                                                                                                                                                                                                                                                                                         \\nPossible roles and tasks\\nTake responsibility for planning and implementing complex software projects as a software project managerDevelop complex software solutions for big data, mobile development and cloud computing projects with modern toolsAnalyze customer requirements and design complete tool landscapes and software architectures as a software architectDesign and visualize customer processes as a process simulation engineerAs a software project lead, realize software project planning, control the development and present the results to the customer\\n\\nProfile\\nSuccessfully completed studies in Computer Science or an interdisciplinary Computer Science courseEnthusiasm for the development of technologies, open-mindedness and willingness to quickly familiarize oneself with new topicsIntuitive working with version control programs, such as gitFirst experiences in programming, handling databases, SW architecture tools and UML 2.0 are advantageousVery good Spanish and English language skillsWillingness to travel\\n\\nBenefits\\nStrategic design as well as management interactionResponsibility and leadershipIndividual technical and soft skill trainingsLocal and INVENSITY-wide team eventsPersonal mentoring with selected mentor\\n\\nYour contact person\\nTomas Braithwaite Jonas\\ntomas.jonas@invensity.com\\n+49 172 70 03 49\\nAbout Us\\nWith us, you can expect a creative, professionally broad-based and appreciative environment in which you will work together with other unique talents on highly innovative topics. Our international teams link our knowledge carriers on a global level.\\nWith a focus on sustainability and value creation, we approach tasks in a targeted manner. We promote the professional and personal development of our employees with regular training sessions at our in-house INVENSITY Academy and individual mentoring for each employee.\\nINVENSITY is an innovation and technology consultancy with international orientation. We support our customers with individual solutions for technological challenges throughout the entire development process. Our clients are primarily from the high-tech industries, including optical technologies, automotive and transportation, aerospace, healthcare and life sciences, energy and utilities, telecommunications and electronics, and defense. We have offices in Germany (Hamburg, Düsseldorf, Wiesbaden, Stuttgart, Munich), Spain (Barcelona), the Philippines (Manila) and the USA (Detroit, MI).\\nLearn more about INVENSITY, our offices and how we work at https://www.invensity.com/career.\\n   \n",
       "381                                                                                                                                                                                                                                                                                                                                                                                                                                                                                                                                                                                                                                                                                                                                                                                                                                                                                                                                                                                                                                                                                                                                                                                                                                                                                                                                                                                                                                                                                                                                                                                                                                                                                                                                                                                                                                                                                                                                                                                                                                                                                                                                                                                                                                                                                                                                                                                                                                                                                                                                                                                                                                                                                                                                                                                                                                                                                                                                                                                                                                                                                                                                                                                                                                                                                                                                                                                                                                                                                                                                                                                                                                                                                                                                                                                                                                                                                                                                                                                                                                                                                                                                                                                                                                                                                                                                                                                                                                                                                                                                                                                                                                                                                                                                                                                                                                                                                                                                                                                                                                                                                                                                                                                                                                                                                                                                                                                                                                                                                                                                                                                                                                                                                                                                                                                                                                                                                                                                                                                                                                                                                                                                                                                                                                                                                                                                                                                                                                                                                                                                                                                                                                                                                                                                                                                                                                                                                                                                                                                                                                                                                                                                                                                                                                                                                                                                                                                                                                                                                                                                                                                                                                                                                                                                                                                                                                                                                                                                                                                                                                                                                                                                                                                                                                                                                                                                                                                                               \\n                Job description:\\n\\nWe are looking for a new colleague to join the Aftermarket team at our location in Barcelona.\\n\\n \\n\\nYour tasks:\\n\\n Develop & align product data and processes for the supply chain standardization & SCM tooling for product data Derive projects from product data strategy within the domain to empower the organization with new technologies to increase process automation & improved decision making (e.g. with AI, Digital Twin, Analytic Self Service) Lead projects (“classic”, agile, DevOps), taskforces and hackathons in product data management and manage/ contribute to them from other domains, functions or corporate projects Transform and implement information architecture, simplify access to information Develop, optimize and maintain tools and systems for data usage and enable analytics.  \\n\\nYour profile:\\n\\n Very good competencies in setting priorities based on business impact/ in fast changing environments Very good capabilities in business to IT relationship management Experience in SAP R3/S4 Hana, Material Management, PIM solutions as well as a good understanding of Data Management is required Analytical, communicative, language skills (Business English and optional Spanish or Portuguese).  \\n\\nGrading: Depending on requirements and qualifications.\\n\\nThe position is part of the ZF Global Employee Referral Program.\\n\\n\\n   \n",
       "382                                                                                                                                                                                                                                                                                                                                                                                                                                                                                                                                                                                                                                                                                                                                                                                                                                                                                                                                                                                                                                                                                                                                                                                                                                                                                                                                                                                                                                                                                                                                                                                                                                                                                                                                                                                                                                                                                                                                                                                                                                                                                                                                                                                                                                                                                                                                                                                                                                                                                                                                                                                                                                                                                                                                                                                                                                                                                                                                                                                                                                                                                                                                                                                                                                                                                                                                                                                                                                                                                                                                                                                                                                                                                                                                                                                                                                                                                                                                                                                                                                                                                                                                                                                                                                                                                                                                                                                                                                                                                                                                                                                                                                                                                                                                                                                                                                                                                                                                                                                                                                                                                                                                                                                                                                                                                                                                                                                                                                                                                                                                                                                                                                                                                                                                                                                                                                                                                                                                                                                                                                                                                                                                                                                                                                                                                                                                                                                                                                                            \\nOpportunity Description\\nWe are seeking a Principal Data Scientist with strongly developed expertise in graph-based AI and related technologies to maximize utilization of data and knowledge in the client's data and digital transformation.\\nESSENTIAL EXPERIENCE:\\nDegree in mathematics, computer science, engineering, physics, statistics, economics, computational sciences or a related quantitative discipline and 5+ years of analytical experience in an industrial or commercial setting OR PhD degree with at least 3+ years of industry experienceExperience AI/ML/NLP modelling of complex datasetsAdvanced software development skills in at least two of the standard data science languages (such as Python, R, Scala, C++, Julia) and strong data manipulations skills (e.g. SQL, NoSQL, graph, etc.)Knowledge of SQL and relational databases, query authoring (SQL) and designing variety of databases (e.g. Postgres SQL)Comfortable working in cloud and high-performance compute environments (e.g. AWS, Apache Spark)Disciplined AI/ML deployment (MLOps, CI/CD) and Agile deliveryExperience in coordination of delivery teams and providing feedback to their managementExcellent written and verbal communication, business analysis, and consultancy skills\\nPREFERRED EXPERIENCE:\\nKnowledge on health care knowledge management systems (e.g. ICD, SNOMED, MedDRA, UMLS) preferredExperience AI/ML modelling of complex datasets, network analysis or direct experience in creating and maintaining graph data modelsExperience with a variety of graph technologies Knowledge of graph databases like Neo4J (Cypher, causal clusters), JanusGraph (Gremlin, GraphML), AWS Neptune, OrientDBExpertise in machine learning/deep learning-based graph algorithms relevant to link prediction, ranking/recommendation, completion, community detection, node embedding, etc\\nRequirements\\nResponsibilities\\nLead data science area deliverables for digital products / programs / initiatives including the allocation of work within the team, monitors the quantitative and qualitative achievements of the team, and reports resultsWork as an individual contributor, providing data science expertise to digital products / programs / initiativesApply in-depth experience with both statistical and modern data science approaches, including unsupervised, supervised, regression algorithms. Apply advanced techniques such as neural networks, deep learning, NLP and federated learningBuild models, algorithms, simulations and experiments by writing highly optimized code and using state-of-the art machine learning technologiesCollaborate cross-functionally in teams involved in data driven analytics to maximize impact of graph-based capabilitiesBuild and manage support models incorporated into digital or AI products; Work with Infrastructure and Ops teams to ensure appropriate architecture and toolingCapacity to mentor junior personnelBe able to apply in-depth experience with both statistical and modern data science approaches to business cases and knowledge management tasksStrong written and verbal communication skills - ability to communicate complex ideas up to people of varying technical skillsWork with developers, engineers, and MLOps to deliver AI/ML solutions for new products/services\\n   \n",
       "\n",
       "[383 rows x 5 columns]"
      ]
     },
     "execution_count": 247,
     "metadata": {},
     "output_type": "execute_result"
    }
   ],
   "source": [
    "df"
   ]
  },
  {
   "cell_type": "markdown",
   "id": "eb008918",
   "metadata": {},
   "source": [
    "# Let's remove duplicates"
   ]
  },
  {
   "cell_type": "code",
   "execution_count": 248,
   "id": "0775f58a",
   "metadata": {
    "scrolled": true
   },
   "outputs": [
    {
     "name": "stdout",
     "output_type": "stream",
     "text": [
      "<class 'pandas.core.frame.DataFrame'>\n",
      "Int64Index: 383 entries, 0 to 382\n",
      "Data columns (total 5 columns):\n",
      " #   Column       Non-Null Count  Dtype \n",
      "---  ------       --------------  ----- \n",
      " 0   title        383 non-null    object\n",
      " 1   company      382 non-null    object\n",
      " 2   location     382 non-null    object\n",
      " 3   modality     371 non-null    object\n",
      " 4   description  382 non-null    object\n",
      "dtypes: object(5)\n",
      "memory usage: 18.0+ KB\n"
     ]
    }
   ],
   "source": [
    "df = df.drop_duplicates()\n",
    "df.info()\n"
   ]
  },
  {
   "cell_type": "markdown",
   "id": "2dcd1bcd",
   "metadata": {},
   "source": [
    "# Positions' Categorization"
   ]
  },
  {
   "cell_type": "code",
   "execution_count": 267,
   "id": "f394a545",
   "metadata": {},
   "outputs": [
    {
     "name": "stdout",
     "output_type": "stream",
     "text": [
      "Analysts: 29%\n",
      "Scientists: 22%\n",
      "Engineers: 23%\n"
     ]
    }
   ],
   "source": [
    "df['title'] = df['title'].str.lower()\n",
    "\n",
    "analysts = len(df[df['title'].str.contains(\"anal\")])\n",
    "scientists = len(df[df['title'].str.contains(\"scien\")])\n",
    "engineers = len(df[df['title'].str.contains(\"engin\")])\n",
    "print(f'Analysts: {round(analysts/df.shape[0]*100)}%')\n",
    "print(f'Scientists: {round(scientists/df.shape[0]*100)}%')\n",
    "print(f'Engineers: {round(engineers/df.shape[0]*100)}%')"
   ]
  },
  {
   "cell_type": "code",
   "execution_count": 262,
   "id": "61323318",
   "metadata": {},
   "outputs": [
    {
     "name": "stdout",
     "output_type": "stream",
     "text": [
      "1 job positions are overlapped, 1% of all Data Analyst, Data Engineer & Data Scientist positions.\n"
     ]
    }
   ],
   "source": [
    "n = 0\n",
    "overlapped = []\n",
    "for index, job in df['title'].iteritems():\n",
    "    if 'scien' in job and 'anal' in job:\n",
    "        n += 1\n",
    "        overlapped.append(index)\n",
    "per = round(n/(analysts+scientists)*100)\n",
    "print(f'{n} job positions are overlapped, {per}% of all Data Analyst, Data Engineer & Data Scientist positions.')"
   ]
  },
  {
   "cell_type": "code",
   "execution_count": 263,
   "id": "60facd8e",
   "metadata": {},
   "outputs": [
    {
     "data": {
      "text/plain": [
       "84    data scientist (product analytics) esp\n",
       "Name: title, dtype: object"
      ]
     },
     "execution_count": 263,
     "metadata": {},
     "output_type": "execute_result"
    }
   ],
   "source": [
    "df.iloc[overlapped, 0]\n"
   ]
  },
  {
   "cell_type": "code",
   "execution_count": 264,
   "id": "5f1b386d",
   "metadata": {},
   "outputs": [],
   "source": [
    "df.iloc[84, 0] = 'data scientist'\n"
   ]
  },
  {
   "cell_type": "code",
   "execution_count": 265,
   "id": "212ec01e",
   "metadata": {},
   "outputs": [],
   "source": [
    "def find_missing_titles(df):\n",
    "    missing_titles = []\n",
    "    for title in df['title']:\n",
    "        if 'anal' not in title and 'scien' not in title and 'engin' not in title:\n",
    "            missing_titles.append(title)\n",
    "    return missing_titles"
   ]
  },
  {
   "cell_type": "code",
   "execution_count": 256,
   "id": "ae62de55",
   "metadata": {},
   "outputs": [
    {
     "name": "stdout",
     "output_type": "stream",
     "text": [
      "data manager\n",
      "científico de datos - ia\n",
      "data operations intern\n",
      "junior data & business intelligence support specialist\n",
      "técnico/a de base de datos\n",
      "database administrator\n",
      "data consultant\n",
      "data manager\n",
      "especialista en bbdd y modelado de datos\n",
      "data leader (sql - big data)\n",
      "data quality manager (barcelona)\n",
      "internship programme data (programa de becas)\n",
      "senior data consultant\n",
      "lead data platform\n",
      "director of data\n",
      "transformation & data associate\n",
      "data acquisition strategist (m/f/d)\n",
      "azure data consultant\n",
      "data modelling architect\n",
      "🏠 arquitecto de datos dwh - datamart 🏠\n",
      "azure data consultant\n",
      "senior data architect\n",
      "data specialist\n",
      "data architect - digital markets\n",
      "data architect\n",
      "data manager & statistician, malaria immunology group (short term)\n",
      "principal data architect & data steward\n",
      "data manager for the ubioesdm\n",
      "head of global master data\n",
      "data manager strategy\n",
      "database administrator (dba) - remote within spain\n",
      "data & transformation office leader\n",
      "data coordinator (fixed term)\n",
      "product data consultant (m/f/d)\n",
      "sales data and reporting manager\n",
      "esg data operations senior manager\n",
      "data governance senior\n",
      "director of data\n",
      "senior data architect\n",
      "product data governor (m/f/d)\n",
      "big data developer\n",
      "sr. master data management\n",
      "data quality steward\n",
      "data quality steward\n",
      "senior director of first-party data strategy\n",
      "head of go to market (gtm) data\n",
      "head of master data management\n",
      "data entry temporary - part time\n",
      "data management intern\n",
      "data manager (project from scratch)\n",
      "presales insights&data - barcelona\n",
      "director business development (ai data solutions)\n",
      "digital security & data privacy leader\n",
      "data & dbi service manager\n",
      "master data specialist\n",
      "data management officer\n",
      "azure data architect\n",
      "sap mdg & data migration manager\n",
      "data architect\n",
      "data governance & enablement manager (d/f/m)\n",
      "timesheets & master data administrator\n",
      "data migration - salesforce - freelance\n",
      "consultor senior sap data migration\n",
      "big data architects\n",
      "data provisioning lead\n",
      "data team lead/senior data team lead (fsp) - home based, europe\n",
      "salesforce administrator/data specialist\n",
      "director of data - marketplace (customers & partners) (they/she/he)\n",
      "sap data migration\n",
      "ingeniero de datos (spark y nifi)\n",
      "investment data operations team lead\n",
      "associate director dd&it im data solution delivery\n",
      "consultor sap-ilm y data archiving\n",
      "azure data consultant\n",
      "especialista en análisis de datos y reporting\n",
      "data specialist at voxel\n",
      "data esg credit risk\n",
      "power bi - datafactory 100% remoto (tech solutions)\n",
      "data business manager\n",
      "master data support\n",
      "working student data & ai web application development (all genders)\n",
      "experto en análisis y gestión de datos para el proyecto pigweb\n",
      "data coordinator\n",
      "data specialist\n",
      "especialista en vigilancia tecnológica y gestión de datos\n",
      "data functional lead - pagegroup ssc\n",
      "data/dwh/ai azure consultant x2 - 6 weeks vacation / year\n",
      "data team lead\n",
      "data steward veeva/salesforce\n",
      "cyber data management associate internship\n",
      "data governance lead\n",
      "team lead data architecture\n",
      "d&a product owner metadata and data catalog\n",
      "technical support specialist – data management (autodesk vault)\n",
      "data team lead/senior data team lead - home based in europe\n",
      "consultant (all genders) data systems 50. 000 - 70. 000\n",
      "data excellence product owner\n",
      "tech & data strategy consultant (f/m/d)\n",
      "ayudante de investigación para el grupo de investigación ai and data for society (temporal)\n",
      "consultant (all genders) data systems\n",
      "product data consultant (m/f/d)\n"
     ]
    }
   ],
   "source": [
    "missing_titles = find_missing_titles(df)\n",
    "for title in missing_titles:\n",
    "    print(title)"
   ]
  },
  {
   "cell_type": "code",
   "execution_count": null,
   "id": "e301aa80",
   "metadata": {},
   "outputs": [],
   "source": []
  },
  {
   "cell_type": "code",
   "execution_count": null,
   "id": "48da19c9",
   "metadata": {},
   "outputs": [],
   "source": []
  },
  {
   "cell_type": "markdown",
   "id": "05770b32",
   "metadata": {},
   "source": [
    "# Let's categorize: Analyst, Scientist and Engineer positions"
   ]
  },
  {
   "cell_type": "code",
   "execution_count": 140,
   "id": "c4d36f47",
   "metadata": {},
   "outputs": [
    {
     "name": "stderr",
     "output_type": "stream",
     "text": [
      "/var/folders/q7/v3v0dp3x75b1z141v2hlcr3c0000gn/T/ipykernel_35550/23673545.py:13: SettingWithCopyWarning: \n",
      "A value is trying to be set on a copy of a slice from a DataFrame\n",
      "\n",
      "See the caveats in the documentation: https://pandas.pydata.org/pandas-docs/stable/user_guide/indexing.html#returning-a-view-versus-a-copy\n",
      "  df.drop(dropped, inplace=True)\n",
      "/var/folders/q7/v3v0dp3x75b1z141v2hlcr3c0000gn/T/ipykernel_35550/23673545.py:15: SettingWithCopyWarning: \n",
      "A value is trying to be set on a copy of a slice from a DataFrame.\n",
      "Try using .loc[row_indexer,col_indexer] = value instead\n",
      "\n",
      "See the caveats in the documentation: https://pandas.pydata.org/pandas-docs/stable/user_guide/indexing.html#returning-a-view-versus-a-copy\n",
      "  df['position'] = category\n"
     ]
    }
   ],
   "source": [
    "category = []\n",
    "dropped = []\n",
    "for index, position in df['title'].iteritems():\n",
    "    if \"scien\" in position:\n",
    "        category.append('data scientist')\n",
    "    elif \"anal\" in position:\n",
    "        category.append('data analyst')\n",
    "    elif \"engin\" in position:\n",
    "        category.append('data engineer')    \n",
    "    else:\n",
    "        dropped.append(index)\n",
    "\n",
    "df.drop(dropped, inplace=True)\n",
    "df.reset_index(inplace=True, drop=True)\n",
    "df['position'] = category"
   ]
  },
  {
   "cell_type": "code",
   "execution_count": 141,
   "id": "f69f8478",
   "metadata": {},
   "outputs": [
    {
     "data": {
      "text/html": [
       "<div>\n",
       "<style scoped>\n",
       "    .dataframe tbody tr th:only-of-type {\n",
       "        vertical-align: middle;\n",
       "    }\n",
       "\n",
       "    .dataframe tbody tr th {\n",
       "        vertical-align: top;\n",
       "    }\n",
       "\n",
       "    .dataframe thead th {\n",
       "        text-align: right;\n",
       "    }\n",
       "</style>\n",
       "<table border=\"1\" class=\"dataframe\">\n",
       "  <thead>\n",
       "    <tr style=\"text-align: right;\">\n",
       "      <th></th>\n",
       "      <th>title</th>\n",
       "      <th>company</th>\n",
       "      <th>location</th>\n",
       "      <th>modality</th>\n",
       "      <th>description</th>\n",
       "      <th>position</th>\n",
       "    </tr>\n",
       "  </thead>\n",
       "  <tbody>\n",
       "    <tr>\n",
       "      <th>0</th>\n",
       "      <td>senior game data analyst</td>\n",
       "      <td>Tilting Point</td>\n",
       "      <td>Barcelona, Catalonia, Spain</td>\n",
       "      <td>Hybrid</td>\n",
       "      <td>\\nAt Tilting Point, we combine data, technology, talent and groundbreaking marketing to scale games to success. As the Senior Game Data Analyst, you will work closely with game teams to help inform decision-making regarding features of the game, balancing, player interactions, finding hidden opportunities and much more.\\nYour Future at Tilting PointAnalyze large, complex datasets to address ad-hoc and long-term operational and strategic business questionsDraw meaningful conclusions and provide actionable insights from data to shape and influence in-game features, economies, and future product roadmapsOwn the taxonomy for game data, ensuring all key performance metrics are measurable and can be analyzed efficiently.Present analytical findings as both written communication and visual representations that are clear, concise, and understandable, to both technical and non-technical audiences.Build relationships with stakeholders and processes around data deliverables to ensure data driven decisions can be made at all levels across Tilting PointCollaborate with all teams at Tilting Point, driving and supporting data and analytics related projects with game team, User Acquisition, Marketing, Engineering, and more\\nYour XP &amp; SkillsEffectively communicate in English across verbal and written form.University degree (BA or BS) in Analytics, Economics, Mathematics, Statistics, Business Management, Information Systems, Computer Science or a related field3+ years of work experience as a data analyst or scientist, supporting consumer-facing products, mobile app/game preferredProficient with SQL2+ years with Python/R a plusAdept in at least one visualization tool such as TableauFamiliarity with PySpark and/or Amplitude a plusPassionate about mobile/social gaming with a good understanding of the market.\\n</td>\n",
       "      <td>data analyst</td>\n",
       "    </tr>\n",
       "    <tr>\n",
       "      <th>1</th>\n",
       "      <td>data analyst (operations team)</td>\n",
       "      <td>Holaluz</td>\n",
       "      <td>Barcelona, Catalonia, Spain</td>\n",
       "      <td>On-site</td>\n",
       "      <td>\\nDescription\\n\\n¿Quiénes somos?\\n\\nSomos Holaluz, la empresa que lleva una década revolucionando el sector energético. Nacimos para cambiar el mundo conectando a las personas con la energía verde 💡💚, y tú y el planeta sois nuestra motivación para ser como somos y hacer lo que hacemos.\\n\\nNuestra voluntad de hacer las cosas de un modo distinto, nos ha llevado a liderar la transformación del sector eléctrico y a ser la primera eléctrica en obtener el certificado BCorp.\\n\\n¿Te sumas? Únete a la revolución.\\n\\n¿Qué harás?\\n\\nFormarás parte del Chapter de Data Analytics, con foco en el área de Operaciones.\\n\\n¿Qué esperamos de ti?\\n\\nIdentificar las grandes necesidades de Data Analytics dentro del área de Operaciones y transformarlas en proyectos que impacten positivamente sus OKRs. Transformar los datos relativos a Operaciones y Customer Care en Insights accionables que mejoren la satisfacción de nuestras clientas y que hagan más eficiente el trabajo del equipo del área de Operaciones. También tendrás que comunicar toda la información crítica e insights a otros departamentos relevantes y a la empresa en general ya que Holaluz trabaja por y para el cliente.Mentorizar y dar soporte al resto de integrantes del equipo de Data Analytics que trabajan en el equipo de Customer Care y en Operaciones. El objetivo es ayudarles en su crecimiento profesionalRealizar la interlocución con todos los integrantes del área de Operaciones para asegurar que se cumplen los OKRs definidos y que también se atienden las necesidades surgidas del día a día. Deberás contribuir en la mejora contínua del área y para ello tendrás que empaparte de los procesos, la operativa y los retos para poder proponer mejorasParticipar activamente en la mejora continua del Chapter de Data Analytics: identificación de best practices, priorización de proyectos, puesta en marcha de modelos de Machine Learning, etc.Desarrollar una planificación clara y estructurada de los datos con el objetivo de identificar las oportunidades de mejora y conocer qué necesita el cliente externo e interno.Trabajar en la configuración de la infraestructura de datos de Operaciones que impacta en la gestión del cliente, incluidas las plataformas de análisis, almacenamiento y reporte de datos. Esta tarea la realizarás con el apoyo del Chapter de Data Analytics\\n\\nY como #SayThingsAsTheyAre es uno de nuestros valores, queremos ser claros y transparentes en explicarte qué harás durante tus primeros 6 meses en Holaluz.\\n\\nEn 1 mes...\\n\\nDespués del primer mes ya sabrás cómo está todo montado, te habrás empapado de la cultura y la visión, te habrás reunido con todos los equipos y sabrás qué es lo que hacen y qué necesitan.Empezarás a analizar las decisiones que han hecho los diferentes equipos y áreas para empezar a enfrentarte a tus primeros retos.También habrás ido a comer algún día con las personas del equipo, habrás asistido a algunas de las sesiones que hacemos con el objetivo de que fluya el conocimiento.\\n\\nEn 3 meses...\\n\\nSeguro que ya habrás tomado muchas decisiones sobre cómo aportar en Operaciones y en el Chapter de Data Analytics. Estarás trabajando codo a codo con tus colegas, en otras palabras, habrás visto la LUZ.Habrás disfrutado de algún team building con el equipo y habrás tenido la oportunidad de hacer más de una presentación.\\n\\nEn 6 meses...\\n\\nTendrás (casi) todo bajo control y habrás contribuido en la madurez y crecimiento de tu equipo. Habrás aportado valor más allá de tu equipo compartiendo conocimiento, y haciendo valer toda tu experiencia para mejorar el área de Operaciones y el Chapter de Data Analytics.Además, habrás tenido varias reuniones con tu responsable para saber cómo te sientes en tus primeros meses con Holaluz.\\n\\n¿Cómo lo harás?\\n\\nOtro de nuestros valores es #KeepRowing o seguir remando, lo que significa que el trabajo en equipo y la alineación del mismo es fundamental para poder avanzar y hacer frente a nuestros objetivos compartidos.\\n\\nEn Holaluz hemos construido un sistema organizativo robusto y en constante iteración, que nos permite adaptarnos a los constantes cambios que demanda la industria y lograr el propósito que perseguimos. En Holaluz las reuniones y decisiones se toman de forma colaborativa, fluye el feedback 🤟 entre los diferentes equipos y se fomenta el apoyo entre personas.\\n\\n¿Con quién lo harás?\\n\\n#AlwaysPeopleFirst es también un valor muy importante en Holaluz, y para nosotros es clave tener un buen equipo de trabajo, por eso te explicamos que somos un equipo de unas 800 personas con un ambiente inmejorable, y con las que tendrás la oportunidad de trabajar en tu día a día 😁.\\n\\nAdemás, trabajarás de la mano con Adrià y Víctor de tu equipo de Data y junto con tus stakeholders. ¿Sabías que nuestro Chapter de Analytics está compuesto por casi el 50% de talento femenino? ¡Te presentamos a dos compañeras!\\n\\n👩🏾‍🎤 Marta \\n\\nMatemática, valenciana y gran aficionada al baloncesto. Es muy fan de hacer listas para todo y darle un toque de humor a cada reunión. Marta combina sus múltiples hobbies con su pasión por una visualización bien estructurada. Y a pesar de tener muchas reuniones, si le ofreces tomar un café mientras comentáis algún tema, aceptará sin dudarlo.\\n\\n🦹🏻‍♀️ Èlia\\n\\nEs la más joven del equipo pero desborda sabiduría. Èlia es una optimista incorregible con un don para encontrar el lado bueno de las cosas. En 5min te contagiará su buen rollo. A la catalana del equipo le encanta la escalada y siempre busca nuevos retos con unas ganas inagotables por aprender de otras áreas. El saber no ocupa lugar.\\n\\n¿Dónde lo harás?Qué mejor lugar para hacerlo que en nuestras oficinas de Barcelona a sólo 200 metros del mar 🌊. Esta excepcional ubicación al lado de la playa es perfecta para hacer un break con chapuzón y poder poner en práctica otro de nuestros valores #HaveFun.\\n\\nRequirements\\n\\n¿Qué necesitamos?\\n\\nHemos pensado muy muy bien lo que buscamos y lo que de verdad importa:\\n\\nLicenciatura en Ciencias Empresariales/Económicas, Matemáticas o Ingeniería.Más de 5 años de experiencia en el campo de Data Analytics, y solvencia en el uso de SQL y de PythonHabilidades analíticas de alto nivel y capacidad de traducir información en insights accionables y en informes concisos.Storytelling y capacidad de comunicar las conclusiones de tus análisis.Capacidad para trabajar eficazmente en equipo.Gran atención a los detalles.No hace falta que seas Shakespeare, pero sí que puedas comunicarte en Inglés.\\n\\nTodo suma, así que si tienes alguna de estas cosas SUMA Y SIGUE:\\n\\nFormación y experiencia en análisis de datos y en el uso de modelos de analítica avanzada y Machine Learning.Elaboración de dashboards.Conocimientos de PowerBI.\\n\\nRequisitos deseables:\\n\\nOrientación al Cliente.Capacidad para mantener relaciones interpersonales.Alta capacidad de implicación, dedicación y motivación.Elevada orientación a la consecución de objetivos y al cumplimiento de resultados.Excelente capacidad de análisis.\\n\\nBenefits\\n\\n¿Qué ofrecemos?\\n\\nOtro de los valores que nos caracteriza en Holaluz es #EsPosible. Por ello, ofrecemos una serie de medidas para que puedas desarrollarte 360º y conseguir todo aquello que te propongas, tanto a nivel personal como profesional:\\n\\nLa mayor fuente de nuestra energía: ¡nuestra gente!\\n\\nÚnete a una empresa donde las personas son lo primero, con un ambiente de trabajo inmejorable y un gran talento donde realmente vivimos nuestros valores. Para ello ofrecemos una serie de ventajas y beneficios que te permitirán estar apoyado tanto a nivel personal como profesional.\\n\\nSOSTENIBILIDAD\\n\\nÚnete a la primera empresa de servicios eléctricos con certificación B Corp de Europa, y actualmente #1 en el ranking mundial ESG para compañías eléctricas.Tarifa competitiva de movilidad sostenible con eCooltra. Se trata de bicicletas y patinetes eléctricos, para que puedas llegar a la oficina de forma rápida y económica, utilizando un transporte individual y ecológico. \\n\\nSALUD Y BIENESTAR\\n\\nSeguro médico privado con Adeslas.Suscripción de gimnasio a Andjoy (Gympass).Fruta ecológica todos los días.Té y café en la oficina. \\n\\nEQUILIBRIO TRABAJO-VIDA\\n\\nRégimen de Retribución Flexible en guardería, transporte y comida con Cobee.Tarifa Wifi competitiva con Unique.Creemos en la autonomía y la responsabilidad personal por lo que ofrecemos horarios de trabajo flexibles y la opción de trabajar de forma remota 6 días al mes (19 por trimestre).Referencias: obtén recompensas si contratamos a personas talentosas que tú nos recomiendes para que se unan a Holaluz.Parking - mejores tarifas en W Hotel.Como empresa certificada Baby Friendly: Guardería interna para ayudar a integrar vida y trabajo a las nuevas familias.\"Casals\" (campamentos durante los largos meses de verano pero también en otras vacaciones). \\n\\nAUTODESARROLLO\\n\\nEventos de creación de equipos.Acceso a contenidos de formación.Biblioteca propia, con contenidos muy diversos.Clases de idiomas gratuitas en clases de inglés, castellano y catalán. \\n\\n”Celebramos la diversidad en el mundo y queremos que nuestro equipo refleje esto de manera inclusiva. En Holaluz, estamos comprometidos con la igualdad de oportunidades de empleo independientemente de la etnia, religión, sexo, origen nacional, orientación sexual, edad, estado civil, discapacidad, género, identidad o expresión de género. Además, nos esforzamos por empoderar a las mujeres en el lugar de trabajo.”\\n</td>\n",
       "      <td>data analyst</td>\n",
       "    </tr>\n",
       "    <tr>\n",
       "      <th>2</th>\n",
       "      <td>data engineer</td>\n",
       "      <td>IOMED</td>\n",
       "      <td>Barcelona, Catalonia, Spain</td>\n",
       "      <td>Hybrid</td>\n",
       "      <td>\\nAbout the job\\nIOMED Data Engineering Team is responsible for building and maintaining optimized and highly available data pipelines that facilitate information extraction and transformation for our main products and internal applications. The core of your role will be designing, architecting, implementing, and testing data extraction and transformation tools in a microservices environment:\\nData processing pipelinesData model transformationsComponents of a multi-modal distributed database.\\nYou will collaborate with the rest of the Data Engineering team in analyzing and understanding data sources, participating in the design, and providing insights and guidance on database technology and data modeling best practices.\\nThis role should work closely with the Business Development and Data Science teams, gathering technical requirements for data governance and data quality across the company.\\nAbout you\\nYou will be working in a very dynamic environment, which means that you must have a strong problem-solving ability, organization skills, and be proactive.\\nIn terms of personality, we are looking for someone who enjoys working in a wide range of areas and adapts quickly to new situations.\\nTasks\\nYou will have to feel comfortable giving support to the rest of the team and you can definitely expect to:\\nQuery, model and deploy with PostgreSQL, Redis, RabbitMQ.ETL with SQL and PythonDesign, implement &amp; test microservices.Integrate our products with external APIs.Development and testing of our core products and frameworks.Be comfortable with container development with Docker.Testing, logging, measuring and alerting of the deployed services.Monitor the existing metrics, analyze data, and collaborate with other teams in an effort to identify and implement a system and process improvements.Ensure that the collected data is of high quality and optimal for use across the team and the business at largeOversee activities of the junior data engineering teams, ensuring proper execution of their duties and alignment with business vision and objectives\\nWhat we are looking for\\nAt least 8 years of working experience working in a data engineering department, preferably as a Data Engineer in a fast-paced environment and complex businessSetting and a demonstrated experience in building and maintaining reliable and scalable ETL.Experience in data warehousing inclusive of dimensional modeling concepts and demonstrate proficiency in programming (SQL and Python will be your main tools of the trade).Proven skills of putting microservices to use, and you’re comfortable with working with containers in a cluster architecture.Work well in a team, can teach &amp; learn from others, and communicate what you’re working on with non-technical team members.\\n\\nWhat we offer\\nCompetitive Salary.Permanent contract.Company profit-sharing scheme valued at up to €15,000 per year.Flexible remuneration with restaurant tickets, transport tickets, nursery, training, and medical insurance.Flexible schedule, with the possibility of home office.28 days of vacations per year.A warm, transparent and supportive team, with a huge emphasis on work-life balance.The opportunity to make your mark in e-health and AI.\\nAbout IOMED \\nIOMED is a leading technology start-up company in the field of massive medical data extraction and processing. It is made up of a united, young, dynamic, and flexible team, which, after several years of working together, is characterized by its agility, enjoyment of work, and rapport. Accordingly, we are looking for candidates with the desire to innovate, launch a relevant project, and grow with it, always enjoying teamwork and challenges, which are many, every day.\\nAs an employer, we offer equal opportunity. We want to grow our team with talented, dynamic people who want to make their mark in the field of AI and research, regardless of race, color, religion, national origin, gender, physical disability, or age.\\nWhat we do \\nNowadays, there is still great difficulty in accessing Real-World Data (Real-World Data), which are those contained in Electronic Health Records (EHR), since up to 85% of the existing clinical data is not structured. This represents a loss of opportunity for the sector to improve its healthcare processes and clinical research.\\nIOMED has developed a Natural Language Processing solution that extracts and transforms clinical data into an international and federated model, OMOP CDM, resulting in a structured, standardized, and interoperable database that contains complete clinical information from hospitals.\\nIn this way, professionals and the industry can make use of this data and obtain evidence based on all the data, Real World Evidence, that has essential value when it comes to making decisions, among others. All this, in addition, to assuring the protection and governance of the data at all times.\\n</td>\n",
       "      <td>data engineer</td>\n",
       "    </tr>\n",
       "    <tr>\n",
       "      <th>3</th>\n",
       "      <td>analista de datos junior</td>\n",
       "      <td>CGI</td>\n",
       "      <td>Spain</td>\n",
       "      <td>Remote</td>\n",
       "      <td>\\nSomos una multinacional canadiense especializada en consultoría tecnológica, con presencia en 21 sectores en más de 400 ubicaciones en todo el mundo, proveemos servicios de consultoría de negocio y de TI integrales, escalables y sostenibles que están analizados globalmente y entregados localmente.\\nEstamos buscando un/a analista de datos (junior)  para impulsar nuestro equipo y realizar un trabajo de calidad del dato y realización de modelos de control para un cliente estratégico dentro de un gran proyecto.\\nFunciones:Realización de modelos de controlRealización de informes periódicosprocesos tácticosSoporte a aplicativo corporativo del clientecertificación de nuevos desarrollos\\nRequisitos deseados:SQLExcelVBA\\nGrupo CGI ofrece:\\n-Contratación indefinida-Horario flexible.-Proyectos estable de larga duración.-Pertenecer a un equipo de trabajo altamente cualificado en una empresa joven en proceso de expansión.-Trabajar en un ambiente de trabajo amigable, donde la estrecha relación con los managers y con RRHH facilita el espíritu emprendedor, el intercambio de ideas, la iniciativa y el desarrollo de las personas.-Formación en distintas tecnologías.-Desarrollo profesional.\\nSi tienes capacidad de trabajo y ganas de seguir aprendiendo en una empresa dinámica y en constante crecimiento... ¡Esta es tu oportunidad!\\n</td>\n",
       "      <td>data analyst</td>\n",
       "    </tr>\n",
       "    <tr>\n",
       "      <th>4</th>\n",
       "      <td>data analyst</td>\n",
       "      <td>Olala Homes</td>\n",
       "      <td>Barcelona, Catalonia, Spain</td>\n",
       "      <td>Hybrid</td>\n",
       "      <td>\\nOlala Homes is a unique tech-enabled hospitality management company focusing on the short-term vacation rental segment through the ownership and management of over 400 units across multiple countries and cities. Olala Homes’ lean business model coupled with its real estate development expertise and topped with its strong team form a solid base for its ambitious future expansion plan across Spain, Europe, and beyond. The company’s HQ is located in Barcelona with satellite offices in Greece, Romania, Portugal, and Israel. Olala Homes is part of the Rina Group, a group of companies investing in Tourism &amp; Hospitality, Industrial Minerals, Real Estate, and Agriculture across 3 continents.\\nJob Brief We are seeking a skilled and motivated Data Analyst to join our team in the hospitality industry. As a Data Analyst, you will be responsible for collecting, analyzing, and interpreting data to help drive informed decision-making and improve operational efficiency within our organization. Your expertise in data analysis and strong business acumen will play a crucial role in optimizing our operations, enhancing customer experiences, and identifying growth opportunities. This is an exciting opportunity for a talented individual to contribute to the success of our organization through data-driven insights.\\nMain responsibilities:Data Collection and Analysis: Gather data from various sources, including internal databases, customer feedback, and external data sets. Analyze and interpret this data to identify trends, patterns, and insights relevant to the hospitality industry.Performance Tracking: Develop and maintain performance metrics and dashboards to monitor key performance indicators (KPIs) across different aspects of our hospitality operations. Regularly evaluate and report on performance trends, providing actionable recommendations for improvement.Operational Efficiency: Identify areas of operational inefficiencies and collaborate with cross-functional teams to develop strategies and solutions. Utilize data analysis techniques to optimize processes, reduce costs, and enhance productivity within the organization.Customer Insights: Analyze customer feedback, preferences, and behavior to generate actionable insights that can be used to enhance customer experiences. Provide recommendations on how to improve customer satisfaction and loyalty based on data analysis.Data Visualization and Reporting: Create visually appealing and informative reports, charts, and presentations to effectively communicate complex data insights to both technical and non-technical stakeholders. Use data visualization tools and techniques to present findings in a clear and concise manner.Continuous Learning and Improvement: Stay updated with the latest data analysis techniques, tools, and industry trends. Proactively identify opportunities for process improvement and propose innovative solutions to enhance the effectiveness and efficiency of data analysis.\\nRequirements:Minimum 2 years of experience as a Data Analyst or Business Data AnalystBS in Mathematics, Economics, Computer Science, Information Management or StatisticsTechnical expertise regarding data models, database design development, data mining and segmentation techniques. Preferably within the hospitality industry.Excellent written and verbal communication skillsStrong analytical skills with the ability to collect, organize, analyze, and disseminate significant amounts of information with attention to detail and accuracyAdvanced knowledge in Excel, SQL and PhytonFamiliarity with database management systems and data warehousing concepts.Experience in building reports for data visualization (ideally Power BI)Zendesk Knowledge is a big plusProfessional level of English \\nIf you are passionate about data analysis and its application to the hospitality industry, and if you thrive in a dynamic and results-oriented environment, we would love to hear from you. Join our team and contribute to shaping the future of our organization through data-driven decision-making.\\nWhat we offer:Competitive salary with other benefits such as employee discounts staying in Olala Homes’ properties, weekly fruit basket in the office, happy hour, etc.Opportunity to be mentored by experienced professionals and gain first-hand know-how in a swift pacePositive corporate culture to be proud to be a part of a fast growing company\\n</td>\n",
       "      <td>data analyst</td>\n",
       "    </tr>\n",
       "    <tr>\n",
       "      <th>...</th>\n",
       "      <td>...</td>\n",
       "      <td>...</td>\n",
       "      <td>...</td>\n",
       "      <td>...</td>\n",
       "      <td>...</td>\n",
       "      <td>...</td>\n",
       "    </tr>\n",
       "    <tr>\n",
       "      <th>195</th>\n",
       "      <td>senior data engineer – apache spark (java/scala) (bangkok based, relocation provided)</td>\n",
       "      <td>Agoda</td>\n",
       "      <td>Barcelona, Catalonia, Spain</td>\n",
       "      <td>Unknown</td>\n",
       "      <td>\\nAbout Agoda\\nAgoda is an online travel booking platform for accommodations, flights, and more. We build and deploy cutting-edge technology that connects travelers with more than 2.5 million accommodations globally. Based in Asia and part of Booking Holdings, our 6,000+ employees representing 90+ nationalities foster a work environment rich in diversity, creativity, and collaboration. We innovate through a culture of experimentation and ownership, enhancing the ability for our customers to experience the world.\\nAbout Agoda\\nAgoda is an online travel booking platform for accommodation, flights, and more. We build and deploy cutting edge technology that connects travelers with more than 2.5 million accommodations globally. Based in Asia and part of Booking Holdings, our 4,000+ talents coming from 90+ different nationalities foster a work environment rich in diversity, creativity, and collaboration. We innovate through a culture of experimentation and ownership, enabling our customers to experience the world\\nGet to Know Our Team\\nThe Data department oversees all of Agoda’s data-related requirements. Our ultimate goal is to enable and increase the use of data in the company through creative approaches and the implementation of powerful resources such as operational and analytical databases, queue systems, BI tools, and data science technology. We hire the brightest minds from around the world to take on this challenge and equip them with the knowledge and tools that contribute to their personal growth and success while supporting our company’s culture of diversity and experimentation. The role the Data team plays at Agoda is critical as business users, product managers, engineers, and many others rely on us to empower their decision making. We are equally dedicated to our customers by improving their search experience with faster results and protecting them from any fraudulent activities. Data is interesting only when you have enough of it, and we have plenty. This is what drives up the challenge as part of the Data department, but also the reward.\\nWhy Agoda Data Applications Team?\\nOur Data Engineering teams are at the intersection of business analytics, data warehousing and software engineering. Our job involves dealing with distributed systems, stream processing, computation and data governance at tens of PB Scale.\\nWe focus on software engineering related to data replication, storage, centralized computation, and Data API’s. By providing our users with data products/tools, shared frameworks and data services, we enable our company to validate strategic decisions, make smarter choices, and react to the fast-changing world.\\nWe are a small but passionate team with people from different nationalities working together on a single goal J\\nIn this Role, you will get to\\nLead the team technically in improving scalability, stability, accuracy, speed and efficiency of our existing Data systemsBuild, administer and scale data processing pipelinesBe comfortable navigating the following technology stack: Scala, Spark, java, Golang, Python3, scripting (Bash/Python), Hadoop, SQL, S3 etcImprove scalability, stability, accuracy, speed and efficiency of our existing data systemsDesign, build, test and deploy new libraries, frameworks or full systems for our core systems while keeping to the highest standards of testing and code qualityWork with experienced engineers and product owners to identify and build tools to automate many large-scale data management / analysis tasks \\nWhat You’ll Need To Succeed\\nBachelor’s degree in Computer Science /Information Systems/Engineering/related fieldAt least 5 years of experience in Data engineering, familiar with large datasetExpert level in Apache SparkExpert level understanding of JVM and either Java or Scala, strong coding skillExperience debugging and reasoning about production issues is desirableA good understanding of data architecture principles preferredAny other experience with Big Data technologies / toolsSQL experienceAnalytical problem-solving capabilities &amp; experienceSystems administration skills in Linux\\nIt’s great if you have\\nGood understanding of Hadoop ecosystemsExperience working with Open-source productsPython/Shell scripting skillsWorking in an agile environment using test driven methodologies\\n#sanfrancisco #sanjose #losangeles #sandiego #oakland #denver #miami #orlando #atlanta #chicago #boston #detroit #newyork #portland #philadelphia #dallas #houston #austin #seattle #sydney #melbourne #perth #toronto #vancouver #montreal #shanghai #beijing #shenzhen #prague #Brno #Ostrava #cairo #alexandria #giza #estonia #paris #berlin #munich #hamburg #stuttgart #cologne #frankfurt #dusseldorf #dortmund #essen #Bremen #leipzig #dresden #hanover #nuremberg #athens #hongkong #budapest #jakarta #bali #dublin #telaviv #jerusalem #milan #rome #venice #florence #naples #turin #palermo #bologna #tokyo #osaka #yokohama #nagoya #okinawa #fukuoka #sapporo #kualalumpur #malta #amsterdam #oslo #manila #warsaw #krakow #bucharest #doha #alrayyan #moscow #saintpetersburg #riyadh #jeddah #mecca #medina #singapore #capetown #johannesburg #seoul #barcelona #madrid #stockholm #zurich #taipei #tainan #taichung #kaohsiung #bangkok #Phuket #istanbul #dubai #abudhabi #sharjah #london #manchester #liverpool #edinburgh #kiev #hcmc #hanoi #amsterdam #bucharest #lodz #wroclaw #poznan #katowice #rio #salvador #bandung #yokohama #nagoya #okinawa #fukuoka #newdelhi #Pune #Hyderabad #Bangalore #Mumbai #Bengaluru #Chennai #Kolkata #Lucknow #IT #ENG #4\\nEqual Opportunity Employer \\nAt Agoda, we pride ourselves on being a company represented by people of all different backgrounds and orientations. We prioritize attracting diverse talent and cultivating an inclusive environment that encourages collaboration and innovation. Employment at Agoda is based solely on a person’s merit and qualifications. We are committed to providing equal employment opportunity regardless of sex, age, race, color, national origin, religion, marital status, pregnancy, sexual orientation, gender identity, disability, citizenship, veteran or military status, and other legally protected characteristics.\\nWe will keep your application on file so that we can consider you for future vacancies and you can always ask to have your details removed from the file. For more details please read our privacy policy .\\nTo all recruitment agencies: Agoda does not accept third party resumes. Please do not send resumes to our jobs alias, Agoda employees or any other organization location. Agoda is not responsible for any fees related to unsolicited resumes.\\n\\n</td>\n",
       "      <td>data engineer</td>\n",
       "    </tr>\n",
       "    <tr>\n",
       "      <th>196</th>\n",
       "      <td>senior informatician, proteogenomics, oncology data science platforms</td>\n",
       "      <td>AstraZeneca</td>\n",
       "      <td>Barcelona, Catalonia, Spain</td>\n",
       "      <td>Unknown</td>\n",
       "      <td>\\n                Do you have expertise in bioinformatics pipelines and data engineering workflows? Would you like to apply your skills to impact proteogenomic research, in a company that follows the science and turns ideas into life changing medicines? Then AstraZeneca might be the one for you!\\nAbout AstraZeneca\\nAt AstraZeneca, we put patients first and strive to meet their unmet needs worldwide. Working here\\nmeans being entrepreneurial, thinking big and working together to make the impossible a reality. If\\nyou are swift to action, confident to lead, willing to collaborate, and curious about what science can\\ndo, then you’re our kind of person.\\nOncology Data Science Platforms \\nThe Oncology Data Science – Data, Analytics, and AI Platforms (ODSP) team comprises multiple groups across the Cambridge UK, Boston MA, Gaithersburg MD, and Munich DE sites. ODSP develops technology, software, and data infrastructure to advance our Oncology data science. Our vision is to evolve data science into a driver of innovation within Oncology. We do this by creating a strategic culture that values our data as a true business asset, organizing our data so that it’s accessible and easy to find, integrated, and re-usable for Humans &amp; AI, and building the best computational tools to support scientific decision making.\\nWhat You’ll Do\\nThe ODSP team is growing to meet the strategic challenges pursued by AZ Oncology. We are looking for a talented and highly motivated Senior Informatician with strong background in proteogenomics to join our team, designing and applying innovative computational analysis methods with a strong focus on AZ’s exciting and rapidly growing proteogenomics research portfolio.\\nMajor Duties And Responsibilities\\nDesign and apply innovative computational/statistical algorithms and visualizations to generate actionable biological insight from proteogenomic datasets.Manage, analyse, and deliver high throughput proteogenomic dataDevelop, test, and support data analysis tools and pipelines from Targeted and Global Proteomics experimental approachesEnsure accurate automation of data analysisBuild scalable (Cloud and HPC) solutions that work on tens of thousands of CPUsValidate the quality of the datasets using various tools to assess the correctness of the results and solve any data quality issues by collaborating with Lab and other personnel.Assist with developing requirements for internal software developmentBuild and maintain high level of experience with team's software and IT technologies.Work collaboratively with scientists and outside collaborators to cultivate, process, and analyse proteogenomic dataDevelop and maintain an in depth understanding of the scientific and technological domains supported by the teamBuild and steer further development of small prototype tools for bench scientists to access and visualize proteogenomic data.Finally, you will collaborate with industry and academia, and exploit external resources, to find the most effective solutions to oncology data science problems\\nEducation, Qualifications, Skills, And Experience\\nEssential Requirements:Relevant graduate degree:Bioinformatics / Computational biologyComputer Science / EngineeringMinimum of 2 years of applied experience in proteomics / bioinformatics data analysisProven programming skills, Python preferredExperience in software development standard methodologiesExperience in UnixCloud computing (preferably AWS), and High-Performance Computing (HPC)\\n\\nDesirable:\\n\\nExperience working with single-cell proteomics and/or spatial omics dataStrong communication skills on a technical and professional level as well as with service orientedWell networked within external bioinformatics and NGS communities.An understanding of the contribution of bioinformatics to drug discovery.\\n\\nWhy AstraZeneca\\n\\nAt AstraZeneca we’re dedicated to being a Great Place to Work. Where you are empowered to push the boundaries of science and unleash your entrepreneurial spirit. There’s no better place to make a difference to medicine, patients, and society. An inclusive culture that champions diversity and collaboration, and always committed to lifelong learning, growth, and development. We’re on an exciting journey to pioneer the future of healthcare.\\n\\nSo, what’s next?\\n\\nAre you already envisioning yourself joining our team? Good, because we can’t wait to hear from you!\\n\\nCompetitive Salary And Benefits Package On Offer\\n\\nCompetitive salary and benefits package on offer. The successful candidate will have access to pension contributions, A performance recognition scheme and a competitive, generous remuneration package.\\n</td>\n",
       "      <td>data scientist</td>\n",
       "    </tr>\n",
       "    <tr>\n",
       "      <th>197</th>\n",
       "      <td>senior informatician, protegenomics, oncology data science platforms</td>\n",
       "      <td>AstraZeneca</td>\n",
       "      <td>Barcelona, Catalonia, Spain</td>\n",
       "      <td>Unknown</td>\n",
       "      <td>\\n                Do you have expertise in bioinformatics pipelines and data engineering workflows? Would you like to apply your skills to impact proteogenomic research, in a company that follows the science and turns ideas into life changing medicines? Then AstraZeneca might be the one for you!\\nAbout AstraZeneca\\nAt AstraZeneca, we put patients first and strive to meet their unmet needs worldwide. Working here\\nmeans being entrepreneurial, thinking big and working together to make the impossible a reality. If\\nyou are swift to action, confident to lead, willing to collaborate, and curious about what science can\\ndo, then you’re our kind of person.\\nOncology Data Science Platforms \\nThe Oncology Data Science – Data, Analytics, and AI Platforms (ODSP) team comprises multiple groups across the Cambridge UK, Boston MA, Gaithersburg MD, and Munich DE sites. ODSP develops technology, software, and data infrastructure to advance our Oncology data science. Our vision is to evolve data science into a driver of innovation within Oncology. We do this by creating a strategic culture that values our data as a true business asset, organizing our data so that it’s accessible and easy to find, integrated, and re-usable for Humans &amp; AI, and building the best computational tools to support scientific decision making.\\nWhat You’ll Do\\nThe ODSP team is growing to meet the strategic challenges pursued by AZ Oncology. We are looking for a talented and highly motivated Senior Informatician with strong background in proteogenomics to join our team, designing and applying innovative computational analysis methods with a strong focus on AZ’s exciting and rapidly growing proteogenomics research portfolio.\\nMajor Duties And Responsibilities\\nDesign and apply innovative computational/statistical algorithms and visualizations to generate actionable biological insight from proteogenomic datasets.Manage, analyse, and deliver high throughput proteogenomic dataDevelop, test, and support data analysis tools and pipelines from Targeted and Global Proteomics experimental approachesEnsure accurate automation of data analysisBuild scalable (Cloud and HPC) solutions that work on tens of thousands of CPUsValidate the quality of the datasets using various tools to assess the correctness of the results and solve any data quality issues by collaborating with Lab and other personnel.Assist with developing requirements for internal software developmentBuild and maintain high level of experience with team's software and IT technologies.Work collaboratively with scientists and outside collaborators to cultivate, process, and analyse proteogenomic dataDevelop and maintain an in depth understanding of the scientific and technological domains supported by the teamBuild and steer further development of small prototype tools for bench scientists to access and visualize proteogenomic data.Finally, you will collaborate with industry and academia, and exploit external resources, to find the most effective solutions to oncology data science problems\\nEducation, Qualifications, Skills, And Experience\\nEssential Requirements:Relevant graduate degree:Bioinformatics / Computational biologyComputer Science / EngineeringMinimum of 2 years of applied experience in proteomics / bioinformatics data analysisProven programming skills, Python preferredExperience in software development standard methodologiesExperience in UnixCloud computing (preferably AWS), and High-Performance Computing (HPC)\\n\\nDesirable:\\n\\nExperience working with single-cell proteomics and/or spatial omics dataStrong communication skills on a technical and professional level as well as with service orientedWell networked within external bioinformatics and NGS communities.An understanding of the contribution of bioinformatics to drug discovery.\\n\\nWhy AstraZeneca\\n\\nAt AstraZeneca we’re dedicated to being a Great Place to Work. Where you are empowered to push the boundaries of science and unleash your entrepreneurial spirit. There’s no better place to make a difference to medicine, patients, and society. An inclusive culture that champions diversity and collaboration, and always committed to lifelong learning, growth, and development. We’re on an exciting journey to pioneer the future of healthcare.\\n\\nSo, what’s next?\\n\\nAre you already envisioning yourself joining our team? Good, because we can’t wait to hear from you!\\n\\nCompetitive Salary And Benefits Package On Offer\\n\\nCompetitive salary and benefits package on offer. The successful candidate will have access to pension contributions, A performance recognition scheme and a competitive, generous remuneration package.\\n</td>\n",
       "      <td>data scientist</td>\n",
       "    </tr>\n",
       "    <tr>\n",
       "      <th>198</th>\n",
       "      <td>associate director, computational oncology, oncology data science, oncology r&amp;d</td>\n",
       "      <td>AstraZeneca</td>\n",
       "      <td>Barcelona, Catalonia, Spain</td>\n",
       "      <td>Unknown</td>\n",
       "      <td>\\n                The Computational Oncology group drives high-impact cancer research projects and delivers data-driven, actionable insights through the application of computational science to all areas of AstraZeneca’s Oncology portfolio. The group is embedded in the Oncology Data Science department and has extensive expertise undertaking both portfolio applied computational oncology research and the development of cutting edge cross-portfolio capabilities.\\nAstraZeneca is a company that always follows the science and turns ideas into life changing medicines. Oncology Data Science plays a unique role in driving both discovery and translation through leading computational/data driven approaches to all aspects of the drug discovery process.\\nWhat You’ll Do\\nThe Computational Oncology team is undergoing expansion to meet the strategic priorities at AZ Oncology R&amp;D with the development of the new department for Oncology Data Science. We are looking for an Associate Director of Computational Oncology to contribute to our efforts of leveraging and modelling spatial and single cell data to further our understanding of the biological mechanisms of response and resistance to treatment, across indications using a variety of multi-omics data across scale (in vivo, ex vivo, clinical). This is a rare opportunity to lead our strategic approaches in the cross-sections between computational oncology, single cell biology, discovery sciences and translational oncology in a highly matrixed collaborative environment. The ideal candidate will have proven academic and/or industry experience in the computational oncology field with an outstanding track record of leading independent programmes. The successful execution of this role will impact the wider AZ oncology community, and our patients through discovery of biomarkers to inform drug combination and patient selection strategies, discovery of novel oncology targets and deepen our knowledge of cancer biology and evolution. To do this you will:\\nDevelop the computational strategy and lead a matrixed team of highly qualified computational scientists and individually contribute to deliver integrated predictive models using spatial, single cell, preclinical, ex-vivo and clinical multi’omic and phenotypic data.Partner closely with leaders across Translational Medicine and Bioscience to establish a data science strategy that facilitates back-translation through discovery of novel targets and/or prediction of drug combinations based on tumour-intrinsic and -extrinsic molecular and cellular insights.Use your expertise in cancer biology/drug discovery to deliver actionable insights that impact the development of the next generation of cancer medicines.Form effective collaborations with industry and academic leaders in the field, to develop AZ’s IP and/or publish AZ’s work in high impact journals.\\nEssential Requirements For The Role\\nRelevant PhD in computational/systems biology, oncology bioinformatics or applied biostatisticsExperience in leading independent successful computational biology programmes in an academic and/or industry settingProven expertise in one of more of areas of single cell transcriptomics, spatial ‘omics analysis and/or digital pathology/multiplexed protein image analysisSignificant experience in genomic biomarker analyses in oncology clinical studiesDeep knowledge of cancer genomics/proteomics, algorithmic and statistical methods applicable to cancer genomics.Highly attuned communication skills and experience of working in a matrix environment and coordinating efforts and responsibilities around cross-functional project goals.Ability to coordinate and pursue simultaneous projects and deliver to tight deadlines.R and/or Python programming expertise in a Unix environment making use of high-performance computing environments.\\nDesirable requirements for the role:\\nOutstanding publication record.Experience of graph modelling, machine learning, artificial-intelligence, Bayesian analytics or other next generation approaches to model biological data.Well connected to a wide network of bioinformatics and oncology communities.\\n\\n Does this sound like you? Next Steps – Apply today!\\nTo be considered for this exciting opportunity, please complete the application on our website at your earliest convenience – it is the only way that our Recruiter and Hiring Manager can know that you feel well qualified for this opportunity.\\nIf you know someone who would be a great fit, please share this posting with them.\\nAstraZeneca embraces diversity and equality of opportunity. We are committed to building an inclusive and diverse team representing all backgrounds, with as wide a range of perspectives as possible, and harnessing industry-leading skills. We believe that the more inclusive we are, the better our work will be. We welcome and consider applications to join our team from all qualified candidates, regardless of their characteristics. We follow all applicable laws and regulations on non-discrimination in employment (and recruitment), as well as work authorisation and employment eligibility verification requirements.\\n</td>\n",
       "      <td>data scientist</td>\n",
       "    </tr>\n",
       "    <tr>\n",
       "      <th>199</th>\n",
       "      <td>senior scientist, computational oncology, oncology data science, oncology r&amp;d</td>\n",
       "      <td>AstraZeneca</td>\n",
       "      <td>Barcelona, Catalonia, Spain</td>\n",
       "      <td>Unknown</td>\n",
       "      <td>\\n                The Computational Oncology group drives high-impact cancer research projects and delivers data-driven, actionable insights through the application of computational science to all areas of AstraZeneca’s Oncology portfolio. The group is embedded in the Oncology Data Science department and has extensive expertise, undertaking both portfolio-applied computational oncology research and the development of cutting-edge capabilities.\\nAstraZeneca is a company that always follows the science and turns ideas into life changing medicines. Oncology Data Science plays a unique role in driving both discovery and translation through leading computational/data driven approaches to all aspects of the drug discovery process.\\nWhat You’ll Do\\nThe Computational Oncology team is undergoing expansion to meet the strategic priorities of our new department for Oncology Data Science. We are looking for a Senior Scientist role to join the Computational Oncology team to undertake analyses and develop model using cancer ‘omics data and contribute to furthering our understanding of the biological mechanisms of response and resistance to treatment; including immunotherapies. This is a rare opportunity to work on exciting cross-portfolio projects in the intersection between computational biology, discovery sciences and translational oncology in a highly matrixed collaborative environment. The ideal candidate will have proven academic and/or industry experience in the computational oncology field. This role will create impact to the wider AZ oncology community, and to our patients through the discovery of new biomarkers that inform drug combinations and patient selection strategies, discovery of novel oncology targets and deepen knowledge of cancer biology and evolution. To do this you will:\\nWork in a highly dynamic team of computational biologists and develop new approaches to address challenging biological questions relating to cancer evolution, tumour-intrinsic and extrinsic mechanisms of resistance to IO.Partner closely with scientists across Translational Medicine and Bioscience to facilitate back-translation through discovery of new targets and/or prediction of drug combinations based on tangible molecular and cellular insights.Analyse in-house preclinical, clinical, and RWE datasets to derive clinically actionable insights and nominate novel biomarkers to support clinical drug programs.Lead the development and application of standardised bioinformatic approaches to the analysis and interpretation of high throughput genomics data.Design and apply innovative computational/statistical algorithms.Proactively engage in knowledge sharing and peer support, including training bench scientists to build expertise in computational biology tools.Form effective collaborations with industry and academic leaders in the field, to develop AZ’s IP and/or publish AZ’s work in high impact journals.\\nEssential Requirements For The RoleRelevant PhD in the field of computational biology, bioinformatics, systems biology, or oncology data science and experience in either:bulk and single-cell RNA sequencing technologies.cancer genomics/proteomics.Proficiency analysing and interpreting data from multiple 'omic platforms (NGS sequencing, transcriptomic, epigenetic, proteomic etc.).Expertise in the analysis of genomic data (WES, targeted panels, WGS) covering QC, handling, processing &amp; interpretation.Expertise in pathway enrichment tools and interpretation of the data to derive actionable biomarkers.Expertise in cancer genetics, cancer signalling and/or tumour microenvironment.Knowledge of statistical methods applicable to cancer biology.Ability to manage simultaneous projects to tight deadlines.R and/or Python programming and visualisation expertise.Skilled in effective communication of complex data to a non-expert.\\nDesirable requirements:\\nPublication record in either cancer genomics/proteomics, bulk or single-cell transcriptomic applied to cancer.Expertise in the development of novel statistical approaches for the analysis of biological data.Awareness of machine learning, graph modelling, artificial-intelligence, Bayesian analytics or other non-traditional approaches to model biological dataAbility to work effectively across multidisciplinary science teams.Experience contributing to the research community through publications, conferences and coding expertise.\\n</td>\n",
       "      <td>data scientist</td>\n",
       "    </tr>\n",
       "  </tbody>\n",
       "</table>\n",
       "<p>200 rows × 6 columns</p>\n",
       "</div>"
      ],
      "text/plain": [
       "                                                                                     title  \\\n",
       "0                                                                 senior game data analyst   \n",
       "1                                                           data analyst (operations team)   \n",
       "2                                                                            data engineer   \n",
       "3                                                                 analista de datos junior   \n",
       "4                                                                             data analyst   \n",
       "..                                                                                     ...   \n",
       "195  senior data engineer – apache spark (java/scala) (bangkok based, relocation provided)   \n",
       "196                  senior informatician, proteogenomics, oncology data science platforms   \n",
       "197                   senior informatician, protegenomics, oncology data science platforms   \n",
       "198        associate director, computational oncology, oncology data science, oncology r&d   \n",
       "199          senior scientist, computational oncology, oncology data science, oncology r&d   \n",
       "\n",
       "           company                     location modality  \\\n",
       "0    Tilting Point  Barcelona, Catalonia, Spain   Hybrid   \n",
       "1          Holaluz  Barcelona, Catalonia, Spain  On-site   \n",
       "2            IOMED  Barcelona, Catalonia, Spain   Hybrid   \n",
       "3              CGI                        Spain   Remote   \n",
       "4      Olala Homes  Barcelona, Catalonia, Spain   Hybrid   \n",
       "..             ...                          ...      ...   \n",
       "195          Agoda  Barcelona, Catalonia, Spain  Unknown   \n",
       "196    AstraZeneca  Barcelona, Catalonia, Spain  Unknown   \n",
       "197    AstraZeneca  Barcelona, Catalonia, Spain  Unknown   \n",
       "198    AstraZeneca  Barcelona, Catalonia, Spain  Unknown   \n",
       "199    AstraZeneca  Barcelona, Catalonia, Spain  Unknown   \n",
       "\n",
       "                                                                                                                                                                                                                                                                                                                                                                                                                                                                                                                                                                                                                                                                                                                                                                                                                                                                                                                                                                                                                                                                                                                                                                                                                                                                                                                                                                                                                                                                                                                                                                                                                                                                                                                                                                                                                                                                                                                                                                                                                                                                                                                                                                                                                                                                                                                                                                                                                                                                                                                                                                                                                                                                                                                                                                                                                                                                                                                                                                                                                                                                                                                                                                                                                                                                                                                                                                                                                                                                                                                                                                                                                                                                                                                                                                                                                                                                                                                                                                                                                                                                                                                                                                                                                                                                                                                                                                                                                                                                                                                                                                                                                                                                                                                                                                                                                                                                                                                                                                                                                                                                                                                                                                                                                                                                                                                                                                                                                                                                                                                                                                                                                                                                                                                                                                                                                                                                                                                                                                                                                                                                                                                                                                                                                                                                                                                                                                                                                                                                                                                                                                                                                                                                                                                                                                                                                                                                                                                                                                                                                                                                                                                                                                                                                                                                                                                                                                                                                                                                                                                                                                                                                                                                                                                                                                                                                                                                                                                                                                                                                                                                                                                                                                                                                                                                                                                                                                                                                                                                                                                                                                                                                                                                                                                                                                                                                                                                                                                                                                                                                                                                                                                                                                                                                                                                                                                                                                                                                                                                                                                                                                                                                                                                                                                                                                                                                                             description  \\\n",
       "0                                                                                                                                                                                                                                                                                                                                                                                                                                                                                                                                                                                                                                                                                                                                                                                                                                                                                                                                                                                                                                                                                                                                                                                                                                                                                                                                                                                                                                                                                                                                                                                                                                                                                                                                                                                                                                                                                                                                                                                                                                                                                                                                                                                                                                                                                                                                                                                                                                                                                                                                                                                                                                                                                                                                                                                                                                                                                                                                                                                                                                                                                                                                                                                                                                                                                                                                                                                                                                                                                                                                                                                                                                                                                                                                                                                                                                                                                                                                                                                                                                                                                                                                                                                                                                                                                                                                                                                                                                                                                                                                                                                                                                                                                                                                                                                                                                                                                                                                                                                                                                                                                                                                                                                                                                                                                                                                                                                                                                                                                                                                                                                                                                                                                                                                                                                                                                                                                                                                                                                                                                                                                                                                                                                                                                                                                                                                                                                                                                                                                                                                                                                                                                                                                                                                                                                                                                                                                                                                                                                                                                                                                                                                                                                                                                                                                                                                                                                                                                                                                                                                                                                                                                                                                                                                                                                                                                                                                                                                                           \\nAt Tilting Point, we combine data, technology, talent and groundbreaking marketing to scale games to success. As the Senior Game Data Analyst, you will work closely with game teams to help inform decision-making regarding features of the game, balancing, player interactions, finding hidden opportunities and much more.\\nYour Future at Tilting PointAnalyze large, complex datasets to address ad-hoc and long-term operational and strategic business questionsDraw meaningful conclusions and provide actionable insights from data to shape and influence in-game features, economies, and future product roadmapsOwn the taxonomy for game data, ensuring all key performance metrics are measurable and can be analyzed efficiently.Present analytical findings as both written communication and visual representations that are clear, concise, and understandable, to both technical and non-technical audiences.Build relationships with stakeholders and processes around data deliverables to ensure data driven decisions can be made at all levels across Tilting PointCollaborate with all teams at Tilting Point, driving and supporting data and analytics related projects with game team, User Acquisition, Marketing, Engineering, and more\\nYour XP & SkillsEffectively communicate in English across verbal and written form.University degree (BA or BS) in Analytics, Economics, Mathematics, Statistics, Business Management, Information Systems, Computer Science or a related field3+ years of work experience as a data analyst or scientist, supporting consumer-facing products, mobile app/game preferredProficient with SQL2+ years with Python/R a plusAdept in at least one visualization tool such as TableauFamiliarity with PySpark and/or Amplitude a plusPassionate about mobile/social gaming with a good understanding of the market.\\n    \n",
       "1    \\nDescription\\n\\n¿Quiénes somos?\\n\\nSomos Holaluz, la empresa que lleva una década revolucionando el sector energético. Nacimos para cambiar el mundo conectando a las personas con la energía verde 💡💚, y tú y el planeta sois nuestra motivación para ser como somos y hacer lo que hacemos.\\n\\nNuestra voluntad de hacer las cosas de un modo distinto, nos ha llevado a liderar la transformación del sector eléctrico y a ser la primera eléctrica en obtener el certificado BCorp.\\n\\n¿Te sumas? Únete a la revolución.\\n\\n¿Qué harás?\\n\\nFormarás parte del Chapter de Data Analytics, con foco en el área de Operaciones.\\n\\n¿Qué esperamos de ti?\\n\\nIdentificar las grandes necesidades de Data Analytics dentro del área de Operaciones y transformarlas en proyectos que impacten positivamente sus OKRs. Transformar los datos relativos a Operaciones y Customer Care en Insights accionables que mejoren la satisfacción de nuestras clientas y que hagan más eficiente el trabajo del equipo del área de Operaciones. También tendrás que comunicar toda la información crítica e insights a otros departamentos relevantes y a la empresa en general ya que Holaluz trabaja por y para el cliente.Mentorizar y dar soporte al resto de integrantes del equipo de Data Analytics que trabajan en el equipo de Customer Care y en Operaciones. El objetivo es ayudarles en su crecimiento profesionalRealizar la interlocución con todos los integrantes del área de Operaciones para asegurar que se cumplen los OKRs definidos y que también se atienden las necesidades surgidas del día a día. Deberás contribuir en la mejora contínua del área y para ello tendrás que empaparte de los procesos, la operativa y los retos para poder proponer mejorasParticipar activamente en la mejora continua del Chapter de Data Analytics: identificación de best practices, priorización de proyectos, puesta en marcha de modelos de Machine Learning, etc.Desarrollar una planificación clara y estructurada de los datos con el objetivo de identificar las oportunidades de mejora y conocer qué necesita el cliente externo e interno.Trabajar en la configuración de la infraestructura de datos de Operaciones que impacta en la gestión del cliente, incluidas las plataformas de análisis, almacenamiento y reporte de datos. Esta tarea la realizarás con el apoyo del Chapter de Data Analytics\\n\\nY como #SayThingsAsTheyAre es uno de nuestros valores, queremos ser claros y transparentes en explicarte qué harás durante tus primeros 6 meses en Holaluz.\\n\\nEn 1 mes...\\n\\nDespués del primer mes ya sabrás cómo está todo montado, te habrás empapado de la cultura y la visión, te habrás reunido con todos los equipos y sabrás qué es lo que hacen y qué necesitan.Empezarás a analizar las decisiones que han hecho los diferentes equipos y áreas para empezar a enfrentarte a tus primeros retos.También habrás ido a comer algún día con las personas del equipo, habrás asistido a algunas de las sesiones que hacemos con el objetivo de que fluya el conocimiento.\\n\\nEn 3 meses...\\n\\nSeguro que ya habrás tomado muchas decisiones sobre cómo aportar en Operaciones y en el Chapter de Data Analytics. Estarás trabajando codo a codo con tus colegas, en otras palabras, habrás visto la LUZ.Habrás disfrutado de algún team building con el equipo y habrás tenido la oportunidad de hacer más de una presentación.\\n\\nEn 6 meses...\\n\\nTendrás (casi) todo bajo control y habrás contribuido en la madurez y crecimiento de tu equipo. Habrás aportado valor más allá de tu equipo compartiendo conocimiento, y haciendo valer toda tu experiencia para mejorar el área de Operaciones y el Chapter de Data Analytics.Además, habrás tenido varias reuniones con tu responsable para saber cómo te sientes en tus primeros meses con Holaluz.\\n\\n¿Cómo lo harás?\\n\\nOtro de nuestros valores es #KeepRowing o seguir remando, lo que significa que el trabajo en equipo y la alineación del mismo es fundamental para poder avanzar y hacer frente a nuestros objetivos compartidos.\\n\\nEn Holaluz hemos construido un sistema organizativo robusto y en constante iteración, que nos permite adaptarnos a los constantes cambios que demanda la industria y lograr el propósito que perseguimos. En Holaluz las reuniones y decisiones se toman de forma colaborativa, fluye el feedback 🤟 entre los diferentes equipos y se fomenta el apoyo entre personas.\\n\\n¿Con quién lo harás?\\n\\n#AlwaysPeopleFirst es también un valor muy importante en Holaluz, y para nosotros es clave tener un buen equipo de trabajo, por eso te explicamos que somos un equipo de unas 800 personas con un ambiente inmejorable, y con las que tendrás la oportunidad de trabajar en tu día a día 😁.\\n\\nAdemás, trabajarás de la mano con Adrià y Víctor de tu equipo de Data y junto con tus stakeholders. ¿Sabías que nuestro Chapter de Analytics está compuesto por casi el 50% de talento femenino? ¡Te presentamos a dos compañeras!\\n\\n👩🏾‍🎤 Marta \\n\\nMatemática, valenciana y gran aficionada al baloncesto. Es muy fan de hacer listas para todo y darle un toque de humor a cada reunión. Marta combina sus múltiples hobbies con su pasión por una visualización bien estructurada. Y a pesar de tener muchas reuniones, si le ofreces tomar un café mientras comentáis algún tema, aceptará sin dudarlo.\\n\\n🦹🏻‍♀️ Èlia\\n\\nEs la más joven del equipo pero desborda sabiduría. Èlia es una optimista incorregible con un don para encontrar el lado bueno de las cosas. En 5min te contagiará su buen rollo. A la catalana del equipo le encanta la escalada y siempre busca nuevos retos con unas ganas inagotables por aprender de otras áreas. El saber no ocupa lugar.\\n\\n¿Dónde lo harás?Qué mejor lugar para hacerlo que en nuestras oficinas de Barcelona a sólo 200 metros del mar 🌊. Esta excepcional ubicación al lado de la playa es perfecta para hacer un break con chapuzón y poder poner en práctica otro de nuestros valores #HaveFun.\\n\\nRequirements\\n\\n¿Qué necesitamos?\\n\\nHemos pensado muy muy bien lo que buscamos y lo que de verdad importa:\\n\\nLicenciatura en Ciencias Empresariales/Económicas, Matemáticas o Ingeniería.Más de 5 años de experiencia en el campo de Data Analytics, y solvencia en el uso de SQL y de PythonHabilidades analíticas de alto nivel y capacidad de traducir información en insights accionables y en informes concisos.Storytelling y capacidad de comunicar las conclusiones de tus análisis.Capacidad para trabajar eficazmente en equipo.Gran atención a los detalles.No hace falta que seas Shakespeare, pero sí que puedas comunicarte en Inglés.\\n\\nTodo suma, así que si tienes alguna de estas cosas SUMA Y SIGUE:\\n\\nFormación y experiencia en análisis de datos y en el uso de modelos de analítica avanzada y Machine Learning.Elaboración de dashboards.Conocimientos de PowerBI.\\n\\nRequisitos deseables:\\n\\nOrientación al Cliente.Capacidad para mantener relaciones interpersonales.Alta capacidad de implicación, dedicación y motivación.Elevada orientación a la consecución de objetivos y al cumplimiento de resultados.Excelente capacidad de análisis.\\n\\nBenefits\\n\\n¿Qué ofrecemos?\\n\\nOtro de los valores que nos caracteriza en Holaluz es #EsPosible. Por ello, ofrecemos una serie de medidas para que puedas desarrollarte 360º y conseguir todo aquello que te propongas, tanto a nivel personal como profesional:\\n\\nLa mayor fuente de nuestra energía: ¡nuestra gente!\\n\\nÚnete a una empresa donde las personas son lo primero, con un ambiente de trabajo inmejorable y un gran talento donde realmente vivimos nuestros valores. Para ello ofrecemos una serie de ventajas y beneficios que te permitirán estar apoyado tanto a nivel personal como profesional.\\n\\nSOSTENIBILIDAD\\n\\nÚnete a la primera empresa de servicios eléctricos con certificación B Corp de Europa, y actualmente #1 en el ranking mundial ESG para compañías eléctricas.Tarifa competitiva de movilidad sostenible con eCooltra. Se trata de bicicletas y patinetes eléctricos, para que puedas llegar a la oficina de forma rápida y económica, utilizando un transporte individual y ecológico. \\n\\nSALUD Y BIENESTAR\\n\\nSeguro médico privado con Adeslas.Suscripción de gimnasio a Andjoy (Gympass).Fruta ecológica todos los días.Té y café en la oficina. \\n\\nEQUILIBRIO TRABAJO-VIDA\\n\\nRégimen de Retribución Flexible en guardería, transporte y comida con Cobee.Tarifa Wifi competitiva con Unique.Creemos en la autonomía y la responsabilidad personal por lo que ofrecemos horarios de trabajo flexibles y la opción de trabajar de forma remota 6 días al mes (19 por trimestre).Referencias: obtén recompensas si contratamos a personas talentosas que tú nos recomiendes para que se unan a Holaluz.Parking - mejores tarifas en W Hotel.Como empresa certificada Baby Friendly: Guardería interna para ayudar a integrar vida y trabajo a las nuevas familias.\"Casals\" (campamentos durante los largos meses de verano pero también en otras vacaciones). \\n\\nAUTODESARROLLO\\n\\nEventos de creación de equipos.Acceso a contenidos de formación.Biblioteca propia, con contenidos muy diversos.Clases de idiomas gratuitas en clases de inglés, castellano y catalán. \\n\\n”Celebramos la diversidad en el mundo y queremos que nuestro equipo refleje esto de manera inclusiva. En Holaluz, estamos comprometidos con la igualdad de oportunidades de empleo independientemente de la etnia, religión, sexo, origen nacional, orientación sexual, edad, estado civil, discapacidad, género, identidad o expresión de género. Además, nos esforzamos por empoderar a las mujeres en el lugar de trabajo.”\\n    \n",
       "2                                                                                                                                                                                                                                                                                                                                                                                                                                                                                                                                                                                                                                                                                                                                                                                                                                                                                                                                                                                                                                                                                                                                                                                                                                                                                                                                                                                                                                                                                                                                                                                                                                                                                                                                                                                                                                                                                                                                                                                                                                                                                                                                                                                                                                                                                                                                                                                                                                                                                                                                                                                                                                                                                                                                                                                                                                                                                                                                                                                                                                                                                                                                                                                                                                                                                                                                                                                                                                                                                                                                                                                                                                                                                                                                                                                                                                                                                                                                                                                                                                                                                                                                                                                                                                                                                                                                                                                                                                                                                                                                                                                                                                                                                                                                                                 \\nAbout the job\\nIOMED Data Engineering Team is responsible for building and maintaining optimized and highly available data pipelines that facilitate information extraction and transformation for our main products and internal applications. The core of your role will be designing, architecting, implementing, and testing data extraction and transformation tools in a microservices environment:\\nData processing pipelinesData model transformationsComponents of a multi-modal distributed database.\\nYou will collaborate with the rest of the Data Engineering team in analyzing and understanding data sources, participating in the design, and providing insights and guidance on database technology and data modeling best practices.\\nThis role should work closely with the Business Development and Data Science teams, gathering technical requirements for data governance and data quality across the company.\\nAbout you\\nYou will be working in a very dynamic environment, which means that you must have a strong problem-solving ability, organization skills, and be proactive.\\nIn terms of personality, we are looking for someone who enjoys working in a wide range of areas and adapts quickly to new situations.\\nTasks\\nYou will have to feel comfortable giving support to the rest of the team and you can definitely expect to:\\nQuery, model and deploy with PostgreSQL, Redis, RabbitMQ.ETL with SQL and PythonDesign, implement & test microservices.Integrate our products with external APIs.Development and testing of our core products and frameworks.Be comfortable with container development with Docker.Testing, logging, measuring and alerting of the deployed services.Monitor the existing metrics, analyze data, and collaborate with other teams in an effort to identify and implement a system and process improvements.Ensure that the collected data is of high quality and optimal for use across the team and the business at largeOversee activities of the junior data engineering teams, ensuring proper execution of their duties and alignment with business vision and objectives\\nWhat we are looking for\\nAt least 8 years of working experience working in a data engineering department, preferably as a Data Engineer in a fast-paced environment and complex businessSetting and a demonstrated experience in building and maintaining reliable and scalable ETL.Experience in data warehousing inclusive of dimensional modeling concepts and demonstrate proficiency in programming (SQL and Python will be your main tools of the trade).Proven skills of putting microservices to use, and you’re comfortable with working with containers in a cluster architecture.Work well in a team, can teach & learn from others, and communicate what you’re working on with non-technical team members.\\n\\nWhat we offer\\nCompetitive Salary.Permanent contract.Company profit-sharing scheme valued at up to €15,000 per year.Flexible remuneration with restaurant tickets, transport tickets, nursery, training, and medical insurance.Flexible schedule, with the possibility of home office.28 days of vacations per year.A warm, transparent and supportive team, with a huge emphasis on work-life balance.The opportunity to make your mark in e-health and AI.\\nAbout IOMED \\nIOMED is a leading technology start-up company in the field of massive medical data extraction and processing. It is made up of a united, young, dynamic, and flexible team, which, after several years of working together, is characterized by its agility, enjoyment of work, and rapport. Accordingly, we are looking for candidates with the desire to innovate, launch a relevant project, and grow with it, always enjoying teamwork and challenges, which are many, every day.\\nAs an employer, we offer equal opportunity. We want to grow our team with talented, dynamic people who want to make their mark in the field of AI and research, regardless of race, color, religion, national origin, gender, physical disability, or age.\\nWhat we do \\nNowadays, there is still great difficulty in accessing Real-World Data (Real-World Data), which are those contained in Electronic Health Records (EHR), since up to 85% of the existing clinical data is not structured. This represents a loss of opportunity for the sector to improve its healthcare processes and clinical research.\\nIOMED has developed a Natural Language Processing solution that extracts and transforms clinical data into an international and federated model, OMOP CDM, resulting in a structured, standardized, and interoperable database that contains complete clinical information from hospitals.\\nIn this way, professionals and the industry can make use of this data and obtain evidence based on all the data, Real World Evidence, that has essential value when it comes to making decisions, among others. All this, in addition, to assuring the protection and governance of the data at all times.\\n    \n",
       "3                                                                                                                                                                                                                                                                                                                                                                                                                                                                                                                                                                                                                                                                                                                                                                                                                                                                                                                                                                                                                                                                                                                                                                                                                                                                                                                                                                                                                                                                                                                                                                                                                                                                                                                                                                                                                                                                                                                                                                                                                                                                                                                                                                                                                                                                                                                                                                                                                                                                                                                                                                                                                                                                                                                                                                                                                                                                                                                                                                                                                                                                                                                                                                                                                                                                                                                                                                                                                                                                                                                                                                                                                                                                                                                                                                                                                                                                                                                                                                                                                                                                                                                                                                                                                                                                                                                                                                                                                                                                                                                                                                                                                                                                                                                                                                                                                                                                                                                                                                                                                                                                                                                                                                                                                                                                                                                                                                                                                                                                                                                                                                                                                                                                                                                                                                                                                                                                                                                                                                                                                                                                                                                                                                                                                                                                                                                                                                                                                                                                                                                                                                                                                                                                                                                                                                                                                                                                                                                                                                                                                                                                                                                                                                                                                                                                                                                                                                                                                                                                                                                                                                                                                                                                                                                                                                                                                                                                                                                                                                                                                                                                                                                                                                                                                                                                                                                                                                                                                                                                 \\nSomos una multinacional canadiense especializada en consultoría tecnológica, con presencia en 21 sectores en más de 400 ubicaciones en todo el mundo, proveemos servicios de consultoría de negocio y de TI integrales, escalables y sostenibles que están analizados globalmente y entregados localmente.\\nEstamos buscando un/a analista de datos (junior)  para impulsar nuestro equipo y realizar un trabajo de calidad del dato y realización de modelos de control para un cliente estratégico dentro de un gran proyecto.\\nFunciones:Realización de modelos de controlRealización de informes periódicosprocesos tácticosSoporte a aplicativo corporativo del clientecertificación de nuevos desarrollos\\nRequisitos deseados:SQLExcelVBA\\nGrupo CGI ofrece:\\n-Contratación indefinida-Horario flexible.-Proyectos estable de larga duración.-Pertenecer a un equipo de trabajo altamente cualificado en una empresa joven en proceso de expansión.-Trabajar en un ambiente de trabajo amigable, donde la estrecha relación con los managers y con RRHH facilita el espíritu emprendedor, el intercambio de ideas, la iniciativa y el desarrollo de las personas.-Formación en distintas tecnologías.-Desarrollo profesional.\\nSi tienes capacidad de trabajo y ganas de seguir aprendiendo en una empresa dinámica y en constante crecimiento... ¡Esta es tu oportunidad!\\n    \n",
       "4                                                                                                                                                                                                                                                                                                                                                                                                                                                                                                                                                                                                                                                                                                                                                                                                                                                                                                                                                                                                                                                                                                                                                                                                                                                                                                                                                                                                                                                                                                                                                                                                                                                                                                                                                                                                                                                                                                                                                                                                                                                                                                                                                                                                                                                                                                                                                                                                                                                                                                                                                                                                                                                                                                                                                                                                                                                                                                                                                                                                                                                                                                                                                                                                                                                                                                                                                                                                                                                                                                                                                                                                                                                                                                                                                                                                                                                                                                                                                                                                                                                                                                                                                                                                                                                                                                                                                                                                                                                                                                                                                                                                                                                                                                                                                                                                                                                                                                                                                                                                                                                                                                                                                                                                                                                                 \\nOlala Homes is a unique tech-enabled hospitality management company focusing on the short-term vacation rental segment through the ownership and management of over 400 units across multiple countries and cities. Olala Homes’ lean business model coupled with its real estate development expertise and topped with its strong team form a solid base for its ambitious future expansion plan across Spain, Europe, and beyond. The company’s HQ is located in Barcelona with satellite offices in Greece, Romania, Portugal, and Israel. Olala Homes is part of the Rina Group, a group of companies investing in Tourism & Hospitality, Industrial Minerals, Real Estate, and Agriculture across 3 continents.\\nJob Brief We are seeking a skilled and motivated Data Analyst to join our team in the hospitality industry. As a Data Analyst, you will be responsible for collecting, analyzing, and interpreting data to help drive informed decision-making and improve operational efficiency within our organization. Your expertise in data analysis and strong business acumen will play a crucial role in optimizing our operations, enhancing customer experiences, and identifying growth opportunities. This is an exciting opportunity for a talented individual to contribute to the success of our organization through data-driven insights.\\nMain responsibilities:Data Collection and Analysis: Gather data from various sources, including internal databases, customer feedback, and external data sets. Analyze and interpret this data to identify trends, patterns, and insights relevant to the hospitality industry.Performance Tracking: Develop and maintain performance metrics and dashboards to monitor key performance indicators (KPIs) across different aspects of our hospitality operations. Regularly evaluate and report on performance trends, providing actionable recommendations for improvement.Operational Efficiency: Identify areas of operational inefficiencies and collaborate with cross-functional teams to develop strategies and solutions. Utilize data analysis techniques to optimize processes, reduce costs, and enhance productivity within the organization.Customer Insights: Analyze customer feedback, preferences, and behavior to generate actionable insights that can be used to enhance customer experiences. Provide recommendations on how to improve customer satisfaction and loyalty based on data analysis.Data Visualization and Reporting: Create visually appealing and informative reports, charts, and presentations to effectively communicate complex data insights to both technical and non-technical stakeholders. Use data visualization tools and techniques to present findings in a clear and concise manner.Continuous Learning and Improvement: Stay updated with the latest data analysis techniques, tools, and industry trends. Proactively identify opportunities for process improvement and propose innovative solutions to enhance the effectiveness and efficiency of data analysis.\\nRequirements:Minimum 2 years of experience as a Data Analyst or Business Data AnalystBS in Mathematics, Economics, Computer Science, Information Management or StatisticsTechnical expertise regarding data models, database design development, data mining and segmentation techniques. Preferably within the hospitality industry.Excellent written and verbal communication skillsStrong analytical skills with the ability to collect, organize, analyze, and disseminate significant amounts of information with attention to detail and accuracyAdvanced knowledge in Excel, SQL and PhytonFamiliarity with database management systems and data warehousing concepts.Experience in building reports for data visualization (ideally Power BI)Zendesk Knowledge is a big plusProfessional level of English \\nIf you are passionate about data analysis and its application to the hospitality industry, and if you thrive in a dynamic and results-oriented environment, we would love to hear from you. Join our team and contribute to shaping the future of our organization through data-driven decision-making.\\nWhat we offer:Competitive salary with other benefits such as employee discounts staying in Olala Homes’ properties, weekly fruit basket in the office, happy hour, etc.Opportunity to be mentored by experienced professionals and gain first-hand know-how in a swift pacePositive corporate culture to be proud to be a part of a fast growing company\\n    \n",
       "..                                                                                                                                                                                                                                                                                                                                                                                                                                                                                                                                                                                                                                                                                                                                                                                                                                                                                                                                                                                                                                                                                                                                                                                                                                                                                                                                                                                                                                                                                                                                                                                                                                                                                                                                                                                                                                                                                                                                                                                                                                                                                                                                                                                                                                                                                                                                                                                                                                                                                                                                                                                                                                                                                                                                                                                                                                                                                                                                                                                                                                                                                                                                                                                                                                                                                                                                                                                                                                                                                                                                                                                                                                                                                                                                                                                                                                                                                                                                                                                                                                                                                                                                                                                                                                                                                                                                                                                                                                                                                                                                                                                                                                                                                                                                                                                                                                                                                                                                                                                                                                                                                                                                                                                                                                                                                                                                                                                                                                                                                                                                                                                                                                                                                                                                                                                                                                                                                                                                                                                                                                                                                                                                                                                                                                                                                                                                                                                                                                                                                                                                                                                                                                                                                                                                                                                                                                                                                                                                                                                                                                                                                                                                                                                                                                                                                                                                                                                                                                                                                                                                                                                                                                                                                                                                                                                                                                                                                                                                                                                                                                                                                                                                                                                                                                                                                                                                                                                                                                                                                                                                                                                                                                                                                                                                                                                                                                                                                                                                                                                                                                                                                                                                                                                                                                                                                                                                                                                                                                                                                                                                                                                                                                                                                                                                                                                                                                                   ...   \n",
       "195                                                                                                                                                                                                                                                                                                                                                                                                                                                                                                                                                                                                                                                                                                                                                                                                                                                                                                                                                                                                                                                                                                                                                                                                                                                                                                                                                                                                                                                                                                                                                                                                                                                                                                                                                                                                                                                                                                                                                                                                                                                                                                                                                                                                                                                                                                                                                                                                                                                                                                                                                                                                                                                                                                                                                                                                                                                                                                                               \\nAbout Agoda\\nAgoda is an online travel booking platform for accommodations, flights, and more. We build and deploy cutting-edge technology that connects travelers with more than 2.5 million accommodations globally. Based in Asia and part of Booking Holdings, our 6,000+ employees representing 90+ nationalities foster a work environment rich in diversity, creativity, and collaboration. We innovate through a culture of experimentation and ownership, enhancing the ability for our customers to experience the world.\\nAbout Agoda\\nAgoda is an online travel booking platform for accommodation, flights, and more. We build and deploy cutting edge technology that connects travelers with more than 2.5 million accommodations globally. Based in Asia and part of Booking Holdings, our 4,000+ talents coming from 90+ different nationalities foster a work environment rich in diversity, creativity, and collaboration. We innovate through a culture of experimentation and ownership, enabling our customers to experience the world\\nGet to Know Our Team\\nThe Data department oversees all of Agoda’s data-related requirements. Our ultimate goal is to enable and increase the use of data in the company through creative approaches and the implementation of powerful resources such as operational and analytical databases, queue systems, BI tools, and data science technology. We hire the brightest minds from around the world to take on this challenge and equip them with the knowledge and tools that contribute to their personal growth and success while supporting our company’s culture of diversity and experimentation. The role the Data team plays at Agoda is critical as business users, product managers, engineers, and many others rely on us to empower their decision making. We are equally dedicated to our customers by improving their search experience with faster results and protecting them from any fraudulent activities. Data is interesting only when you have enough of it, and we have plenty. This is what drives up the challenge as part of the Data department, but also the reward.\\nWhy Agoda Data Applications Team?\\nOur Data Engineering teams are at the intersection of business analytics, data warehousing and software engineering. Our job involves dealing with distributed systems, stream processing, computation and data governance at tens of PB Scale.\\nWe focus on software engineering related to data replication, storage, centralized computation, and Data API’s. By providing our users with data products/tools, shared frameworks and data services, we enable our company to validate strategic decisions, make smarter choices, and react to the fast-changing world.\\nWe are a small but passionate team with people from different nationalities working together on a single goal J\\nIn this Role, you will get to\\nLead the team technically in improving scalability, stability, accuracy, speed and efficiency of our existing Data systemsBuild, administer and scale data processing pipelinesBe comfortable navigating the following technology stack: Scala, Spark, java, Golang, Python3, scripting (Bash/Python), Hadoop, SQL, S3 etcImprove scalability, stability, accuracy, speed and efficiency of our existing data systemsDesign, build, test and deploy new libraries, frameworks or full systems for our core systems while keeping to the highest standards of testing and code qualityWork with experienced engineers and product owners to identify and build tools to automate many large-scale data management / analysis tasks \\nWhat You’ll Need To Succeed\\nBachelor’s degree in Computer Science /Information Systems/Engineering/related fieldAt least 5 years of experience in Data engineering, familiar with large datasetExpert level in Apache SparkExpert level understanding of JVM and either Java or Scala, strong coding skillExperience debugging and reasoning about production issues is desirableA good understanding of data architecture principles preferredAny other experience with Big Data technologies / toolsSQL experienceAnalytical problem-solving capabilities & experienceSystems administration skills in Linux\\nIt’s great if you have\\nGood understanding of Hadoop ecosystemsExperience working with Open-source productsPython/Shell scripting skillsWorking in an agile environment using test driven methodologies\\n#sanfrancisco #sanjose #losangeles #sandiego #oakland #denver #miami #orlando #atlanta #chicago #boston #detroit #newyork #portland #philadelphia #dallas #houston #austin #seattle #sydney #melbourne #perth #toronto #vancouver #montreal #shanghai #beijing #shenzhen #prague #Brno #Ostrava #cairo #alexandria #giza #estonia #paris #berlin #munich #hamburg #stuttgart #cologne #frankfurt #dusseldorf #dortmund #essen #Bremen #leipzig #dresden #hanover #nuremberg #athens #hongkong #budapest #jakarta #bali #dublin #telaviv #jerusalem #milan #rome #venice #florence #naples #turin #palermo #bologna #tokyo #osaka #yokohama #nagoya #okinawa #fukuoka #sapporo #kualalumpur #malta #amsterdam #oslo #manila #warsaw #krakow #bucharest #doha #alrayyan #moscow #saintpetersburg #riyadh #jeddah #mecca #medina #singapore #capetown #johannesburg #seoul #barcelona #madrid #stockholm #zurich #taipei #tainan #taichung #kaohsiung #bangkok #Phuket #istanbul #dubai #abudhabi #sharjah #london #manchester #liverpool #edinburgh #kiev #hcmc #hanoi #amsterdam #bucharest #lodz #wroclaw #poznan #katowice #rio #salvador #bandung #yokohama #nagoya #okinawa #fukuoka #newdelhi #Pune #Hyderabad #Bangalore #Mumbai #Bengaluru #Chennai #Kolkata #Lucknow #IT #ENG #4\\nEqual Opportunity Employer \\nAt Agoda, we pride ourselves on being a company represented by people of all different backgrounds and orientations. We prioritize attracting diverse talent and cultivating an inclusive environment that encourages collaboration and innovation. Employment at Agoda is based solely on a person’s merit and qualifications. We are committed to providing equal employment opportunity regardless of sex, age, race, color, national origin, religion, marital status, pregnancy, sexual orientation, gender identity, disability, citizenship, veteran or military status, and other legally protected characteristics.\\nWe will keep your application on file so that we can consider you for future vacancies and you can always ask to have your details removed from the file. For more details please read our privacy policy .\\nTo all recruitment agencies: Agoda does not accept third party resumes. Please do not send resumes to our jobs alias, Agoda employees or any other organization location. Agoda is not responsible for any fees related to unsolicited resumes.\\n\\n    \n",
       "196                                                                                                                                                                                                                                                                                                                                                                                                                                                                                                                                                                                                                                                                                                                                                                                                                                                                                                                                                                                                                                                                                                                                                                                                                                                                                                                                                                                                                                                                                                                                                                                                                                                                                                                                                                                                                                                                                                                                                                                                                                                                                                                                                                                                                                                                                                                                                                                                                                                                                                                                                                                                                                                                                                                                                                                                                                                                                                                                                                                                                                                                                                                                                                                                                                                                                                                                                                                                                                                                                                                                                                                                                                                                                                                                                                                                                                                                                                                                                                                                                                                                                                                                                                                                                                                                                                                                                                                                                                                                                                                                                                                                                                                                                                                                                                                                                                                                                                                                                                                           \\n                Do you have expertise in bioinformatics pipelines and data engineering workflows? Would you like to apply your skills to impact proteogenomic research, in a company that follows the science and turns ideas into life changing medicines? Then AstraZeneca might be the one for you!\\nAbout AstraZeneca\\nAt AstraZeneca, we put patients first and strive to meet their unmet needs worldwide. Working here\\nmeans being entrepreneurial, thinking big and working together to make the impossible a reality. If\\nyou are swift to action, confident to lead, willing to collaborate, and curious about what science can\\ndo, then you’re our kind of person.\\nOncology Data Science Platforms \\nThe Oncology Data Science – Data, Analytics, and AI Platforms (ODSP) team comprises multiple groups across the Cambridge UK, Boston MA, Gaithersburg MD, and Munich DE sites. ODSP develops technology, software, and data infrastructure to advance our Oncology data science. Our vision is to evolve data science into a driver of innovation within Oncology. We do this by creating a strategic culture that values our data as a true business asset, organizing our data so that it’s accessible and easy to find, integrated, and re-usable for Humans & AI, and building the best computational tools to support scientific decision making.\\nWhat You’ll Do\\nThe ODSP team is growing to meet the strategic challenges pursued by AZ Oncology. We are looking for a talented and highly motivated Senior Informatician with strong background in proteogenomics to join our team, designing and applying innovative computational analysis methods with a strong focus on AZ’s exciting and rapidly growing proteogenomics research portfolio.\\nMajor Duties And Responsibilities\\nDesign and apply innovative computational/statistical algorithms and visualizations to generate actionable biological insight from proteogenomic datasets.Manage, analyse, and deliver high throughput proteogenomic dataDevelop, test, and support data analysis tools and pipelines from Targeted and Global Proteomics experimental approachesEnsure accurate automation of data analysisBuild scalable (Cloud and HPC) solutions that work on tens of thousands of CPUsValidate the quality of the datasets using various tools to assess the correctness of the results and solve any data quality issues by collaborating with Lab and other personnel.Assist with developing requirements for internal software developmentBuild and maintain high level of experience with team's software and IT technologies.Work collaboratively with scientists and outside collaborators to cultivate, process, and analyse proteogenomic dataDevelop and maintain an in depth understanding of the scientific and technological domains supported by the teamBuild and steer further development of small prototype tools for bench scientists to access and visualize proteogenomic data.Finally, you will collaborate with industry and academia, and exploit external resources, to find the most effective solutions to oncology data science problems\\nEducation, Qualifications, Skills, And Experience\\nEssential Requirements:Relevant graduate degree:Bioinformatics / Computational biologyComputer Science / EngineeringMinimum of 2 years of applied experience in proteomics / bioinformatics data analysisProven programming skills, Python preferredExperience in software development standard methodologiesExperience in UnixCloud computing (preferably AWS), and High-Performance Computing (HPC)\\n\\nDesirable:\\n\\nExperience working with single-cell proteomics and/or spatial omics dataStrong communication skills on a technical and professional level as well as with service orientedWell networked within external bioinformatics and NGS communities.An understanding of the contribution of bioinformatics to drug discovery.\\n\\nWhy AstraZeneca\\n\\nAt AstraZeneca we’re dedicated to being a Great Place to Work. Where you are empowered to push the boundaries of science and unleash your entrepreneurial spirit. There’s no better place to make a difference to medicine, patients, and society. An inclusive culture that champions diversity and collaboration, and always committed to lifelong learning, growth, and development. We’re on an exciting journey to pioneer the future of healthcare.\\n\\nSo, what’s next?\\n\\nAre you already envisioning yourself joining our team? Good, because we can’t wait to hear from you!\\n\\nCompetitive Salary And Benefits Package On Offer\\n\\nCompetitive salary and benefits package on offer. The successful candidate will have access to pension contributions, A performance recognition scheme and a competitive, generous remuneration package.\\n    \n",
       "197                                                                                                                                                                                                                                                                                                                                                                                                                                                                                                                                                                                                                                                                                                                                                                                                                                                                                                                                                                                                                                                                                                                                                                                                                                                                                                                                                                                                                                                                                                                                                                                                                                                                                                                                                                                                                                                                                                                                                                                                                                                                                                                                                                                                                                                                                                                                                                                                                                                                                                                                                                                                                                                                                                                                                                                                                                                                                                                                                                                                                                                                                                                                                                                                                                                                                                                                                                                                                                                                                                                                                                                                                                                                                                                                                                                                                                                                                                                                                                                                                                                                                                                                                                                                                                                                                                                                                                                                                                                                                                                                                                                                                                                                                                                                                                                                                                                                                                                                                                                           \\n                Do you have expertise in bioinformatics pipelines and data engineering workflows? Would you like to apply your skills to impact proteogenomic research, in a company that follows the science and turns ideas into life changing medicines? Then AstraZeneca might be the one for you!\\nAbout AstraZeneca\\nAt AstraZeneca, we put patients first and strive to meet their unmet needs worldwide. Working here\\nmeans being entrepreneurial, thinking big and working together to make the impossible a reality. If\\nyou are swift to action, confident to lead, willing to collaborate, and curious about what science can\\ndo, then you’re our kind of person.\\nOncology Data Science Platforms \\nThe Oncology Data Science – Data, Analytics, and AI Platforms (ODSP) team comprises multiple groups across the Cambridge UK, Boston MA, Gaithersburg MD, and Munich DE sites. ODSP develops technology, software, and data infrastructure to advance our Oncology data science. Our vision is to evolve data science into a driver of innovation within Oncology. We do this by creating a strategic culture that values our data as a true business asset, organizing our data so that it’s accessible and easy to find, integrated, and re-usable for Humans & AI, and building the best computational tools to support scientific decision making.\\nWhat You’ll Do\\nThe ODSP team is growing to meet the strategic challenges pursued by AZ Oncology. We are looking for a talented and highly motivated Senior Informatician with strong background in proteogenomics to join our team, designing and applying innovative computational analysis methods with a strong focus on AZ’s exciting and rapidly growing proteogenomics research portfolio.\\nMajor Duties And Responsibilities\\nDesign and apply innovative computational/statistical algorithms and visualizations to generate actionable biological insight from proteogenomic datasets.Manage, analyse, and deliver high throughput proteogenomic dataDevelop, test, and support data analysis tools and pipelines from Targeted and Global Proteomics experimental approachesEnsure accurate automation of data analysisBuild scalable (Cloud and HPC) solutions that work on tens of thousands of CPUsValidate the quality of the datasets using various tools to assess the correctness of the results and solve any data quality issues by collaborating with Lab and other personnel.Assist with developing requirements for internal software developmentBuild and maintain high level of experience with team's software and IT technologies.Work collaboratively with scientists and outside collaborators to cultivate, process, and analyse proteogenomic dataDevelop and maintain an in depth understanding of the scientific and technological domains supported by the teamBuild and steer further development of small prototype tools for bench scientists to access and visualize proteogenomic data.Finally, you will collaborate with industry and academia, and exploit external resources, to find the most effective solutions to oncology data science problems\\nEducation, Qualifications, Skills, And Experience\\nEssential Requirements:Relevant graduate degree:Bioinformatics / Computational biologyComputer Science / EngineeringMinimum of 2 years of applied experience in proteomics / bioinformatics data analysisProven programming skills, Python preferredExperience in software development standard methodologiesExperience in UnixCloud computing (preferably AWS), and High-Performance Computing (HPC)\\n\\nDesirable:\\n\\nExperience working with single-cell proteomics and/or spatial omics dataStrong communication skills on a technical and professional level as well as with service orientedWell networked within external bioinformatics and NGS communities.An understanding of the contribution of bioinformatics to drug discovery.\\n\\nWhy AstraZeneca\\n\\nAt AstraZeneca we’re dedicated to being a Great Place to Work. Where you are empowered to push the boundaries of science and unleash your entrepreneurial spirit. There’s no better place to make a difference to medicine, patients, and society. An inclusive culture that champions diversity and collaboration, and always committed to lifelong learning, growth, and development. We’re on an exciting journey to pioneer the future of healthcare.\\n\\nSo, what’s next?\\n\\nAre you already envisioning yourself joining our team? Good, because we can’t wait to hear from you!\\n\\nCompetitive Salary And Benefits Package On Offer\\n\\nCompetitive salary and benefits package on offer. The successful candidate will have access to pension contributions, A performance recognition scheme and a competitive, generous remuneration package.\\n    \n",
       "198                                                                                                                                                                                                                                                                                                                                                                                                                                                                                                                                                                                                                                                                                                                                                                                                                                                                                                                                                                                                                                                                                                                                                                                                                                                                                                                                                                                                                                                                                                                                                                                                                                                                                                                                                                                                                                                                                                                                                                                                                                                                                                                                                                                                                                                                                                                                                                                                                                                                                                                                                                                                                                                                                                                                                                                                                                                                                                                                                                                                                                                                                                                                                                                                                                                                                                                                                                                                                                                                                                                                                                                                                                                                                                                                                                                                                                                                                                                                                                                                                                                                                                                                                                                                                                                                                                                                                                                                                                                                                            \\n                The Computational Oncology group drives high-impact cancer research projects and delivers data-driven, actionable insights through the application of computational science to all areas of AstraZeneca’s Oncology portfolio. The group is embedded in the Oncology Data Science department and has extensive expertise undertaking both portfolio applied computational oncology research and the development of cutting edge cross-portfolio capabilities.\\nAstraZeneca is a company that always follows the science and turns ideas into life changing medicines. Oncology Data Science plays a unique role in driving both discovery and translation through leading computational/data driven approaches to all aspects of the drug discovery process.\\nWhat You’ll Do\\nThe Computational Oncology team is undergoing expansion to meet the strategic priorities at AZ Oncology R&D with the development of the new department for Oncology Data Science. We are looking for an Associate Director of Computational Oncology to contribute to our efforts of leveraging and modelling spatial and single cell data to further our understanding of the biological mechanisms of response and resistance to treatment, across indications using a variety of multi-omics data across scale (in vivo, ex vivo, clinical). This is a rare opportunity to lead our strategic approaches in the cross-sections between computational oncology, single cell biology, discovery sciences and translational oncology in a highly matrixed collaborative environment. The ideal candidate will have proven academic and/or industry experience in the computational oncology field with an outstanding track record of leading independent programmes. The successful execution of this role will impact the wider AZ oncology community, and our patients through discovery of biomarkers to inform drug combination and patient selection strategies, discovery of novel oncology targets and deepen our knowledge of cancer biology and evolution. To do this you will:\\nDevelop the computational strategy and lead a matrixed team of highly qualified computational scientists and individually contribute to deliver integrated predictive models using spatial, single cell, preclinical, ex-vivo and clinical multi’omic and phenotypic data.Partner closely with leaders across Translational Medicine and Bioscience to establish a data science strategy that facilitates back-translation through discovery of novel targets and/or prediction of drug combinations based on tumour-intrinsic and -extrinsic molecular and cellular insights.Use your expertise in cancer biology/drug discovery to deliver actionable insights that impact the development of the next generation of cancer medicines.Form effective collaborations with industry and academic leaders in the field, to develop AZ’s IP and/or publish AZ’s work in high impact journals.\\nEssential Requirements For The Role\\nRelevant PhD in computational/systems biology, oncology bioinformatics or applied biostatisticsExperience in leading independent successful computational biology programmes in an academic and/or industry settingProven expertise in one of more of areas of single cell transcriptomics, spatial ‘omics analysis and/or digital pathology/multiplexed protein image analysisSignificant experience in genomic biomarker analyses in oncology clinical studiesDeep knowledge of cancer genomics/proteomics, algorithmic and statistical methods applicable to cancer genomics.Highly attuned communication skills and experience of working in a matrix environment and coordinating efforts and responsibilities around cross-functional project goals.Ability to coordinate and pursue simultaneous projects and deliver to tight deadlines.R and/or Python programming expertise in a Unix environment making use of high-performance computing environments.\\nDesirable requirements for the role:\\nOutstanding publication record.Experience of graph modelling, machine learning, artificial-intelligence, Bayesian analytics or other next generation approaches to model biological data.Well connected to a wide network of bioinformatics and oncology communities.\\n\\n Does this sound like you? Next Steps – Apply today!\\nTo be considered for this exciting opportunity, please complete the application on our website at your earliest convenience – it is the only way that our Recruiter and Hiring Manager can know that you feel well qualified for this opportunity.\\nIf you know someone who would be a great fit, please share this posting with them.\\nAstraZeneca embraces diversity and equality of opportunity. We are committed to building an inclusive and diverse team representing all backgrounds, with as wide a range of perspectives as possible, and harnessing industry-leading skills. We believe that the more inclusive we are, the better our work will be. We welcome and consider applications to join our team from all qualified candidates, regardless of their characteristics. We follow all applicable laws and regulations on non-discrimination in employment (and recruitment), as well as work authorisation and employment eligibility verification requirements.\\n    \n",
       "199                                                                                                                                                                                                                                                                                                                                                                                                                                                                                                                                                                                                                                                                                                                                                                                                                                                                                                                                                                                                                                                                                                                                                                                                                                                                                                                                                                                                                                                                                                                                                                                                                                                                                                                                                                                                                                                                                                                                                                                                                                                                                                                                                                                                                                                                                                                                                                                                                                                                                                                                                                                                                                                                                                                                                                                                                                                                                                                                                                                                                                                                                                                                                                                                                                                                                                                                                                                                                                                                                                                                                                                                                                                                                                                                                                                                                                                                                                                                                                                                                                                                                                                                                                                                                                                                                                                                                                                                                                                                                                                                                                                                                                                                                                                                                                                                                                                                                                                                                                                                                                                                                                                                                                                                                                                       \\n                The Computational Oncology group drives high-impact cancer research projects and delivers data-driven, actionable insights through the application of computational science to all areas of AstraZeneca’s Oncology portfolio. The group is embedded in the Oncology Data Science department and has extensive expertise, undertaking both portfolio-applied computational oncology research and the development of cutting-edge capabilities.\\nAstraZeneca is a company that always follows the science and turns ideas into life changing medicines. Oncology Data Science plays a unique role in driving both discovery and translation through leading computational/data driven approaches to all aspects of the drug discovery process.\\nWhat You’ll Do\\nThe Computational Oncology team is undergoing expansion to meet the strategic priorities of our new department for Oncology Data Science. We are looking for a Senior Scientist role to join the Computational Oncology team to undertake analyses and develop model using cancer ‘omics data and contribute to furthering our understanding of the biological mechanisms of response and resistance to treatment; including immunotherapies. This is a rare opportunity to work on exciting cross-portfolio projects in the intersection between computational biology, discovery sciences and translational oncology in a highly matrixed collaborative environment. The ideal candidate will have proven academic and/or industry experience in the computational oncology field. This role will create impact to the wider AZ oncology community, and to our patients through the discovery of new biomarkers that inform drug combinations and patient selection strategies, discovery of novel oncology targets and deepen knowledge of cancer biology and evolution. To do this you will:\\nWork in a highly dynamic team of computational biologists and develop new approaches to address challenging biological questions relating to cancer evolution, tumour-intrinsic and extrinsic mechanisms of resistance to IO.Partner closely with scientists across Translational Medicine and Bioscience to facilitate back-translation through discovery of new targets and/or prediction of drug combinations based on tangible molecular and cellular insights.Analyse in-house preclinical, clinical, and RWE datasets to derive clinically actionable insights and nominate novel biomarkers to support clinical drug programs.Lead the development and application of standardised bioinformatic approaches to the analysis and interpretation of high throughput genomics data.Design and apply innovative computational/statistical algorithms.Proactively engage in knowledge sharing and peer support, including training bench scientists to build expertise in computational biology tools.Form effective collaborations with industry and academic leaders in the field, to develop AZ’s IP and/or publish AZ’s work in high impact journals.\\nEssential Requirements For The RoleRelevant PhD in the field of computational biology, bioinformatics, systems biology, or oncology data science and experience in either:bulk and single-cell RNA sequencing technologies.cancer genomics/proteomics.Proficiency analysing and interpreting data from multiple 'omic platforms (NGS sequencing, transcriptomic, epigenetic, proteomic etc.).Expertise in the analysis of genomic data (WES, targeted panels, WGS) covering QC, handling, processing & interpretation.Expertise in pathway enrichment tools and interpretation of the data to derive actionable biomarkers.Expertise in cancer genetics, cancer signalling and/or tumour microenvironment.Knowledge of statistical methods applicable to cancer biology.Ability to manage simultaneous projects to tight deadlines.R and/or Python programming and visualisation expertise.Skilled in effective communication of complex data to a non-expert.\\nDesirable requirements:\\nPublication record in either cancer genomics/proteomics, bulk or single-cell transcriptomic applied to cancer.Expertise in the development of novel statistical approaches for the analysis of biological data.Awareness of machine learning, graph modelling, artificial-intelligence, Bayesian analytics or other non-traditional approaches to model biological dataAbility to work effectively across multidisciplinary science teams.Experience contributing to the research community through publications, conferences and coding expertise.\\n    \n",
       "\n",
       "           position  \n",
       "0      data analyst  \n",
       "1      data analyst  \n",
       "2     data engineer  \n",
       "3      data analyst  \n",
       "4      data analyst  \n",
       "..              ...  \n",
       "195   data engineer  \n",
       "196  data scientist  \n",
       "197  data scientist  \n",
       "198  data scientist  \n",
       "199  data scientist  \n",
       "\n",
       "[200 rows x 6 columns]"
      ]
     },
     "execution_count": 141,
     "metadata": {},
     "output_type": "execute_result"
    }
   ],
   "source": [
    "df"
   ]
  },
  {
   "cell_type": "markdown",
   "id": "7ba5c795",
   "metadata": {},
   "source": [
    "# Data Exploration"
   ]
  },
  {
   "cell_type": "code",
   "execution_count": 142,
   "id": "f74f2259",
   "metadata": {},
   "outputs": [
    {
     "data": {
      "text/plain": [
       "data engineer     76\n",
       "data analyst      69\n",
       "data scientist    55\n",
       "Name: position, dtype: int64"
      ]
     },
     "execution_count": 142,
     "metadata": {},
     "output_type": "execute_result"
    }
   ],
   "source": [
    "df['position'].value_counts()"
   ]
  },
  {
   "cell_type": "code",
   "execution_count": 143,
   "id": "e939d752",
   "metadata": {},
   "outputs": [
    {
     "name": "stdout",
     "output_type": "stream",
     "text": [
      "Analysts: 34%\n",
      "Scientists: 28%\n",
      "Engineer: 38%\n"
     ]
    }
   ],
   "source": [
    "print(f\"Analysts: {round(len(df[df['position'] == 'data analyst'])/df.shape[0]*100)}%\")\n",
    "print(f\"Scientists: {round(len(df[df['position'] == 'data scientist'])/df.shape[0]*100)}%\")\n",
    "print(f\"Engineer: {round(len(df[df['position'] == 'data engineer'])/df.shape[0]*100)}%\")\n"
   ]
  },
  {
   "cell_type": "markdown",
   "id": "4dd393a9",
   "metadata": {},
   "source": [
    "# Top companies most looking for talent"
   ]
  },
  {
   "cell_type": "code",
   "execution_count": 144,
   "id": "00cc9051",
   "metadata": {},
   "outputs": [
    {
     "data": {
      "text/plain": [
       "Glovo                        10\n",
       "eDreams ODIGEO                9\n",
       "AstraZeneca                   6\n",
       "NTT DATA Europe & Latam       5\n",
       "MANGO                         4\n",
       "                             ..\n",
       "Serveo                        1\n",
       "ZF Group                      1\n",
       "FI Group                      1\n",
       "Americold Logistics, LLC.     1\n",
       "Agoda                         1\n",
       "Name: company, Length: 121, dtype: int64"
      ]
     },
     "execution_count": 144,
     "metadata": {},
     "output_type": "execute_result"
    }
   ],
   "source": [
    "df['company'].value_counts()\n"
   ]
  },
  {
   "cell_type": "code",
   "execution_count": null,
   "id": "01fb6646",
   "metadata": {},
   "outputs": [],
   "source": []
  },
  {
   "cell_type": "markdown",
   "id": "a35b55f8",
   "metadata": {},
   "source": [
    "# Modality Exploration"
   ]
  },
  {
   "cell_type": "code",
   "execution_count": 145,
   "id": "8bbc25f6",
   "metadata": {},
   "outputs": [
    {
     "data": {
      "text/plain": [
       "Hybrid     120\n",
       "On-site     35\n",
       "Unknown     24\n",
       "Remote      21\n",
       "Name: modality, dtype: int64"
      ]
     },
     "execution_count": 145,
     "metadata": {},
     "output_type": "execute_result"
    }
   ],
   "source": [
    "df['modality'].value_counts()"
   ]
  },
  {
   "cell_type": "markdown",
   "id": "42577e7f",
   "metadata": {},
   "source": [
    "# Location Exploration"
   ]
  },
  {
   "cell_type": "code",
   "execution_count": 146,
   "id": "30c77055",
   "metadata": {},
   "outputs": [
    {
     "data": {
      "text/plain": [
       "Barcelona, Catalonia, Spain                    164\n",
       "Greater Barcelona Metropolitan Area             16\n",
       "Sant Cugat del Vallès, Catalonia, Spain          8\n",
       "Spain                                            6\n",
       "Palau-solità i Plegamans, Catalonia, Spain       2\n",
       "L'Hospitalet de Llobregat, Catalonia, Spain      2\n",
       "Cornellà de Llobregat, Catalonia, Spain          1\n",
       "Esplugues de Llobregat, Catalonia, Spain         1\n",
       "Name: location, dtype: int64"
      ]
     },
     "execution_count": 146,
     "metadata": {},
     "output_type": "execute_result"
    }
   ],
   "source": [
    "df['location'].value_counts()\n"
   ]
  },
  {
   "cell_type": "markdown",
   "id": "07ef1e83",
   "metadata": {},
   "source": [
    "# joining \"BCN\" location"
   ]
  },
  {
   "cell_type": "code",
   "execution_count": 147,
   "id": "8397e968",
   "metadata": {},
   "outputs": [
    {
     "name": "stderr",
     "output_type": "stream",
     "text": [
      "/var/folders/q7/v3v0dp3x75b1z141v2hlcr3c0000gn/T/ipykernel_35550/2547658368.py:1: SettingWithCopyWarning: \n",
      "A value is trying to be set on a copy of a slice from a DataFrame\n",
      "\n",
      "See the caveats in the documentation: https://pandas.pydata.org/pandas-docs/stable/user_guide/indexing.html#returning-a-view-versus-a-copy\n",
      "  df.loc[df['location'].str.contains('Greater Barcelona Metropolitan Area'), 'location'] = 'Barcelona, Catalonia, Spain'\n"
     ]
    }
   ],
   "source": [
    "df.loc[df['location'].str.contains('Greater Barcelona Metropolitan Area'), 'location'] = 'Barcelona, Catalonia, Spain'"
   ]
  },
  {
   "cell_type": "code",
   "execution_count": 148,
   "id": "99a01954",
   "metadata": {},
   "outputs": [
    {
     "data": {
      "text/plain": [
       "Barcelona, Catalonia, Spain                    180\n",
       "Sant Cugat del Vallès, Catalonia, Spain          8\n",
       "Spain                                            6\n",
       "Palau-solità i Plegamans, Catalonia, Spain       2\n",
       "L'Hospitalet de Llobregat, Catalonia, Spain      2\n",
       "Cornellà de Llobregat, Catalonia, Spain          1\n",
       "Esplugues de Llobregat, Catalonia, Spain         1\n",
       "Name: location, dtype: int64"
      ]
     },
     "execution_count": 148,
     "metadata": {},
     "output_type": "execute_result"
    }
   ],
   "source": [
    "df['location'].value_counts()\n"
   ]
  },
  {
   "cell_type": "markdown",
   "id": "0e34619b",
   "metadata": {},
   "source": [
    "# Cleaning Descriptions"
   ]
  },
  {
   "cell_type": "code",
   "execution_count": 149,
   "id": "81ea2f8a",
   "metadata": {},
   "outputs": [
    {
     "name": "stderr",
     "output_type": "stream",
     "text": [
      "/var/folders/q7/v3v0dp3x75b1z141v2hlcr3c0000gn/T/ipykernel_35550/2503069646.py:2: SettingWithCopyWarning: \n",
      "A value is trying to be set on a copy of a slice from a DataFrame.\n",
      "Try using .loc[row_indexer,col_indexer] = value instead\n",
      "\n",
      "See the caveats in the documentation: https://pandas.pydata.org/pandas-docs/stable/user_guide/indexing.html#returning-a-view-versus-a-copy\n",
      "  df['description'] = df['description'].str.replace('\\n', ' ')\n",
      "/var/folders/q7/v3v0dp3x75b1z141v2hlcr3c0000gn/T/ipykernel_35550/2503069646.py:4: SettingWithCopyWarning: \n",
      "A value is trying to be set on a copy of a slice from a DataFrame.\n",
      "Try using .loc[row_indexer,col_indexer] = value instead\n",
      "\n",
      "See the caveats in the documentation: https://pandas.pydata.org/pandas-docs/stable/user_guide/indexing.html#returning-a-view-versus-a-copy\n",
      "  df['description'] = df['description'].map(lambda x: x.replace('-', '').replace('¿', ''))\n",
      "/var/folders/q7/v3v0dp3x75b1z141v2hlcr3c0000gn/T/ipykernel_35550/2503069646.py:6: SettingWithCopyWarning: \n",
      "A value is trying to be set on a copy of a slice from a DataFrame.\n",
      "Try using .loc[row_indexer,col_indexer] = value instead\n",
      "\n",
      "See the caveats in the documentation: https://pandas.pydata.org/pandas-docs/stable/user_guide/indexing.html#returning-a-view-versus-a-copy\n",
      "  df['description'] = df['description'].map(lambda x: unidecode.unidecode(x))\n",
      "/var/folders/q7/v3v0dp3x75b1z141v2hlcr3c0000gn/T/ipykernel_35550/2503069646.py:8: SettingWithCopyWarning: \n",
      "A value is trying to be set on a copy of a slice from a DataFrame.\n",
      "Try using .loc[row_indexer,col_indexer] = value instead\n",
      "\n",
      "See the caveats in the documentation: https://pandas.pydata.org/pandas-docs/stable/user_guide/indexing.html#returning-a-view-versus-a-copy\n",
      "  df['description'] = df['description'].map(lambda x: re.sub(r\"(?<![A-Z])(?<!^)([A-Z])\",r\" \\1\", x))\n",
      "/var/folders/q7/v3v0dp3x75b1z141v2hlcr3c0000gn/T/ipykernel_35550/2503069646.py:10: SettingWithCopyWarning: \n",
      "A value is trying to be set on a copy of a slice from a DataFrame.\n",
      "Try using .loc[row_indexer,col_indexer] = value instead\n",
      "\n",
      "See the caveats in the documentation: https://pandas.pydata.org/pandas-docs/stable/user_guide/indexing.html#returning-a-view-versus-a-copy\n",
      "  df['description'] = df['description'].map(lambda x: re.sub(r\"([0-9]+(\\.[0-9]+)?)\", r\" \\1\", x))\n",
      "/var/folders/q7/v3v0dp3x75b1z141v2hlcr3c0000gn/T/ipykernel_35550/2503069646.py:12: SettingWithCopyWarning: \n",
      "A value is trying to be set on a copy of a slice from a DataFrame.\n",
      "Try using .loc[row_indexer,col_indexer] = value instead\n",
      "\n",
      "See the caveats in the documentation: https://pandas.pydata.org/pandas-docs/stable/user_guide/indexing.html#returning-a-view-versus-a-copy\n",
      "  df['description'] = df['description'].map(lambda x: ' '.join(x.split()))\n",
      "/var/folders/q7/v3v0dp3x75b1z141v2hlcr3c0000gn/T/ipykernel_35550/2503069646.py:14: SettingWithCopyWarning: \n",
      "A value is trying to be set on a copy of a slice from a DataFrame.\n",
      "Try using .loc[row_indexer,col_indexer] = value instead\n",
      "\n",
      "See the caveats in the documentation: https://pandas.pydata.org/pandas-docs/stable/user_guide/indexing.html#returning-a-view-versus-a-copy\n",
      "  df['description'] = df['description'].map(lambda x: x.replace('( ', '(').replace(' .', '.').replace('/ ', '/'))\n",
      "/var/folders/q7/v3v0dp3x75b1z141v2hlcr3c0000gn/T/ipykernel_35550/2503069646.py:16: SettingWithCopyWarning: \n",
      "A value is trying to be set on a copy of a slice from a DataFrame.\n",
      "Try using .loc[row_indexer,col_indexer] = value instead\n",
      "\n",
      "See the caveats in the documentation: https://pandas.pydata.org/pandas-docs/stable/user_guide/indexing.html#returning-a-view-versus-a-copy\n",
      "  df['description'] = df['description'].map(lambda x: x.replace('ano', 'año').replace('anos', 'años'))\n"
     ]
    }
   ],
   "source": [
    "# Replace - jumps with spaces\n",
    "df['description'] = df['description'].str.replace('\\n', ' ')\n",
    "# Delete the hyphens & ¿\n",
    "df['description'] = df['description'].map(lambda x: x.replace('-', '').replace('¿', ''))\n",
    "# Normalise words (no accents, etc.)\n",
    "df['description'] = df['description'].map(lambda x: unidecode.unidecode(x))\n",
    "# Adding spaces in a word if it contains a capitalised letter in between\n",
    "df['description'] = df['description'].map(lambda x: re.sub(r\"(?<![A-Z])(?<!^)([A-Z])\",r\" \\1\", x))\n",
    "# Adding spaces before and after numbers\n",
    "df['description'] = df['description'].map(lambda x: re.sub(r\"([0-9]+(\\.[0-9]+)?)\", r\" \\1\", x))\n",
    "# Substitute n number of spaces by just one space\n",
    "df['description'] = df['description'].map(lambda x: ' '.join(x.split()))\n",
    "# Remove space before dots and after opening parenthesis\n",
    "df['description'] = df['description'].map(lambda x: x.replace('( ', '(').replace(' .', '.').replace('/ ', '/'))\n",
    "# Fix problems with the normalisation\n",
    "df['description'] = df['description'].map(lambda x: x.replace('ano', 'año').replace('anos', 'años'))\n"
   ]
  },
  {
   "cell_type": "code",
   "execution_count": 150,
   "id": "2b9e2006",
   "metadata": {},
   "outputs": [
    {
     "data": {
      "text/html": [
       "<div>\n",
       "<style scoped>\n",
       "    .dataframe tbody tr th:only-of-type {\n",
       "        vertical-align: middle;\n",
       "    }\n",
       "\n",
       "    .dataframe tbody tr th {\n",
       "        vertical-align: top;\n",
       "    }\n",
       "\n",
       "    .dataframe thead th {\n",
       "        text-align: right;\n",
       "    }\n",
       "</style>\n",
       "<table border=\"1\" class=\"dataframe\">\n",
       "  <thead>\n",
       "    <tr style=\"text-align: right;\">\n",
       "      <th></th>\n",
       "      <th>title</th>\n",
       "      <th>company</th>\n",
       "      <th>location</th>\n",
       "      <th>modality</th>\n",
       "      <th>description</th>\n",
       "      <th>position</th>\n",
       "    </tr>\n",
       "  </thead>\n",
       "  <tbody>\n",
       "    <tr>\n",
       "      <th>0</th>\n",
       "      <td>senior game data analyst</td>\n",
       "      <td>Tilting Point</td>\n",
       "      <td>Barcelona, Catalonia, Spain</td>\n",
       "      <td>Hybrid</td>\n",
       "      <td>At Tilting Point, we combine data, technology, talent and groundbreaking marketing to scale games to success. As the Senior Game Data Analyst, you will work closely with game teams to help inform decisionmaking regarding features of the game, balancing, player interactions, finding hidden opportunities and much more. Your Future at Tilting Point Analyze large, complex datasets to address adhoc and longterm operational and strategic business questions Draw meaningful conclusions and provide actionable insights from data to shape and influence ingame features, economies, and future product roadmaps Own the taxonomy for game data, ensuring all key performance metrics are measurable and can be analyzed efficiently. Present analytical findings as both written communication and visual representations that are clear, concise, and understandable, to both technical and nontechnical audiences. Build relationships with stakeholders and processes around data deliverables to ensure data driven decisions can be made at all levels across Tilting Point Collaborate with all teams at Tilting Point, driving and supporting data and analytics related projects with game team, User Acquisition, Marketing, Engineering, and more Your XP &amp; Skills Effectively communicate in English across verbal and written form. University degree (BA or BS) in Analytics, Economics, Mathematics, Statistics, Business Management, Information Systems, Computer Science or a related field 3+ years of work experience as a data analyst or scientist, supporting consumerfacing products, mobile app/game preferred Proficient with SQL 2+ years with Python/R a plus Adept in at least one visualization tool such as Tableau Familiarity with Py Spark and/or Amplitude a plus Passionate about mobile/social gaming with a good understanding of the market.</td>\n",
       "      <td>data analyst</td>\n",
       "    </tr>\n",
       "    <tr>\n",
       "      <th>1</th>\n",
       "      <td>data analyst (operations team)</td>\n",
       "      <td>Holaluz</td>\n",
       "      <td>Barcelona, Catalonia, Spain</td>\n",
       "      <td>On-site</td>\n",
       "      <td>Description Quienes somos? Somos Holaluz, la empresa que lleva una decada revolucionando el sector energetico. Nacimos para cambiar el mundo conectando a las personas con la energia verde , y tu y el planeta sois nuestra motivacion para ser como somos y hacer lo que hacemos. Nuestra voluntad de hacer las cosas de un modo distinto, nos ha llevado a liderar la transformacion del sector electrico y a ser la primera electrica en obtener el certificado BCorp. Te sumas? Unete a la revolucion. Que haras? Formaras parte del Chapter de Data Analytics, con foco en el area de Operaciones. Que esperamos de ti? Identificar las grandes necesidades de Data Analytics dentro del area de Operaciones y transformarlas en proyectos que impacten positivamente sus OKRs. Transformar los datos relativos a Operaciones y Customer Care en Insights accionables que mejoren la satisfaccion de nuestras clientas y que hagan mas eficiente el trabajo del equipo del area de Operaciones. Tambien tendras que comunicar toda la informacion critica e insights a otros departamentos relevantes y a la empresa en general ya que Holaluz trabaja por y para el cliente. Mentorizar y dar soporte al resto de integrantes del equipo de Data Analytics que trabajan en el equipo de Customer Care y en Operaciones. El objetivo es ayudarles en su crecimiento profesional Realizar la interlocucion con todos los integrantes del area de Operaciones para asegurar que se cumplen los OKRs definidos y que tambien se atienden las necesidades surgidas del dia a dia. Deberas contribuir en la mejora continua del area y para ello tendras que empaparte de los procesos, la operativa y los retos para poder proponer mejoras Participar activamente en la mejora continua del Chapter de Data Analytics: identificacion de best practices, priorizacion de proyectos, puesta en marcha de modelos de Machine Learning, etc. Desarrollar una planificacion clara y estructurada de los datos con el objetivo de identificar las oportunidades de mejora y conocer que necesita el cliente externo e interno. Trabajar en la configuracion de la infraestructura de datos de Operaciones que impacta en la gestion del cliente, incluidas las plataformas de analisis, almacenamiento y reporte de datos. Esta tarea la realizaras con el apoyo del Chapter de Data Analytics Y como # Say Things As They Are es uno de nuestros valores, queremos ser claros y transparentes en explicarte que haras durante tus primeros 6 meses en Holaluz. En 1 mes... Despues del primer mes ya sabras como esta todo montado, te habras empapado de la cultura y la vision, te habras reunido con todos los equipos y sabras que es lo que hacen y que necesitan. Empezaras a analizar las decisiones que han hecho los diferentes equipos y areas para empezar a enfrentarte a tus primeros retos. Tambien habras ido a comer algun dia con las personas del equipo, habras asistido a algunas de las sesiones que hacemos con el objetivo de que fluya el conocimiento. En 3 meses... Seguro que ya habras tomado muchas decisiones sobre como aportar en Operaciones y en el Chapter de Data Analytics. Estaras trabajando codo a codo con tus colegas, en otras palabras, habras visto la LUZ. Habras disfrutado de algun team building con el equipo y habras tenido la oportunidad de hacer mas de una presentacion. En 6 meses... Tendras (casi) todo bajo control y habras contribuido en la madurez y crecimiento de tu equipo. Habras aportado valor mas alla de tu equipo compartiendo conocimiento, y haciendo valer toda tu experiencia para mejorar el area de Operaciones y el Chapter de Data Analytics. Ademas, habras tenido varias reuniones con tu responsable para saber como te sientes en tus primeros meses con Holaluz. Como lo haras? Otro de nuestros valores es # Keep Rowing o seguir remando, lo que significa que el trabajo en equipo y la alineacion del mismo es fundamental para poder avanzar y hacer frente a nuestros objetivos compartidos. En Holaluz hemos construido un sistema organizativo robusto y en constante iteracion, que nos permite adaptarnos a los constantes cambios que demanda la industria y lograr el proposito que perseguimos. En Holaluz las reuniones y decisiones se toman de forma colaborativa, fluye el feedback entre los diferentes equipos y se fomenta el apoyo entre personas. Con quien lo haras? # Always People First es tambien un valor muy importante en Holaluz, y para nosotros es clave tener un buen equipo de trabajo, por eso te explicamos que somos un equipo de unas 800 personas con un ambiente inmejorable, y con las que tendras la oportunidad de trabajar en tu dia a dia. Ademas, trabajaras de la maño con Adria y Victor de tu equipo de Data y junto con tus stakeholders. Sabias que nuestro Chapter de Analytics esta compuesto por casi el 50% de talento femenino? ! Te presentamos a dos companeras! Marta Matematica, valenciana y gran aficionada al baloncesto. Es muy fan de hacer listas para todo y darle un toque de humor a cada reunion. Marta combina sus multiples hobbies con su pasion por una visualizacion bien estructurada. Y a pesar de tener muchas reuniones, si le ofreces tomar un cafe mientras comentais algun tema, aceptara sin dudarlo. Elia Es la mas joven del equipo pero desborda sabiduria. Elia es una optimista incorregible con un don para encontrar el lado bueno de las cosas. En 5min te contagiara su buen rollo. A la catalana del equipo le encanta la escalada y siempre busca nuevos retos con unas ganas inagotables por aprender de otras areas. El saber no ocupa lugar. Donde lo haras? Que mejor lugar para hacerlo que en nuestras oficinas de Barcelona a solo 200 metros del mar. Esta excepcional ubicacion al lado de la playa es perfecta para hacer un break con chapuzon y poder poner en practica otro de nuestros valores # Have Fun. Requirements Que necesitamos? Hemos pensado muy muy bien lo que buscamos y lo que de verdad importa: Licenciatura en Ciencias Empresariales/Economicas, Matematicas o Ingenieria. Mas de 5 años de experiencia en el campo de Data Analytics, y solvencia en el uso de SQL y de Python Habilidades analiticas de alto nivel y capacidad de traducir informacion en insights accionables y en informes concisos. Storytelling y capacidad de comunicar las conclusiones de tus analisis. Capacidad para trabajar eficazmente en equipo. Gran atencion a los detalles. No hace falta que seas Shakespeare, pero si que puedas comunicarte en Ingles. Todo suma, asi que si tienes alguna de estas cosas SUMA Y SIGUE: Formacion y experiencia en analisis de datos y en el uso de modelos de analitica avanzada y Machine Learning. Elaboracion de dashboards. Conocimientos de Power BI. Requisitos deseables: Orientacion al Cliente. Capacidad para mantener relaciones interpersonales. Alta capacidad de implicacion, dedicacion y motivacion. Elevada orientacion a la consecucion de objetivos y al cumplimiento de resultados. Excelente capacidad de analisis. Benefits Que ofrecemos? Otro de los valores que nos caracteriza en Holaluz es # Es Posible. Por ello, ofrecemos una serie de medidas para que puedas desarrollarte 360o y conseguir todo aquello que te propongas, tanto a nivel personal como profesional: La mayor fuente de nuestra energia: !nuestra gente! Unete a una empresa donde las personas son lo primero, con un ambiente de trabajo inmejorable y un gran talento donde realmente vivimos nuestros valores. Para ello ofrecemos una serie de ventajas y beneficios que te permitiran estar apoyado tanto a nivel personal como profesional. SOSTENIBILIDAD Unete a la primera empresa de servicios electricos con certificacion B Corp de Europa, y actualmente # 1 en el ranking mundial ESG para companias electricas. Tarifa competitiva de movilidad sostenible con e Cooltra. Se trata de bicicletas y patinetes electricos, para que puedas llegar a la oficina de forma rapida y economica, utilizando un transporte individual y ecologico. SALUD Y BIENESTAR Seguro medico privado con Adeslas. Suscripcion de gimnasio a Andjoy (Gympass). Fruta ecologica todos los dias. Te y cafe en la oficina. EQUILIBRIO TRABAJOVIDA Regimen de Retribucion Flexible en guarderia, transporte y comida con Cobee. Tarifa Wifi competitiva con Unique. Creemos en la autonomia y la responsabilidad personal por lo que ofrecemos horarios de trabajo flexibles y la opcion de trabajar de forma remota 6 dias al mes (19 por trimestre). Referencias: obten recompensas si contratamos a personas talentosas que tu nos recomiendes para que se unan a Holaluz. Parking mejores tarifas en W Hotel. Como empresa certificada Baby Friendly: Guarderia interna para ayudar a integrar vida y trabajo a las nuevas familias.\" Casals\" (campamentos durante los largos meses de veraño pero tambien en otras vacaciones). AUTODESARROLLO Eventos de creacion de equipos. Acceso a contenidos de formacion. Biblioteca propia, con contenidos muy diversos. Clases de idiomas gratuitas en clases de ingles, castellaño y catalan. \" Celebramos la diversidad en el mundo y queremos que nuestro equipo refleje esto de manera inclusiva. En Holaluz, estamos comprometidos con la igualdad de oportunidades de empleo independientemente de la etnia, religion, sexo, origen nacional, orientacion sexual, edad, estado civil, discapacidad, genero, identidad o expresion de genero. Ademas, nos esforzamos por empoderar a las mujeres en el lugar de trabajo.\"</td>\n",
       "      <td>data analyst</td>\n",
       "    </tr>\n",
       "  </tbody>\n",
       "</table>\n",
       "</div>"
      ],
      "text/plain": [
       "                            title        company                     location  \\\n",
       "0        senior game data analyst  Tilting Point  Barcelona, Catalonia, Spain   \n",
       "1  data analyst (operations team)        Holaluz  Barcelona, Catalonia, Spain   \n",
       "\n",
       "  modality  \\\n",
       "0   Hybrid   \n",
       "1  On-site   \n",
       "\n",
       "                                                                                                                                                                                                                                                                                                                                                                                                                                                                                                                                                                                                                                                                                                                                                                                                                                                                                                                                                                                                                                                                                                                                                                                                                                                                                                                                                                                                                                                                                                                                                                                                                                                                                                                                                                                                                                                                                                                                                                                                                                                                                                                                                                                                                                                                                                                                                                                                                                                                                                                                                                                                                                                                                                                                                                                                                                                                                                                                                                                                                                                                                                                                                                                                                                                                                                                                                                                                                                                                                                                                                                                                                                                                                                                                                                                                                                                                                                                                                                                                                                                                                                                                                                                                                                                                                                                                                                                                                                                                                                                                                                                                                                                                                                                                                                                                                                                                                                                                                                                                                                                                                                                                                                                                                                                                                                                                                                                                                                                                                                                                                                                                                                                                                                                                                                                                                                                                                                                                                                                                                                                                                                                                                                                                                                                                                                                                                                                                                                                                                                                                                                                                                                                                                                                                                                                                                                                                                                                                                                                                                                                                                                                                                                                                                                                                                                                                                                                                                                                                                                                                                                                                                                                                                                                                                                                                                                                                                                                                                                                                                                                                                                                                                                                                                                                                                                                                                                                                                                                                                                                                                                                                                                                                                                                                                                                                                                                                                                                                                                                                                                                                                                                                                                                                                                                                                                                                                                                                                                                                                                                                                                                                                                                                                                       description  \\\n",
       "0                                                                                                                                                                                                                                                                                                                                                                                                                                                                                                                                                                                                                                                                                                                                                                                                                                                                                                                                                                                                                                                                                                                                                                                                                                                                                                                                                                                                                                                                                                                                                                                                                                                                                                                                                                                                                                                                                                                                                                                                                                                                                                                                                                                                                                                                                                                                                                                                                                                                                                                                                                                                                                                                                                                                                                                                                                                                                                                                                                                                                                                                                                                                                                                                                                                                                                                                                                                                                                                                                                                                                                                                                                                                                                                                                                                                                                                                                                                                                                                                                                                                                                                                                                                                                                                                                                                                                                                                                                                                                                                                                                                                                                                                                                                                                                                                                                                                                                                                                                                                                                                                                                                                                                                                                                                                                                                                                                                                                                                                                                                                                                                                                                                                                                                                                                                                                                                                                                                                                                                                                                                                                                                                                                                                                                                                                                                                                                                                                                                                                                                                                                                                                                                                                                                                                                                                                                                                                                                                                                                                                                                                                                                                                                                                                                                                                                                                                                                                                                                                                                                                                                                                                                                                                                                                                                                                                   At Tilting Point, we combine data, technology, talent and groundbreaking marketing to scale games to success. As the Senior Game Data Analyst, you will work closely with game teams to help inform decisionmaking regarding features of the game, balancing, player interactions, finding hidden opportunities and much more. Your Future at Tilting Point Analyze large, complex datasets to address adhoc and longterm operational and strategic business questions Draw meaningful conclusions and provide actionable insights from data to shape and influence ingame features, economies, and future product roadmaps Own the taxonomy for game data, ensuring all key performance metrics are measurable and can be analyzed efficiently. Present analytical findings as both written communication and visual representations that are clear, concise, and understandable, to both technical and nontechnical audiences. Build relationships with stakeholders and processes around data deliverables to ensure data driven decisions can be made at all levels across Tilting Point Collaborate with all teams at Tilting Point, driving and supporting data and analytics related projects with game team, User Acquisition, Marketing, Engineering, and more Your XP & Skills Effectively communicate in English across verbal and written form. University degree (BA or BS) in Analytics, Economics, Mathematics, Statistics, Business Management, Information Systems, Computer Science or a related field 3+ years of work experience as a data analyst or scientist, supporting consumerfacing products, mobile app/game preferred Proficient with SQL 2+ years with Python/R a plus Adept in at least one visualization tool such as Tableau Familiarity with Py Spark and/or Amplitude a plus Passionate about mobile/social gaming with a good understanding of the market.   \n",
       "1  Description Quienes somos? Somos Holaluz, la empresa que lleva una decada revolucionando el sector energetico. Nacimos para cambiar el mundo conectando a las personas con la energia verde , y tu y el planeta sois nuestra motivacion para ser como somos y hacer lo que hacemos. Nuestra voluntad de hacer las cosas de un modo distinto, nos ha llevado a liderar la transformacion del sector electrico y a ser la primera electrica en obtener el certificado BCorp. Te sumas? Unete a la revolucion. Que haras? Formaras parte del Chapter de Data Analytics, con foco en el area de Operaciones. Que esperamos de ti? Identificar las grandes necesidades de Data Analytics dentro del area de Operaciones y transformarlas en proyectos que impacten positivamente sus OKRs. Transformar los datos relativos a Operaciones y Customer Care en Insights accionables que mejoren la satisfaccion de nuestras clientas y que hagan mas eficiente el trabajo del equipo del area de Operaciones. Tambien tendras que comunicar toda la informacion critica e insights a otros departamentos relevantes y a la empresa en general ya que Holaluz trabaja por y para el cliente. Mentorizar y dar soporte al resto de integrantes del equipo de Data Analytics que trabajan en el equipo de Customer Care y en Operaciones. El objetivo es ayudarles en su crecimiento profesional Realizar la interlocucion con todos los integrantes del area de Operaciones para asegurar que se cumplen los OKRs definidos y que tambien se atienden las necesidades surgidas del dia a dia. Deberas contribuir en la mejora continua del area y para ello tendras que empaparte de los procesos, la operativa y los retos para poder proponer mejoras Participar activamente en la mejora continua del Chapter de Data Analytics: identificacion de best practices, priorizacion de proyectos, puesta en marcha de modelos de Machine Learning, etc. Desarrollar una planificacion clara y estructurada de los datos con el objetivo de identificar las oportunidades de mejora y conocer que necesita el cliente externo e interno. Trabajar en la configuracion de la infraestructura de datos de Operaciones que impacta en la gestion del cliente, incluidas las plataformas de analisis, almacenamiento y reporte de datos. Esta tarea la realizaras con el apoyo del Chapter de Data Analytics Y como # Say Things As They Are es uno de nuestros valores, queremos ser claros y transparentes en explicarte que haras durante tus primeros 6 meses en Holaluz. En 1 mes... Despues del primer mes ya sabras como esta todo montado, te habras empapado de la cultura y la vision, te habras reunido con todos los equipos y sabras que es lo que hacen y que necesitan. Empezaras a analizar las decisiones que han hecho los diferentes equipos y areas para empezar a enfrentarte a tus primeros retos. Tambien habras ido a comer algun dia con las personas del equipo, habras asistido a algunas de las sesiones que hacemos con el objetivo de que fluya el conocimiento. En 3 meses... Seguro que ya habras tomado muchas decisiones sobre como aportar en Operaciones y en el Chapter de Data Analytics. Estaras trabajando codo a codo con tus colegas, en otras palabras, habras visto la LUZ. Habras disfrutado de algun team building con el equipo y habras tenido la oportunidad de hacer mas de una presentacion. En 6 meses... Tendras (casi) todo bajo control y habras contribuido en la madurez y crecimiento de tu equipo. Habras aportado valor mas alla de tu equipo compartiendo conocimiento, y haciendo valer toda tu experiencia para mejorar el area de Operaciones y el Chapter de Data Analytics. Ademas, habras tenido varias reuniones con tu responsable para saber como te sientes en tus primeros meses con Holaluz. Como lo haras? Otro de nuestros valores es # Keep Rowing o seguir remando, lo que significa que el trabajo en equipo y la alineacion del mismo es fundamental para poder avanzar y hacer frente a nuestros objetivos compartidos. En Holaluz hemos construido un sistema organizativo robusto y en constante iteracion, que nos permite adaptarnos a los constantes cambios que demanda la industria y lograr el proposito que perseguimos. En Holaluz las reuniones y decisiones se toman de forma colaborativa, fluye el feedback entre los diferentes equipos y se fomenta el apoyo entre personas. Con quien lo haras? # Always People First es tambien un valor muy importante en Holaluz, y para nosotros es clave tener un buen equipo de trabajo, por eso te explicamos que somos un equipo de unas 800 personas con un ambiente inmejorable, y con las que tendras la oportunidad de trabajar en tu dia a dia. Ademas, trabajaras de la maño con Adria y Victor de tu equipo de Data y junto con tus stakeholders. Sabias que nuestro Chapter de Analytics esta compuesto por casi el 50% de talento femenino? ! Te presentamos a dos companeras! Marta Matematica, valenciana y gran aficionada al baloncesto. Es muy fan de hacer listas para todo y darle un toque de humor a cada reunion. Marta combina sus multiples hobbies con su pasion por una visualizacion bien estructurada. Y a pesar de tener muchas reuniones, si le ofreces tomar un cafe mientras comentais algun tema, aceptara sin dudarlo. Elia Es la mas joven del equipo pero desborda sabiduria. Elia es una optimista incorregible con un don para encontrar el lado bueno de las cosas. En 5min te contagiara su buen rollo. A la catalana del equipo le encanta la escalada y siempre busca nuevos retos con unas ganas inagotables por aprender de otras areas. El saber no ocupa lugar. Donde lo haras? Que mejor lugar para hacerlo que en nuestras oficinas de Barcelona a solo 200 metros del mar. Esta excepcional ubicacion al lado de la playa es perfecta para hacer un break con chapuzon y poder poner en practica otro de nuestros valores # Have Fun. Requirements Que necesitamos? Hemos pensado muy muy bien lo que buscamos y lo que de verdad importa: Licenciatura en Ciencias Empresariales/Economicas, Matematicas o Ingenieria. Mas de 5 años de experiencia en el campo de Data Analytics, y solvencia en el uso de SQL y de Python Habilidades analiticas de alto nivel y capacidad de traducir informacion en insights accionables y en informes concisos. Storytelling y capacidad de comunicar las conclusiones de tus analisis. Capacidad para trabajar eficazmente en equipo. Gran atencion a los detalles. No hace falta que seas Shakespeare, pero si que puedas comunicarte en Ingles. Todo suma, asi que si tienes alguna de estas cosas SUMA Y SIGUE: Formacion y experiencia en analisis de datos y en el uso de modelos de analitica avanzada y Machine Learning. Elaboracion de dashboards. Conocimientos de Power BI. Requisitos deseables: Orientacion al Cliente. Capacidad para mantener relaciones interpersonales. Alta capacidad de implicacion, dedicacion y motivacion. Elevada orientacion a la consecucion de objetivos y al cumplimiento de resultados. Excelente capacidad de analisis. Benefits Que ofrecemos? Otro de los valores que nos caracteriza en Holaluz es # Es Posible. Por ello, ofrecemos una serie de medidas para que puedas desarrollarte 360o y conseguir todo aquello que te propongas, tanto a nivel personal como profesional: La mayor fuente de nuestra energia: !nuestra gente! Unete a una empresa donde las personas son lo primero, con un ambiente de trabajo inmejorable y un gran talento donde realmente vivimos nuestros valores. Para ello ofrecemos una serie de ventajas y beneficios que te permitiran estar apoyado tanto a nivel personal como profesional. SOSTENIBILIDAD Unete a la primera empresa de servicios electricos con certificacion B Corp de Europa, y actualmente # 1 en el ranking mundial ESG para companias electricas. Tarifa competitiva de movilidad sostenible con e Cooltra. Se trata de bicicletas y patinetes electricos, para que puedas llegar a la oficina de forma rapida y economica, utilizando un transporte individual y ecologico. SALUD Y BIENESTAR Seguro medico privado con Adeslas. Suscripcion de gimnasio a Andjoy (Gympass). Fruta ecologica todos los dias. Te y cafe en la oficina. EQUILIBRIO TRABAJOVIDA Regimen de Retribucion Flexible en guarderia, transporte y comida con Cobee. Tarifa Wifi competitiva con Unique. Creemos en la autonomia y la responsabilidad personal por lo que ofrecemos horarios de trabajo flexibles y la opcion de trabajar de forma remota 6 dias al mes (19 por trimestre). Referencias: obten recompensas si contratamos a personas talentosas que tu nos recomiendes para que se unan a Holaluz. Parking mejores tarifas en W Hotel. Como empresa certificada Baby Friendly: Guarderia interna para ayudar a integrar vida y trabajo a las nuevas familias.\" Casals\" (campamentos durante los largos meses de veraño pero tambien en otras vacaciones). AUTODESARROLLO Eventos de creacion de equipos. Acceso a contenidos de formacion. Biblioteca propia, con contenidos muy diversos. Clases de idiomas gratuitas en clases de ingles, castellaño y catalan. \" Celebramos la diversidad en el mundo y queremos que nuestro equipo refleje esto de manera inclusiva. En Holaluz, estamos comprometidos con la igualdad de oportunidades de empleo independientemente de la etnia, religion, sexo, origen nacional, orientacion sexual, edad, estado civil, discapacidad, genero, identidad o expresion de genero. Ademas, nos esforzamos por empoderar a las mujeres en el lugar de trabajo.\"   \n",
       "\n",
       "       position  \n",
       "0  data analyst  \n",
       "1  data analyst  "
      ]
     },
     "execution_count": 150,
     "metadata": {},
     "output_type": "execute_result"
    }
   ],
   "source": [
    "df.head(2)"
   ]
  },
  {
   "cell_type": "code",
   "execution_count": null,
   "id": "8b993c9a",
   "metadata": {},
   "outputs": [],
   "source": []
  },
  {
   "cell_type": "code",
   "execution_count": 151,
   "id": "860ce070",
   "metadata": {},
   "outputs": [
    {
     "name": "stdout",
     "output_type": "stream",
     "text": [
      "showing info https://raw.githubusercontent.com/nltk/nltk_data/gh-pages/index.xml\n"
     ]
    },
    {
     "name": "stderr",
     "output_type": "stream",
     "text": [
      "[nltk_data] Downloading package punkt to\n",
      "[nltk_data]     /Users/albertcoca/nltk_data...\n",
      "[nltk_data]   Package punkt is already up-to-date!\n",
      "[nltk_data] Downloading package stopwords to\n",
      "[nltk_data]     /Users/albertcoca/nltk_data...\n",
      "[nltk_data]   Package stopwords is already up-to-date!\n",
      "[nltk_data] Downloading package wordnet to\n",
      "[nltk_data]     /Users/albertcoca/nltk_data...\n",
      "[nltk_data]   Package wordnet is already up-to-date!\n"
     ]
    },
    {
     "name": "stdout",
     "output_type": "stream",
     "text": [
      "Collecting es-core-news-sm==3.6.0\n",
      "  Downloading https://github.com/explosion/spacy-models/releases/download/es_core_news_sm-3.6.0/es_core_news_sm-3.6.0-py3-none-any.whl (12.9 MB)\n",
      "     ━━━━━━━━━━━━━━━━━━━━━━━━━━━━━━━━━━━━━━━━ 12.9/12.9 MB 6.2 MB/s eta 0:00:00\n",
      "Requirement already satisfied: spacy<3.7.0,>=3.6.0 in /Users/albertcoca/opt/anaconda3/lib/python3.9/site-packages (from es-core-news-sm==3.6.0) (3.6.0)\n",
      "Requirement already satisfied: setuptools in /Users/albertcoca/opt/anaconda3/lib/python3.9/site-packages (from spacy<3.7.0,>=3.6.0->es-core-news-sm==3.6.0) (63.4.1)\n",
      "Requirement already satisfied: requests<3.0.0,>=2.13.0 in /Users/albertcoca/opt/anaconda3/lib/python3.9/site-packages (from spacy<3.7.0,>=3.6.0->es-core-news-sm==3.6.0) (2.28.1)\n",
      "Requirement already satisfied: typer<0.10.0,>=0.3.0 in /Users/albertcoca/opt/anaconda3/lib/python3.9/site-packages (from spacy<3.7.0,>=3.6.0->es-core-news-sm==3.6.0) (0.9.0)\n",
      "Requirement already satisfied: pydantic!=1.8,!=1.8.1,<1.11.0,>=1.7.4 in /Users/albertcoca/opt/anaconda3/lib/python3.9/site-packages (from spacy<3.7.0,>=3.6.0->es-core-news-sm==3.6.0) (1.10.11)\n",
      "Requirement already satisfied: langcodes<4.0.0,>=3.2.0 in /Users/albertcoca/opt/anaconda3/lib/python3.9/site-packages (from spacy<3.7.0,>=3.6.0->es-core-news-sm==3.6.0) (3.3.0)\n",
      "Requirement already satisfied: wasabi<1.2.0,>=0.9.1 in /Users/albertcoca/opt/anaconda3/lib/python3.9/site-packages (from spacy<3.7.0,>=3.6.0->es-core-news-sm==3.6.0) (1.1.2)\n",
      "Requirement already satisfied: pathy>=0.10.0 in /Users/albertcoca/opt/anaconda3/lib/python3.9/site-packages (from spacy<3.7.0,>=3.6.0->es-core-news-sm==3.6.0) (0.10.2)\n",
      "Requirement already satisfied: spacy-loggers<2.0.0,>=1.0.0 in /Users/albertcoca/opt/anaconda3/lib/python3.9/site-packages (from spacy<3.7.0,>=3.6.0->es-core-news-sm==3.6.0) (1.0.4)\n",
      "Requirement already satisfied: tqdm<5.0.0,>=4.38.0 in /Users/albertcoca/opt/anaconda3/lib/python3.9/site-packages (from spacy<3.7.0,>=3.6.0->es-core-news-sm==3.6.0) (4.64.1)\n",
      "Requirement already satisfied: spacy-legacy<3.1.0,>=3.0.11 in /Users/albertcoca/opt/anaconda3/lib/python3.9/site-packages (from spacy<3.7.0,>=3.6.0->es-core-news-sm==3.6.0) (3.0.12)\n",
      "Requirement already satisfied: numpy>=1.15.0 in /Users/albertcoca/opt/anaconda3/lib/python3.9/site-packages (from spacy<3.7.0,>=3.6.0->es-core-news-sm==3.6.0) (1.21.5)\n",
      "Requirement already satisfied: packaging>=20.0 in /Users/albertcoca/opt/anaconda3/lib/python3.9/site-packages (from spacy<3.7.0,>=3.6.0->es-core-news-sm==3.6.0) (21.3)\n",
      "Requirement already satisfied: jinja2 in /Users/albertcoca/opt/anaconda3/lib/python3.9/site-packages (from spacy<3.7.0,>=3.6.0->es-core-news-sm==3.6.0) (2.11.3)\n",
      "Requirement already satisfied: cymem<2.1.0,>=2.0.2 in /Users/albertcoca/opt/anaconda3/lib/python3.9/site-packages (from spacy<3.7.0,>=3.6.0->es-core-news-sm==3.6.0) (2.0.7)\n",
      "Requirement already satisfied: smart-open<7.0.0,>=5.2.1 in /Users/albertcoca/opt/anaconda3/lib/python3.9/site-packages (from spacy<3.7.0,>=3.6.0->es-core-news-sm==3.6.0) (5.2.1)\n",
      "Requirement already satisfied: srsly<3.0.0,>=2.4.3 in /Users/albertcoca/opt/anaconda3/lib/python3.9/site-packages (from spacy<3.7.0,>=3.6.0->es-core-news-sm==3.6.0) (2.4.6)\n",
      "Requirement already satisfied: murmurhash<1.1.0,>=0.28.0 in /Users/albertcoca/opt/anaconda3/lib/python3.9/site-packages (from spacy<3.7.0,>=3.6.0->es-core-news-sm==3.6.0) (1.0.9)\n",
      "Requirement already satisfied: preshed<3.1.0,>=3.0.2 in /Users/albertcoca/opt/anaconda3/lib/python3.9/site-packages (from spacy<3.7.0,>=3.6.0->es-core-news-sm==3.6.0) (3.0.8)\n",
      "Requirement already satisfied: catalogue<2.1.0,>=2.0.6 in /Users/albertcoca/opt/anaconda3/lib/python3.9/site-packages (from spacy<3.7.0,>=3.6.0->es-core-news-sm==3.6.0) (2.0.8)\n",
      "Requirement already satisfied: thinc<8.2.0,>=8.1.8 in /Users/albertcoca/opt/anaconda3/lib/python3.9/site-packages (from spacy<3.7.0,>=3.6.0->es-core-news-sm==3.6.0) (8.1.10)\n",
      "Requirement already satisfied: pyparsing!=3.0.5,>=2.0.2 in /Users/albertcoca/opt/anaconda3/lib/python3.9/site-packages (from packaging>=20.0->spacy<3.7.0,>=3.6.0->es-core-news-sm==3.6.0) (3.0.9)\n",
      "Requirement already satisfied: typing-extensions>=4.2.0 in /Users/albertcoca/opt/anaconda3/lib/python3.9/site-packages (from pydantic!=1.8,!=1.8.1,<1.11.0,>=1.7.4->spacy<3.7.0,>=3.6.0->es-core-news-sm==3.6.0) (4.3.0)\n",
      "Requirement already satisfied: idna<4,>=2.5 in /Users/albertcoca/opt/anaconda3/lib/python3.9/site-packages (from requests<3.0.0,>=2.13.0->spacy<3.7.0,>=3.6.0->es-core-news-sm==3.6.0) (2.10)\n",
      "Requirement already satisfied: certifi>=2017.4.17 in /Users/albertcoca/opt/anaconda3/lib/python3.9/site-packages (from requests<3.0.0,>=2.13.0->spacy<3.7.0,>=3.6.0->es-core-news-sm==3.6.0) (2022.9.24)\n",
      "Requirement already satisfied: charset-normalizer<3,>=2 in /Users/albertcoca/opt/anaconda3/lib/python3.9/site-packages (from requests<3.0.0,>=2.13.0->spacy<3.7.0,>=3.6.0->es-core-news-sm==3.6.0) (2.0.4)\n",
      "Requirement already satisfied: urllib3<1.27,>=1.21.1 in /Users/albertcoca/opt/anaconda3/lib/python3.9/site-packages (from requests<3.0.0,>=2.13.0->spacy<3.7.0,>=3.6.0->es-core-news-sm==3.6.0) (1.26.11)\n",
      "Requirement already satisfied: blis<0.8.0,>=0.7.8 in /Users/albertcoca/opt/anaconda3/lib/python3.9/site-packages (from thinc<8.2.0,>=8.1.8->spacy<3.7.0,>=3.6.0->es-core-news-sm==3.6.0) (0.7.9)\n",
      "Requirement already satisfied: confection<1.0.0,>=0.0.1 in /Users/albertcoca/opt/anaconda3/lib/python3.9/site-packages (from thinc<8.2.0,>=8.1.8->spacy<3.7.0,>=3.6.0->es-core-news-sm==3.6.0) (0.1.0)\n",
      "Requirement already satisfied: click<9.0.0,>=7.1.1 in /Users/albertcoca/opt/anaconda3/lib/python3.9/site-packages (from typer<0.10.0,>=0.3.0->spacy<3.7.0,>=3.6.0->es-core-news-sm==3.6.0) (8.0.4)\n",
      "Requirement already satisfied: MarkupSafe>=0.23 in /Users/albertcoca/opt/anaconda3/lib/python3.9/site-packages (from jinja2->spacy<3.7.0,>=3.6.0->es-core-news-sm==3.6.0) (2.0.1)\n",
      "\u001b[38;5;2m✔ Download and installation successful\u001b[0m\n",
      "You can now load the package via spacy.load('es_core_news_sm')\n"
     ]
    }
   ],
   "source": [
    "import pandas as pd\n",
    "import nltk\n",
    "from nltk.corpus import stopwords\n",
    "from nltk.tokenize import word_tokenize\n",
    "from nltk.stem import WordNetLemmatizer\n",
    "import string\n",
    "import spacy\n",
    "nltk.download()\n",
    "\n",
    "nltk.download('punkt')\n",
    "nltk.download('stopwords')\n",
    "nltk.download('wordnet')\n",
    "\n",
    "# Descargar modelo de SpaCy\n",
    "spacy.cli.download(\"es_core_news_sm\")\n",
    "\n",
    "# Cargar modelo de SpaCy\n",
    "nlp = spacy.load(\"es_core_news_sm\")"
   ]
  },
  {
   "cell_type": "markdown",
   "id": "c1650961",
   "metadata": {},
   "source": [
    "- Let's convert list to string ('Description' column)"
   ]
  },
  {
   "cell_type": "code",
   "execution_count": null,
   "id": "2ca26b17",
   "metadata": {},
   "outputs": [],
   "source": []
  },
  {
   "cell_type": "code",
   "execution_count": 152,
   "id": "397fc0a6",
   "metadata": {},
   "outputs": [
    {
     "name": "stderr",
     "output_type": "stream",
     "text": [
      "/var/folders/q7/v3v0dp3x75b1z141v2hlcr3c0000gn/T/ipykernel_35550/868813695.py:2: SettingWithCopyWarning: \n",
      "A value is trying to be set on a copy of a slice from a DataFrame.\n",
      "Try using .loc[row_indexer,col_indexer] = value instead\n",
      "\n",
      "See the caveats in the documentation: https://pandas.pydata.org/pandas-docs/stable/user_guide/indexing.html#returning-a-view-versus-a-copy\n",
      "  df['description'] = df['description'].map(lambda x: tokenizer.tokenize(x.lower()))\n",
      "/var/folders/q7/v3v0dp3x75b1z141v2hlcr3c0000gn/T/ipykernel_35550/868813695.py:10: SettingWithCopyWarning: \n",
      "A value is trying to be set on a copy of a slice from a DataFrame.\n",
      "Try using .loc[row_indexer,col_indexer] = value instead\n",
      "\n",
      "See the caveats in the documentation: https://pandas.pydata.org/pandas-docs/stable/user_guide/indexing.html#returning-a-view-versus-a-copy\n",
      "  df['description'] = df['description'].apply(lemma)\n"
     ]
    }
   ],
   "source": [
    "tokenizer = RegexpTokenizer(r'\\w+')\n",
    "df['description'] = df['description'].map(lambda x: tokenizer.tokenize(x.lower()))\n",
    "# Removing stopwords\n",
    "stop_words = stopwords.words('english')\n",
    "#for index, des in df['description'].iteritems():\n",
    "    #df.iloc[index, 3] =  [w for w in des if not w in stop_words]\n",
    "# Lemmatization\n",
    "def lemma(text):\n",
    "    return [WordNetLemmatizer().lemmatize(w) for w in text]\n",
    "df['description'] = df['description'].apply(lemma)\n",
    "\n"
   ]
  },
  {
   "cell_type": "code",
   "execution_count": 153,
   "id": "740cbfac",
   "metadata": {},
   "outputs": [
    {
     "data": {
      "text/html": [
       "<div>\n",
       "<style scoped>\n",
       "    .dataframe tbody tr th:only-of-type {\n",
       "        vertical-align: middle;\n",
       "    }\n",
       "\n",
       "    .dataframe tbody tr th {\n",
       "        vertical-align: top;\n",
       "    }\n",
       "\n",
       "    .dataframe thead th {\n",
       "        text-align: right;\n",
       "    }\n",
       "</style>\n",
       "<table border=\"1\" class=\"dataframe\">\n",
       "  <thead>\n",
       "    <tr style=\"text-align: right;\">\n",
       "      <th></th>\n",
       "      <th>title</th>\n",
       "      <th>company</th>\n",
       "      <th>location</th>\n",
       "      <th>modality</th>\n",
       "      <th>description</th>\n",
       "      <th>position</th>\n",
       "    </tr>\n",
       "  </thead>\n",
       "  <tbody>\n",
       "    <tr>\n",
       "      <th>0</th>\n",
       "      <td>senior game data analyst</td>\n",
       "      <td>Tilting Point</td>\n",
       "      <td>Barcelona, Catalonia, Spain</td>\n",
       "      <td>Hybrid</td>\n",
       "      <td>[at, tilting, point, we, combine, data, technology, talent, and, groundbreaking, marketing, to, scale, game, to, success, a, the, senior, game, data, analyst, you, will, work, closely, with, game, team, to, help, inform, decisionmaking, regarding, feature, of, the, game, balancing, player, interaction, finding, hidden, opportunity, and, much, more, your, future, at, tilting, point, analyze, large, complex, datasets, to, address, adhoc, and, longterm, operational, and, strategic, business, question, draw, meaningful, conclusion, and, provide, actionable, insight, from, data, to, shape, and, influence, ingame, feature, economy, and, future, product, roadmaps, own, the, taxonomy, for, game, data, ensuring, all, key, performance, metric, are, measurable, and, ...]</td>\n",
       "      <td>data analyst</td>\n",
       "    </tr>\n",
       "    <tr>\n",
       "      <th>1</th>\n",
       "      <td>data analyst (operations team)</td>\n",
       "      <td>Holaluz</td>\n",
       "      <td>Barcelona, Catalonia, Spain</td>\n",
       "      <td>On-site</td>\n",
       "      <td>[description, quienes, somos, somos, holaluz, la, empresa, que, lleva, una, decada, revolucionando, el, sector, energetico, nacimos, para, cambiar, el, mundo, conectando, a, la, persona, con, la, energia, verde, y, tu, y, el, planeta, sois, nuestra, motivacion, para, ser, como, somos, y, hacer, lo, que, hacemos, nuestra, voluntad, de, hacer, la, cosas, de, un, modo, distinto, no, ha, llevado, a, liderar, la, transformacion, del, sector, electrico, y, a, ser, la, primera, electrica, en, obtener, el, certificado, bcorp, te, sumas, unete, a, la, revolucion, que, haras, formaras, parte, del, chapter, de, data, analytics, con, foco, en, el, area, de, operaciones, que, esperamos, ...]</td>\n",
       "      <td>data analyst</td>\n",
       "    </tr>\n",
       "  </tbody>\n",
       "</table>\n",
       "</div>"
      ],
      "text/plain": [
       "                            title        company                     location  \\\n",
       "0        senior game data analyst  Tilting Point  Barcelona, Catalonia, Spain   \n",
       "1  data analyst (operations team)        Holaluz  Barcelona, Catalonia, Spain   \n",
       "\n",
       "  modality  \\\n",
       "0   Hybrid   \n",
       "1  On-site   \n",
       "\n",
       "                                                                                                                                                                                                                                                                                                                                                                                                                                                                                                                                                                                                                                                                                                                                                                                          description  \\\n",
       "0  [at, tilting, point, we, combine, data, technology, talent, and, groundbreaking, marketing, to, scale, game, to, success, a, the, senior, game, data, analyst, you, will, work, closely, with, game, team, to, help, inform, decisionmaking, regarding, feature, of, the, game, balancing, player, interaction, finding, hidden, opportunity, and, much, more, your, future, at, tilting, point, analyze, large, complex, datasets, to, address, adhoc, and, longterm, operational, and, strategic, business, question, draw, meaningful, conclusion, and, provide, actionable, insight, from, data, to, shape, and, influence, ingame, feature, economy, and, future, product, roadmaps, own, the, taxonomy, for, game, data, ensuring, all, key, performance, metric, are, measurable, and, ...]   \n",
       "1                                                                                     [description, quienes, somos, somos, holaluz, la, empresa, que, lleva, una, decada, revolucionando, el, sector, energetico, nacimos, para, cambiar, el, mundo, conectando, a, la, persona, con, la, energia, verde, y, tu, y, el, planeta, sois, nuestra, motivacion, para, ser, como, somos, y, hacer, lo, que, hacemos, nuestra, voluntad, de, hacer, la, cosas, de, un, modo, distinto, no, ha, llevado, a, liderar, la, transformacion, del, sector, electrico, y, a, ser, la, primera, electrica, en, obtener, el, certificado, bcorp, te, sumas, unete, a, la, revolucion, que, haras, formaras, parte, del, chapter, de, data, analytics, con, foco, en, el, area, de, operaciones, que, esperamos, ...]   \n",
       "\n",
       "       position  \n",
       "0  data analyst  \n",
       "1  data analyst  "
      ]
     },
     "execution_count": 153,
     "metadata": {},
     "output_type": "execute_result"
    }
   ],
   "source": [
    "df.head(2)"
   ]
  },
  {
   "cell_type": "code",
   "execution_count": null,
   "id": "42379546",
   "metadata": {},
   "outputs": [],
   "source": []
  },
  {
   "cell_type": "code",
   "execution_count": null,
   "id": "4a34e0d0",
   "metadata": {},
   "outputs": [],
   "source": []
  },
  {
   "cell_type": "markdown",
   "id": "73261d50",
   "metadata": {},
   "source": [
    "# NLTK - Descriptions and titles"
   ]
  },
  {
   "cell_type": "code",
   "execution_count": 154,
   "id": "53a3c2dd",
   "metadata": {},
   "outputs": [
    {
     "name": "stderr",
     "output_type": "stream",
     "text": [
      "[nltk_data] Downloading package stopwords to\n",
      "[nltk_data]     /Users/albertcoca/nltk_data...\n",
      "[nltk_data]   Package stopwords is already up-to-date!\n",
      "[nltk_data] Downloading package punkt to\n",
      "[nltk_data]     /Users/albertcoca/nltk_data...\n",
      "[nltk_data]   Package punkt is already up-to-date!\n"
     ]
    },
    {
     "data": {
      "text/plain": [
       "True"
      ]
     },
     "execution_count": 154,
     "metadata": {},
     "output_type": "execute_result"
    }
   ],
   "source": [
    "import nltk\n",
    "from nltk.tokenize import word_tokenize\n",
    "from nltk.corpus import stopwords\n",
    "nltk.download('stopwords')\n",
    "nltk.download('punkt')\n",
    "\n",
    "\n",
    "\n",
    "\n",
    "\n",
    "\n",
    "\n"
   ]
  },
  {
   "cell_type": "markdown",
   "id": "de247a87",
   "metadata": {},
   "source": [
    "Descriptions"
   ]
  },
  {
   "cell_type": "code",
   "execution_count": 155,
   "id": "feb6f6e8",
   "metadata": {},
   "outputs": [],
   "source": [
    "all_des = []\n",
    "all_wrds = []\n",
    "for des in df['description']:\n",
    "    all_des.append(des)\n",
    "    for word in des:\n",
    "        all_wrds.append(word)\n",
    "all_wrds = [w.replace('visualisation', 'visualization') for w in all_wrds]\n",
    "all_wrds = [w.replace('modelling', 'modeling') for w in all_wrds]\n",
    "all_wrds = [w.replace('artificial intelligence', 'ai') for w in all_wrds]\n",
    "all_wrds = [w.replace('dashboarding', 'dashboard') for w in all_wrds]\n",
    "all_wrds = [w.replace('kpis', 'kpi') for w in all_wrds]\n",
    "all_wrds = [w.replace('report', 'reporting') for w in all_wrds]\n",
    "all_wrds = [w.replace('predict', 'prediction') for w in all_wrds]\n",
    "all_wrds = [w.replace('creative', 'creativity') for w in all_wrds]\n",
    "for l in all_wrds:\n",
    "    if l == 'team' and all_wrds[all_wrds.index(l) + 1] == 'working':\n",
    "        all_wrds[all_wrds.index(l) + 1] = 'work'\n",
    "descriptions = Text(all_wrds)"
   ]
  },
  {
   "cell_type": "code",
   "execution_count": 156,
   "id": "c828f249",
   "metadata": {},
   "outputs": [],
   "source": [
    "all_des_a = []\n",
    "all_des_s = []\n",
    "all_des_e = []\n",
    "for des in df[df['position'] == 'data analyst']['description']:\n",
    "    for word in des:\n",
    "        all_des_a.append(word)\n",
    "for des in df[df['position'] == 'data scientist']['description']:\n",
    "    for word in des:\n",
    "        all_des_s.append(word)\n",
    "for des in df[df['position'] == 'data engineer']['description']:\n",
    "    for word in des:\n",
    "        all_des_e.append(word)\n",
    "\n",
    "\n",
    "\n",
    "descriptions_a = Text(all_des_a)\n",
    "descriptions_s = Text(all_des_s)\n",
    "descriptions_e = Text(all_des_e)"
   ]
  },
  {
   "cell_type": "markdown",
   "id": "9c14fc85",
   "metadata": {},
   "source": [
    "titles"
   ]
  },
  {
   "cell_type": "code",
   "execution_count": 157,
   "id": "150c94af",
   "metadata": {},
   "outputs": [],
   "source": [
    "all_titles = []\n",
    "for title in df['title']:\n",
    "    for word in title:\n",
    "        all_titles.append(word)\n",
    "titles = Text(all_titles)"
   ]
  },
  {
   "cell_type": "code",
   "execution_count": 158,
   "id": "f76554f5",
   "metadata": {},
   "outputs": [
    {
     "name": "stderr",
     "output_type": "stream",
     "text": [
      "/var/folders/q7/v3v0dp3x75b1z141v2hlcr3c0000gn/T/ipykernel_35550/3170481636.py:10: SettingWithCopyWarning: \n",
      "A value is trying to be set on a copy of a slice from a DataFrame\n",
      "\n",
      "See the caveats in the documentation: https://pandas.pydata.org/pandas-docs/stable/user_guide/indexing.html#returning-a-view-versus-a-copy\n",
      "  df['description'][index] = d\n"
     ]
    }
   ],
   "source": [
    "for index, d in df['description'].iteritems():\n",
    "    d = [w.replace('visualisation', 'visualization') for w in d]\n",
    "    d = [w.replace('modelling', 'modeling') for w in d]\n",
    "    d = [w.replace('artificial intelligence', 'ai') for w in d]\n",
    "    d = [w.replace('dashboarding', 'dashboard') for w in d]\n",
    "    d = [w.replace('kpis', 'kpi') for w in d]\n",
    "    d = [w.replace('report', 'reporting') for w in d]\n",
    "    d = [w.replace('predict', 'prediction') for w in d]\n",
    "    d = [w.replace('creative', 'creativity') for w in d]\n",
    "    df['description'][index] = d"
   ]
  },
  {
   "cell_type": "markdown",
   "id": "0c4dd16a",
   "metadata": {},
   "source": [
    "# EXPERIENCE EXPLORATION"
   ]
  },
  {
   "cell_type": "code",
   "execution_count": 161,
   "id": "d6a5faa5",
   "metadata": {},
   "outputs": [
    {
     "name": "stdout",
     "output_type": "stream",
     "text": [
      "48\n",
      "11\n"
     ]
    }
   ],
   "source": [
    "#In the title\n",
    "seniority = 0\n",
    "juniority = 0\n",
    "\n",
    "for des in df['title']:\n",
    "    if 'senior' in des or 'sr' in des:\n",
    "        seniority += 1\n",
    "    elif 'junior' in des or 'jr' in des or 'intern' in des:\n",
    "        juniority += 1\n",
    "\n",
    "print(seniority)\n",
    "print(juniority)"
   ]
  },
  {
   "cell_type": "code",
   "execution_count": 162,
   "id": "95153785",
   "metadata": {},
   "outputs": [
    {
     "name": "stdout",
     "output_type": "stream",
     "text": [
      "47\n",
      "10\n"
     ]
    }
   ],
   "source": [
    "#In the descrption\n",
    "seniority = 0\n",
    "juniority = 0\n",
    "\n",
    "for des in df['description']:\n",
    "    if 'senior' in des or 'sr' in des:\n",
    "        seniority += 1\n",
    "    elif 'junior' in des or 'jr' in des or 'intern' in des:\n",
    "        juniority += 1\n",
    "\n",
    "print(seniority)\n",
    "print(juniority)\n"
   ]
  },
  {
   "cell_type": "markdown",
   "id": "18e7e286",
   "metadata": {},
   "source": [
    "# Lets segment it by experience"
   ]
  },
  {
   "cell_type": "code",
   "execution_count": 165,
   "id": "0ad1bd39",
   "metadata": {},
   "outputs": [],
   "source": [
    "seniority = []\n",
    "for des in df['description']:\n",
    "    if 'senior' in des or 'sr' in des:\n",
    "        seniority.append('senior')\n",
    "    elif 'junior' in des:\n",
    "        seniority.append('junior')\n",
    "    else:\n",
    "        try:\n",
    "            s = Text(des).concordance_list('year')[0]\n",
    "            try:\n",
    "                y = int(s[0][-1])\n",
    "                if y < 4:\n",
    "                    seniority.append('junior')\n",
    "                else:\n",
    "                    seniority.append('senior')\n",
    "            except ValueError:\n",
    "                seniority.append('unknown')\n",
    "        except IndexError:\n",
    "            seniority.append('unknown')"
   ]
  },
  {
   "cell_type": "code",
   "execution_count": 166,
   "id": "78045562",
   "metadata": {},
   "outputs": [
    {
     "name": "stderr",
     "output_type": "stream",
     "text": [
      "/var/folders/q7/v3v0dp3x75b1z141v2hlcr3c0000gn/T/ipykernel_35550/1420023064.py:1: SettingWithCopyWarning: \n",
      "A value is trying to be set on a copy of a slice from a DataFrame.\n",
      "Try using .loc[row_indexer,col_indexer] = value instead\n",
      "\n",
      "See the caveats in the documentation: https://pandas.pydata.org/pandas-docs/stable/user_guide/indexing.html#returning-a-view-versus-a-copy\n",
      "  df['seniority'] = seniority\n"
     ]
    },
    {
     "data": {
      "text/plain": [
       "unknown    95\n",
       "senior     75\n",
       "junior     30\n",
       "Name: seniority, dtype: int64"
      ]
     },
     "execution_count": 166,
     "metadata": {},
     "output_type": "execute_result"
    }
   ],
   "source": [
    "df['seniority'] = seniority\n",
    "df['seniority'].value_counts()"
   ]
  },
  {
   "cell_type": "markdown",
   "id": "567aa043",
   "metadata": {},
   "source": [
    "# Keywords (one of the most interesting parts)"
   ]
  },
  {
   "cell_type": "markdown",
   "id": "96efc4fc",
   "metadata": {},
   "source": [
    "TOOLS"
   ]
  },
  {
   "cell_type": "code",
   "execution_count": 167,
   "id": "c5f82e46",
   "metadata": {},
   "outputs": [],
   "source": [
    "tools = ['excel','qlik', 'python', 'r', 'sql', 'git', 'power bi', 'aws', 'azure', 'looker',\n",
    "        'agile', 'knime', 'matlab', 'tableau']"
   ]
  },
  {
   "cell_type": "markdown",
   "id": "63982cbe",
   "metadata": {},
   "source": [
    "HARD SKILLS"
   ]
  },
  {
   "cell_type": "code",
   "execution_count": 168,
   "id": "f74f6f25",
   "metadata": {},
   "outputs": [],
   "source": [
    "hard_skills = ['programming', 'machine learning','visualization',\n",
    "               'modeling','business analyst','research','deep learning', 'analytical skill',\n",
    "               'optimization', 'automation', 'ab', 'ai', 'dashboard',\n",
    "               'kpi', 'big data', 'data mining', 'etl', 'reporting', 'segmentation',\n",
    "               'business intelligence', 'natural language', 'prediction', 'algorithm']"
   ]
  },
  {
   "cell_type": "markdown",
   "id": "0e5f4773",
   "metadata": {},
   "source": [
    "SOFT SKILLS"
   ]
  },
  {
   "cell_type": "code",
   "execution_count": 169,
   "id": "799b7c88",
   "metadata": {},
   "outputs": [],
   "source": [
    "soft_skills = ['communication', 'client oriented', 'team work', 'presentation', 'management', 'decision making',\n",
    "              'creativity', 'curiosity', 'leadership', 'problem solving', 'attention detail',\n",
    "              'motivation', 'proactive', 'empathetic', ]"
   ]
  },
  {
   "cell_type": "markdown",
   "id": "7f547703",
   "metadata": {},
   "source": [
    "# EXTRACTION - KW"
   ]
  },
  {
   "cell_type": "code",
   "execution_count": 170,
   "id": "61578581",
   "metadata": {},
   "outputs": [],
   "source": [
    "tfidf = TfidfVectorizer(ngram_range=(1,2), token_pattern='(?u)\\\\b\\\\w+\\\\b')\n",
    "text = [' '.join(doc) for doc in df['description']]\n",
    "tfidf.fit(text)\n",
    "dtm = tfidf.transform(text)\n",
    "dtm = pd.DataFrame(dtm.todense(), columns=tfidf.get_feature_names_out())"
   ]
  },
  {
   "cell_type": "code",
   "execution_count": 171,
   "id": "bd69d1a8",
   "metadata": {},
   "outputs": [],
   "source": [
    "key_words = dtm.loc[:, dtm.columns.isin(tools + hard_skills + soft_skills)]\n"
   ]
  },
  {
   "cell_type": "markdown",
   "id": "f1912f3a",
   "metadata": {},
   "source": [
    "# KEYWORDS' DF"
   ]
  },
  {
   "cell_type": "code",
   "execution_count": 172,
   "id": "5e09cbc9",
   "metadata": {},
   "outputs": [],
   "source": [
    "df_key = pd.concat([df, key_words], axis=1)\n"
   ]
  },
  {
   "cell_type": "code",
   "execution_count": 173,
   "id": "095988fa",
   "metadata": {},
   "outputs": [],
   "source": [
    "df_key.drop(['description', 'title'], axis=1, inplace=True)\n"
   ]
  },
  {
   "cell_type": "code",
   "execution_count": 174,
   "id": "e59cbed2",
   "metadata": {},
   "outputs": [
    {
     "data": {
      "text/html": [
       "<div>\n",
       "<style scoped>\n",
       "    .dataframe tbody tr th:only-of-type {\n",
       "        vertical-align: middle;\n",
       "    }\n",
       "\n",
       "    .dataframe tbody tr th {\n",
       "        vertical-align: top;\n",
       "    }\n",
       "\n",
       "    .dataframe thead th {\n",
       "        text-align: right;\n",
       "    }\n",
       "</style>\n",
       "<table border=\"1\" class=\"dataframe\">\n",
       "  <thead>\n",
       "    <tr style=\"text-align: right;\">\n",
       "      <th></th>\n",
       "      <th>ab</th>\n",
       "      <th>agile</th>\n",
       "      <th>ai</th>\n",
       "      <th>algorithm</th>\n",
       "      <th>analytical skill</th>\n",
       "      <th>automation</th>\n",
       "      <th>aws</th>\n",
       "      <th>azure</th>\n",
       "      <th>big data</th>\n",
       "      <th>business analyst</th>\n",
       "      <th>...</th>\n",
       "      <th>python</th>\n",
       "      <th>qlik</th>\n",
       "      <th>r</th>\n",
       "      <th>reporting</th>\n",
       "      <th>research</th>\n",
       "      <th>segmentation</th>\n",
       "      <th>sql</th>\n",
       "      <th>tableau</th>\n",
       "      <th>team work</th>\n",
       "      <th>visualization</th>\n",
       "    </tr>\n",
       "    <tr>\n",
       "      <th>position</th>\n",
       "      <th></th>\n",
       "      <th></th>\n",
       "      <th></th>\n",
       "      <th></th>\n",
       "      <th></th>\n",
       "      <th></th>\n",
       "      <th></th>\n",
       "      <th></th>\n",
       "      <th></th>\n",
       "      <th></th>\n",
       "      <th></th>\n",
       "      <th></th>\n",
       "      <th></th>\n",
       "      <th></th>\n",
       "      <th></th>\n",
       "      <th></th>\n",
       "      <th></th>\n",
       "      <th></th>\n",
       "      <th></th>\n",
       "      <th></th>\n",
       "      <th></th>\n",
       "    </tr>\n",
       "  </thead>\n",
       "  <tbody>\n",
       "    <tr>\n",
       "      <th>data analyst</th>\n",
       "      <td>0.000693</td>\n",
       "      <td>0.002133</td>\n",
       "      <td>0.002794</td>\n",
       "      <td>0.000659</td>\n",
       "      <td>0.001844</td>\n",
       "      <td>0.003708</td>\n",
       "      <td>0.001177</td>\n",
       "      <td>0.003497</td>\n",
       "      <td>0.001957</td>\n",
       "      <td>0.000455</td>\n",
       "      <td>...</td>\n",
       "      <td>0.004932</td>\n",
       "      <td>0.001482</td>\n",
       "      <td>0.006205</td>\n",
       "      <td>0.009537</td>\n",
       "      <td>0.002993</td>\n",
       "      <td>0.000567</td>\n",
       "      <td>0.009209</td>\n",
       "      <td>0.008114</td>\n",
       "      <td>0.001108</td>\n",
       "      <td>0.009264</td>\n",
       "    </tr>\n",
       "    <tr>\n",
       "      <th>data engineer</th>\n",
       "      <td>0.000000</td>\n",
       "      <td>0.006779</td>\n",
       "      <td>0.006888</td>\n",
       "      <td>0.001659</td>\n",
       "      <td>0.000854</td>\n",
       "      <td>0.004842</td>\n",
       "      <td>0.009280</td>\n",
       "      <td>0.011478</td>\n",
       "      <td>0.007821</td>\n",
       "      <td>0.000671</td>\n",
       "      <td>...</td>\n",
       "      <td>0.008346</td>\n",
       "      <td>0.000920</td>\n",
       "      <td>0.002862</td>\n",
       "      <td>0.002993</td>\n",
       "      <td>0.002555</td>\n",
       "      <td>0.000000</td>\n",
       "      <td>0.012958</td>\n",
       "      <td>0.001220</td>\n",
       "      <td>0.001751</td>\n",
       "      <td>0.002555</td>\n",
       "    </tr>\n",
       "    <tr>\n",
       "      <th>data scientist</th>\n",
       "      <td>0.000815</td>\n",
       "      <td>0.003811</td>\n",
       "      <td>0.010927</td>\n",
       "      <td>0.012848</td>\n",
       "      <td>0.000000</td>\n",
       "      <td>0.001596</td>\n",
       "      <td>0.006608</td>\n",
       "      <td>0.002517</td>\n",
       "      <td>0.007143</td>\n",
       "      <td>0.000711</td>\n",
       "      <td>...</td>\n",
       "      <td>0.008883</td>\n",
       "      <td>0.001232</td>\n",
       "      <td>0.010254</td>\n",
       "      <td>0.003525</td>\n",
       "      <td>0.009485</td>\n",
       "      <td>0.005103</td>\n",
       "      <td>0.006424</td>\n",
       "      <td>0.002364</td>\n",
       "      <td>0.000000</td>\n",
       "      <td>0.008003</td>\n",
       "    </tr>\n",
       "  </tbody>\n",
       "</table>\n",
       "<p>3 rows × 49 columns</p>\n",
       "</div>"
      ],
      "text/plain": [
       "                      ab     agile        ai  algorithm  analytical skill  \\\n",
       "position                                                                    \n",
       "data analyst    0.000693  0.002133  0.002794   0.000659          0.001844   \n",
       "data engineer   0.000000  0.006779  0.006888   0.001659          0.000854   \n",
       "data scientist  0.000815  0.003811  0.010927   0.012848          0.000000   \n",
       "\n",
       "                automation       aws     azure  big data  business analyst  \\\n",
       "position                                                                     \n",
       "data analyst      0.003708  0.001177  0.003497  0.001957          0.000455   \n",
       "data engineer     0.004842  0.009280  0.011478  0.007821          0.000671   \n",
       "data scientist    0.001596  0.006608  0.002517  0.007143          0.000711   \n",
       "\n",
       "                ...    python      qlik         r  reporting  research  \\\n",
       "position        ...                                                      \n",
       "data analyst    ...  0.004932  0.001482  0.006205   0.009537  0.002993   \n",
       "data engineer   ...  0.008346  0.000920  0.002862   0.002993  0.002555   \n",
       "data scientist  ...  0.008883  0.001232  0.010254   0.003525  0.009485   \n",
       "\n",
       "                segmentation       sql   tableau  team work  visualization  \n",
       "position                                                                    \n",
       "data analyst        0.000567  0.009209  0.008114   0.001108       0.009264  \n",
       "data engineer       0.000000  0.012958  0.001220   0.001751       0.002555  \n",
       "data scientist      0.005103  0.006424  0.002364   0.000000       0.008003  \n",
       "\n",
       "[3 rows x 49 columns]"
      ]
     },
     "execution_count": 174,
     "metadata": {},
     "output_type": "execute_result"
    }
   ],
   "source": [
    "df_key.groupby('position').agg('mean')\n"
   ]
  },
  {
   "cell_type": "code",
   "execution_count": 175,
   "id": "08bc082f",
   "metadata": {},
   "outputs": [],
   "source": [
    "df_key.to_csv('df_keys.csv', index=None, header=True)\n"
   ]
  },
  {
   "cell_type": "code",
   "execution_count": 176,
   "id": "8172005c",
   "metadata": {},
   "outputs": [
    {
     "data": {
      "text/html": [
       "<div>\n",
       "<style scoped>\n",
       "    .dataframe tbody tr th:only-of-type {\n",
       "        vertical-align: middle;\n",
       "    }\n",
       "\n",
       "    .dataframe tbody tr th {\n",
       "        vertical-align: top;\n",
       "    }\n",
       "\n",
       "    .dataframe thead th {\n",
       "        text-align: right;\n",
       "    }\n",
       "</style>\n",
       "<table border=\"1\" class=\"dataframe\">\n",
       "  <thead>\n",
       "    <tr style=\"text-align: right;\">\n",
       "      <th></th>\n",
       "      <th>company</th>\n",
       "      <th>location</th>\n",
       "      <th>modality</th>\n",
       "      <th>position</th>\n",
       "      <th>seniority</th>\n",
       "      <th>ab</th>\n",
       "      <th>agile</th>\n",
       "      <th>ai</th>\n",
       "      <th>algorithm</th>\n",
       "      <th>analytical skill</th>\n",
       "      <th>...</th>\n",
       "      <th>python</th>\n",
       "      <th>qlik</th>\n",
       "      <th>r</th>\n",
       "      <th>reporting</th>\n",
       "      <th>research</th>\n",
       "      <th>segmentation</th>\n",
       "      <th>sql</th>\n",
       "      <th>tableau</th>\n",
       "      <th>team work</th>\n",
       "      <th>visualization</th>\n",
       "    </tr>\n",
       "  </thead>\n",
       "  <tbody>\n",
       "    <tr>\n",
       "      <th>0</th>\n",
       "      <td>Tilting Point</td>\n",
       "      <td>Barcelona, Catalonia, Spain</td>\n",
       "      <td>Hybrid</td>\n",
       "      <td>data analyst</td>\n",
       "      <td>senior</td>\n",
       "      <td>0.0</td>\n",
       "      <td>0.00000</td>\n",
       "      <td>0.000000</td>\n",
       "      <td>0.000000</td>\n",
       "      <td>0.00000</td>\n",
       "      <td>...</td>\n",
       "      <td>0.012842</td>\n",
       "      <td>0.0</td>\n",
       "      <td>0.021384</td>\n",
       "      <td>0.000000</td>\n",
       "      <td>0.000000</td>\n",
       "      <td>0.000000</td>\n",
       "      <td>0.013751</td>\n",
       "      <td>0.023149</td>\n",
       "      <td>0.0</td>\n",
       "      <td>0.020316</td>\n",
       "    </tr>\n",
       "    <tr>\n",
       "      <th>1</th>\n",
       "      <td>Holaluz</td>\n",
       "      <td>Barcelona, Catalonia, Spain</td>\n",
       "      <td>On-site</td>\n",
       "      <td>data analyst</td>\n",
       "      <td>unknown</td>\n",
       "      <td>0.0</td>\n",
       "      <td>0.00000</td>\n",
       "      <td>0.000000</td>\n",
       "      <td>0.000000</td>\n",
       "      <td>0.00000</td>\n",
       "      <td>...</td>\n",
       "      <td>0.002660</td>\n",
       "      <td>0.0</td>\n",
       "      <td>0.000000</td>\n",
       "      <td>0.000000</td>\n",
       "      <td>0.000000</td>\n",
       "      <td>0.000000</td>\n",
       "      <td>0.002849</td>\n",
       "      <td>0.000000</td>\n",
       "      <td>0.0</td>\n",
       "      <td>0.000000</td>\n",
       "    </tr>\n",
       "    <tr>\n",
       "      <th>2</th>\n",
       "      <td>IOMED</td>\n",
       "      <td>Barcelona, Catalonia, Spain</td>\n",
       "      <td>Hybrid</td>\n",
       "      <td>data engineer</td>\n",
       "      <td>junior</td>\n",
       "      <td>0.0</td>\n",
       "      <td>0.00000</td>\n",
       "      <td>0.029272</td>\n",
       "      <td>0.000000</td>\n",
       "      <td>0.00000</td>\n",
       "      <td>...</td>\n",
       "      <td>0.014710</td>\n",
       "      <td>0.0</td>\n",
       "      <td>0.000000</td>\n",
       "      <td>0.000000</td>\n",
       "      <td>0.028991</td>\n",
       "      <td>0.000000</td>\n",
       "      <td>0.023627</td>\n",
       "      <td>0.000000</td>\n",
       "      <td>0.0</td>\n",
       "      <td>0.000000</td>\n",
       "    </tr>\n",
       "    <tr>\n",
       "      <th>3</th>\n",
       "      <td>CGI</td>\n",
       "      <td>Spain</td>\n",
       "      <td>Remote</td>\n",
       "      <td>data analyst</td>\n",
       "      <td>junior</td>\n",
       "      <td>0.0</td>\n",
       "      <td>0.00000</td>\n",
       "      <td>0.000000</td>\n",
       "      <td>0.000000</td>\n",
       "      <td>0.00000</td>\n",
       "      <td>...</td>\n",
       "      <td>0.000000</td>\n",
       "      <td>0.0</td>\n",
       "      <td>0.000000</td>\n",
       "      <td>0.000000</td>\n",
       "      <td>0.000000</td>\n",
       "      <td>0.000000</td>\n",
       "      <td>0.000000</td>\n",
       "      <td>0.000000</td>\n",
       "      <td>0.0</td>\n",
       "      <td>0.000000</td>\n",
       "    </tr>\n",
       "    <tr>\n",
       "      <th>4</th>\n",
       "      <td>Olala Homes</td>\n",
       "      <td>Barcelona, Catalonia, Spain</td>\n",
       "      <td>Hybrid</td>\n",
       "      <td>data analyst</td>\n",
       "      <td>junior</td>\n",
       "      <td>0.0</td>\n",
       "      <td>0.00000</td>\n",
       "      <td>0.000000</td>\n",
       "      <td>0.000000</td>\n",
       "      <td>0.02439</td>\n",
       "      <td>...</td>\n",
       "      <td>0.000000</td>\n",
       "      <td>0.0</td>\n",
       "      <td>0.000000</td>\n",
       "      <td>0.041914</td>\n",
       "      <td>0.000000</td>\n",
       "      <td>0.022681</td>\n",
       "      <td>0.008438</td>\n",
       "      <td>0.000000</td>\n",
       "      <td>0.0</td>\n",
       "      <td>0.037398</td>\n",
       "    </tr>\n",
       "    <tr>\n",
       "      <th>...</th>\n",
       "      <td>...</td>\n",
       "      <td>...</td>\n",
       "      <td>...</td>\n",
       "      <td>...</td>\n",
       "      <td>...</td>\n",
       "      <td>...</td>\n",
       "      <td>...</td>\n",
       "      <td>...</td>\n",
       "      <td>...</td>\n",
       "      <td>...</td>\n",
       "      <td>...</td>\n",
       "      <td>...</td>\n",
       "      <td>...</td>\n",
       "      <td>...</td>\n",
       "      <td>...</td>\n",
       "      <td>...</td>\n",
       "      <td>...</td>\n",
       "      <td>...</td>\n",
       "      <td>...</td>\n",
       "      <td>...</td>\n",
       "      <td>...</td>\n",
       "    </tr>\n",
       "    <tr>\n",
       "      <th>195</th>\n",
       "      <td>Agoda</td>\n",
       "      <td>Barcelona, Catalonia, Spain</td>\n",
       "      <td>Unknown</td>\n",
       "      <td>data engineer</td>\n",
       "      <td>senior</td>\n",
       "      <td>0.0</td>\n",
       "      <td>0.01013</td>\n",
       "      <td>0.000000</td>\n",
       "      <td>0.000000</td>\n",
       "      <td>0.00000</td>\n",
       "      <td>...</td>\n",
       "      <td>0.017280</td>\n",
       "      <td>0.0</td>\n",
       "      <td>0.000000</td>\n",
       "      <td>0.000000</td>\n",
       "      <td>0.000000</td>\n",
       "      <td>0.000000</td>\n",
       "      <td>0.012336</td>\n",
       "      <td>0.000000</td>\n",
       "      <td>0.0</td>\n",
       "      <td>0.000000</td>\n",
       "    </tr>\n",
       "    <tr>\n",
       "      <th>196</th>\n",
       "      <td>AstraZeneca</td>\n",
       "      <td>Barcelona, Catalonia, Spain</td>\n",
       "      <td>Unknown</td>\n",
       "      <td>data scientist</td>\n",
       "      <td>senior</td>\n",
       "      <td>0.0</td>\n",
       "      <td>0.00000</td>\n",
       "      <td>0.029870</td>\n",
       "      <td>0.015711</td>\n",
       "      <td>0.00000</td>\n",
       "      <td>...</td>\n",
       "      <td>0.007505</td>\n",
       "      <td>0.0</td>\n",
       "      <td>0.000000</td>\n",
       "      <td>0.000000</td>\n",
       "      <td>0.029584</td>\n",
       "      <td>0.000000</td>\n",
       "      <td>0.000000</td>\n",
       "      <td>0.000000</td>\n",
       "      <td>0.0</td>\n",
       "      <td>0.011874</td>\n",
       "    </tr>\n",
       "    <tr>\n",
       "      <th>197</th>\n",
       "      <td>AstraZeneca</td>\n",
       "      <td>Barcelona, Catalonia, Spain</td>\n",
       "      <td>Unknown</td>\n",
       "      <td>data scientist</td>\n",
       "      <td>senior</td>\n",
       "      <td>0.0</td>\n",
       "      <td>0.00000</td>\n",
       "      <td>0.029870</td>\n",
       "      <td>0.015711</td>\n",
       "      <td>0.00000</td>\n",
       "      <td>...</td>\n",
       "      <td>0.007505</td>\n",
       "      <td>0.0</td>\n",
       "      <td>0.000000</td>\n",
       "      <td>0.000000</td>\n",
       "      <td>0.029584</td>\n",
       "      <td>0.000000</td>\n",
       "      <td>0.000000</td>\n",
       "      <td>0.000000</td>\n",
       "      <td>0.0</td>\n",
       "      <td>0.011874</td>\n",
       "    </tr>\n",
       "    <tr>\n",
       "      <th>198</th>\n",
       "      <td>AstraZeneca</td>\n",
       "      <td>Barcelona, Catalonia, Spain</td>\n",
       "      <td>Unknown</td>\n",
       "      <td>data scientist</td>\n",
       "      <td>unknown</td>\n",
       "      <td>0.0</td>\n",
       "      <td>0.00000</td>\n",
       "      <td>0.000000</td>\n",
       "      <td>0.000000</td>\n",
       "      <td>0.00000</td>\n",
       "      <td>...</td>\n",
       "      <td>0.006194</td>\n",
       "      <td>0.0</td>\n",
       "      <td>0.020627</td>\n",
       "      <td>0.000000</td>\n",
       "      <td>0.024413</td>\n",
       "      <td>0.000000</td>\n",
       "      <td>0.000000</td>\n",
       "      <td>0.000000</td>\n",
       "      <td>0.0</td>\n",
       "      <td>0.000000</td>\n",
       "    </tr>\n",
       "    <tr>\n",
       "      <th>199</th>\n",
       "      <td>AstraZeneca</td>\n",
       "      <td>Barcelona, Catalonia, Spain</td>\n",
       "      <td>Unknown</td>\n",
       "      <td>data scientist</td>\n",
       "      <td>senior</td>\n",
       "      <td>0.0</td>\n",
       "      <td>0.00000</td>\n",
       "      <td>0.000000</td>\n",
       "      <td>0.013918</td>\n",
       "      <td>0.00000</td>\n",
       "      <td>...</td>\n",
       "      <td>0.006649</td>\n",
       "      <td>0.0</td>\n",
       "      <td>0.011071</td>\n",
       "      <td>0.000000</td>\n",
       "      <td>0.039310</td>\n",
       "      <td>0.000000</td>\n",
       "      <td>0.000000</td>\n",
       "      <td>0.000000</td>\n",
       "      <td>0.0</td>\n",
       "      <td>0.010518</td>\n",
       "    </tr>\n",
       "  </tbody>\n",
       "</table>\n",
       "<p>200 rows × 54 columns</p>\n",
       "</div>"
      ],
      "text/plain": [
       "           company                     location modality        position  \\\n",
       "0    Tilting Point  Barcelona, Catalonia, Spain   Hybrid    data analyst   \n",
       "1          Holaluz  Barcelona, Catalonia, Spain  On-site    data analyst   \n",
       "2            IOMED  Barcelona, Catalonia, Spain   Hybrid   data engineer   \n",
       "3              CGI                        Spain   Remote    data analyst   \n",
       "4      Olala Homes  Barcelona, Catalonia, Spain   Hybrid    data analyst   \n",
       "..             ...                          ...      ...             ...   \n",
       "195          Agoda  Barcelona, Catalonia, Spain  Unknown   data engineer   \n",
       "196    AstraZeneca  Barcelona, Catalonia, Spain  Unknown  data scientist   \n",
       "197    AstraZeneca  Barcelona, Catalonia, Spain  Unknown  data scientist   \n",
       "198    AstraZeneca  Barcelona, Catalonia, Spain  Unknown  data scientist   \n",
       "199    AstraZeneca  Barcelona, Catalonia, Spain  Unknown  data scientist   \n",
       "\n",
       "    seniority   ab    agile        ai  algorithm  analytical skill  ...  \\\n",
       "0      senior  0.0  0.00000  0.000000   0.000000           0.00000  ...   \n",
       "1     unknown  0.0  0.00000  0.000000   0.000000           0.00000  ...   \n",
       "2      junior  0.0  0.00000  0.029272   0.000000           0.00000  ...   \n",
       "3      junior  0.0  0.00000  0.000000   0.000000           0.00000  ...   \n",
       "4      junior  0.0  0.00000  0.000000   0.000000           0.02439  ...   \n",
       "..        ...  ...      ...       ...        ...               ...  ...   \n",
       "195    senior  0.0  0.01013  0.000000   0.000000           0.00000  ...   \n",
       "196    senior  0.0  0.00000  0.029870   0.015711           0.00000  ...   \n",
       "197    senior  0.0  0.00000  0.029870   0.015711           0.00000  ...   \n",
       "198   unknown  0.0  0.00000  0.000000   0.000000           0.00000  ...   \n",
       "199    senior  0.0  0.00000  0.000000   0.013918           0.00000  ...   \n",
       "\n",
       "       python  qlik         r  reporting  research  segmentation       sql  \\\n",
       "0    0.012842   0.0  0.021384   0.000000  0.000000      0.000000  0.013751   \n",
       "1    0.002660   0.0  0.000000   0.000000  0.000000      0.000000  0.002849   \n",
       "2    0.014710   0.0  0.000000   0.000000  0.028991      0.000000  0.023627   \n",
       "3    0.000000   0.0  0.000000   0.000000  0.000000      0.000000  0.000000   \n",
       "4    0.000000   0.0  0.000000   0.041914  0.000000      0.022681  0.008438   \n",
       "..        ...   ...       ...        ...       ...           ...       ...   \n",
       "195  0.017280   0.0  0.000000   0.000000  0.000000      0.000000  0.012336   \n",
       "196  0.007505   0.0  0.000000   0.000000  0.029584      0.000000  0.000000   \n",
       "197  0.007505   0.0  0.000000   0.000000  0.029584      0.000000  0.000000   \n",
       "198  0.006194   0.0  0.020627   0.000000  0.024413      0.000000  0.000000   \n",
       "199  0.006649   0.0  0.011071   0.000000  0.039310      0.000000  0.000000   \n",
       "\n",
       "      tableau  team work  visualization  \n",
       "0    0.023149        0.0       0.020316  \n",
       "1    0.000000        0.0       0.000000  \n",
       "2    0.000000        0.0       0.000000  \n",
       "3    0.000000        0.0       0.000000  \n",
       "4    0.000000        0.0       0.037398  \n",
       "..        ...        ...            ...  \n",
       "195  0.000000        0.0       0.000000  \n",
       "196  0.000000        0.0       0.011874  \n",
       "197  0.000000        0.0       0.011874  \n",
       "198  0.000000        0.0       0.000000  \n",
       "199  0.000000        0.0       0.010518  \n",
       "\n",
       "[200 rows x 54 columns]"
      ]
     },
     "execution_count": 176,
     "metadata": {},
     "output_type": "execute_result"
    }
   ],
   "source": [
    "test = pd.read_csv('df_keys.csv')\n",
    "test"
   ]
  },
  {
   "cell_type": "code",
   "execution_count": 177,
   "id": "d0bf2c51",
   "metadata": {},
   "outputs": [],
   "source": []
  },
  {
   "cell_type": "code",
   "execution_count": null,
   "id": "62e6ae6b",
   "metadata": {},
   "outputs": [],
   "source": []
  }
 ],
 "metadata": {
  "kernelspec": {
   "display_name": "Python 3 (ipykernel)",
   "language": "python",
   "name": "python3"
  },
  "language_info": {
   "codemirror_mode": {
    "name": "ipython",
    "version": 3
   },
   "file_extension": ".py",
   "mimetype": "text/x-python",
   "name": "python",
   "nbconvert_exporter": "python",
   "pygments_lexer": "ipython3",
   "version": "3.9.13"
  }
 },
 "nbformat": 4,
 "nbformat_minor": 5
}

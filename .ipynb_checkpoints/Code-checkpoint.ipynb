{
 "cells": [
  {
   "cell_type": "code",
   "execution_count": 1,
   "id": "b88fc623",
   "metadata": {},
   "outputs": [
    {
     "name": "stdout",
     "output_type": "stream",
     "text": [
      "Requirement already satisfied: chromedriver_autoinstaller in /Users/albertcoca/opt/anaconda3/lib/python3.9/site-packages (0.4.0)\r\n"
     ]
    }
   ],
   "source": [
    "!pip install chromedriver_autoinstaller"
   ]
  },
  {
   "cell_type": "markdown",
   "id": "e200a85e",
   "metadata": {},
   "source": [
    "# Scraping LinkedIn! Lets go!"
   ]
  },
  {
   "cell_type": "code",
   "execution_count": 2,
   "id": "dde869c1",
   "metadata": {},
   "outputs": [],
   "source": [
    "from selenium import webdriver\n",
    "from selenium.webdriver.common.keys import Keys\n",
    "from selenium.webdriver.common.by import By\n",
    "from selenium.webdriver.support.ui import WebDriverWait\n",
    "from selenium.webdriver.support import expected_conditions as EC\n",
    "from selenium import webdriver\n",
    "from selenium.webdriver.support.ui import Select"
   ]
  },
  {
   "cell_type": "code",
   "execution_count": 3,
   "id": "bd17c87d",
   "metadata": {},
   "outputs": [
    {
     "ename": "ModuleNotFoundError",
     "evalue": "No module named 'pymysql'",
     "output_type": "error",
     "traceback": [
      "\u001b[0;31m---------------------------------------------------------------------------\u001b[0m",
      "\u001b[0;31mModuleNotFoundError\u001b[0m                       Traceback (most recent call last)",
      "\u001b[0;32m/var/folders/q7/v3v0dp3x75b1z141v2hlcr3c0000gn/T/ipykernel_8509/3147079735.py\u001b[0m in \u001b[0;36m<module>\u001b[0;34m\u001b[0m\n\u001b[1;32m      6\u001b[0m \u001b[0;32mimport\u001b[0m \u001b[0mnumpy\u001b[0m \u001b[0;32mas\u001b[0m \u001b[0mnp\u001b[0m\u001b[0;34m\u001b[0m\u001b[0;34m\u001b[0m\u001b[0m\n\u001b[1;32m      7\u001b[0m \u001b[0;34m\u001b[0m\u001b[0m\n\u001b[0;32m----> 8\u001b[0;31m \u001b[0;32mimport\u001b[0m \u001b[0mpymysql\u001b[0m\u001b[0;34m\u001b[0m\u001b[0;34m\u001b[0m\u001b[0m\n\u001b[0m\u001b[1;32m      9\u001b[0m \u001b[0;32mimport\u001b[0m \u001b[0msqlalchemy\u001b[0m \u001b[0;32mas\u001b[0m \u001b[0malch\u001b[0m\u001b[0;34m\u001b[0m\u001b[0;34m\u001b[0m\u001b[0m\n\u001b[1;32m     10\u001b[0m \u001b[0;32mfrom\u001b[0m \u001b[0mgetpass\u001b[0m \u001b[0;32mimport\u001b[0m \u001b[0mgetpass\u001b[0m\u001b[0;34m\u001b[0m\u001b[0;34m\u001b[0m\u001b[0m\n",
      "\u001b[0;31mModuleNotFoundError\u001b[0m: No module named 'pymysql'"
     ]
    }
   ],
   "source": [
    "from bs4 import BeautifulSoup\n",
    "import re as re\n",
    "import time\n",
    "import pandas as pd\n",
    "import os\n",
    "import numpy as np\n",
    "\n",
    "import pymysql\n",
    "import sqlalchemy as alch\n",
    "from getpass import getpass"
   ]
  },
  {
   "cell_type": "code",
   "execution_count": 4,
   "id": "a0f77760",
   "metadata": {},
   "outputs": [
    {
     "data": {
      "text/plain": [
       "True"
      ]
     },
     "execution_count": 4,
     "metadata": {},
     "output_type": "execute_result"
    }
   ],
   "source": [
    "#import googletrans\n",
    "from nltk.sentiment.vader import SentimentIntensityAnalyzer\n",
    "#import spacy\n",
    "import os\n",
    "from dotenv import load_dotenv\n",
    "load_dotenv()"
   ]
  },
  {
   "cell_type": "code",
   "execution_count": 5,
   "id": "4e294919",
   "metadata": {},
   "outputs": [],
   "source": [
    "correo = os.getenv(\"email\")"
   ]
  },
  {
   "cell_type": "code",
   "execution_count": 6,
   "id": "a685d59b",
   "metadata": {},
   "outputs": [],
   "source": [
    "contrasenya = os.getenv(\"password\")\n"
   ]
  },
  {
   "cell_type": "markdown",
   "id": "ff673900",
   "metadata": {},
   "source": [
    "# Open up the page"
   ]
  },
  {
   "cell_type": "code",
   "execution_count": 7,
   "id": "8e714be4",
   "metadata": {},
   "outputs": [],
   "source": [
    "url = \"https://www.google.com\"\n"
   ]
  },
  {
   "cell_type": "code",
   "execution_count": 8,
   "id": "1668edcc",
   "metadata": {},
   "outputs": [
    {
     "data": {
      "text/plain": [
       "True"
      ]
     },
     "execution_count": 8,
     "metadata": {},
     "output_type": "execute_result"
    }
   ],
   "source": [
    "load_dotenv()"
   ]
  },
  {
   "cell_type": "code",
   "execution_count": 9,
   "id": "fb92ebe9",
   "metadata": {},
   "outputs": [],
   "source": [
    "email=os.getenv(\"email\")\n",
    "password=os.getenv(\"password\")"
   ]
  },
  {
   "cell_type": "code",
   "execution_count": 10,
   "id": "1a880d62",
   "metadata": {},
   "outputs": [
    {
     "data": {
      "text/plain": [
       "'cocazapata.21@gmail.com'"
      ]
     },
     "execution_count": 10,
     "metadata": {},
     "output_type": "execute_result"
    }
   ],
   "source": [
    "email"
   ]
  },
  {
   "cell_type": "code",
   "execution_count": 11,
   "id": "9c2d1cca",
   "metadata": {},
   "outputs": [
    {
     "data": {
      "text/plain": [
       "'fcbarcelona21'"
      ]
     },
     "execution_count": 11,
     "metadata": {},
     "output_type": "execute_result"
    }
   ],
   "source": [
    "password"
   ]
  },
  {
   "cell_type": "code",
   "execution_count": null,
   "id": "bb6eefce",
   "metadata": {},
   "outputs": [],
   "source": [
    "!open ."
   ]
  },
  {
   "cell_type": "code",
   "execution_count": 12,
   "id": "e0e08dfe",
   "metadata": {},
   "outputs": [],
   "source": [
    "# pip install chromedriver_autoinstaller\n",
    "import chromedriver_autoinstaller\n",
    "chromedriver_autoinstaller.install()\n",
    "\n",
    "# pip install selenium\n",
    "from selenium import webdriver\n",
    "from selenium.webdriver.common.keys import Keys\n",
    "from selenium.webdriver.common.by import By\n",
    "from selenium.webdriver.support.ui import WebDriverWait\n",
    "from selenium.webdriver.support import expected_conditions as EC\n",
    "from selenium import webdriver\n",
    "from selenium.webdriver.support.ui import Select\n",
    "from dotenv import load_dotenv\n",
    "import time\n",
    "\n",
    "import os\n",
    "load_dotenv()\n",
    "\n",
    "def linked_in_scraper (scrolling_time = 2):\n",
    "    \n",
    "    # 0. Env variables\n",
    "    correo = os.getenv(\"email\")\n",
    "    contrasenya = os.getenv(\"password\")### Get paths to the form\n",
    "\n",
    "    # 1. Session\n",
    "   # url = \"https://www.linkedin.com/jobs/search/?currentJobId=3618762583&geoId=107025191&keywords=data%20analyst&location=Barcelona%2C%20Catalonia%2C%20Spain&refresh=true\"\n",
    "    url = \"https://www.linkedin.com\"\n",
    "    driver = webdriver.Chrome()\n",
    "    driver.get(url)\n",
    "\n",
    "\n",
    "    # 2. Find the elements\n",
    "    #email_box = driver.find_element(By.ID, \"session_key\")\n",
    "    email_box = WebDriverWait(driver, 10).until(EC.presence_of_element_located((By.ID, \"session_key\")))\n",
    "    password_box = WebDriverWait(driver, 10).until(EC.presence_of_element_located((By.ID, \"session_password\")))\n",
    "\n",
    "    # 3. Send info to those elements\n",
    "    email_box.send_keys(correo)\n",
    "    password_box.send_keys(contrasenya)\n",
    "\n",
    "    # 4. Log in\n",
    "    password_box.send_keys(Keys.RETURN)\n",
    "\n",
    "    \n",
    "    # 5. Scrolling down\n",
    "    start = time.time()\n",
    "\n",
    "    while True:\n",
    "\n",
    "        driver.execute_script(\"window.scrollTo(0, document.body.scrollHeight);\")\n",
    "        time.sleep(1)\n",
    "        end = time.time()\n",
    "        difference = end - start\n",
    "\n",
    "        if difference > scrolling_time:\n",
    "            break\n",
    "\n",
    "    page_html = driver.execute_script(\"return document.body.outerHTML;\")\n",
    "    return page_html"
   ]
  },
  {
   "cell_type": "code",
   "execution_count": 14,
   "id": "0c430b30",
   "metadata": {},
   "outputs": [
    {
     "ename": "TimeoutException",
     "evalue": "Message: \nStacktrace:\n0   chromedriver                        0x0000000102c2e088 chromedriver + 4927624\n1   chromedriver                        0x0000000102c25543 chromedriver + 4891971\n2   chromedriver                        0x00000001027e5136 chromedriver + 434486\n3   chromedriver                        0x00000001028288df chromedriver + 710879\n4   chromedriver                        0x0000000102828b71 chromedriver + 711537\n5   chromedriver                        0x000000010286a474 chromedriver + 980084\n6   chromedriver                        0x000000010284cb0d chromedriver + 858893\n7   chromedriver                        0x0000000102867946 chromedriver + 969030\n8   chromedriver                        0x000000010284c8b3 chromedriver + 858291\n9   chromedriver                        0x000000010281a84f chromedriver + 653391\n10  chromedriver                        0x000000010281bbae chromedriver + 658350\n11  chromedriver                        0x0000000102be9f5d chromedriver + 4648797\n12  chromedriver                        0x0000000102beeddf chromedriver + 4668895\n13  chromedriver                        0x0000000102bf584f chromedriver + 4696143\n14  chromedriver                        0x0000000102befd0a chromedriver + 4672778\n15  chromedriver                        0x0000000102bc270c chromedriver + 4486924\n16  chromedriver                        0x0000000102c0d068 chromedriver + 4792424\n17  chromedriver                        0x0000000102c0d1e7 chromedriver + 4792807\n18  chromedriver                        0x0000000102c1e30f chromedriver + 4862735\n19  libsystem_pthread.dylib             0x00007ff80b611514 _pthread_start + 125\n20  libsystem_pthread.dylib             0x00007ff80b60d02f thread_start + 15\n",
     "output_type": "error",
     "traceback": [
      "\u001b[0;31m---------------------------------------------------------------------------\u001b[0m",
      "\u001b[0;31mTimeoutException\u001b[0m                          Traceback (most recent call last)",
      "\u001b[0;32m/var/folders/q7/v3v0dp3x75b1z141v2hlcr3c0000gn/T/ipykernel_8509/3456385107.py\u001b[0m in \u001b[0;36m<module>\u001b[0;34m\u001b[0m\n\u001b[0;32m----> 1\u001b[0;31m \u001b[0mhtml\u001b[0m \u001b[0;34m=\u001b[0m \u001b[0mlinked_in_scraper\u001b[0m\u001b[0;34m(\u001b[0m\u001b[0;34m)\u001b[0m\u001b[0;34m\u001b[0m\u001b[0;34m\u001b[0m\u001b[0m\n\u001b[0m",
      "\u001b[0;32m/var/folders/q7/v3v0dp3x75b1z141v2hlcr3c0000gn/T/ipykernel_8509/2430340921.py\u001b[0m in \u001b[0;36mlinked_in_scraper\u001b[0;34m(scrolling_time)\u001b[0m\n\u001b[1;32m     32\u001b[0m     \u001b[0;31m# 2. Find the elements\u001b[0m\u001b[0;34m\u001b[0m\u001b[0;34m\u001b[0m\u001b[0m\n\u001b[1;32m     33\u001b[0m     \u001b[0;31m#email_box = driver.find_element(By.ID, \"session_key\")\u001b[0m\u001b[0;34m\u001b[0m\u001b[0;34m\u001b[0m\u001b[0m\n\u001b[0;32m---> 34\u001b[0;31m     \u001b[0memail_box\u001b[0m \u001b[0;34m=\u001b[0m \u001b[0mWebDriverWait\u001b[0m\u001b[0;34m(\u001b[0m\u001b[0mdriver\u001b[0m\u001b[0;34m,\u001b[0m \u001b[0;36m10\u001b[0m\u001b[0;34m)\u001b[0m\u001b[0;34m.\u001b[0m\u001b[0muntil\u001b[0m\u001b[0;34m(\u001b[0m\u001b[0mEC\u001b[0m\u001b[0;34m.\u001b[0m\u001b[0mpresence_of_element_located\u001b[0m\u001b[0;34m(\u001b[0m\u001b[0;34m(\u001b[0m\u001b[0mBy\u001b[0m\u001b[0;34m.\u001b[0m\u001b[0mID\u001b[0m\u001b[0;34m,\u001b[0m \u001b[0;34m\"session_key\"\u001b[0m\u001b[0;34m)\u001b[0m\u001b[0;34m)\u001b[0m\u001b[0;34m)\u001b[0m\u001b[0;34m\u001b[0m\u001b[0;34m\u001b[0m\u001b[0m\n\u001b[0m\u001b[1;32m     35\u001b[0m     \u001b[0mpassword_box\u001b[0m \u001b[0;34m=\u001b[0m \u001b[0mWebDriverWait\u001b[0m\u001b[0;34m(\u001b[0m\u001b[0mdriver\u001b[0m\u001b[0;34m,\u001b[0m \u001b[0;36m10\u001b[0m\u001b[0;34m)\u001b[0m\u001b[0;34m.\u001b[0m\u001b[0muntil\u001b[0m\u001b[0;34m(\u001b[0m\u001b[0mEC\u001b[0m\u001b[0;34m.\u001b[0m\u001b[0mpresence_of_element_located\u001b[0m\u001b[0;34m(\u001b[0m\u001b[0;34m(\u001b[0m\u001b[0mBy\u001b[0m\u001b[0;34m.\u001b[0m\u001b[0mID\u001b[0m\u001b[0;34m,\u001b[0m \u001b[0;34m\"session_password\"\u001b[0m\u001b[0;34m)\u001b[0m\u001b[0;34m)\u001b[0m\u001b[0;34m)\u001b[0m\u001b[0;34m\u001b[0m\u001b[0;34m\u001b[0m\u001b[0m\n\u001b[1;32m     36\u001b[0m \u001b[0;34m\u001b[0m\u001b[0m\n",
      "\u001b[0;32m~/opt/anaconda3/lib/python3.9/site-packages/selenium/webdriver/support/wait.py\u001b[0m in \u001b[0;36muntil\u001b[0;34m(self, method, message)\u001b[0m\n\u001b[1;32m     93\u001b[0m             \u001b[0;32mif\u001b[0m \u001b[0mtime\u001b[0m\u001b[0;34m.\u001b[0m\u001b[0mmonotonic\u001b[0m\u001b[0;34m(\u001b[0m\u001b[0;34m)\u001b[0m \u001b[0;34m>\u001b[0m \u001b[0mend_time\u001b[0m\u001b[0;34m:\u001b[0m\u001b[0;34m\u001b[0m\u001b[0;34m\u001b[0m\u001b[0m\n\u001b[1;32m     94\u001b[0m                 \u001b[0;32mbreak\u001b[0m\u001b[0;34m\u001b[0m\u001b[0;34m\u001b[0m\u001b[0m\n\u001b[0;32m---> 95\u001b[0;31m         \u001b[0;32mraise\u001b[0m \u001b[0mTimeoutException\u001b[0m\u001b[0;34m(\u001b[0m\u001b[0mmessage\u001b[0m\u001b[0;34m,\u001b[0m \u001b[0mscreen\u001b[0m\u001b[0;34m,\u001b[0m \u001b[0mstacktrace\u001b[0m\u001b[0;34m)\u001b[0m\u001b[0;34m\u001b[0m\u001b[0;34m\u001b[0m\u001b[0m\n\u001b[0m\u001b[1;32m     96\u001b[0m \u001b[0;34m\u001b[0m\u001b[0m\n\u001b[1;32m     97\u001b[0m     \u001b[0;32mdef\u001b[0m \u001b[0muntil_not\u001b[0m\u001b[0;34m(\u001b[0m\u001b[0mself\u001b[0m\u001b[0;34m,\u001b[0m \u001b[0mmethod\u001b[0m\u001b[0;34m,\u001b[0m \u001b[0mmessage\u001b[0m\u001b[0;34m:\u001b[0m \u001b[0mstr\u001b[0m \u001b[0;34m=\u001b[0m \u001b[0;34m\"\"\u001b[0m\u001b[0;34m)\u001b[0m\u001b[0;34m:\u001b[0m\u001b[0;34m\u001b[0m\u001b[0;34m\u001b[0m\u001b[0m\n",
      "\u001b[0;31mTimeoutException\u001b[0m: Message: \nStacktrace:\n0   chromedriver                        0x0000000102c2e088 chromedriver + 4927624\n1   chromedriver                        0x0000000102c25543 chromedriver + 4891971\n2   chromedriver                        0x00000001027e5136 chromedriver + 434486\n3   chromedriver                        0x00000001028288df chromedriver + 710879\n4   chromedriver                        0x0000000102828b71 chromedriver + 711537\n5   chromedriver                        0x000000010286a474 chromedriver + 980084\n6   chromedriver                        0x000000010284cb0d chromedriver + 858893\n7   chromedriver                        0x0000000102867946 chromedriver + 969030\n8   chromedriver                        0x000000010284c8b3 chromedriver + 858291\n9   chromedriver                        0x000000010281a84f chromedriver + 653391\n10  chromedriver                        0x000000010281bbae chromedriver + 658350\n11  chromedriver                        0x0000000102be9f5d chromedriver + 4648797\n12  chromedriver                        0x0000000102beeddf chromedriver + 4668895\n13  chromedriver                        0x0000000102bf584f chromedriver + 4696143\n14  chromedriver                        0x0000000102befd0a chromedriver + 4672778\n15  chromedriver                        0x0000000102bc270c chromedriver + 4486924\n16  chromedriver                        0x0000000102c0d068 chromedriver + 4792424\n17  chromedriver                        0x0000000102c0d1e7 chromedriver + 4792807\n18  chromedriver                        0x0000000102c1e30f chromedriver + 4862735\n19  libsystem_pthread.dylib             0x00007ff80b611514 _pthread_start + 125\n20  libsystem_pthread.dylib             0x00007ff80b60d02f thread_start + 15\n"
     ]
    }
   ],
   "source": [
    "html = linked_in_scraper()"
   ]
  },
  {
   "cell_type": "code",
   "execution_count": null,
   "id": "79b16ad4",
   "metadata": {},
   "outputs": [],
   "source": []
  },
  {
   "cell_type": "code",
   "execution_count": null,
   "id": "40340196",
   "metadata": {},
   "outputs": [],
   "source": []
  }
 ],
 "metadata": {
  "kernelspec": {
   "display_name": "Python 3 (ipykernel)",
   "language": "python",
   "name": "python3"
  },
  "language_info": {
   "codemirror_mode": {
    "name": "ipython",
    "version": 3
   },
   "file_extension": ".py",
   "mimetype": "text/x-python",
   "name": "python",
   "nbconvert_exporter": "python",
   "pygments_lexer": "ipython3",
   "version": "3.9.13"
  }
 },
 "nbformat": 4,
 "nbformat_minor": 5
}

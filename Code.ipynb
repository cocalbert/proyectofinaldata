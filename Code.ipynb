{
 "cells": [
  {
   "cell_type": "code",
   "execution_count": 7,
   "id": "b88fc623",
   "metadata": {},
   "outputs": [
    {
     "name": "stdout",
     "output_type": "stream",
     "text": [
      "Requirement already satisfied: chromedriver_autoinstaller in /Users/albertcoca/opt/anaconda3/lib/python3.9/site-packages (0.4.0)\r\n"
     ]
    }
   ],
   "source": [
    "!pip install chromedriver_autoinstaller"
   ]
  },
  {
   "cell_type": "markdown",
   "id": "e200a85e",
   "metadata": {},
   "source": [
    "# Scraping LinkedIn! Lets go!"
   ]
  },
  {
   "cell_type": "code",
   "execution_count": 8,
   "id": "dde869c1",
   "metadata": {},
   "outputs": [],
   "source": [
    "from selenium import webdriver\n",
    "from selenium.webdriver.common.keys import Keys\n",
    "from selenium.webdriver.common.by import By\n",
    "from selenium.webdriver.support.ui import WebDriverWait\n",
    "from selenium.webdriver.support import expected_conditions as EC\n",
    "from selenium import webdriver\n",
    "from selenium.webdriver.support.ui import Select"
   ]
  },
  {
   "cell_type": "code",
   "execution_count": 9,
   "id": "bd17c87d",
   "metadata": {},
   "outputs": [
    {
     "ename": "ModuleNotFoundError",
     "evalue": "No module named 'pymysql'",
     "output_type": "error",
     "traceback": [
      "\u001b[0;31m---------------------------------------------------------------------------\u001b[0m",
      "\u001b[0;31mModuleNotFoundError\u001b[0m                       Traceback (most recent call last)",
      "\u001b[0;32m/var/folders/q7/v3v0dp3x75b1z141v2hlcr3c0000gn/T/ipykernel_14634/3147079735.py\u001b[0m in \u001b[0;36m<module>\u001b[0;34m\u001b[0m\n\u001b[1;32m      6\u001b[0m \u001b[0;32mimport\u001b[0m \u001b[0mnumpy\u001b[0m \u001b[0;32mas\u001b[0m \u001b[0mnp\u001b[0m\u001b[0;34m\u001b[0m\u001b[0;34m\u001b[0m\u001b[0m\n\u001b[1;32m      7\u001b[0m \u001b[0;34m\u001b[0m\u001b[0m\n\u001b[0;32m----> 8\u001b[0;31m \u001b[0;32mimport\u001b[0m \u001b[0mpymysql\u001b[0m\u001b[0;34m\u001b[0m\u001b[0;34m\u001b[0m\u001b[0m\n\u001b[0m\u001b[1;32m      9\u001b[0m \u001b[0;32mimport\u001b[0m \u001b[0msqlalchemy\u001b[0m \u001b[0;32mas\u001b[0m \u001b[0malch\u001b[0m\u001b[0;34m\u001b[0m\u001b[0;34m\u001b[0m\u001b[0m\n\u001b[1;32m     10\u001b[0m \u001b[0;32mfrom\u001b[0m \u001b[0mgetpass\u001b[0m \u001b[0;32mimport\u001b[0m \u001b[0mgetpass\u001b[0m\u001b[0;34m\u001b[0m\u001b[0;34m\u001b[0m\u001b[0m\n",
      "\u001b[0;31mModuleNotFoundError\u001b[0m: No module named 'pymysql'"
     ]
    }
   ],
   "source": [
    "from bs4 import BeautifulSoup\n",
    "import re as re\n",
    "import time\n",
    "import pandas as pd\n",
    "import os\n",
    "import numpy as np\n",
    "\n",
    "import pymysql\n",
    "import sqlalchemy as alch\n",
    "from getpass import getpass"
   ]
  },
  {
   "cell_type": "code",
   "execution_count": 10,
   "id": "a0f77760",
   "metadata": {},
   "outputs": [
    {
     "data": {
      "text/plain": [
       "True"
      ]
     },
     "execution_count": 10,
     "metadata": {},
     "output_type": "execute_result"
    }
   ],
   "source": [
    "#import googletrans\n",
    "from nltk.sentiment.vader import SentimentIntensityAnalyzer\n",
    "#import spacy\n",
    "import os\n",
    "from dotenv import load_dotenv\n",
    "load_dotenv()"
   ]
  },
  {
   "cell_type": "code",
   "execution_count": 11,
   "id": "4e294919",
   "metadata": {},
   "outputs": [],
   "source": [
    "correo = os.getenv(\"email\")"
   ]
  },
  {
   "cell_type": "code",
   "execution_count": 12,
   "id": "a685d59b",
   "metadata": {},
   "outputs": [],
   "source": [
    "contrasenya = os.getenv(\"password\")\n"
   ]
  },
  {
   "cell_type": "markdown",
   "id": "ff673900",
   "metadata": {},
   "source": [
    "# Open up the page"
   ]
  },
  {
   "cell_type": "code",
   "execution_count": 13,
   "id": "8e714be4",
   "metadata": {},
   "outputs": [],
   "source": [
    "url = \"https://www.google.com\"\n"
   ]
  },
  {
   "cell_type": "code",
   "execution_count": 14,
   "id": "1668edcc",
   "metadata": {},
   "outputs": [
    {
     "data": {
      "text/plain": [
       "True"
      ]
     },
     "execution_count": 14,
     "metadata": {},
     "output_type": "execute_result"
    }
   ],
   "source": [
    "load_dotenv()"
   ]
  },
  {
   "cell_type": "code",
   "execution_count": 15,
   "id": "fb92ebe9",
   "metadata": {},
   "outputs": [],
   "source": [
    "email=os.getenv(\"email\")\n",
    "password=os.getenv(\"password\")"
   ]
  },
  {
   "cell_type": "code",
   "execution_count": 16,
   "id": "1a880d62",
   "metadata": {},
   "outputs": [
    {
     "data": {
      "text/plain": [
       "'cocazapata.21@gmail.com'"
      ]
     },
     "execution_count": 16,
     "metadata": {},
     "output_type": "execute_result"
    }
   ],
   "source": [
    "email"
   ]
  },
  {
   "cell_type": "code",
   "execution_count": 17,
   "id": "9c2d1cca",
   "metadata": {},
   "outputs": [
    {
     "data": {
      "text/plain": [
       "'fcbarcelona21'"
      ]
     },
     "execution_count": 17,
     "metadata": {},
     "output_type": "execute_result"
    }
   ],
   "source": [
    "password"
   ]
  },
  {
   "cell_type": "code",
   "execution_count": null,
   "id": "bb6eefce",
   "metadata": {},
   "outputs": [],
   "source": [
    "!open ."
   ]
  },
  {
   "cell_type": "code",
   "execution_count": 18,
   "id": "e0e08dfe",
   "metadata": {},
   "outputs": [],
   "source": [
    "# pip install chromedriver_autoinstaller\n",
    "import chromedriver_autoinstaller\n",
    "chromedriver_autoinstaller.install()\n",
    "\n",
    "# pip install selenium\n",
    "from selenium import webdriver\n",
    "from selenium.webdriver.common.keys import Keys\n",
    "from selenium.webdriver.common.by import By\n",
    "from selenium.webdriver.support.ui import WebDriverWait\n",
    "from selenium.webdriver.support import expected_conditions as EC\n",
    "from selenium import webdriver\n",
    "from selenium.webdriver.support.ui import Select\n",
    "from dotenv import load_dotenv\n",
    "import time\n",
    "\n",
    "import os\n",
    "load_dotenv()\n",
    "\n",
    "def linked_in_scraper (scrolling_time = 2):\n",
    "    \n",
    "    # 0. Env variables\n",
    "    correo = os.getenv(\"email\")\n",
    "    contrasenya = os.getenv(\"password\")### Get paths to the form\n",
    "\n",
    "    # 1. Session\n",
    "   # url = \"https://www.linkedin.com/jobs/search/?currentJobId=3618762583&geoId=107025191&keywords=data%20analyst&location=Barcelona%2C%20Catalonia%2C%20Spain&refresh=true\"\n",
    "    url = \"https://www.linkedin.com\"\n",
    "    driver = webdriver.Chrome()\n",
    "    driver.get(url)\n",
    "\n",
    "\n",
    "    # 2. Find the elements\n",
    "    #email_box = driver.find_element(By.ID, \"session_key\")\n",
    "    email_box = WebDriverWait(driver, 10).until(EC.presence_of_element_located((By.ID, \"session_key\")))\n",
    "    password_box = WebDriverWait(driver, 10).until(EC.presence_of_element_located((By.ID, \"session_password\")))\n",
    "\n",
    "    # 3. Send info to those elements\n",
    "    email_box.send_keys(correo)\n",
    "    password_box.send_keys(contrasenya)\n",
    "\n",
    "    # 4. Log in\n",
    "    password_box.send_keys(Keys.RETURN)\n",
    "\n",
    "    \n",
    "    # 5. Scrolling down\n",
    "    start = time.time()\n",
    "\n",
    "    while True:\n",
    "\n",
    "        driver.execute_script(\"window.scrollTo(0, document.body.scrollHeight);\")\n",
    "        time.sleep(1)\n",
    "        end = time.time()\n",
    "        difference = end - start\n",
    "\n",
    "        if difference > scrolling_time:\n",
    "            break\n",
    "\n",
    "    page_html = driver.execute_script(\"return document.body.outerHTML;\")\n",
    "    return page_html"
   ]
  },
  {
   "cell_type": "code",
   "execution_count": 19,
   "id": "0c430b30",
   "metadata": {},
   "outputs": [],
   "source": [
    "html = linked_in_scraper()"
   ]
  },
  {
   "cell_type": "code",
   "execution_count": null,
   "id": "79b16ad4",
   "metadata": {},
   "outputs": [],
   "source": []
  },
  {
   "cell_type": "code",
   "execution_count": null,
   "id": "40340196",
   "metadata": {},
   "outputs": [],
   "source": []
  }
 ],
 "metadata": {
  "kernelspec": {
   "display_name": "Python 3 (ipykernel)",
   "language": "python",
   "name": "python3"
  },
  "language_info": {
   "codemirror_mode": {
    "name": "ipython",
    "version": 3
   },
   "file_extension": ".py",
   "mimetype": "text/x-python",
   "name": "python",
   "nbconvert_exporter": "python",
   "pygments_lexer": "ipython3",
   "version": "3.9.13"
  }
 },
 "nbformat": 4,
 "nbformat_minor": 5
}

{
 "cells": [
  {
   "cell_type": "code",
   "execution_count": null,
   "id": "eb5e5b41",
   "metadata": {},
   "outputs": [],
   "source": [
    "from selenium import webdriver\n",
    "from selenium.webdriver.common.by import By\n",
    "from selenium.webdriver.support.ui import WebDriverWait\n",
    "from selenium.webdriver.support import expected_conditions as EC\n",
    "from selenium.webdriver.chrome.service import Service\n",
    "from webdriver_manager.chrome import ChromeDriverManager\n",
    "from selenium.common.exceptions import NoSuchElementException, StaleElementReferenceException, ElementNotInteractableException\n",
    "from bs4 import BeautifulSoup\n",
    "import time\n",
    "import random\n",
    "import pandas as pd\n",
    "from tqdm import tqdm"
   ]
  },
  {
   "cell_type": "markdown",
   "id": "e42be583",
   "metadata": {},
   "source": [
    "# SETTING UP DRIVER & LINKEDIN LOGIN FUNCTION"
   ]
  },
  {
   "cell_type": "code",
   "execution_count": null,
   "id": "788a248f",
   "metadata": {},
   "outputs": [],
   "source": [
    "def driver():\n",
    "    user_agent = 'Mozilla/5.0 (Macintosh; Intel Mac OS X 10_15_7) AppleWebKit/537.36 (KHTML, like Gecko) Chrome/114.0.0.0 Safari/537.36'\n",
    "    s = Service(ChromeDriverManager().install())\n",
    "    options = webdriver.ChromeOptions()\n",
    "    options.add_argument('--ignore-certificate-errors')\n",
    "    options.add_argument('--incognito')\n",
    "    #options.add_argument(\"headless\")\n",
    "    options.add_argument(f'user-agent={user_agent}')\n",
    "    options.add_argument(\"--window-size=1920,1080\")\n",
    "    #options.binary_location = '/Applications/Brave Browser.app/Contents/MacOS/Brave Browser'\n",
    "    return webdriver.Chrome(service=s, options=options)\n",
    "    \n",
    "def linkedin_login():\n",
    "    mail = 'cocazapata.21@gmail.com'\n",
    "    pw = 'fcbarcelona21'\n",
    "    driver.get('https://www.linkedin.com')\n",
    "    username = driver.find_element(By.ID, 'email-or-phone').send_keys(mail)\n",
    "    password = driver.find_element(By.ID, 'password')\n",
    "    password.send_keys(pw)\n",
    "    password.send_keys(Keys.ENTER)"
   ]
  },
  {
   "cell_type": "markdown",
   "id": "ba405640",
   "metadata": {},
   "source": [
    "# SCRAPPING LINKEDIN "
   ]
  },
  {
   "cell_type": "code",
   "execution_count": null,
   "id": "5c6e9777",
   "metadata": {},
   "outputs": [],
   "source": [
    "from selenium import webdriver\n",
    "from selenium.webdriver.common.by import By\n",
    "import time\n",
    "import random\n",
    "from bs4 import BeautifulSoup\n",
    "from tqdm import tqdm\n",
    "import pandas as pd\n",
    "import numpy as np\n",
    "\n",
    "def data_analyst():\n",
    "    user_agent = 'Mozilla/5.0 (Macintosh; Intel Mac OS X 10_15_7) AppleWebKit/537.36 (KHTML, like Gecko) Chrome/114.0.0.0 Safari/537.36'\n",
    "    s = Service(ChromeDriverManager().install())\n",
    "    options = webdriver.ChromeOptions()\n",
    "    options.add_argument('--ignore-certificate-errors')\n",
    "    options.add_argument('--incognito')\n",
    "    # options.add_argument(\"headless\")\n",
    "    options.add_argument(f'user-agent={user_agent}')\n",
    "    options.add_argument(\"--window-size=1920,1080\")\n",
    "    options.binary_location = '/Applications/Brave Browser.app/Contents/MacOS/Brave Browser'\n",
    "    driver = webdriver.Chrome(service=s, options=options)\n",
    "    mail = 'cocazapata.21@gmail.com'\n",
    "    pw = 'fcbarcelona21'\n",
    "    driver.get('https://www.linkedin.com')\n",
    "    username = driver.find_element(By.ID, 'session_key').send_keys(mail)\n",
    "    password = driver.find_element(By.ID, 'session_password').send_keys(pw)\n",
    "    #password.send_keys(Keys.ENTER)\n",
    "\n",
    "    time.sleep(20)\n",
    "\n",
    "    list_of_dictionaries = []\n",
    "\n",
    "    for i in tqdm(range(0, 976, 25)):\n",
    "        #driver.get(f'''https://www.linkedin.com/jobs/search/?f_TPR=r2592000&geoId=107025191&keywords=data&location=Barcelona%2C%20Catalonia%2C%20Spain&start={i}''')\n",
    "        driver.get(f'''https://www.linkedin.com/jobs/search/?currentJobId=3652284026&geoId=107025191&keywords=data&location=Barcelona%2C%20Catalonia%2C%20Spain&start={i}''')\n",
    "        time.sleep(random.randint(3, 5))\n",
    "        all_listings = []\n",
    "        keep_scrolling = True\n",
    "\n",
    "        while keep_scrolling:\n",
    "            listings = driver.find_elements(By.CSS_SELECTOR, \".job-card-list__title\")\n",
    "            if set(listings) == set(all_listings):\n",
    "                keep_scrolling = False\n",
    "            else:\n",
    "                new_listings = list(set(listings) - set(all_listings))\n",
    "                for listing in new_listings:\n",
    "                    all_listings.append(listing)\n",
    "                    try:\n",
    "                        driver.execute_script(\"arguments[0].scrollIntoView({behavior: 'smooth'});\", listing)\n",
    "                        time.sleep(random.randint(1, 3))\n",
    "                        listing.click()\n",
    "                        time.sleep(random.randint(2, 5))\n",
    "                        page_source = driver.page_source\n",
    "                        soup = BeautifulSoup(page_source, \"html.parser\")\n",
    "                        try:\n",
    "                            posicioncita  = {}\n",
    "                            title = driver.find_element(By.XPATH, \"//*[starts-with(@id, 'ember')]/h2\").text\n",
    "                            posicioncita[\"title\"] = title\n",
    "                            \n",
    "                            if 'data' in title.lower() or 'datos' in title.lower():\n",
    "                                \n",
    "                                try:\n",
    "                                    company = driver.find_element(By.XPATH, \"//*[contains(@class, 'ember-view t-black t-normal')]\").text\n",
    "                                    posicioncita[\"companies\"] = company\n",
    "                                except:\n",
    "                                    posicioncita[\"companies\"] = np.nan\n",
    "                                try:\n",
    "                                    location = driver.find_element(By.XPATH, \"//*[contains(@class, 'jobs-unified-top-card__bullet')]\").text\n",
    "                                    posicioncita[\"location\"] = location\n",
    "                                except:\n",
    "                                    posicioncita[\"location\"] = np.nan\n",
    "                                try:\n",
    "                                    modality = soup.select('span.jobs-unified-top-card__workplace-type')[0].get_text()\n",
    "                                    posicioncita[\"modality\"] = modality\n",
    "                                except:\n",
    "                                    posicioncita[\"modality\"] = np.nan\n",
    "                                try:\n",
    "                                    description = soup.select('#job-details > span')[0].get_text()\n",
    "                                    posicioncita[\"description\"] = description\n",
    "                                except:\n",
    "                                    posicioncita[\"description\"] = np.nan\n",
    "                            \n",
    "                            list_of_dictionaries.append(posicioncita)\n",
    "                                    \n",
    "                        except NoSuchElementException:\n",
    "                            driver.save_screenshot(f\"{random.randint(0, 100)}.png\")\n",
    "                    except StaleElementReferenceException:\n",
    "                        driver.save_screenshot(f\"{random.randint(0, 100)}.png\")\n",
    "                time.sleep(random.randint(1, 2))\n",
    "    driver.quit()\n",
    "    df = pd.DataFrame(list_of_dictionaries)\n",
    "    return df"
   ]
  },
  {
   "cell_type": "code",
   "execution_count": null,
   "id": "bf56b0d3",
   "metadata": {},
   "outputs": [],
   "source": [
    "analyst = data_analyst()"
   ]
  },
  {
   "cell_type": "code",
   "execution_count": null,
   "id": "0a6aba18",
   "metadata": {},
   "outputs": [],
   "source": [
    "analyst"
   ]
  },
  {
   "cell_type": "markdown",
   "id": "a8063606",
   "metadata": {},
   "source": [
    "# QUICK CLEANING & CONCATING DIFFERENT DF FROM DIFFERENT SCRAPPING TIMES"
   ]
  },
  {
   "cell_type": "code",
   "execution_count": null,
   "id": "e0d22efb",
   "metadata": {},
   "outputs": [],
   "source": [
    "analyst.drop_duplicates(subset=['description'], inplace=True)\n"
   ]
  },
  {
   "cell_type": "code",
   "execution_count": null,
   "id": "3ffcb015",
   "metadata": {},
   "outputs": [],
   "source": [
    "analyst.info()"
   ]
  },
  {
   "cell_type": "code",
   "execution_count": null,
   "id": "2e215e5b",
   "metadata": {},
   "outputs": [],
   "source": [
    "analyst.rename(columns={'companies': 'company'}, inplace=True)\n"
   ]
  },
  {
   "cell_type": "code",
   "execution_count": null,
   "id": "60299a99",
   "metadata": {},
   "outputs": [],
   "source": [
    "# Deleting all rows that contains more than 2 NaN values:\n",
    "nan_counts = combined_df.isna().sum(axis=1)\n",
    "\n",
    "filtered_df = analyst[nan_counts < 2]\n",
    "print(filtered_df)"
   ]
  },
  {
   "cell_type": "code",
   "execution_count": null,
   "id": "c760418f",
   "metadata": {},
   "outputs": [],
   "source": [
    "df2 = pd.read_csv('DATA_JOBS.csv')"
   ]
  },
  {
   "cell_type": "code",
   "execution_count": null,
   "id": "9eceb0ed",
   "metadata": {},
   "outputs": [],
   "source": [
    "df1 = pd.read_csv('DATA_JOBS_BCN.csv')"
   ]
  },
  {
   "cell_type": "code",
   "execution_count": null,
   "id": "35028aac",
   "metadata": {},
   "outputs": [],
   "source": [
    "df_final = pd.concat([df1, df2], ignore_index=True)\n"
   ]
  },
  {
   "cell_type": "code",
   "execution_count": null,
   "id": "71754d6c",
   "metadata": {},
   "outputs": [],
   "source": [
    "df_final.drop_duplicates(subset=['description'], inplace=True)\n"
   ]
  },
  {
   "cell_type": "code",
   "execution_count": null,
   "id": "ea162e4c",
   "metadata": {},
   "outputs": [],
   "source": [
    "df_final.info()"
   ]
  },
  {
   "cell_type": "code",
   "execution_count": null,
   "id": "678ce831",
   "metadata": {},
   "outputs": [],
   "source": [
    "df_final.to_csv(\"DATA_JOBS_JULIO.csv\", index=False)\n"
   ]
  },
  {
   "cell_type": "code",
   "execution_count": null,
   "id": "1ceb3aa9",
   "metadata": {},
   "outputs": [],
   "source": []
  }
 ],
 "metadata": {
  "kernelspec": {
   "display_name": "Python 3 (ipykernel)",
   "language": "python",
   "name": "python3"
  },
  "language_info": {
   "codemirror_mode": {
    "name": "ipython",
    "version": 3
   },
   "file_extension": ".py",
   "mimetype": "text/x-python",
   "name": "python",
   "nbconvert_exporter": "python",
   "pygments_lexer": "ipython3",
   "version": "3.9.13"
  }
 },
 "nbformat": 4,
 "nbformat_minor": 5
}

{
 "cells": [
  {
   "cell_type": "code",
   "execution_count": 9,
   "id": "eb5e5b41",
   "metadata": {},
   "outputs": [],
   "source": [
    "from selenium import webdriver\n",
    "from selenium.webdriver.common.by import By\n",
    "from selenium.webdriver.support.ui import WebDriverWait\n",
    "from selenium.webdriver.support import expected_conditions as EC\n",
    "from selenium.webdriver.chrome.service import Service\n",
    "from webdriver_manager.chrome import ChromeDriverManager\n",
    "from selenium.common.exceptions import NoSuchElementException, StaleElementReferenceException, ElementNotInteractableException\n",
    "from bs4 import BeautifulSoup\n",
    "import time\n",
    "import random\n",
    "import pandas as pd\n",
    "from tqdm import tqdm"
   ]
  },
  {
   "cell_type": "markdown",
   "id": "e42be583",
   "metadata": {},
   "source": [
    "# SETTING UP DRIVER"
   ]
  },
  {
   "cell_type": "code",
   "execution_count": 10,
   "id": "788a248f",
   "metadata": {},
   "outputs": [],
   "source": [
    "def driver():\n",
    "    user_agent = 'Mozilla/5.0 (Macintosh; Intel Mac OS X 10_15_7) AppleWebKit/537.36 (KHTML, like Gecko) Chrome/114.0.0.0 Safari/537.36'\n",
    "    s = Service(ChromeDriverManager().install())\n",
    "    options = webdriver.ChromeOptions()\n",
    "    options.add_argument('--ignore-certificate-errors')\n",
    "    options.add_argument('--incognito')\n",
    "    #options.add_argument(\"headless\")\n",
    "    options.add_argument(f'user-agent={user_agent}')\n",
    "    options.add_argument(\"--window-size=1920,1080\")\n",
    "    #options.binary_location = '/Applications/Brave Browser.app/Contents/MacOS/Brave Browser'\n",
    "    return webdriver.Chrome(service=s, options=options)\n",
    "    \n",
    "def linkedin_login():\n",
    "    mail = 'cocazapata.21@gmail.com'\n",
    "    pw = 'fcbarcelona21'\n",
    "    driver.get('https://www.linkedin.com')\n",
    "    username = driver.find_element(By.ID, 'email-or-phone').send_keys(mail)\n",
    "    password = driver.find_element(By.ID, 'password')\n",
    "    password.send_keys(pw)\n",
    "    password.send_keys(Keys.ENTER)"
   ]
  },
  {
   "cell_type": "markdown",
   "id": "eeba1dbb",
   "metadata": {},
   "source": [
    "# SCRAPPING LINKEDIN "
   ]
  },
  {
   "cell_type": "code",
   "execution_count": 12,
   "id": "9a715a61",
   "metadata": {},
   "outputs": [],
   "source": [
    "from selenium import webdriver\n",
    "from selenium.webdriver.common.by import By\n",
    "import time\n",
    "import random\n",
    "from bs4 import BeautifulSoup\n",
    "from tqdm import tqdm\n",
    "import pandas as pd\n",
    "import numpy as np\n",
    "\n",
    "def data_analyst():\n",
    "    user_agent = 'Mozilla/5.0 (Macintosh; Intel Mac OS X 10_15_7) AppleWebKit/537.36 (KHTML, like Gecko) Chrome/114.0.0.0 Safari/537.36'\n",
    "    s = Service(ChromeDriverManager().install())\n",
    "    options = webdriver.ChromeOptions()\n",
    "    options.add_argument('--ignore-certificate-errors')\n",
    "    options.add_argument('--incognito')\n",
    "    # options.add_argument(\"headless\")\n",
    "    options.add_argument(f'user-agent={user_agent}')\n",
    "    options.add_argument(\"--window-size=1920,1080\")\n",
    "    options.binary_location = '/Applications/Brave Browser.app/Contents/MacOS/Brave Browser'\n",
    "    driver = webdriver.Chrome(service=s, options=options)\n",
    "    mail = 'cocazapata.21@gmail.com'\n",
    "    pw = 'fcbarcelona21'\n",
    "    driver.get('https://www.linkedin.com')\n",
    "    username = driver.find_element(By.ID, 'session_key').send_keys(mail)\n",
    "    password = driver.find_element(By.ID, 'session_password').send_keys(pw)\n",
    "    #password.send_keys(Keys.ENTER)\n",
    "\n",
    "    time.sleep(20)\n",
    "\n",
    "    list_of_dictionaries = []\n",
    "\n",
    "    for i in tqdm(range(0, 976, 25)):\n",
    "        #driver.get(f'''https://www.linkedin.com/jobs/search/?f_TPR=r2592000&geoId=107025191&keywords=data&location=Barcelona%2C%20Catalonia%2C%20Spain&start={i}''')\n",
    "        driver.get(f'''https://www.linkedin.com/jobs/search/?currentJobId=3652284026&geoId=107025191&keywords=data&location=Barcelona%2C%20Catalonia%2C%20Spain&start={i}''')\n",
    "        time.sleep(random.randint(3, 5))\n",
    "        all_listings = []\n",
    "        keep_scrolling = True\n",
    "\n",
    "        while keep_scrolling:\n",
    "            listings = driver.find_elements(By.CSS_SELECTOR, \".job-card-list__title\")\n",
    "            if set(listings) == set(all_listings):\n",
    "                keep_scrolling = False\n",
    "            else:\n",
    "                new_listings = list(set(listings) - set(all_listings))\n",
    "                for listing in new_listings:\n",
    "                    all_listings.append(listing)\n",
    "                    try:\n",
    "                        driver.execute_script(\"arguments[0].scrollIntoView({behavior: 'smooth'});\", listing)\n",
    "                        time.sleep(random.randint(1, 3))\n",
    "                        listing.click()\n",
    "                        time.sleep(random.randint(2, 5))\n",
    "                        page_source = driver.page_source\n",
    "                        soup = BeautifulSoup(page_source, \"html.parser\")\n",
    "                        try:\n",
    "                            posicioncita  = {}\n",
    "                            title = driver.find_element(By.XPATH, \"//*[starts-with(@id, 'ember')]/h2\").text\n",
    "                            posicioncita[\"title\"] = title\n",
    "                            \n",
    "                            if 'data' in title.lower() or 'datos' in title.lower():\n",
    "                                \n",
    "                                try:\n",
    "                                    company = driver.find_element(By.XPATH, \"//*[contains(@class, 'ember-view t-black t-normal')]\").text\n",
    "                                    posicioncita[\"companies\"] = company\n",
    "                                except:\n",
    "                                    posicioncita[\"companies\"] = np.nan\n",
    "                                try:\n",
    "                                    location = driver.find_element(By.XPATH, \"//*[contains(@class, 'jobs-unified-top-card__bullet')]\").text\n",
    "                                    posicioncita[\"location\"] = location\n",
    "                                except:\n",
    "                                    posicioncita[\"location\"] = np.nan\n",
    "                                try:\n",
    "                                    modality = soup.select('span.jobs-unified-top-card__workplace-type')[0].get_text()\n",
    "                                    posicioncita[\"modality\"] = modality\n",
    "                                except:\n",
    "                                    posicioncita[\"modality\"] = np.nan\n",
    "                                try:\n",
    "                                    description = soup.select('#job-details > span')[0].get_text()\n",
    "                                    posicioncita[\"description\"] = description\n",
    "                                except:\n",
    "                                    posicioncita[\"description\"] = np.nan\n",
    "                            \n",
    "                            list_of_dictionaries.append(posicioncita)\n",
    "                                    \n",
    "                        except NoSuchElementException:\n",
    "                            driver.save_screenshot(f\"{random.randint(0, 100)}.png\")\n",
    "                    except StaleElementReferenceException:\n",
    "                        driver.save_screenshot(f\"{random.randint(0, 100)}.png\")\n",
    "                time.sleep(random.randint(1, 2))\n",
    "    driver.quit()\n",
    "    df = pd.DataFrame(list_of_dictionaries)\n",
    "    return df"
   ]
  },
  {
   "cell_type": "code",
   "execution_count": 13,
   "id": "bf56b0d3",
   "metadata": {},
   "outputs": [
    {
     "name": "stderr",
     "output_type": "stream",
     "text": [
      "100%|████████████████████████████████████████| 40/40 [1:36:51<00:00, 145.29s/it]\n"
     ]
    }
   ],
   "source": [
    "analyst = data_analyst()"
   ]
  },
  {
   "cell_type": "code",
   "execution_count": 46,
   "id": "0a6aba18",
   "metadata": {},
   "outputs": [
    {
     "data": {
      "text/html": [
       "<div>\n",
       "<style scoped>\n",
       "    .dataframe tbody tr th:only-of-type {\n",
       "        vertical-align: middle;\n",
       "    }\n",
       "\n",
       "    .dataframe tbody tr th {\n",
       "        vertical-align: top;\n",
       "    }\n",
       "\n",
       "    .dataframe thead th {\n",
       "        text-align: right;\n",
       "    }\n",
       "</style>\n",
       "<table border=\"1\" class=\"dataframe\">\n",
       "  <thead>\n",
       "    <tr style=\"text-align: right;\">\n",
       "      <th></th>\n",
       "      <th>title</th>\n",
       "      <th>companies</th>\n",
       "      <th>location</th>\n",
       "      <th>modality</th>\n",
       "      <th>description</th>\n",
       "    </tr>\n",
       "  </thead>\n",
       "  <tbody>\n",
       "    <tr>\n",
       "      <th>0</th>\n",
       "      <td>Data Analyst</td>\n",
       "      <td>ID Finance</td>\n",
       "      <td>Barcelona, Catalonia, Spain</td>\n",
       "      <td>On-site</td>\n",
       "      <td>\\nROLE PURPOSETo collect, organize and interpr...</td>\n",
       "    </tr>\n",
       "    <tr>\n",
       "      <th>1</th>\n",
       "      <td>Data Specialist</td>\n",
       "      <td>Loyal Guru</td>\n",
       "      <td>Barcelona, Catalonia, Spain</td>\n",
       "      <td>Hybrid</td>\n",
       "      <td>\\nLoyal Guru is the leading Customer Data Plat...</td>\n",
       "    </tr>\n",
       "    <tr>\n",
       "      <th>2</th>\n",
       "      <td>Data Analyst</td>\n",
       "      <td>The Knot Worldwide</td>\n",
       "      <td>Sant Cugat del Vallès, Catalonia, Spain</td>\n",
       "      <td>NaN</td>\n",
       "      <td>\\nJob Description\\nWHAT WE DO MATTERS:\\nHere a...</td>\n",
       "    </tr>\n",
       "    <tr>\n",
       "      <th>3</th>\n",
       "      <td>BI Analyst</td>\n",
       "      <td>NaN</td>\n",
       "      <td>NaN</td>\n",
       "      <td>NaN</td>\n",
       "      <td>NaN</td>\n",
       "    </tr>\n",
       "    <tr>\n",
       "      <th>5</th>\n",
       "      <td>Data Scientist</td>\n",
       "      <td>ClearPeaks</td>\n",
       "      <td>Barcelona, Catalonia, Spain</td>\n",
       "      <td>Hybrid</td>\n",
       "      <td>\\nAre you passionate about Business Intelligen...</td>\n",
       "    </tr>\n",
       "    <tr>\n",
       "      <th>...</th>\n",
       "      <td>...</td>\n",
       "      <td>...</td>\n",
       "      <td>...</td>\n",
       "      <td>...</td>\n",
       "      <td>...</td>\n",
       "    </tr>\n",
       "    <tr>\n",
       "      <th>803</th>\n",
       "      <td>Senior Platform Engineer - Data As A Service</td>\n",
       "      <td>eDreams ODIGEO</td>\n",
       "      <td>Barcelona, Catalonia, Spain</td>\n",
       "      <td>Hybrid</td>\n",
       "      <td>\\n                We are looking for a seasone...</td>\n",
       "    </tr>\n",
       "    <tr>\n",
       "      <th>806</th>\n",
       "      <td>Senior Azure Data Engineer</td>\n",
       "      <td>Gartner</td>\n",
       "      <td>Barcelona, Catalonia, Spain</td>\n",
       "      <td>Hybrid</td>\n",
       "      <td>\\nAbout Gartner IT: \\nJoin a world-class team ...</td>\n",
       "    </tr>\n",
       "    <tr>\n",
       "      <th>814</th>\n",
       "      <td>Senior Scientist, Computational Oncology, Onco...</td>\n",
       "      <td>AstraZeneca</td>\n",
       "      <td>Barcelona, Catalonia, Spain</td>\n",
       "      <td>NaN</td>\n",
       "      <td>\\n                The Computational Oncology g...</td>\n",
       "    </tr>\n",
       "    <tr>\n",
       "      <th>847</th>\n",
       "      <td>Associate Director, Computational Oncology, On...</td>\n",
       "      <td>AstraZeneca</td>\n",
       "      <td>Barcelona, Catalonia, Spain</td>\n",
       "      <td>NaN</td>\n",
       "      <td>\\n                The Computational Oncology g...</td>\n",
       "    </tr>\n",
       "    <tr>\n",
       "      <th>860</th>\n",
       "      <td>Senior Data Engineer – Apache Spark (Java/Scal...</td>\n",
       "      <td>Agoda</td>\n",
       "      <td>Barcelona, Catalonia, Spain</td>\n",
       "      <td>NaN</td>\n",
       "      <td>\\nAbout Agoda\\nAgoda is an online travel booki...</td>\n",
       "    </tr>\n",
       "  </tbody>\n",
       "</table>\n",
       "<p>319 rows × 5 columns</p>\n",
       "</div>"
      ],
      "text/plain": [
       "                                                 title           companies  \\\n",
       "0                                         Data Analyst          ID Finance   \n",
       "1                                      Data Specialist          Loyal Guru   \n",
       "2                                         Data Analyst  The Knot Worldwide   \n",
       "3                                           BI Analyst                 NaN   \n",
       "5                                       Data Scientist          ClearPeaks   \n",
       "..                                                 ...                 ...   \n",
       "803       Senior Platform Engineer - Data As A Service      eDreams ODIGEO   \n",
       "806                         Senior Azure Data Engineer             Gartner   \n",
       "814  Senior Scientist, Computational Oncology, Onco...         AstraZeneca   \n",
       "847  Associate Director, Computational Oncology, On...         AstraZeneca   \n",
       "860  Senior Data Engineer – Apache Spark (Java/Scal...               Agoda   \n",
       "\n",
       "                                    location modality  \\\n",
       "0                Barcelona, Catalonia, Spain  On-site   \n",
       "1                Barcelona, Catalonia, Spain   Hybrid   \n",
       "2    Sant Cugat del Vallès, Catalonia, Spain      NaN   \n",
       "3                                        NaN      NaN   \n",
       "5                Barcelona, Catalonia, Spain   Hybrid   \n",
       "..                                       ...      ...   \n",
       "803              Barcelona, Catalonia, Spain   Hybrid   \n",
       "806              Barcelona, Catalonia, Spain   Hybrid   \n",
       "814              Barcelona, Catalonia, Spain      NaN   \n",
       "847              Barcelona, Catalonia, Spain      NaN   \n",
       "860              Barcelona, Catalonia, Spain      NaN   \n",
       "\n",
       "                                           description  \n",
       "0    \\nROLE PURPOSETo collect, organize and interpr...  \n",
       "1    \\nLoyal Guru is the leading Customer Data Plat...  \n",
       "2    \\nJob Description\\nWHAT WE DO MATTERS:\\nHere a...  \n",
       "3                                                  NaN  \n",
       "5    \\nAre you passionate about Business Intelligen...  \n",
       "..                                                 ...  \n",
       "803  \\n                We are looking for a seasone...  \n",
       "806  \\nAbout Gartner IT: \\nJoin a world-class team ...  \n",
       "814  \\n                The Computational Oncology g...  \n",
       "847  \\n                The Computational Oncology g...  \n",
       "860  \\nAbout Agoda\\nAgoda is an online travel booki...  \n",
       "\n",
       "[319 rows x 5 columns]"
      ]
     },
     "execution_count": 46,
     "metadata": {},
     "output_type": "execute_result"
    }
   ],
   "source": [
    "analyst"
   ]
  },
  {
   "cell_type": "code",
   "execution_count": 15,
   "id": "931ff133",
   "metadata": {},
   "outputs": [],
   "source": [
    "analyst.drop_duplicates(subset=['description'], inplace=True)\n"
   ]
  },
  {
   "cell_type": "code",
   "execution_count": 16,
   "id": "3ffcb015",
   "metadata": {},
   "outputs": [
    {
     "name": "stdout",
     "output_type": "stream",
     "text": [
      "<class 'pandas.core.frame.DataFrame'>\n",
      "Int64Index: 319 entries, 0 to 860\n",
      "Data columns (total 5 columns):\n",
      " #   Column       Non-Null Count  Dtype \n",
      "---  ------       --------------  ----- \n",
      " 0   title        319 non-null    object\n",
      " 1   companies    317 non-null    object\n",
      " 2   location     318 non-null    object\n",
      " 3   modality     272 non-null    object\n",
      " 4   description  318 non-null    object\n",
      "dtypes: object(5)\n",
      "memory usage: 15.0+ KB\n"
     ]
    }
   ],
   "source": [
    "analyst.info()"
   ]
  },
  {
   "cell_type": "code",
   "execution_count": 48,
   "id": "ee5ac975",
   "metadata": {},
   "outputs": [],
   "source": [
    "analyst.rename(columns={'companies': 'company'}, inplace=True)\n"
   ]
  },
  {
   "cell_type": "markdown",
   "id": "940d482c",
   "metadata": {},
   "source": [
    "# CONCATING DIFFERENT DF FROM DIFFERENT SCRAPPING TIMES"
   ]
  },
  {
   "cell_type": "code",
   "execution_count": 71,
   "id": "b90b8bed",
   "metadata": {},
   "outputs": [
    {
     "name": "stdout",
     "output_type": "stream",
     "text": [
      "                                                 title             company  \\\n",
      "0                                         Data Analyst          ID Finance   \n",
      "1                                      Data Specialist          Loyal Guru   \n",
      "2                                         Data Analyst  The Knot Worldwide   \n",
      "3                                           BI Analyst                 NaN   \n",
      "5                                       Data Scientist          ClearPeaks   \n",
      "..                                                 ...                 ...   \n",
      "803       Senior Platform Engineer - Data As A Service      eDreams ODIGEO   \n",
      "806                         Senior Azure Data Engineer             Gartner   \n",
      "814  Senior Scientist, Computational Oncology, Onco...         AstraZeneca   \n",
      "847  Associate Director, Computational Oncology, On...         AstraZeneca   \n",
      "860  Senior Data Engineer – Apache Spark (Java/Scal...               Agoda   \n",
      "\n",
      "                                    location modality  \\\n",
      "0                Barcelona, Catalonia, Spain  On-site   \n",
      "1                Barcelona, Catalonia, Spain   Hybrid   \n",
      "2    Sant Cugat del Vallès, Catalonia, Spain      NaN   \n",
      "3                                        NaN      NaN   \n",
      "5                Barcelona, Catalonia, Spain   Hybrid   \n",
      "..                                       ...      ...   \n",
      "803              Barcelona, Catalonia, Spain   Hybrid   \n",
      "806              Barcelona, Catalonia, Spain   Hybrid   \n",
      "814              Barcelona, Catalonia, Spain      NaN   \n",
      "847              Barcelona, Catalonia, Spain      NaN   \n",
      "860              Barcelona, Catalonia, Spain      NaN   \n",
      "\n",
      "                                           description  \n",
      "0    \\nROLE PURPOSETo collect, organize and interpr...  \n",
      "1    \\nLoyal Guru is the leading Customer Data Plat...  \n",
      "2    \\nJob Description\\nWHAT WE DO MATTERS:\\nHere a...  \n",
      "3                                                  NaN  \n",
      "5    \\nAre you passionate about Business Intelligen...  \n",
      "..                                                 ...  \n",
      "803  \\n                We are looking for a seasone...  \n",
      "806  \\nAbout Gartner IT: \\nJoin a world-class team ...  \n",
      "814  \\n                The Computational Oncology g...  \n",
      "847  \\n                The Computational Oncology g...  \n",
      "860  \\nAbout Agoda\\nAgoda is an online travel booki...  \n",
      "\n",
      "[319 rows x 5 columns]\n"
     ]
    },
    {
     "name": "stderr",
     "output_type": "stream",
     "text": [
      "/var/folders/q7/v3v0dp3x75b1z141v2hlcr3c0000gn/T/ipykernel_53699/1316820303.py:4: UserWarning: Boolean Series key will be reindexed to match DataFrame index.\n",
      "  filtered_df = analyst[nan_counts < 2]\n"
     ]
    }
   ],
   "source": [
    "# Deleting all rows that contains more than 2 NaN values:\n",
    "nan_counts = combined_df.isna().sum(axis=1)\n",
    "\n",
    "filtered_df = analyst[nan_counts < 2]\n",
    "print(filtered_df)"
   ]
  },
  {
   "cell_type": "code",
   "execution_count": 76,
   "id": "e241c681",
   "metadata": {},
   "outputs": [],
   "source": [
    "df2 = pd.read_csv('DATA_JOBS.csv')"
   ]
  },
  {
   "cell_type": "code",
   "execution_count": 77,
   "id": "4bda9ccf",
   "metadata": {},
   "outputs": [],
   "source": [
    "df1 = pd.read_csv('DATA_JOBS_BCN.csv')"
   ]
  },
  {
   "cell_type": "code",
   "execution_count": 78,
   "id": "3688bae3",
   "metadata": {},
   "outputs": [],
   "source": [
    "df_final = pd.concat([df1, df2], ignore_index=True)\n"
   ]
  },
  {
   "cell_type": "code",
   "execution_count": 79,
   "id": "bd9e5c15",
   "metadata": {},
   "outputs": [],
   "source": [
    "df_final.drop_duplicates(subset=['description'], inplace=True)\n"
   ]
  },
  {
   "cell_type": "code",
   "execution_count": 80,
   "id": "c3476aee",
   "metadata": {},
   "outputs": [
    {
     "name": "stdout",
     "output_type": "stream",
     "text": [
      "<class 'pandas.core.frame.DataFrame'>\n",
      "Int64Index: 424 entries, 0 to 694\n",
      "Data columns (total 6 columns):\n",
      " #   Column       Non-Null Count  Dtype \n",
      "---  ------       --------------  ----- \n",
      " 0   title        424 non-null    object\n",
      " 1   company      422 non-null    object\n",
      " 2   location     423 non-null    object\n",
      " 3   modality     406 non-null    object\n",
      " 4   description  423 non-null    object\n",
      " 5   companies    0 non-null      object\n",
      "dtypes: object(6)\n",
      "memory usage: 23.2+ KB\n"
     ]
    }
   ],
   "source": [
    "df_final.info()"
   ]
  },
  {
   "cell_type": "code",
   "execution_count": 82,
   "id": "476583e7",
   "metadata": {},
   "outputs": [],
   "source": [
    "df_final.to_csv(\"DATA_JOBS_JULIO.csv\", index=False)\n"
   ]
  },
  {
   "cell_type": "code",
   "execution_count": null,
   "id": "a875fae8",
   "metadata": {},
   "outputs": [],
   "source": []
  }
 ],
 "metadata": {
  "kernelspec": {
   "display_name": "Python 3 (ipykernel)",
   "language": "python",
   "name": "python3"
  },
  "language_info": {
   "codemirror_mode": {
    "name": "ipython",
    "version": 3
   },
   "file_extension": ".py",
   "mimetype": "text/x-python",
   "name": "python",
   "nbconvert_exporter": "python",
   "pygments_lexer": "ipython3",
   "version": "3.9.13"
  }
 },
 "nbformat": 4,
 "nbformat_minor": 5
}

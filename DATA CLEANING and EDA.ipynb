{
 "cells": [
  {
   "cell_type": "markdown",
   "id": "b8c07e75",
   "metadata": {},
   "source": [
    "# GOALS"
   ]
  },
  {
   "cell_type": "code",
   "execution_count": null,
   "id": "60eca06c",
   "metadata": {},
   "outputs": [],
   "source": [
    "- Top Hiring Companies\n",
    "- Proportion Data vs Science vs Engineer (Roles)\n",
    "- Seniotiry per Roles\n",
    "- Location Percentage"
   ]
  }
 ],
 "metadata": {
  "kernelspec": {
   "display_name": "Python 3 (ipykernel)",
   "language": "python",
   "name": "python3"
  },
  "language_info": {
   "codemirror_mode": {
    "name": "ipython",
    "version": 3
   },
   "file_extension": ".py",
   "mimetype": "text/x-python",
   "name": "python",
   "nbconvert_exporter": "python",
   "pygments_lexer": "ipython3",
   "version": "3.9.13"
  }
 },
 "nbformat": 4,
 "nbformat_minor": 5
}

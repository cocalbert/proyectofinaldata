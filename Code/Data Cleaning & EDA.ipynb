{
 "cells": [
  {
   "cell_type": "markdown",
   "id": "b8c07e75",
   "metadata": {},
   "source": [
    "# GOALS"
   ]
  },
  {
   "cell_type": "markdown",
   "id": "ffeb06da",
   "metadata": {},
   "source": [
    "- *Top hiring companies (curiosity)*\n",
    "- Positon Categorization (Analyst, Scientist & Engineer)\n",
    "- Proportion Data vs Science vs Engineer (Roles)\n",
    "- Modality Proportion (Trainee, Junior, Mid & Senior)\n",
    "- Seniority x Category\n",
    "- Location Percentage\n",
    "- Keywords Exploration (soft, hard and tools)"
   ]
  },
  {
   "cell_type": "markdown",
   "id": "5e3c0350",
   "metadata": {},
   "source": [
    "# LIBRARIES"
   ]
  },
  {
   "cell_type": "code",
   "execution_count": 86,
   "id": "631f4a2c",
   "metadata": {},
   "outputs": [],
   "source": [
    "import re\n",
    "import sys\n",
    "import nltk\n",
    "import unidecode\n",
    "import numpy as np\n",
    "import pandas as pd\n",
    "import seaborn as sns\n",
    "from nltk import Text\n",
    "from textblob import TextBlob\n",
    "from langdetect import detect\n",
    "from collections import Counter\n",
    "import matplotlib.pyplot as plt\n",
    "from wordcloud import WordCloud\n",
    "from nltk.corpus import stopwords\n",
    "from googletrans import Translator\n",
    "from nltk.stem import WordNetLemmatizer\n",
    "from nltk.tokenize import word_tokenize, RegexpTokenizer\n",
    "from sklearn.feature_extraction.text import CountVectorizer, TfidfVectorizer\n",
    "%matplotlib inline\n",
    "pd.set_option('display.max_colwidth', None)"
   ]
  },
  {
   "cell_type": "code",
   "execution_count": 87,
   "id": "e494ed1c",
   "metadata": {},
   "outputs": [],
   "source": [
    "df = pd.read_csv('DATA_JOBS_JULIO.csv')"
   ]
  },
  {
   "cell_type": "code",
   "execution_count": 88,
   "id": "455dcf50",
   "metadata": {},
   "outputs": [
    {
     "name": "stdout",
     "output_type": "stream",
     "text": [
      "<class 'pandas.core.frame.DataFrame'>\n",
      "RangeIndex: 424 entries, 0 to 423\n",
      "Data columns (total 6 columns):\n",
      " #   Column       Non-Null Count  Dtype  \n",
      "---  ------       --------------  -----  \n",
      " 0   title        424 non-null    object \n",
      " 1   company      422 non-null    object \n",
      " 2   location     423 non-null    object \n",
      " 3   modality     406 non-null    object \n",
      " 4   description  423 non-null    object \n",
      " 5   companies    0 non-null      float64\n",
      "dtypes: float64(1), object(5)\n",
      "memory usage: 20.0+ KB\n"
     ]
    }
   ],
   "source": [
    "df.info()"
   ]
  },
  {
   "cell_type": "code",
   "execution_count": 89,
   "id": "e570db7d",
   "metadata": {},
   "outputs": [
    {
     "data": {
      "text/html": [
       "<div>\n",
       "<style scoped>\n",
       "    .dataframe tbody tr th:only-of-type {\n",
       "        vertical-align: middle;\n",
       "    }\n",
       "\n",
       "    .dataframe tbody tr th {\n",
       "        vertical-align: top;\n",
       "    }\n",
       "\n",
       "    .dataframe thead th {\n",
       "        text-align: right;\n",
       "    }\n",
       "</style>\n",
       "<table border=\"1\" class=\"dataframe\">\n",
       "  <thead>\n",
       "    <tr style=\"text-align: right;\">\n",
       "      <th></th>\n",
       "      <th>title</th>\n",
       "      <th>company</th>\n",
       "      <th>location</th>\n",
       "      <th>modality</th>\n",
       "      <th>description</th>\n",
       "      <th>companies</th>\n",
       "    </tr>\n",
       "  </thead>\n",
       "  <tbody>\n",
       "    <tr>\n",
       "      <th>0</th>\n",
       "      <td>Senior Game Data Analyst</td>\n",
       "      <td>Tilting Point</td>\n",
       "      <td>Barcelona, Catalonia, Spain</td>\n",
       "      <td>Hybrid</td>\n",
       "      <td>\\nAt Tilting Point, we combine data, technology, talent and groundbreaking marketing to scale games to success. As the Senior Game Data Analyst, you will work closely with game teams to help inform decision-making regarding features of the game, balancing, player interactions, finding hidden opportunities and much more.\\nYour Future at Tilting PointAnalyze large, complex datasets to address ad-hoc and long-term operational and strategic business questionsDraw meaningful conclusions and provide actionable insights from data to shape and influence in-game features, economies, and future product roadmapsOwn the taxonomy for game data, ensuring all key performance metrics are measurable and can be analyzed efficiently.Present analytical findings as both written communication and visual representations that are clear, concise, and understandable, to both technical and non-technical audiences.Build relationships with stakeholders and processes around data deliverables to ensure data driven decisions can be made at all levels across Tilting PointCollaborate with all teams at Tilting Point, driving and supporting data and analytics related projects with game team, User Acquisition, Marketing, Engineering, and more\\nYour XP &amp; SkillsEffectively communicate in English across verbal and written form.University degree (BA or BS) in Analytics, Economics, Mathematics, Statistics, Business Management, Information Systems, Computer Science or a related field3+ years of work experience as a data analyst or scientist, supporting consumer-facing products, mobile app/game preferredProficient with SQL2+ years with Python/R a plusAdept in at least one visualization tool such as TableauFamiliarity with PySpark and/or Amplitude a plusPassionate about mobile/social gaming with a good understanding of the market.\\n</td>\n",
       "      <td>NaN</td>\n",
       "    </tr>\n",
       "    <tr>\n",
       "      <th>1</th>\n",
       "      <td>Data Analyst (Operations Team)</td>\n",
       "      <td>Holaluz</td>\n",
       "      <td>Barcelona, Catalonia, Spain</td>\n",
       "      <td>On-site</td>\n",
       "      <td>\\nDescription\\n\\n¿Quiénes somos?\\n\\nSomos Holaluz, la empresa que lleva una década revolucionando el sector energético. Nacimos para cambiar el mundo conectando a las personas con la energía verde 💡💚, y tú y el planeta sois nuestra motivación para ser como somos y hacer lo que hacemos.\\n\\nNuestra voluntad de hacer las cosas de un modo distinto, nos ha llevado a liderar la transformación del sector eléctrico y a ser la primera eléctrica en obtener el certificado BCorp.\\n\\n¿Te sumas? Únete a la revolución.\\n\\n¿Qué harás?\\n\\nFormarás parte del Chapter de Data Analytics, con foco en el área de Operaciones.\\n\\n¿Qué esperamos de ti?\\n\\nIdentificar las grandes necesidades de Data Analytics dentro del área de Operaciones y transformarlas en proyectos que impacten positivamente sus OKRs. Transformar los datos relativos a Operaciones y Customer Care en Insights accionables que mejoren la satisfacción de nuestras clientas y que hagan más eficiente el trabajo del equipo del área de Operaciones. También tendrás que comunicar toda la información crítica e insights a otros departamentos relevantes y a la empresa en general ya que Holaluz trabaja por y para el cliente.Mentorizar y dar soporte al resto de integrantes del equipo de Data Analytics que trabajan en el equipo de Customer Care y en Operaciones. El objetivo es ayudarles en su crecimiento profesionalRealizar la interlocución con todos los integrantes del área de Operaciones para asegurar que se cumplen los OKRs definidos y que también se atienden las necesidades surgidas del día a día. Deberás contribuir en la mejora contínua del área y para ello tendrás que empaparte de los procesos, la operativa y los retos para poder proponer mejorasParticipar activamente en la mejora continua del Chapter de Data Analytics: identificación de best practices, priorización de proyectos, puesta en marcha de modelos de Machine Learning, etc.Desarrollar una planificación clara y estructurada de los datos con el objetivo de identificar las oportunidades de mejora y conocer qué necesita el cliente externo e interno.Trabajar en la configuración de la infraestructura de datos de Operaciones que impacta en la gestión del cliente, incluidas las plataformas de análisis, almacenamiento y reporte de datos. Esta tarea la realizarás con el apoyo del Chapter de Data Analytics\\n\\nY como #SayThingsAsTheyAre es uno de nuestros valores, queremos ser claros y transparentes en explicarte qué harás durante tus primeros 6 meses en Holaluz.\\n\\nEn 1 mes...\\n\\nDespués del primer mes ya sabrás cómo está todo montado, te habrás empapado de la cultura y la visión, te habrás reunido con todos los equipos y sabrás qué es lo que hacen y qué necesitan.Empezarás a analizar las decisiones que han hecho los diferentes equipos y áreas para empezar a enfrentarte a tus primeros retos.También habrás ido a comer algún día con las personas del equipo, habrás asistido a algunas de las sesiones que hacemos con el objetivo de que fluya el conocimiento.\\n\\nEn 3 meses...\\n\\nSeguro que ya habrás tomado muchas decisiones sobre cómo aportar en Operaciones y en el Chapter de Data Analytics. Estarás trabajando codo a codo con tus colegas, en otras palabras, habrás visto la LUZ.Habrás disfrutado de algún team building con el equipo y habrás tenido la oportunidad de hacer más de una presentación.\\n\\nEn 6 meses...\\n\\nTendrás (casi) todo bajo control y habrás contribuido en la madurez y crecimiento de tu equipo. Habrás aportado valor más allá de tu equipo compartiendo conocimiento, y haciendo valer toda tu experiencia para mejorar el área de Operaciones y el Chapter de Data Analytics.Además, habrás tenido varias reuniones con tu responsable para saber cómo te sientes en tus primeros meses con Holaluz.\\n\\n¿Cómo lo harás?\\n\\nOtro de nuestros valores es #KeepRowing o seguir remando, lo que significa que el trabajo en equipo y la alineación del mismo es fundamental para poder avanzar y hacer frente a nuestros objetivos compartidos.\\n\\nEn Holaluz hemos construido un sistema organizativo robusto y en constante iteración, que nos permite adaptarnos a los constantes cambios que demanda la industria y lograr el propósito que perseguimos. En Holaluz las reuniones y decisiones se toman de forma colaborativa, fluye el feedback 🤟 entre los diferentes equipos y se fomenta el apoyo entre personas.\\n\\n¿Con quién lo harás?\\n\\n#AlwaysPeopleFirst es también un valor muy importante en Holaluz, y para nosotros es clave tener un buen equipo de trabajo, por eso te explicamos que somos un equipo de unas 800 personas con un ambiente inmejorable, y con las que tendrás la oportunidad de trabajar en tu día a día 😁.\\n\\nAdemás, trabajarás de la mano con Adrià y Víctor de tu equipo de Data y junto con tus stakeholders. ¿Sabías que nuestro Chapter de Analytics está compuesto por casi el 50% de talento femenino? ¡Te presentamos a dos compañeras!\\n\\n👩🏾‍🎤 Marta \\n\\nMatemática, valenciana y gran aficionada al baloncesto. Es muy fan de hacer listas para todo y darle un toque de humor a cada reunión. Marta combina sus múltiples hobbies con su pasión por una visualización bien estructurada. Y a pesar de tener muchas reuniones, si le ofreces tomar un café mientras comentáis algún tema, aceptará sin dudarlo.\\n\\n🦹🏻‍♀️ Èlia\\n\\nEs la más joven del equipo pero desborda sabiduría. Èlia es una optimista incorregible con un don para encontrar el lado bueno de las cosas. En 5min te contagiará su buen rollo. A la catalana del equipo le encanta la escalada y siempre busca nuevos retos con unas ganas inagotables por aprender de otras áreas. El saber no ocupa lugar.\\n\\n¿Dónde lo harás?Qué mejor lugar para hacerlo que en nuestras oficinas de Barcelona a sólo 200 metros del mar 🌊. Esta excepcional ubicación al lado de la playa es perfecta para hacer un break con chapuzón y poder poner en práctica otro de nuestros valores #HaveFun.\\n\\nRequirements\\n\\n¿Qué necesitamos?\\n\\nHemos pensado muy muy bien lo que buscamos y lo que de verdad importa:\\n\\nLicenciatura en Ciencias Empresariales/Económicas, Matemáticas o Ingeniería.Más de 5 años de experiencia en el campo de Data Analytics, y solvencia en el uso de SQL y de PythonHabilidades analíticas de alto nivel y capacidad de traducir información en insights accionables y en informes concisos.Storytelling y capacidad de comunicar las conclusiones de tus análisis.Capacidad para trabajar eficazmente en equipo.Gran atención a los detalles.No hace falta que seas Shakespeare, pero sí que puedas comunicarte en Inglés.\\n\\nTodo suma, así que si tienes alguna de estas cosas SUMA Y SIGUE:\\n\\nFormación y experiencia en análisis de datos y en el uso de modelos de analítica avanzada y Machine Learning.Elaboración de dashboards.Conocimientos de PowerBI.\\n\\nRequisitos deseables:\\n\\nOrientación al Cliente.Capacidad para mantener relaciones interpersonales.Alta capacidad de implicación, dedicación y motivación.Elevada orientación a la consecución de objetivos y al cumplimiento de resultados.Excelente capacidad de análisis.\\n\\nBenefits\\n\\n¿Qué ofrecemos?\\n\\nOtro de los valores que nos caracteriza en Holaluz es #EsPosible. Por ello, ofrecemos una serie de medidas para que puedas desarrollarte 360º y conseguir todo aquello que te propongas, tanto a nivel personal como profesional:\\n\\nLa mayor fuente de nuestra energía: ¡nuestra gente!\\n\\nÚnete a una empresa donde las personas son lo primero, con un ambiente de trabajo inmejorable y un gran talento donde realmente vivimos nuestros valores. Para ello ofrecemos una serie de ventajas y beneficios que te permitirán estar apoyado tanto a nivel personal como profesional.\\n\\nSOSTENIBILIDAD\\n\\nÚnete a la primera empresa de servicios eléctricos con certificación B Corp de Europa, y actualmente #1 en el ranking mundial ESG para compañías eléctricas.Tarifa competitiva de movilidad sostenible con eCooltra. Se trata de bicicletas y patinetes eléctricos, para que puedas llegar a la oficina de forma rápida y económica, utilizando un transporte individual y ecológico. \\n\\nSALUD Y BIENESTAR\\n\\nSeguro médico privado con Adeslas.Suscripción de gimnasio a Andjoy (Gympass).Fruta ecológica todos los días.Té y café en la oficina. \\n\\nEQUILIBRIO TRABAJO-VIDA\\n\\nRégimen de Retribución Flexible en guardería, transporte y comida con Cobee.Tarifa Wifi competitiva con Unique.Creemos en la autonomía y la responsabilidad personal por lo que ofrecemos horarios de trabajo flexibles y la opción de trabajar de forma remota 6 días al mes (19 por trimestre).Referencias: obtén recompensas si contratamos a personas talentosas que tú nos recomiendes para que se unan a Holaluz.Parking - mejores tarifas en W Hotel.Como empresa certificada Baby Friendly: Guardería interna para ayudar a integrar vida y trabajo a las nuevas familias.\"Casals\" (campamentos durante los largos meses de verano pero también en otras vacaciones). \\n\\nAUTODESARROLLO\\n\\nEventos de creación de equipos.Acceso a contenidos de formación.Biblioteca propia, con contenidos muy diversos.Clases de idiomas gratuitas en clases de inglés, castellano y catalán. \\n\\n”Celebramos la diversidad en el mundo y queremos que nuestro equipo refleje esto de manera inclusiva. En Holaluz, estamos comprometidos con la igualdad de oportunidades de empleo independientemente de la etnia, religión, sexo, origen nacional, orientación sexual, edad, estado civil, discapacidad, género, identidad o expresión de género. Además, nos esforzamos por empoderar a las mujeres en el lugar de trabajo.”\\n</td>\n",
       "      <td>NaN</td>\n",
       "    </tr>\n",
       "    <tr>\n",
       "      <th>2</th>\n",
       "      <td>Data Engineer</td>\n",
       "      <td>IOMED</td>\n",
       "      <td>Barcelona, Catalonia, Spain</td>\n",
       "      <td>Hybrid</td>\n",
       "      <td>\\nAbout the job\\nIOMED Data Engineering Team is responsible for building and maintaining optimized and highly available data pipelines that facilitate information extraction and transformation for our main products and internal applications. The core of your role will be designing, architecting, implementing, and testing data extraction and transformation tools in a microservices environment:\\nData processing pipelinesData model transformationsComponents of a multi-modal distributed database.\\nYou will collaborate with the rest of the Data Engineering team in analyzing and understanding data sources, participating in the design, and providing insights and guidance on database technology and data modeling best practices.\\nThis role should work closely with the Business Development and Data Science teams, gathering technical requirements for data governance and data quality across the company.\\nAbout you\\nYou will be working in a very dynamic environment, which means that you must have a strong problem-solving ability, organization skills, and be proactive.\\nIn terms of personality, we are looking for someone who enjoys working in a wide range of areas and adapts quickly to new situations.\\nTasks\\nYou will have to feel comfortable giving support to the rest of the team and you can definitely expect to:\\nQuery, model and deploy with PostgreSQL, Redis, RabbitMQ.ETL with SQL and PythonDesign, implement &amp; test microservices.Integrate our products with external APIs.Development and testing of our core products and frameworks.Be comfortable with container development with Docker.Testing, logging, measuring and alerting of the deployed services.Monitor the existing metrics, analyze data, and collaborate with other teams in an effort to identify and implement a system and process improvements.Ensure that the collected data is of high quality and optimal for use across the team and the business at largeOversee activities of the junior data engineering teams, ensuring proper execution of their duties and alignment with business vision and objectives\\nWhat we are looking for\\nAt least 8 years of working experience working in a data engineering department, preferably as a Data Engineer in a fast-paced environment and complex businessSetting and a demonstrated experience in building and maintaining reliable and scalable ETL.Experience in data warehousing inclusive of dimensional modeling concepts and demonstrate proficiency in programming (SQL and Python will be your main tools of the trade).Proven skills of putting microservices to use, and you’re comfortable with working with containers in a cluster architecture.Work well in a team, can teach &amp; learn from others, and communicate what you’re working on with non-technical team members.\\n\\nWhat we offer\\nCompetitive Salary.Permanent contract.Company profit-sharing scheme valued at up to €15,000 per year.Flexible remuneration with restaurant tickets, transport tickets, nursery, training, and medical insurance.Flexible schedule, with the possibility of home office.28 days of vacations per year.A warm, transparent and supportive team, with a huge emphasis on work-life balance.The opportunity to make your mark in e-health and AI.\\nAbout IOMED \\nIOMED is a leading technology start-up company in the field of massive medical data extraction and processing. It is made up of a united, young, dynamic, and flexible team, which, after several years of working together, is characterized by its agility, enjoyment of work, and rapport. Accordingly, we are looking for candidates with the desire to innovate, launch a relevant project, and grow with it, always enjoying teamwork and challenges, which are many, every day.\\nAs an employer, we offer equal opportunity. We want to grow our team with talented, dynamic people who want to make their mark in the field of AI and research, regardless of race, color, religion, national origin, gender, physical disability, or age.\\nWhat we do \\nNowadays, there is still great difficulty in accessing Real-World Data (Real-World Data), which are those contained in Electronic Health Records (EHR), since up to 85% of the existing clinical data is not structured. This represents a loss of opportunity for the sector to improve its healthcare processes and clinical research.\\nIOMED has developed a Natural Language Processing solution that extracts and transforms clinical data into an international and federated model, OMOP CDM, resulting in a structured, standardized, and interoperable database that contains complete clinical information from hospitals.\\nIn this way, professionals and the industry can make use of this data and obtain evidence based on all the data, Real World Evidence, that has essential value when it comes to making decisions, among others. All this, in addition, to assuring the protection and governance of the data at all times.\\n</td>\n",
       "      <td>NaN</td>\n",
       "    </tr>\n",
       "    <tr>\n",
       "      <th>3</th>\n",
       "      <td>Analista de Datos Junior</td>\n",
       "      <td>CGI</td>\n",
       "      <td>Spain</td>\n",
       "      <td>Remote</td>\n",
       "      <td>\\nSomos una multinacional canadiense especializada en consultoría tecnológica, con presencia en 21 sectores en más de 400 ubicaciones en todo el mundo, proveemos servicios de consultoría de negocio y de TI integrales, escalables y sostenibles que están analizados globalmente y entregados localmente.\\nEstamos buscando un/a analista de datos (junior)  para impulsar nuestro equipo y realizar un trabajo de calidad del dato y realización de modelos de control para un cliente estratégico dentro de un gran proyecto.\\nFunciones:Realización de modelos de controlRealización de informes periódicosprocesos tácticosSoporte a aplicativo corporativo del clientecertificación de nuevos desarrollos\\nRequisitos deseados:SQLExcelVBA\\nGrupo CGI ofrece:\\n-Contratación indefinida-Horario flexible.-Proyectos estable de larga duración.-Pertenecer a un equipo de trabajo altamente cualificado en una empresa joven en proceso de expansión.-Trabajar en un ambiente de trabajo amigable, donde la estrecha relación con los managers y con RRHH facilita el espíritu emprendedor, el intercambio de ideas, la iniciativa y el desarrollo de las personas.-Formación en distintas tecnologías.-Desarrollo profesional.\\nSi tienes capacidad de trabajo y ganas de seguir aprendiendo en una empresa dinámica y en constante crecimiento... ¡Esta es tu oportunidad!\\n</td>\n",
       "      <td>NaN</td>\n",
       "    </tr>\n",
       "    <tr>\n",
       "      <th>4</th>\n",
       "      <td>Data Analyst</td>\n",
       "      <td>Olala Homes</td>\n",
       "      <td>Barcelona, Catalonia, Spain</td>\n",
       "      <td>Hybrid</td>\n",
       "      <td>\\nOlala Homes is a unique tech-enabled hospitality management company focusing on the short-term vacation rental segment through the ownership and management of over 400 units across multiple countries and cities. Olala Homes’ lean business model coupled with its real estate development expertise and topped with its strong team form a solid base for its ambitious future expansion plan across Spain, Europe, and beyond. The company’s HQ is located in Barcelona with satellite offices in Greece, Romania, Portugal, and Israel. Olala Homes is part of the Rina Group, a group of companies investing in Tourism &amp; Hospitality, Industrial Minerals, Real Estate, and Agriculture across 3 continents.\\nJob Brief We are seeking a skilled and motivated Data Analyst to join our team in the hospitality industry. As a Data Analyst, you will be responsible for collecting, analyzing, and interpreting data to help drive informed decision-making and improve operational efficiency within our organization. Your expertise in data analysis and strong business acumen will play a crucial role in optimizing our operations, enhancing customer experiences, and identifying growth opportunities. This is an exciting opportunity for a talented individual to contribute to the success of our organization through data-driven insights.\\nMain responsibilities:Data Collection and Analysis: Gather data from various sources, including internal databases, customer feedback, and external data sets. Analyze and interpret this data to identify trends, patterns, and insights relevant to the hospitality industry.Performance Tracking: Develop and maintain performance metrics and dashboards to monitor key performance indicators (KPIs) across different aspects of our hospitality operations. Regularly evaluate and report on performance trends, providing actionable recommendations for improvement.Operational Efficiency: Identify areas of operational inefficiencies and collaborate with cross-functional teams to develop strategies and solutions. Utilize data analysis techniques to optimize processes, reduce costs, and enhance productivity within the organization.Customer Insights: Analyze customer feedback, preferences, and behavior to generate actionable insights that can be used to enhance customer experiences. Provide recommendations on how to improve customer satisfaction and loyalty based on data analysis.Data Visualization and Reporting: Create visually appealing and informative reports, charts, and presentations to effectively communicate complex data insights to both technical and non-technical stakeholders. Use data visualization tools and techniques to present findings in a clear and concise manner.Continuous Learning and Improvement: Stay updated with the latest data analysis techniques, tools, and industry trends. Proactively identify opportunities for process improvement and propose innovative solutions to enhance the effectiveness and efficiency of data analysis.\\nRequirements:Minimum 2 years of experience as a Data Analyst or Business Data AnalystBS in Mathematics, Economics, Computer Science, Information Management or StatisticsTechnical expertise regarding data models, database design development, data mining and segmentation techniques. Preferably within the hospitality industry.Excellent written and verbal communication skillsStrong analytical skills with the ability to collect, organize, analyze, and disseminate significant amounts of information with attention to detail and accuracyAdvanced knowledge in Excel, SQL and PhytonFamiliarity with database management systems and data warehousing concepts.Experience in building reports for data visualization (ideally Power BI)Zendesk Knowledge is a big plusProfessional level of English \\nIf you are passionate about data analysis and its application to the hospitality industry, and if you thrive in a dynamic and results-oriented environment, we would love to hear from you. Join our team and contribute to shaping the future of our organization through data-driven decision-making.\\nWhat we offer:Competitive salary with other benefits such as employee discounts staying in Olala Homes’ properties, weekly fruit basket in the office, happy hour, etc.Opportunity to be mentored by experienced professionals and gain first-hand know-how in a swift pacePositive corporate culture to be proud to be a part of a fast growing company\\n</td>\n",
       "      <td>NaN</td>\n",
       "    </tr>\n",
       "    <tr>\n",
       "      <th>...</th>\n",
       "      <td>...</td>\n",
       "      <td>...</td>\n",
       "      <td>...</td>\n",
       "      <td>...</td>\n",
       "      <td>...</td>\n",
       "      <td>...</td>\n",
       "    </tr>\n",
       "    <tr>\n",
       "      <th>419</th>\n",
       "      <td>Arabic Language Data Analyst (Temporary Placement)</td>\n",
       "      <td>TELUS International AI Data Solutions</td>\n",
       "      <td>Barcelona, Catalonia, Spain</td>\n",
       "      <td>On-site</td>\n",
       "      <td>\\nTELUS International is looking for Language Data Analysts in Barcelona, Spain to work onsite for a machine learning project! At the moment, we are looking for candidates with fluency in Arabic. This position is temporary.\\nLanguage Data Analysts will analyze data in a given language and identify potential issues. They will also collaborate with international testing teams and engineers to help reproduce issues and test features. Data obtained will be used to train and improve speech recognition and AI systems.\\nRESPONSIBILITIES:Includes, but is not limited to the following. Other duties may be assigned.\\nLinguistic data labelling.Analyzing language data in the given language and identifying potential issues and patterns.Collaborating with an international testing team and engineers to help reproduce issues and test features.Communicating with various departments.\\nSKILLS AND QUALIFICATIONS:Fluency in Arabic.Preferred educational background: linguistics, literature or translation.Available to work onsite in Barcelona, Spain.Excellent reading, writing and comprehension skills in English; ability to understand and closely follow elaborate guidelines in English.In-depth knowledge of native culture and history, staying up to date with day-to-day news and happenings in the target country and regular use of the language required.Strong attention to detail and ability to meet project targets.Self-motivated and able to work as part of the team or independently.Good computer and software skills across different operating systems.Strong typing skills.Good organizational skillsAdaptable to changing environments.\\nWHAT WE OFFER:Attractive salaryTemporary, full-time contract with TELUS InternationalReferral program with attractive bonusesPrivate medical insurance for employees and relativesGreat office at a top locationPositive international working environment (relaxing zones, terrace, kitchen)Discounts in gym membershipsCareer development opportunitiesNo overtime or weekend workContinuous support and learningAccess to counseling sessions\\nIf this opportunity sounds appealing to you, apply now! Kindly attach your CV in English.*Please note that only shortlisted candidates will be contacted.\\nABOUT US:AI Data SolutionsCreating and enhancing the world's data to enable better AI via human intelligence.\\nWe strive to enhance the world's data to enable better AI through human intelligence. Our team of data, technology, and project management professionals work with companies to test and improve machine learning models. We handle various data types, including text, images, audio, video, and geo. Our solutions improve AI systems in multiple applications, such as advanced smart products, improved search results, expanded speech recognition, more human-like bot interactions, and more.\\nTELUS International values diversity and grants equal opportunity regardless of age, civil status, disability, gender, nationality, race, religion and political beliefs, sex or sexual orientation.\\n</td>\n",
       "      <td>NaN</td>\n",
       "    </tr>\n",
       "    <tr>\n",
       "      <th>420</th>\n",
       "      <td>Senior Service Architect for Data Management and Landscape Transformation</td>\n",
       "      <td>SAP</td>\n",
       "      <td>Barcelona, Catalonia, Spain</td>\n",
       "      <td>Hybrid</td>\n",
       "      <td>\\nWe help the world run better\\nOur company culture is focused on helping our employees enable innovation by building breakthroughs together. How? We focus every day on building the foundation for tomorrow and creating a workplace that embraces differences, values flexibility, and is aligned to our purpose-driven and future-focused work. We offer a highly collaborative, caring team environment with a strong focus on learning and development, recognition for your individual contributions, and a variety of benefit options for you to choose from.Apply now!\\nYOUR FUTURE POSITION\\nAs a Senior Service Architect, your job will involve working in a global team focusing on delivering international projects.\\nYour Main Tasks Are\\n Identify customer’s business needs and support the designing and architecting the appropriate solution proposal from the Data Management &amp; Landscape Transformation (DMLT) portfolio and beyond. Lead and facilitate customer’s workshops and discussions to validate the best solution design for the customer's requirements. Support and/or lead the delivery of DMLT projects remotely and onsite, in distributed regional and global teams Conduct feasibility studies and system analyses, supported by SAP DMLT technology and methodology Contribute to continuously enhance the DMLT solution design according to changing market requirements and identify potential enhancements, continuously improving our service offering Closely collaborate with people in different roles across the company Establish and maintain trustful relationships with people on all levels of both externally on customer side and SAP internally\\nYOUR PROFILE\\n University degree (Bachelor/Master) or equivalent relevant job experience Minimum 5 years (preferably international) SAP consulting experience, SAP DMLT tools and methodology and data migration experience is a plus Relevant SAP Technology experience, SAP Business Technology Platform is a plus Process know-how for essential business processes like Lead-2-Cash, Procure-2-Pay, Design-2-Operate or Hire-2-Retire are a strong asset Additional experience in SAP S/4HANA, BW/BW4, CRM and CX, SRM and ISM, HCM/SuccessFactors, Data Management Solutions (MDG, ILM,..) or SAP Industry Solutions is a benefit Excellent communication and moderation skills, strong team spirit English and Spanish required\\nAbout The Team\\nData Management and Landscape Transformation is a global Service Delivery organization within the Board Area Customer Success. We advise our customers in strategy definition, conceptual planning, and the realization of their business and technological transformation requirements for the digital economy.\\nData Management and Landscape Transformation services offer a holistic approach for customers data-related needs with data quality and data integration services. The DMLT group serves SAP customers in managing their data and transforming their landscapes. Business, market, and technology changes result in realignment of business processes and structures. This reflects in various transformation and transition activities, such as\\n Fast-track data migration and (selective) transition to the Intelligent Enterprise Suite (IES) (SAP S/4HANA cloud, SAP S/4HANA, BW/4, C4/H, SuccessFactors, SAP Data Intelligence and more) Manage business challenges that come with mergers, acquisitions, and divestitures Optimization of processes and data, or organizational restructuring by ensuring data harmonization, data restructuring or the consolidation of system landscapes Improve management of data from strategy to execution, with the focus on data quality, data privacy, data volume and lifecycle, data integration, and master data management\\nIn fast pace changing market and business requirements, it is essential for customers to adopt to the digital platform to drive their business innovation. The DMLT service portfolio plays a significant role in helping customers to transition to the IES via SAP Move and SAP RISE. It’s our mission to “enable customer’s business to intelligently connect people, data and processes”.\\nThe position can be filled as part time position.\\nWe build breakthroughs together\\nSAP innovations help more than 400,000 customers worldwide work together more efficiently and use business insight more effectively. Originally known for leadership in enterprise resource planning (ERP) software, SAP has evolved to become a market leader in end-to-end business application software and related services for database, analytics, intelligent technologies, and experience management. As a cloud company with 200 million users and more than 100,000 employees worldwide, we are purpose-driven and future-focused, with a highly collaborative team ethic and commitment to personal development. Whether connecting global industries, people, or platforms, we help ensure every challenge gets the solution it deserves. At SAP, we build breakthroughs, together.\\nWe win with inclusion\\nSAP’s culture of inclusion, focus on health and well-being, and flexible working models help ensure that everyone – regardless of background – feels included and can run at their best. At SAP, we believe we are made stronger by the unique capabilities and qualities that each person brings to our company, and we invest in our employees to inspire confidence and help everyone realize their full potential. We ultimately believe in unleashing all talent and creating a better and more equitable world.\\nSAP is proud to be an equal opportunity workplace and is an affirmative action employer. We are committed to the values of Equal Employment Opportunity and provide accessibility accommodations to applicants with physical and/or mental disabilities. If you are interested in applying for employment with SAP and are in need of accommodation or special assistance to navigate our website or to complete your application, please send an e-mail with your request to Recruiting Operations Team: Careers@sap.com\\nFor SAP employees: Only permanent roles are eligible for the SAP Employee Referral Program, according to the eligibility rules set in the SAP Referral Policy. Specific conditions may apply for roles in Vocational Training.\\nEOE AA M/F/Vet/Disability\\nQualified applicants will receive consideration for employment without regard to their age, race, religion, national origin, ethnicity, age, gender (including pregnancy, childbirth, et al), sexual orientation, gender identity or expression, protected veteran status, or disability.\\nSuccessful candidates might be required to undergo a background verification with an external vendor.\\nRequisition ID: 370223 | Work Area: Consulting and Professional Services | Expected Travel: 0 - 10% | Career Status: Professional | Employment Type: Regular Full Time | Additional Locations: .\\n\\n</td>\n",
       "      <td>NaN</td>\n",
       "    </tr>\n",
       "    <tr>\n",
       "      <th>421</th>\n",
       "      <td>Data &amp; Adtech Account Media Director</td>\n",
       "      <td>Silicon HR</td>\n",
       "      <td>Barcelona, Catalonia, Spain</td>\n",
       "      <td>Hybrid</td>\n",
       "      <td>\\n¿Buscas un proyecto tecnológico de crecimiento, proactividad y aprendizaje continuo? ¿Estás interesado/a en formar parte de una agencia con un ambiente de compañerismo y lleno de oportunidades de crecimiento?\\nSi quieres unirte a una agencia de medios independiente, en constante crecimiento, participar activamente en las decisiones de tus propuestas, poder asesorar a todo tipo de clientes, trabajar por objetivos y todo esto hacerlo de la mano de un equipo que te ayudará en todo lo que necesites y donde hay muy buen ambiente de trabajo… ¡Sigue leyendo!\\nBuscamos para una agencia de medios independiente en Barcelona, un perfil con experiencia en la gestión de proyectos de Data Analytics y Adtech para los diferentes clientes de la agencia. Las tareas que realizarás son:\\n1. Recepción del briefing. 2. Creación de la estrategia junto con los equipos de especialistas. 3. Creación de la propuesta económica. 4. En caso de OK, puesta en marcha. Gestión de creatividades, tracking y activaciones con el resto de los canales, tanto especialistas como proveedores externos. 5. Seguimientos, reuniones, informes. 6. Optimizaciones y gestión de incidencias. 7. Facturación.   ¿Qué te hará triunfar como Data &amp; Adtech Account Media Director?\\nExperiencia y habilidades en la coordinación de proyectos digitales para el cliente. Esto implica tanto la facilidad de trato con diferentes equipos, cómo el conocimiento del ecosistema digital, tanto de AdTech como de MarTech.Expertise en planificación, gestión y activación de campañas de marketing digital. Gestión directa con el cliente: recepción de brief, generación de estrategia, activación y seguimiento de la misma, y con equipos internos (SEM, Social Ads, RTB, Tecnología)Control y seguimiento de campañas: activaciones, seguimientos, optimizaciones, reporting, cierres, etc.Habilidades de comunicación.\\n\\n¿Qué ofrecemos?Formar parte de una agencia con ambiente familiar, donde tu serás el capitán del barco de proyectos de Data. Tendrás formación continua y acceso a certificaciones.Posición estableTeletrabajo los viernes Jornada intensiva en veranoSalario: comentaremos en la primera llamada\\n \\n</td>\n",
       "      <td>NaN</td>\n",
       "    </tr>\n",
       "    <tr>\n",
       "      <th>422</th>\n",
       "      <td>Danish Language Data Analyst</td>\n",
       "      <td>TransPerfect</td>\n",
       "      <td>Barcelona, Catalonia, Spain</td>\n",
       "      <td>On-site</td>\n",
       "      <td>\\nWork Location: Barcelona, SpainWork Schedule: Monday – Friday during regular business hoursEngagement Model: Long termLanguages Needed: DanishProject Duration: IndefiniteStart Date: ASAP\\nWe are looking for Danish Speakers to join us on a new innovative and interesting project to improve Artificial Intelligence and technology that makes our everyday lives better (i.e., speech or text recognition, input methods, keyboard/swipe technology, or other areas of human-machine interaction related to languages).\\nRole SummaryLanguage Data Analysts will focus on speech or text recognition, input methods, keyboard/swipe technology, or other areas of human-machine interaction related to languages.\\nRole ResponsibilitiesClassify, sort, label, and annotate data.\\nJob Requirements\\nRole RequirementsEligible to work in Barcelona.Idiomatic fluency in DanishAdvanced fluency in English (tests and training materials are in English)No previous experience or training in the field is required - we will provide training.Ability to work onsite at our offices in Barcelona.Detail-oriented and comfortable with repetitive tasksTeam player\\nDataForce by TransPerfect is part of the TransPerfect family of companies, the world’s largest provider of language and technology solutions for global business, with offices in more than 100 cities worldwide.\\nWe offer high-quality data for Human-Machine Interaction to some of the most prestigious technology companies in the world. Our department focuses on gathering, enriching and processing data for Machine Learning in different AI domains.\\nTo learn more about DataForce please visit us at https://www.transperfect.com/dataforce ;\\n</td>\n",
       "      <td>NaN</td>\n",
       "    </tr>\n",
       "    <tr>\n",
       "      <th>423</th>\n",
       "      <td>Arabic Language Data Analyst - Barcelona</td>\n",
       "      <td>TransPerfect</td>\n",
       "      <td>Barcelona, Catalonia, Spain</td>\n",
       "      <td>On-site</td>\n",
       "      <td>\\nWork Location: Barcelona, SpainWork Schedule: Monday – Friday during regular business hoursEngagement Model: Permanent employmentLanguages Needed: Arabic Start Date: ASAP\\nWe are looking for Arabic Speakers to join us on a new innovative and interesting project to improve Artificial Intelligence and technology that makes our everyday lives better (i.e., speech or text recognition, input methods, keyboard/swipe technology, or other areas of human-machine interaction related to languages).\\nRole SummaryLanguage Data Analysts will focus on speech or text recognition, input methods, keyboard/swipe technology, or other areas of human-machine interaction related to languages.\\nRole ResponsibilitiesClassify, sort, label, and annotate data\\n\\nJob RequirementsRole RequirementsEligible to work in BarcelonaIdiomatic fluency in Arabic Advanced fluency in English (tests and training materials are in English)Ability to work onsite at our offices in BarcelonaDetail-oriented and comfortable with repetitive tasksTeam playerNo previous experience or training in the field is required - we will provide training.\\nDataForce by TransPerfect is part of the TransPerfect family of companies, the world’s largest provider of language and technology solutions for global business, with offices in more than 100 cities worldwide.\\nWe offer high-quality data for Human-Machine Interaction to some of the most prestigious technology companies in the world. Our department focuses on gathering, enriching, and processing data for Machine Learning in different AI domains.\\nTo learn more about DataForce please visit us at https://www.transperfect.com/dataforce ;\\n</td>\n",
       "      <td>NaN</td>\n",
       "    </tr>\n",
       "  </tbody>\n",
       "</table>\n",
       "<p>424 rows × 6 columns</p>\n",
       "</div>"
      ],
      "text/plain": [
       "                                                                         title  \\\n",
       "0                                                     Senior Game Data Analyst   \n",
       "1                                               Data Analyst (Operations Team)   \n",
       "2                                                                Data Engineer   \n",
       "3                                                     Analista de Datos Junior   \n",
       "4                                                                 Data Analyst   \n",
       "..                                                                         ...   \n",
       "419                         Arabic Language Data Analyst (Temporary Placement)   \n",
       "420  Senior Service Architect for Data Management and Landscape Transformation   \n",
       "421                                       Data & Adtech Account Media Director   \n",
       "422                                               Danish Language Data Analyst   \n",
       "423                                   Arabic Language Data Analyst - Barcelona   \n",
       "\n",
       "                                   company                     location  \\\n",
       "0                            Tilting Point  Barcelona, Catalonia, Spain   \n",
       "1                                  Holaluz  Barcelona, Catalonia, Spain   \n",
       "2                                    IOMED  Barcelona, Catalonia, Spain   \n",
       "3                                      CGI                        Spain   \n",
       "4                              Olala Homes  Barcelona, Catalonia, Spain   \n",
       "..                                     ...                          ...   \n",
       "419  TELUS International AI Data Solutions  Barcelona, Catalonia, Spain   \n",
       "420                                    SAP  Barcelona, Catalonia, Spain   \n",
       "421                             Silicon HR  Barcelona, Catalonia, Spain   \n",
       "422                           TransPerfect  Barcelona, Catalonia, Spain   \n",
       "423                           TransPerfect  Barcelona, Catalonia, Spain   \n",
       "\n",
       "    modality  \\\n",
       "0     Hybrid   \n",
       "1    On-site   \n",
       "2     Hybrid   \n",
       "3     Remote   \n",
       "4     Hybrid   \n",
       "..       ...   \n",
       "419  On-site   \n",
       "420   Hybrid   \n",
       "421   Hybrid   \n",
       "422  On-site   \n",
       "423  On-site   \n",
       "\n",
       "                                                                                                                                                                                                                                                                                                                                                                                                                                                                                                                                                                                                                                                                                                                                                                                                                                                                                                                                                                                                                                                                                                                                                                                                                                                                                                                                                                                                                                                                                                                                                                                                                                                                                                                                                                                                                                                                                                                                                                                                                                                                                                                                                                                                                                                                                                                                                                                                                                                                                                                                                                                                                                                                                                                                                                                                                                                                                                                                                                                                                                                                                                                                                                                                                                                                                                                                                                                                                                                                                                                                                                                                                                                                                                                                                                                                                                                                                                                                                                                                                                                                                                                                                                                                                                                                                                                                                                                                                                                                                                                                                                                                                                                                                                                                                                                                                                                                                                                                                                                                                                                                                                                                                                                                                                                                                                                                                                                                                                                                                                                                                                                                                                                                                                                                                                                                                                                                                                                                                                                                                                                                                                                                                                                                                                                                                                                                                                                                                                                                                                                                                                                                                                                                                                                                                                                                                                                                                                                                                                                                                                                                                                                                                                                                                                                                                                                                                                                                                                                                                                                                                                                                                                                                                                                                                                                                                                                                                                                                                                                                                                                                                                                                                                                                                                                                                                                                                                                                                                                                                                                                                                                                                                                                                                                                                                                                                                                                                                                                                                                                                                                                                                                                                                                                                                                                                                                                                                                                                                                                                                                                                                                                                                                                                                                                                                                                                                             description  \\\n",
       "0                                                                                                                                                                                                                                                                                                                                                                                                                                                                                                                                                                                                                                                                                                                                                                                                                                                                                                                                                                                                                                                                                                                                                                                                                                                                                                                                                                                                                                                                                                                                                                                                                                                                                                                                                                                                                                                                                                                                                                                                                                                                                                                                                                                                                                                                                                                                                                                                                                                                                                                                                                                                                                                                                                                                                                                                                                                                                                                                                                                                                                                                                                                                                                                                                                                                                                                                                                                                                                                                                                                                                                                                                                                                                                                                                                                                                                                                                                                                                                                                                                                                                                                                                                                                                                                                                                                                                                                                                                                                                                                                                                                                                                                                                                                                                                                                                                                                                                                                                                                                                                                                                                                                                                                                                                                                                                                                                                                                                                                                                                                                                                                                                                                                                                                                                                                                                                                                                                                                                                                                                                                                                                                                                                                                                                                                                                                                                                                                                                                                                                                                                                                                                                                                                                                                                                                                                                                                                                                                                                                                                                                                                                                                                                                                                                                                                                                                                                                                                                                                                                                                                                                                                                                                                                                                                                                                                                                                                                                                                           \\nAt Tilting Point, we combine data, technology, talent and groundbreaking marketing to scale games to success. As the Senior Game Data Analyst, you will work closely with game teams to help inform decision-making regarding features of the game, balancing, player interactions, finding hidden opportunities and much more.\\nYour Future at Tilting PointAnalyze large, complex datasets to address ad-hoc and long-term operational and strategic business questionsDraw meaningful conclusions and provide actionable insights from data to shape and influence in-game features, economies, and future product roadmapsOwn the taxonomy for game data, ensuring all key performance metrics are measurable and can be analyzed efficiently.Present analytical findings as both written communication and visual representations that are clear, concise, and understandable, to both technical and non-technical audiences.Build relationships with stakeholders and processes around data deliverables to ensure data driven decisions can be made at all levels across Tilting PointCollaborate with all teams at Tilting Point, driving and supporting data and analytics related projects with game team, User Acquisition, Marketing, Engineering, and more\\nYour XP & SkillsEffectively communicate in English across verbal and written form.University degree (BA or BS) in Analytics, Economics, Mathematics, Statistics, Business Management, Information Systems, Computer Science or a related field3+ years of work experience as a data analyst or scientist, supporting consumer-facing products, mobile app/game preferredProficient with SQL2+ years with Python/R a plusAdept in at least one visualization tool such as TableauFamiliarity with PySpark and/or Amplitude a plusPassionate about mobile/social gaming with a good understanding of the market.\\n    \n",
       "1    \\nDescription\\n\\n¿Quiénes somos?\\n\\nSomos Holaluz, la empresa que lleva una década revolucionando el sector energético. Nacimos para cambiar el mundo conectando a las personas con la energía verde 💡💚, y tú y el planeta sois nuestra motivación para ser como somos y hacer lo que hacemos.\\n\\nNuestra voluntad de hacer las cosas de un modo distinto, nos ha llevado a liderar la transformación del sector eléctrico y a ser la primera eléctrica en obtener el certificado BCorp.\\n\\n¿Te sumas? Únete a la revolución.\\n\\n¿Qué harás?\\n\\nFormarás parte del Chapter de Data Analytics, con foco en el área de Operaciones.\\n\\n¿Qué esperamos de ti?\\n\\nIdentificar las grandes necesidades de Data Analytics dentro del área de Operaciones y transformarlas en proyectos que impacten positivamente sus OKRs. Transformar los datos relativos a Operaciones y Customer Care en Insights accionables que mejoren la satisfacción de nuestras clientas y que hagan más eficiente el trabajo del equipo del área de Operaciones. También tendrás que comunicar toda la información crítica e insights a otros departamentos relevantes y a la empresa en general ya que Holaluz trabaja por y para el cliente.Mentorizar y dar soporte al resto de integrantes del equipo de Data Analytics que trabajan en el equipo de Customer Care y en Operaciones. El objetivo es ayudarles en su crecimiento profesionalRealizar la interlocución con todos los integrantes del área de Operaciones para asegurar que se cumplen los OKRs definidos y que también se atienden las necesidades surgidas del día a día. Deberás contribuir en la mejora contínua del área y para ello tendrás que empaparte de los procesos, la operativa y los retos para poder proponer mejorasParticipar activamente en la mejora continua del Chapter de Data Analytics: identificación de best practices, priorización de proyectos, puesta en marcha de modelos de Machine Learning, etc.Desarrollar una planificación clara y estructurada de los datos con el objetivo de identificar las oportunidades de mejora y conocer qué necesita el cliente externo e interno.Trabajar en la configuración de la infraestructura de datos de Operaciones que impacta en la gestión del cliente, incluidas las plataformas de análisis, almacenamiento y reporte de datos. Esta tarea la realizarás con el apoyo del Chapter de Data Analytics\\n\\nY como #SayThingsAsTheyAre es uno de nuestros valores, queremos ser claros y transparentes en explicarte qué harás durante tus primeros 6 meses en Holaluz.\\n\\nEn 1 mes...\\n\\nDespués del primer mes ya sabrás cómo está todo montado, te habrás empapado de la cultura y la visión, te habrás reunido con todos los equipos y sabrás qué es lo que hacen y qué necesitan.Empezarás a analizar las decisiones que han hecho los diferentes equipos y áreas para empezar a enfrentarte a tus primeros retos.También habrás ido a comer algún día con las personas del equipo, habrás asistido a algunas de las sesiones que hacemos con el objetivo de que fluya el conocimiento.\\n\\nEn 3 meses...\\n\\nSeguro que ya habrás tomado muchas decisiones sobre cómo aportar en Operaciones y en el Chapter de Data Analytics. Estarás trabajando codo a codo con tus colegas, en otras palabras, habrás visto la LUZ.Habrás disfrutado de algún team building con el equipo y habrás tenido la oportunidad de hacer más de una presentación.\\n\\nEn 6 meses...\\n\\nTendrás (casi) todo bajo control y habrás contribuido en la madurez y crecimiento de tu equipo. Habrás aportado valor más allá de tu equipo compartiendo conocimiento, y haciendo valer toda tu experiencia para mejorar el área de Operaciones y el Chapter de Data Analytics.Además, habrás tenido varias reuniones con tu responsable para saber cómo te sientes en tus primeros meses con Holaluz.\\n\\n¿Cómo lo harás?\\n\\nOtro de nuestros valores es #KeepRowing o seguir remando, lo que significa que el trabajo en equipo y la alineación del mismo es fundamental para poder avanzar y hacer frente a nuestros objetivos compartidos.\\n\\nEn Holaluz hemos construido un sistema organizativo robusto y en constante iteración, que nos permite adaptarnos a los constantes cambios que demanda la industria y lograr el propósito que perseguimos. En Holaluz las reuniones y decisiones se toman de forma colaborativa, fluye el feedback 🤟 entre los diferentes equipos y se fomenta el apoyo entre personas.\\n\\n¿Con quién lo harás?\\n\\n#AlwaysPeopleFirst es también un valor muy importante en Holaluz, y para nosotros es clave tener un buen equipo de trabajo, por eso te explicamos que somos un equipo de unas 800 personas con un ambiente inmejorable, y con las que tendrás la oportunidad de trabajar en tu día a día 😁.\\n\\nAdemás, trabajarás de la mano con Adrià y Víctor de tu equipo de Data y junto con tus stakeholders. ¿Sabías que nuestro Chapter de Analytics está compuesto por casi el 50% de talento femenino? ¡Te presentamos a dos compañeras!\\n\\n👩🏾‍🎤 Marta \\n\\nMatemática, valenciana y gran aficionada al baloncesto. Es muy fan de hacer listas para todo y darle un toque de humor a cada reunión. Marta combina sus múltiples hobbies con su pasión por una visualización bien estructurada. Y a pesar de tener muchas reuniones, si le ofreces tomar un café mientras comentáis algún tema, aceptará sin dudarlo.\\n\\n🦹🏻‍♀️ Èlia\\n\\nEs la más joven del equipo pero desborda sabiduría. Èlia es una optimista incorregible con un don para encontrar el lado bueno de las cosas. En 5min te contagiará su buen rollo. A la catalana del equipo le encanta la escalada y siempre busca nuevos retos con unas ganas inagotables por aprender de otras áreas. El saber no ocupa lugar.\\n\\n¿Dónde lo harás?Qué mejor lugar para hacerlo que en nuestras oficinas de Barcelona a sólo 200 metros del mar 🌊. Esta excepcional ubicación al lado de la playa es perfecta para hacer un break con chapuzón y poder poner en práctica otro de nuestros valores #HaveFun.\\n\\nRequirements\\n\\n¿Qué necesitamos?\\n\\nHemos pensado muy muy bien lo que buscamos y lo que de verdad importa:\\n\\nLicenciatura en Ciencias Empresariales/Económicas, Matemáticas o Ingeniería.Más de 5 años de experiencia en el campo de Data Analytics, y solvencia en el uso de SQL y de PythonHabilidades analíticas de alto nivel y capacidad de traducir información en insights accionables y en informes concisos.Storytelling y capacidad de comunicar las conclusiones de tus análisis.Capacidad para trabajar eficazmente en equipo.Gran atención a los detalles.No hace falta que seas Shakespeare, pero sí que puedas comunicarte en Inglés.\\n\\nTodo suma, así que si tienes alguna de estas cosas SUMA Y SIGUE:\\n\\nFormación y experiencia en análisis de datos y en el uso de modelos de analítica avanzada y Machine Learning.Elaboración de dashboards.Conocimientos de PowerBI.\\n\\nRequisitos deseables:\\n\\nOrientación al Cliente.Capacidad para mantener relaciones interpersonales.Alta capacidad de implicación, dedicación y motivación.Elevada orientación a la consecución de objetivos y al cumplimiento de resultados.Excelente capacidad de análisis.\\n\\nBenefits\\n\\n¿Qué ofrecemos?\\n\\nOtro de los valores que nos caracteriza en Holaluz es #EsPosible. Por ello, ofrecemos una serie de medidas para que puedas desarrollarte 360º y conseguir todo aquello que te propongas, tanto a nivel personal como profesional:\\n\\nLa mayor fuente de nuestra energía: ¡nuestra gente!\\n\\nÚnete a una empresa donde las personas son lo primero, con un ambiente de trabajo inmejorable y un gran talento donde realmente vivimos nuestros valores. Para ello ofrecemos una serie de ventajas y beneficios que te permitirán estar apoyado tanto a nivel personal como profesional.\\n\\nSOSTENIBILIDAD\\n\\nÚnete a la primera empresa de servicios eléctricos con certificación B Corp de Europa, y actualmente #1 en el ranking mundial ESG para compañías eléctricas.Tarifa competitiva de movilidad sostenible con eCooltra. Se trata de bicicletas y patinetes eléctricos, para que puedas llegar a la oficina de forma rápida y económica, utilizando un transporte individual y ecológico. \\n\\nSALUD Y BIENESTAR\\n\\nSeguro médico privado con Adeslas.Suscripción de gimnasio a Andjoy (Gympass).Fruta ecológica todos los días.Té y café en la oficina. \\n\\nEQUILIBRIO TRABAJO-VIDA\\n\\nRégimen de Retribución Flexible en guardería, transporte y comida con Cobee.Tarifa Wifi competitiva con Unique.Creemos en la autonomía y la responsabilidad personal por lo que ofrecemos horarios de trabajo flexibles y la opción de trabajar de forma remota 6 días al mes (19 por trimestre).Referencias: obtén recompensas si contratamos a personas talentosas que tú nos recomiendes para que se unan a Holaluz.Parking - mejores tarifas en W Hotel.Como empresa certificada Baby Friendly: Guardería interna para ayudar a integrar vida y trabajo a las nuevas familias.\"Casals\" (campamentos durante los largos meses de verano pero también en otras vacaciones). \\n\\nAUTODESARROLLO\\n\\nEventos de creación de equipos.Acceso a contenidos de formación.Biblioteca propia, con contenidos muy diversos.Clases de idiomas gratuitas en clases de inglés, castellano y catalán. \\n\\n”Celebramos la diversidad en el mundo y queremos que nuestro equipo refleje esto de manera inclusiva. En Holaluz, estamos comprometidos con la igualdad de oportunidades de empleo independientemente de la etnia, religión, sexo, origen nacional, orientación sexual, edad, estado civil, discapacidad, género, identidad o expresión de género. Además, nos esforzamos por empoderar a las mujeres en el lugar de trabajo.”\\n    \n",
       "2                                                                                                                                                                                                                                                                                                                                                                                                                                                                                                                                                                                                                                                                                                                                                                                                                                                                                                                                                                                                                                                                                                                                                                                                                                                                                                                                                                                                                                                                                                                                                                                                                                                                                                                                                                                                                                                                                                                                                                                                                                                                                                                                                                                                                                                                                                                                                                                                                                                                                                                                                                                                                                                                                                                                                                                                                                                                                                                                                                                                                                                                                                                                                                                                                                                                                                                                                                                                                                                                                                                                                                                                                                                                                                                                                                                                                                                                                                                                                                                                                                                                                                                                                                                                                                                                                                                                                                                                                                                                                                                                                                                                                                                                                                                                                                 \\nAbout the job\\nIOMED Data Engineering Team is responsible for building and maintaining optimized and highly available data pipelines that facilitate information extraction and transformation for our main products and internal applications. The core of your role will be designing, architecting, implementing, and testing data extraction and transformation tools in a microservices environment:\\nData processing pipelinesData model transformationsComponents of a multi-modal distributed database.\\nYou will collaborate with the rest of the Data Engineering team in analyzing and understanding data sources, participating in the design, and providing insights and guidance on database technology and data modeling best practices.\\nThis role should work closely with the Business Development and Data Science teams, gathering technical requirements for data governance and data quality across the company.\\nAbout you\\nYou will be working in a very dynamic environment, which means that you must have a strong problem-solving ability, organization skills, and be proactive.\\nIn terms of personality, we are looking for someone who enjoys working in a wide range of areas and adapts quickly to new situations.\\nTasks\\nYou will have to feel comfortable giving support to the rest of the team and you can definitely expect to:\\nQuery, model and deploy with PostgreSQL, Redis, RabbitMQ.ETL with SQL and PythonDesign, implement & test microservices.Integrate our products with external APIs.Development and testing of our core products and frameworks.Be comfortable with container development with Docker.Testing, logging, measuring and alerting of the deployed services.Monitor the existing metrics, analyze data, and collaborate with other teams in an effort to identify and implement a system and process improvements.Ensure that the collected data is of high quality and optimal for use across the team and the business at largeOversee activities of the junior data engineering teams, ensuring proper execution of their duties and alignment with business vision and objectives\\nWhat we are looking for\\nAt least 8 years of working experience working in a data engineering department, preferably as a Data Engineer in a fast-paced environment and complex businessSetting and a demonstrated experience in building and maintaining reliable and scalable ETL.Experience in data warehousing inclusive of dimensional modeling concepts and demonstrate proficiency in programming (SQL and Python will be your main tools of the trade).Proven skills of putting microservices to use, and you’re comfortable with working with containers in a cluster architecture.Work well in a team, can teach & learn from others, and communicate what you’re working on with non-technical team members.\\n\\nWhat we offer\\nCompetitive Salary.Permanent contract.Company profit-sharing scheme valued at up to €15,000 per year.Flexible remuneration with restaurant tickets, transport tickets, nursery, training, and medical insurance.Flexible schedule, with the possibility of home office.28 days of vacations per year.A warm, transparent and supportive team, with a huge emphasis on work-life balance.The opportunity to make your mark in e-health and AI.\\nAbout IOMED \\nIOMED is a leading technology start-up company in the field of massive medical data extraction and processing. It is made up of a united, young, dynamic, and flexible team, which, after several years of working together, is characterized by its agility, enjoyment of work, and rapport. Accordingly, we are looking for candidates with the desire to innovate, launch a relevant project, and grow with it, always enjoying teamwork and challenges, which are many, every day.\\nAs an employer, we offer equal opportunity. We want to grow our team with talented, dynamic people who want to make their mark in the field of AI and research, regardless of race, color, religion, national origin, gender, physical disability, or age.\\nWhat we do \\nNowadays, there is still great difficulty in accessing Real-World Data (Real-World Data), which are those contained in Electronic Health Records (EHR), since up to 85% of the existing clinical data is not structured. This represents a loss of opportunity for the sector to improve its healthcare processes and clinical research.\\nIOMED has developed a Natural Language Processing solution that extracts and transforms clinical data into an international and federated model, OMOP CDM, resulting in a structured, standardized, and interoperable database that contains complete clinical information from hospitals.\\nIn this way, professionals and the industry can make use of this data and obtain evidence based on all the data, Real World Evidence, that has essential value when it comes to making decisions, among others. All this, in addition, to assuring the protection and governance of the data at all times.\\n    \n",
       "3                                                                                                                                                                                                                                                                                                                                                                                                                                                                                                                                                                                                                                                                                                                                                                                                                                                                                                                                                                                                                                                                                                                                                                                                                                                                                                                                                                                                                                                                                                                                                                                                                                                                                                                                                                                                                                                                                                                                                                                                                                                                                                                                                                                                                                                                                                                                                                                                                                                                                                                                                                                                                                                                                                                                                                                                                                                                                                                                                                                                                                                                                                                                                                                                                                                                                                                                                                                                                                                                                                                                                                                                                                                                                                                                                                                                                                                                                                                                                                                                                                                                                                                                                                                                                                                                                                                                                                                                                                                                                                                                                                                                                                                                                                                                                                                                                                                                                                                                                                                                                                                                                                                                                                                                                                                                                                                                                                                                                                                                                                                                                                                                                                                                                                                                                                                                                                                                                                                                                                                                                                                                                                                                                                                                                                                                                                                                                                                                                                                                                                                                                                                                                                                                                                                                                                                                                                                                                                                                                                                                                                                                                                                                                                                                                                                                                                                                                                                                                                                                                                                                                                                                                                                                                                                                                                                                                                                                                                                                                                                                                                                                                                                                                                                                                                                                                                                                                                                                                                                                 \\nSomos una multinacional canadiense especializada en consultoría tecnológica, con presencia en 21 sectores en más de 400 ubicaciones en todo el mundo, proveemos servicios de consultoría de negocio y de TI integrales, escalables y sostenibles que están analizados globalmente y entregados localmente.\\nEstamos buscando un/a analista de datos (junior)  para impulsar nuestro equipo y realizar un trabajo de calidad del dato y realización de modelos de control para un cliente estratégico dentro de un gran proyecto.\\nFunciones:Realización de modelos de controlRealización de informes periódicosprocesos tácticosSoporte a aplicativo corporativo del clientecertificación de nuevos desarrollos\\nRequisitos deseados:SQLExcelVBA\\nGrupo CGI ofrece:\\n-Contratación indefinida-Horario flexible.-Proyectos estable de larga duración.-Pertenecer a un equipo de trabajo altamente cualificado en una empresa joven en proceso de expansión.-Trabajar en un ambiente de trabajo amigable, donde la estrecha relación con los managers y con RRHH facilita el espíritu emprendedor, el intercambio de ideas, la iniciativa y el desarrollo de las personas.-Formación en distintas tecnologías.-Desarrollo profesional.\\nSi tienes capacidad de trabajo y ganas de seguir aprendiendo en una empresa dinámica y en constante crecimiento... ¡Esta es tu oportunidad!\\n    \n",
       "4                                                                                                                                                                                                                                                                                                                                                                                                                                                                                                                                                                                                                                                                                                                                                                                                                                                                                                                                                                                                                                                                                                                                                                                                                                                                                                                                                                                                                                                                                                                                                                                                                                                                                                                                                                                                                                                                                                                                                                                                                                                                                                                                                                                                                                                                                                                                                                                                                                                                                                                                                                                                                                                                                                                                                                                                                                                                                                                                                                                                                                                                                                                                                                                                                                                                                                                                                                                                                                                                                                                                                                                                                                                                                                                                                                                                                                                                                                                                                                                                                                                                                                                                                                                                                                                                                                                                                                                                                                                                                                                                                                                                                                                                                                                                                                                                                                                                                                                                                                                                                                                                                                                                                                                                                                                                 \\nOlala Homes is a unique tech-enabled hospitality management company focusing on the short-term vacation rental segment through the ownership and management of over 400 units across multiple countries and cities. Olala Homes’ lean business model coupled with its real estate development expertise and topped with its strong team form a solid base for its ambitious future expansion plan across Spain, Europe, and beyond. The company’s HQ is located in Barcelona with satellite offices in Greece, Romania, Portugal, and Israel. Olala Homes is part of the Rina Group, a group of companies investing in Tourism & Hospitality, Industrial Minerals, Real Estate, and Agriculture across 3 continents.\\nJob Brief We are seeking a skilled and motivated Data Analyst to join our team in the hospitality industry. As a Data Analyst, you will be responsible for collecting, analyzing, and interpreting data to help drive informed decision-making and improve operational efficiency within our organization. Your expertise in data analysis and strong business acumen will play a crucial role in optimizing our operations, enhancing customer experiences, and identifying growth opportunities. This is an exciting opportunity for a talented individual to contribute to the success of our organization through data-driven insights.\\nMain responsibilities:Data Collection and Analysis: Gather data from various sources, including internal databases, customer feedback, and external data sets. Analyze and interpret this data to identify trends, patterns, and insights relevant to the hospitality industry.Performance Tracking: Develop and maintain performance metrics and dashboards to monitor key performance indicators (KPIs) across different aspects of our hospitality operations. Regularly evaluate and report on performance trends, providing actionable recommendations for improvement.Operational Efficiency: Identify areas of operational inefficiencies and collaborate with cross-functional teams to develop strategies and solutions. Utilize data analysis techniques to optimize processes, reduce costs, and enhance productivity within the organization.Customer Insights: Analyze customer feedback, preferences, and behavior to generate actionable insights that can be used to enhance customer experiences. Provide recommendations on how to improve customer satisfaction and loyalty based on data analysis.Data Visualization and Reporting: Create visually appealing and informative reports, charts, and presentations to effectively communicate complex data insights to both technical and non-technical stakeholders. Use data visualization tools and techniques to present findings in a clear and concise manner.Continuous Learning and Improvement: Stay updated with the latest data analysis techniques, tools, and industry trends. Proactively identify opportunities for process improvement and propose innovative solutions to enhance the effectiveness and efficiency of data analysis.\\nRequirements:Minimum 2 years of experience as a Data Analyst or Business Data AnalystBS in Mathematics, Economics, Computer Science, Information Management or StatisticsTechnical expertise regarding data models, database design development, data mining and segmentation techniques. Preferably within the hospitality industry.Excellent written and verbal communication skillsStrong analytical skills with the ability to collect, organize, analyze, and disseminate significant amounts of information with attention to detail and accuracyAdvanced knowledge in Excel, SQL and PhytonFamiliarity with database management systems and data warehousing concepts.Experience in building reports for data visualization (ideally Power BI)Zendesk Knowledge is a big plusProfessional level of English \\nIf you are passionate about data analysis and its application to the hospitality industry, and if you thrive in a dynamic and results-oriented environment, we would love to hear from you. Join our team and contribute to shaping the future of our organization through data-driven decision-making.\\nWhat we offer:Competitive salary with other benefits such as employee discounts staying in Olala Homes’ properties, weekly fruit basket in the office, happy hour, etc.Opportunity to be mentored by experienced professionals and gain first-hand know-how in a swift pacePositive corporate culture to be proud to be a part of a fast growing company\\n    \n",
       "..                                                                                                                                                                                                                                                                                                                                                                                                                                                                                                                                                                                                                                                                                                                                                                                                                                                                                                                                                                                                                                                                                                                                                                                                                                                                                                                                                                                                                                                                                                                                                                                                                                                                                                                                                                                                                                                                                                                                                                                                                                                                                                                                                                                                                                                                                                                                                                                                                                                                                                                                                                                                                                                                                                                                                                                                                                                                                                                                                                                                                                                                                                                                                                                                                                                                                                                                                                                                                                                                                                                                                                                                                                                                                                                                                                                                                                                                                                                                                                                                                                                                                                                                                                                                                                                                                                                                                                                                                                                                                                                                                                                                                                                                                                                                                                                                                                                                                                                                                                                                                                                                                                                                                                                                                                                                                                                                                                                                                                                                                                                                                                                                                                                                                                                                                                                                                                                                                                                                                                                                                                                                                                                                                                                                                                                                                                                                                                                                                                                                                                                                                                                                                                                                                                                                                                                                                                                                                                                                                                                                                                                                                                                                                                                                                                                                                                                                                                                                                                                                                                                                                                                                                                                                                                                                                                                                                                                                                                                                                                                                                                                                                                                                                                                                                                                                                                                                                                                                                                                                                                                                                                                                                                                                                                                                                                                                                                                                                                                                                                                                                                                                                                                                                                                                                                                                                                                                                                                                                                                                                                                                                                                                                                                                                                                                                                                                                                                   ...   \n",
       "419                                                                                                                                                                                                                                                                                                                                                                                                                                                                                                                                                                                                                                                                                                                                                                                                                                                                                                                                                                                                                                                                                                                                                                                                                                                                                                                                                                                                                                                                                                                                                                                                                                                                                                                                                                                                                                                                                                                                                                                                                                                                                                                                                                                                                                                                                                                                                                                                                                                                                                                                                                                                                                                                                                                                                                                                                                                                                                                                                                                                                                                                                                                                                                                                                                                                                                                                                                                                                                                                                                                                                                                                                                                                                                                                                                                                                                                                                                                                                                                                                                                                                                                                                                                                                                                                                                                                                                                                                                                                                                                                                                                                                                                                                                                                                                                                                                                                                                                                                                                                                                                                                                                                                                                                                                                                                                                                                                                                                                                                                                                                                                                                                                                                                                                                                                                                                                                                                                                                                                                                                                                                                                                                                                                                                                                                                                                                                                                                                                                                                                                                                                                                                                                                                                             \\nTELUS International is looking for Language Data Analysts in Barcelona, Spain to work onsite for a machine learning project! At the moment, we are looking for candidates with fluency in Arabic. This position is temporary.\\nLanguage Data Analysts will analyze data in a given language and identify potential issues. They will also collaborate with international testing teams and engineers to help reproduce issues and test features. Data obtained will be used to train and improve speech recognition and AI systems.\\nRESPONSIBILITIES:Includes, but is not limited to the following. Other duties may be assigned.\\nLinguistic data labelling.Analyzing language data in the given language and identifying potential issues and patterns.Collaborating with an international testing team and engineers to help reproduce issues and test features.Communicating with various departments.\\nSKILLS AND QUALIFICATIONS:Fluency in Arabic.Preferred educational background: linguistics, literature or translation.Available to work onsite in Barcelona, Spain.Excellent reading, writing and comprehension skills in English; ability to understand and closely follow elaborate guidelines in English.In-depth knowledge of native culture and history, staying up to date with day-to-day news and happenings in the target country and regular use of the language required.Strong attention to detail and ability to meet project targets.Self-motivated and able to work as part of the team or independently.Good computer and software skills across different operating systems.Strong typing skills.Good organizational skillsAdaptable to changing environments.\\nWHAT WE OFFER:Attractive salaryTemporary, full-time contract with TELUS InternationalReferral program with attractive bonusesPrivate medical insurance for employees and relativesGreat office at a top locationPositive international working environment (relaxing zones, terrace, kitchen)Discounts in gym membershipsCareer development opportunitiesNo overtime or weekend workContinuous support and learningAccess to counseling sessions\\nIf this opportunity sounds appealing to you, apply now! Kindly attach your CV in English.*Please note that only shortlisted candidates will be contacted.\\nABOUT US:AI Data SolutionsCreating and enhancing the world's data to enable better AI via human intelligence.\\nWe strive to enhance the world's data to enable better AI through human intelligence. Our team of data, technology, and project management professionals work with companies to test and improve machine learning models. We handle various data types, including text, images, audio, video, and geo. Our solutions improve AI systems in multiple applications, such as advanced smart products, improved search results, expanded speech recognition, more human-like bot interactions, and more.\\nTELUS International values diversity and grants equal opportunity regardless of age, civil status, disability, gender, nationality, race, religion and political beliefs, sex or sexual orientation.\\n    \n",
       "420                                                                                                                                                                                                                                                                                                                                                                                                                                                                                                                                                                                                                                                                                                                                                                                                                                                                                                                                                                                                                                                                                                                                                                                                                                                                                                                                                                                                                                                                                                                                                                                                                                                                                                                                                                                                                                                                                                                                                                                                                                                                                                                                                                                                                                                                                                                                                                                                                                                                                                                                                                                                                                                                                                                                                    \\nWe help the world run better\\nOur company culture is focused on helping our employees enable innovation by building breakthroughs together. How? We focus every day on building the foundation for tomorrow and creating a workplace that embraces differences, values flexibility, and is aligned to our purpose-driven and future-focused work. We offer a highly collaborative, caring team environment with a strong focus on learning and development, recognition for your individual contributions, and a variety of benefit options for you to choose from.Apply now!\\nYOUR FUTURE POSITION\\nAs a Senior Service Architect, your job will involve working in a global team focusing on delivering international projects.\\nYour Main Tasks Are\\n Identify customer’s business needs and support the designing and architecting the appropriate solution proposal from the Data Management & Landscape Transformation (DMLT) portfolio and beyond. Lead and facilitate customer’s workshops and discussions to validate the best solution design for the customer's requirements. Support and/or lead the delivery of DMLT projects remotely and onsite, in distributed regional and global teams Conduct feasibility studies and system analyses, supported by SAP DMLT technology and methodology Contribute to continuously enhance the DMLT solution design according to changing market requirements and identify potential enhancements, continuously improving our service offering Closely collaborate with people in different roles across the company Establish and maintain trustful relationships with people on all levels of both externally on customer side and SAP internally\\nYOUR PROFILE\\n University degree (Bachelor/Master) or equivalent relevant job experience Minimum 5 years (preferably international) SAP consulting experience, SAP DMLT tools and methodology and data migration experience is a plus Relevant SAP Technology experience, SAP Business Technology Platform is a plus Process know-how for essential business processes like Lead-2-Cash, Procure-2-Pay, Design-2-Operate or Hire-2-Retire are a strong asset Additional experience in SAP S/4HANA, BW/BW4, CRM and CX, SRM and ISM, HCM/SuccessFactors, Data Management Solutions (MDG, ILM,..) or SAP Industry Solutions is a benefit Excellent communication and moderation skills, strong team spirit English and Spanish required\\nAbout The Team\\nData Management and Landscape Transformation is a global Service Delivery organization within the Board Area Customer Success. We advise our customers in strategy definition, conceptual planning, and the realization of their business and technological transformation requirements for the digital economy.\\nData Management and Landscape Transformation services offer a holistic approach for customers data-related needs with data quality and data integration services. The DMLT group serves SAP customers in managing their data and transforming their landscapes. Business, market, and technology changes result in realignment of business processes and structures. This reflects in various transformation and transition activities, such as\\n Fast-track data migration and (selective) transition to the Intelligent Enterprise Suite (IES) (SAP S/4HANA cloud, SAP S/4HANA, BW/4, C4/H, SuccessFactors, SAP Data Intelligence and more) Manage business challenges that come with mergers, acquisitions, and divestitures Optimization of processes and data, or organizational restructuring by ensuring data harmonization, data restructuring or the consolidation of system landscapes Improve management of data from strategy to execution, with the focus on data quality, data privacy, data volume and lifecycle, data integration, and master data management\\nIn fast pace changing market and business requirements, it is essential for customers to adopt to the digital platform to drive their business innovation. The DMLT service portfolio plays a significant role in helping customers to transition to the IES via SAP Move and SAP RISE. It’s our mission to “enable customer’s business to intelligently connect people, data and processes”.\\nThe position can be filled as part time position.\\nWe build breakthroughs together\\nSAP innovations help more than 400,000 customers worldwide work together more efficiently and use business insight more effectively. Originally known for leadership in enterprise resource planning (ERP) software, SAP has evolved to become a market leader in end-to-end business application software and related services for database, analytics, intelligent technologies, and experience management. As a cloud company with 200 million users and more than 100,000 employees worldwide, we are purpose-driven and future-focused, with a highly collaborative team ethic and commitment to personal development. Whether connecting global industries, people, or platforms, we help ensure every challenge gets the solution it deserves. At SAP, we build breakthroughs, together.\\nWe win with inclusion\\nSAP’s culture of inclusion, focus on health and well-being, and flexible working models help ensure that everyone – regardless of background – feels included and can run at their best. At SAP, we believe we are made stronger by the unique capabilities and qualities that each person brings to our company, and we invest in our employees to inspire confidence and help everyone realize their full potential. We ultimately believe in unleashing all talent and creating a better and more equitable world.\\nSAP is proud to be an equal opportunity workplace and is an affirmative action employer. We are committed to the values of Equal Employment Opportunity and provide accessibility accommodations to applicants with physical and/or mental disabilities. If you are interested in applying for employment with SAP and are in need of accommodation or special assistance to navigate our website or to complete your application, please send an e-mail with your request to Recruiting Operations Team: Careers@sap.com\\nFor SAP employees: Only permanent roles are eligible for the SAP Employee Referral Program, according to the eligibility rules set in the SAP Referral Policy. Specific conditions may apply for roles in Vocational Training.\\nEOE AA M/F/Vet/Disability\\nQualified applicants will receive consideration for employment without regard to their age, race, religion, national origin, ethnicity, age, gender (including pregnancy, childbirth, et al), sexual orientation, gender identity or expression, protected veteran status, or disability.\\nSuccessful candidates might be required to undergo a background verification with an external vendor.\\nRequisition ID: 370223 | Work Area: Consulting and Professional Services | Expected Travel: 0 - 10% | Career Status: Professional | Employment Type: Regular Full Time | Additional Locations: .\\n\\n    \n",
       "421                                                                                                                                                                                                                                                                                                                                                                                                                                                                                                                                                                                                                                                                                                                                                                                                                                                                                                                                                                                                                                                                                                                                                                                                                                                                                                                                                                                                                                                                                                                                                                                                                                                                                                                                                                                                                                                                                                                                                                                                                                                                                                                                                                                                                                                                                                                                                                                                                                                                                                                                                                                                                                                                                                                                                                                                                                                                                                                                                                                                                                                                                                                                                                                                                                                                                                                                                                                                                                                                                                                                                                                                                                                                                                                                                                                                                                                                                                                                                                                                                                                                                                                                                                                                                                                                                                                                                                                                                                                                                                                                                                                                                                                                                                                                                                                                                                                                                                                                                                                                                                                                                                                                                                                                                                                                                                                                                                                                                                                                                                                                                                                                                                                                                                                                                                                                                                                                                                                                                                                                                                                                                                                                                                                                                                                                                                                                                                                                                                                                                                                                                                                                                                                                                                                                                                                                                                                                                                                                                                                                                                                                                                                                                                                                                                                                                                                                                                                                                                                                                                                                                                                                         \\n¿Buscas un proyecto tecnológico de crecimiento, proactividad y aprendizaje continuo? ¿Estás interesado/a en formar parte de una agencia con un ambiente de compañerismo y lleno de oportunidades de crecimiento?\\nSi quieres unirte a una agencia de medios independiente, en constante crecimiento, participar activamente en las decisiones de tus propuestas, poder asesorar a todo tipo de clientes, trabajar por objetivos y todo esto hacerlo de la mano de un equipo que te ayudará en todo lo que necesites y donde hay muy buen ambiente de trabajo… ¡Sigue leyendo!\\nBuscamos para una agencia de medios independiente en Barcelona, un perfil con experiencia en la gestión de proyectos de Data Analytics y Adtech para los diferentes clientes de la agencia. Las tareas que realizarás son:\\n1. Recepción del briefing. 2. Creación de la estrategia junto con los equipos de especialistas. 3. Creación de la propuesta económica. 4. En caso de OK, puesta en marcha. Gestión de creatividades, tracking y activaciones con el resto de los canales, tanto especialistas como proveedores externos. 5. Seguimientos, reuniones, informes. 6. Optimizaciones y gestión de incidencias. 7. Facturación.   ¿Qué te hará triunfar como Data & Adtech Account Media Director?\\nExperiencia y habilidades en la coordinación de proyectos digitales para el cliente. Esto implica tanto la facilidad de trato con diferentes equipos, cómo el conocimiento del ecosistema digital, tanto de AdTech como de MarTech.Expertise en planificación, gestión y activación de campañas de marketing digital. Gestión directa con el cliente: recepción de brief, generación de estrategia, activación y seguimiento de la misma, y con equipos internos (SEM, Social Ads, RTB, Tecnología)Control y seguimiento de campañas: activaciones, seguimientos, optimizaciones, reporting, cierres, etc.Habilidades de comunicación.\\n\\n¿Qué ofrecemos?Formar parte de una agencia con ambiente familiar, donde tu serás el capitán del barco de proyectos de Data. Tendrás formación continua y acceso a certificaciones.Posición estableTeletrabajo los viernes Jornada intensiva en veranoSalario: comentaremos en la primera llamada\\n \\n    \n",
       "422                                                                                                                                                                                                                                                                                                                                                                                                                                                                                                                                                                                                                                                                                                                                                                                                                                                                                                                                                                                                                                                                                                                                                                                                                                                                                                                                                                                                                                                                                                                                                                                                                                                                                                                                                                                                                                                                                                                                                                                                                                                                                                                                                                                                                                                                                                                                                                                                                                                                                                                                                                                                                                                                                                                                                                                                                                                                                                                                                                                                                                                                                                                                                                                                                                                                                                                                                                                                                                                                                                                                                                                                                                                                                                                                                                                                                                                                                                                                                                                                                                                                                                                                                                                                                                                                                                                                                                                                                                                                                                                                                                                                                                                                                                                                                                                                                                                                                                                                                                                                                                                                                                                                                                                                                                                                                                                                                                                                                                                                                                                                                                                                                                                                                                                                                                                                                                                                                                                                                                                                                                                                                                                                                                                                                                                                                                                                                                                                                                                                                                                                                                                                                                                                                                                                                                                                                                                                                                                                                                                                                                                                                                                                                                                                                                                                                                                                                                                                                                                                                                                                                                                                                                                                                                                                                                                                                                                                                                                                                                                                                                                                                                             \\nWork Location: Barcelona, SpainWork Schedule: Monday – Friday during regular business hoursEngagement Model: Long termLanguages Needed: DanishProject Duration: IndefiniteStart Date: ASAP\\nWe are looking for Danish Speakers to join us on a new innovative and interesting project to improve Artificial Intelligence and technology that makes our everyday lives better (i.e., speech or text recognition, input methods, keyboard/swipe technology, or other areas of human-machine interaction related to languages).\\nRole SummaryLanguage Data Analysts will focus on speech or text recognition, input methods, keyboard/swipe technology, or other areas of human-machine interaction related to languages.\\nRole ResponsibilitiesClassify, sort, label, and annotate data.\\nJob Requirements\\nRole RequirementsEligible to work in Barcelona.Idiomatic fluency in DanishAdvanced fluency in English (tests and training materials are in English)No previous experience or training in the field is required - we will provide training.Ability to work onsite at our offices in Barcelona.Detail-oriented and comfortable with repetitive tasksTeam player\\nDataForce by TransPerfect is part of the TransPerfect family of companies, the world’s largest provider of language and technology solutions for global business, with offices in more than 100 cities worldwide.\\nWe offer high-quality data for Human-Machine Interaction to some of the most prestigious technology companies in the world. Our department focuses on gathering, enriching and processing data for Machine Learning in different AI domains.\\nTo learn more about DataForce please visit us at https://www.transperfect.com/dataforce ;\\n    \n",
       "423                                                                                                                                                                                                                                                                                                                                                                                                                                                                                                                                                                                                                                                                                                                                                                                                                                                                                                                                                                                                                                                                                                                                                                                                                                                                                                                                                                                                                                                                                                                                                                                                                                                                                                                                                                                                                                                                                                                                                                                                                                                                                                                                                                                                                                                                                                                                                                                                                                                                                                                                                                                                                                                                                                                                                                                                                                                                                                                                                                                                                                                                                                                                                                                                                                                                                                                                                                                                                                                                                                                                                                                                                                                                                                                                                                                                                                                                                                                                                                                                                                                                                                                                                                                                                                                                                                                                                                                                                                                                                                                                                                                                                                                                                                                                                                                                                                                                                                                                                                                                                                                                                                                                                                                                                                                                                                                                                                                                                                                                                                                                                                                                                                                                                                                                                                                                                                                                                                                                                                                                                                                                                                                                                                                                                                                                                                                                                                                                                                                                                                                                                                                                                                                                                                                                                                                                                                                                                                                                                                                                                                                                                                                                                                                                                                                                                                                                                                                                                                                                                                                                                                                                                                                                                                                                                                                                                                                                                                                                                                                                                                                                                                                              \\nWork Location: Barcelona, SpainWork Schedule: Monday – Friday during regular business hoursEngagement Model: Permanent employmentLanguages Needed: Arabic Start Date: ASAP\\nWe are looking for Arabic Speakers to join us on a new innovative and interesting project to improve Artificial Intelligence and technology that makes our everyday lives better (i.e., speech or text recognition, input methods, keyboard/swipe technology, or other areas of human-machine interaction related to languages).\\nRole SummaryLanguage Data Analysts will focus on speech or text recognition, input methods, keyboard/swipe technology, or other areas of human-machine interaction related to languages.\\nRole ResponsibilitiesClassify, sort, label, and annotate data\\n\\nJob RequirementsRole RequirementsEligible to work in BarcelonaIdiomatic fluency in Arabic Advanced fluency in English (tests and training materials are in English)Ability to work onsite at our offices in BarcelonaDetail-oriented and comfortable with repetitive tasksTeam playerNo previous experience or training in the field is required - we will provide training.\\nDataForce by TransPerfect is part of the TransPerfect family of companies, the world’s largest provider of language and technology solutions for global business, with offices in more than 100 cities worldwide.\\nWe offer high-quality data for Human-Machine Interaction to some of the most prestigious technology companies in the world. Our department focuses on gathering, enriching, and processing data for Machine Learning in different AI domains.\\nTo learn more about DataForce please visit us at https://www.transperfect.com/dataforce ;\\n    \n",
       "\n",
       "     companies  \n",
       "0          NaN  \n",
       "1          NaN  \n",
       "2          NaN  \n",
       "3          NaN  \n",
       "4          NaN  \n",
       "..         ...  \n",
       "419        NaN  \n",
       "420        NaN  \n",
       "421        NaN  \n",
       "422        NaN  \n",
       "423        NaN  \n",
       "\n",
       "[424 rows x 6 columns]"
      ]
     },
     "execution_count": 89,
     "metadata": {},
     "output_type": "execute_result"
    }
   ],
   "source": [
    "df"
   ]
  },
  {
   "cell_type": "code",
   "execution_count": 90,
   "id": "8f050a99",
   "metadata": {},
   "outputs": [],
   "source": [
    "df = df.drop('companies', axis=1)\n"
   ]
  },
  {
   "cell_type": "code",
   "execution_count": 91,
   "id": "a9f7b4d1",
   "metadata": {},
   "outputs": [],
   "source": [
    "df = df.dropna(subset=['description'])\n"
   ]
  },
  {
   "cell_type": "markdown",
   "id": "eb008918",
   "metadata": {},
   "source": [
    "# Let's remove duplicates"
   ]
  },
  {
   "cell_type": "code",
   "execution_count": 92,
   "id": "0775f58a",
   "metadata": {
    "scrolled": true
   },
   "outputs": [
    {
     "name": "stdout",
     "output_type": "stream",
     "text": [
      "<class 'pandas.core.frame.DataFrame'>\n",
      "Int64Index: 423 entries, 0 to 423\n",
      "Data columns (total 5 columns):\n",
      " #   Column       Non-Null Count  Dtype \n",
      "---  ------       --------------  ----- \n",
      " 0   title        423 non-null    object\n",
      " 1   company      422 non-null    object\n",
      " 2   location     423 non-null    object\n",
      " 3   modality     406 non-null    object\n",
      " 4   description  423 non-null    object\n",
      "dtypes: object(5)\n",
      "memory usage: 19.8+ KB\n"
     ]
    }
   ],
   "source": [
    "df = df.drop_duplicates()\n",
    "df.info()\n"
   ]
  },
  {
   "cell_type": "markdown",
   "id": "2dcd1bcd",
   "metadata": {},
   "source": [
    "# Positions' Categorization"
   ]
  },
  {
   "cell_type": "code",
   "execution_count": 93,
   "id": "ef62fdc0",
   "metadata": {},
   "outputs": [
    {
     "name": "stdout",
     "output_type": "stream",
     "text": [
      "Analysts: 30%\n",
      "Scientists: 41%\n",
      "Engineers: 24%\n"
     ]
    }
   ],
   "source": [
    "df['title'] = df['title'].str.lower()\n",
    "\n",
    "analysts = len(df[df['title'].str.contains(\"anal\")])\n",
    "scientists = len(df[df['title'].str.contains(\"scien\")])\n",
    "engineers = len(df[df['title'].str.contains(\"engin\")])\n",
    "\n",
    "scientists += len(df[df['title'].str.contains(\"cient\")])\n",
    "engineers += len(df[df['title'].str.contains(\"ingen\")])\n",
    "\n",
    "print(f'Analysts: {round(analysts/df.shape[0]*100)}%')\n",
    "print(f'Scientists: {round(scientists/df.shape[0]*100)}%')\n",
    "print(f'Engineers: {round(engineers/df.shape[0]*100)}%')"
   ]
  },
  {
   "cell_type": "code",
   "execution_count": 94,
   "id": "61323318",
   "metadata": {},
   "outputs": [
    {
     "name": "stdout",
     "output_type": "stream",
     "text": [
      "1 job positions are overlapped, 0% of all Data Analyst, Data Engineer & Data Scientist positions.\n"
     ]
    }
   ],
   "source": [
    "n = 0\n",
    "overlapped = []\n",
    "for index, job in df['title'].iteritems():\n",
    "    if 'scien' in job and 'anal' in job:\n",
    "        n += 1\n",
    "        overlapped.append(index)\n",
    "per = round(n/(analysts+scientists)*100)\n",
    "print(f'{n} job positions are overlapped, {per}% of all Data Analyst, Data Engineer & Data Scientist positions.')"
   ]
  },
  {
   "cell_type": "code",
   "execution_count": 95,
   "id": "60facd8e",
   "metadata": {},
   "outputs": [
    {
     "data": {
      "text/plain": [
       "84    data scientist (product analytics) esp\n",
       "Name: title, dtype: object"
      ]
     },
     "execution_count": 95,
     "metadata": {},
     "output_type": "execute_result"
    }
   ],
   "source": [
    "df.iloc[overlapped, 0]\n"
   ]
  },
  {
   "cell_type": "code",
   "execution_count": 96,
   "id": "a1f45f8c",
   "metadata": {},
   "outputs": [],
   "source": [
    "df.iloc[84, 0] = 'data scientist'\n"
   ]
  },
  {
   "cell_type": "code",
   "execution_count": 97,
   "id": "212ec01e",
   "metadata": {},
   "outputs": [],
   "source": [
    "def find_missing_titles(df):\n",
    "    missing_titles = []\n",
    "    for title in df['title']:\n",
    "        if 'anal' not in title and 'scien' not in title and 'engin' not in title:\n",
    "            missing_titles.append(title)\n",
    "    return missing_titles"
   ]
  },
  {
   "cell_type": "code",
   "execution_count": 98,
   "id": "5dab4c2b",
   "metadata": {},
   "outputs": [
    {
     "name": "stdout",
     "output_type": "stream",
     "text": [
      "data manager\n",
      "científico de datos - ia\n",
      "data operations intern\n",
      "junior data & business intelligence support specialist\n",
      "técnico/a de base de datos\n",
      "database administrator\n",
      "data consultant\n",
      "data manager\n",
      "especialista en bbdd y modelado de datos\n",
      "data leader (sql - big data)\n",
      "data quality manager (barcelona)\n",
      "internship programme data (programa de becas)\n",
      "senior data consultant\n",
      "lead data platform\n",
      "director of data\n",
      "transformation & data associate\n",
      "data acquisition strategist (m/f/d)\n",
      "azure data consultant\n",
      "data modelling architect\n",
      "🏠 arquitecto de datos dwh - datamart 🏠\n",
      "azure data consultant\n",
      "senior data architect\n",
      "data specialist\n",
      "data architect - digital markets\n",
      "data architect\n",
      "data manager & statistician, malaria immunology group (short term)\n",
      "principal data architect & data steward\n",
      "data manager for the ubioesdm\n",
      "head of global master data\n",
      "data manager strategy\n",
      "database administrator (dba) - remote within spain\n",
      "data & transformation office leader\n",
      "data coordinator (fixed term)\n",
      "product data consultant (m/f/d)\n",
      "sales data and reporting manager\n",
      "esg data operations senior manager\n",
      "data governance senior\n",
      "director of data\n",
      "senior data architect\n",
      "product data governor (m/f/d)\n",
      "big data developer\n",
      "sr. master data management\n",
      "data quality steward\n",
      "data quality steward\n",
      "senior director of first-party data strategy\n",
      "head of go to market (gtm) data\n",
      "head of master data management\n",
      "data entry temporary - part time\n",
      "data management intern\n",
      "data manager (project from scratch)\n",
      "presales insights&data - barcelona\n",
      "director business development (ai data solutions)\n",
      "digital security & data privacy leader\n",
      "data & dbi service manager\n",
      "master data specialist\n",
      "data management officer\n",
      "azure data architect\n",
      "sap mdg & data migration manager\n",
      "data architect\n",
      "data governance & enablement manager (d/f/m)\n",
      "timesheets & master data administrator\n",
      "data migration - salesforce - freelance\n",
      "consultor senior sap data migration\n",
      "big data architects\n",
      "data provisioning lead\n",
      "data team lead/senior data team lead (fsp) - home based, europe\n",
      "salesforce administrator/data specialist\n",
      "director of data - marketplace (customers & partners) (they/she/he)\n",
      "sap data migration\n",
      "ingeniero de datos (spark y nifi)\n",
      "investment data operations team lead\n",
      "associate director dd&it im data solution delivery\n",
      "consultor sap-ilm y data archiving\n",
      "azure data consultant\n",
      "especialista en análisis de datos y reporting\n",
      "data specialist at voxel\n",
      "data esg credit risk\n",
      "power bi - datafactory 100% remoto (tech solutions)\n",
      "data business manager\n",
      "master data support\n",
      "working student data & ai web application development (all genders)\n",
      "experto en análisis y gestión de datos para el proyecto pigweb\n",
      "data coordinator\n",
      "data specialist\n",
      "especialista en vigilancia tecnológica y gestión de datos\n",
      "data functional lead - pagegroup ssc\n",
      "data/dwh/ai azure consultant x2 - 6 weeks vacation / year\n",
      "data team lead\n",
      "data steward veeva/salesforce\n",
      "cyber data management associate internship\n",
      "data governance lead\n",
      "team lead data architecture\n",
      "d&a product owner metadata and data catalog\n",
      "technical support specialist – data management (autodesk vault)\n",
      "data team lead/senior data team lead - home based in europe\n",
      "consultant (all genders) data systems 50. 000 - 70. 000\n",
      "data excellence product owner\n",
      "tech & data strategy consultant (f/m/d)\n",
      "ayudante de investigación para el grupo de investigación ai and data for society (temporal)\n",
      "consultant (all genders) data systems\n",
      "product data consultant (m/f/d)\n",
      "working student data & generative ai (all genders)\n",
      "data generation specialist\n",
      "project specialist, data and business management\n",
      "data governance lead\n",
      "senior service architect for data management and landscape transformation\n",
      "data & adtech account media director\n"
     ]
    }
   ],
   "source": [
    "missing_titles = find_missing_titles(df)\n",
    "for title in missing_titles:\n",
    "    print(title)"
   ]
  },
  {
   "cell_type": "markdown",
   "id": "05770b32",
   "metadata": {},
   "source": [
    "# Let's categorize: Analyst, Scientist and Engineer positions"
   ]
  },
  {
   "cell_type": "code",
   "execution_count": 99,
   "id": "c4d36f47",
   "metadata": {},
   "outputs": [],
   "source": [
    "category = []\n",
    "dropped = []\n",
    "for index, position in df['title'].iteritems():\n",
    "    if \"scien\" in position:\n",
    "        category.append('data scientist')\n",
    "    elif \"anal\" in position:\n",
    "        category.append('data analyst')\n",
    "    elif \"engin\" in position:\n",
    "        category.append('data engineer')\n",
    "    elif \"ingeni\" in position:\n",
    "        category.append('data engineer')\n",
    "    elif \"cienti\" in position:\n",
    "        category.append('data scientist')\n",
    "    else:\n",
    "        dropped.append(index)\n",
    "\n",
    "df.drop(dropped, inplace=True)\n",
    "df.reset_index(inplace=True, drop=True)\n",
    "df['position'] = category"
   ]
  },
  {
   "cell_type": "code",
   "execution_count": 100,
   "id": "f69f8478",
   "metadata": {},
   "outputs": [
    {
     "name": "stdout",
     "output_type": "stream",
     "text": [
      "<class 'pandas.core.frame.DataFrame'>\n",
      "RangeIndex: 317 entries, 0 to 316\n",
      "Data columns (total 6 columns):\n",
      " #   Column       Non-Null Count  Dtype \n",
      "---  ------       --------------  ----- \n",
      " 0   title        317 non-null    object\n",
      " 1   company      316 non-null    object\n",
      " 2   location     317 non-null    object\n",
      " 3   modality     302 non-null    object\n",
      " 4   description  317 non-null    object\n",
      " 5   position     317 non-null    object\n",
      "dtypes: object(6)\n",
      "memory usage: 15.0+ KB\n"
     ]
    }
   ],
   "source": [
    "df.info()"
   ]
  },
  {
   "cell_type": "markdown",
   "id": "7ba5c795",
   "metadata": {},
   "source": [
    "# Data Exploration"
   ]
  },
  {
   "cell_type": "code",
   "execution_count": 101,
   "id": "f74f2259",
   "metadata": {},
   "outputs": [
    {
     "data": {
      "text/plain": [
       "data analyst      128\n",
       "data engineer      96\n",
       "data scientist     93\n",
       "Name: position, dtype: int64"
      ]
     },
     "execution_count": 101,
     "metadata": {},
     "output_type": "execute_result"
    }
   ],
   "source": [
    "df['position'].value_counts()"
   ]
  },
  {
   "cell_type": "code",
   "execution_count": 102,
   "id": "e939d752",
   "metadata": {},
   "outputs": [
    {
     "name": "stdout",
     "output_type": "stream",
     "text": [
      "Analysts: 40%\n",
      "Scientists: 29%\n",
      "Engineer: 30%\n"
     ]
    }
   ],
   "source": [
    "print(f\"Analysts: {round(len(df[df['position'] == 'data analyst'])/df.shape[0]*100)}%\")\n",
    "print(f\"Scientists: {round(len(df[df['position'] == 'data scientist'])/df.shape[0]*100)}%\")\n",
    "print(f\"Engineer: {round(len(df[df['position'] == 'data engineer'])/df.shape[0]*100)}%\")\n"
   ]
  },
  {
   "cell_type": "markdown",
   "id": "4dd393a9",
   "metadata": {},
   "source": [
    "# Top companies most looking for talent"
   ]
  },
  {
   "cell_type": "code",
   "execution_count": 103,
   "id": "00cc9051",
   "metadata": {},
   "outputs": [
    {
     "data": {
      "text/plain": [
       "Glovo                            13\n",
       "eDreams ODIGEO                   10\n",
       "HP                                9\n",
       "Zurich Insurance                  9\n",
       "AstraZeneca                       8\n",
       "                                 ..\n",
       "TELUS International               1\n",
       "Bayer                             1\n",
       "Logicalis Spain                   1\n",
       "Moody's Corporation               1\n",
       "Digital Legends Entertainment     1\n",
       "Name: company, Length: 161, dtype: int64"
      ]
     },
     "execution_count": 103,
     "metadata": {},
     "output_type": "execute_result"
    }
   ],
   "source": [
    "df['company'].value_counts()\n"
   ]
  },
  {
   "cell_type": "markdown",
   "id": "a35b55f8",
   "metadata": {},
   "source": [
    "# Modality Exploration"
   ]
  },
  {
   "cell_type": "code",
   "execution_count": 104,
   "id": "8bbc25f6",
   "metadata": {},
   "outputs": [
    {
     "data": {
      "text/plain": [
       "Hybrid     168\n",
       "On-site     66\n",
       "Remote      42\n",
       "Unknown     26\n",
       "Name: modality, dtype: int64"
      ]
     },
     "execution_count": 104,
     "metadata": {},
     "output_type": "execute_result"
    }
   ],
   "source": [
    "df['modality'].value_counts()"
   ]
  },
  {
   "cell_type": "markdown",
   "id": "42577e7f",
   "metadata": {},
   "source": [
    "# Location Exploration"
   ]
  },
  {
   "cell_type": "code",
   "execution_count": 105,
   "id": "30c77055",
   "metadata": {},
   "outputs": [
    {
     "data": {
      "text/plain": [
       "Barcelona, Catalonia, Spain                    248\n",
       "Greater Barcelona Metropolitan Area             21\n",
       "Spain                                           20\n",
       "Sant Cugat del Vallès, Catalonia, Spain         15\n",
       "Palau-solità i Plegamans, Catalonia, Spain       4\n",
       "L'Hospitalet de Llobregat, Catalonia, Spain      3\n",
       "Esplugues de Llobregat, Catalonia, Spain         2\n",
       "Cornellà de Llobregat, Catalonia, Spain          1\n",
       "Mataró, Catalonia, Spain                         1\n",
       "Mollet del Vallès, Catalonia, Spain              1\n",
       "Sant Boi de Llobregat, Catalonia, Spain          1\n",
       "Name: location, dtype: int64"
      ]
     },
     "execution_count": 105,
     "metadata": {},
     "output_type": "execute_result"
    }
   ],
   "source": [
    "df['location'].value_counts()\n"
   ]
  },
  {
   "cell_type": "markdown",
   "id": "0e34619b",
   "metadata": {},
   "source": [
    "# Cleaning Descriptions"
   ]
  },
  {
   "cell_type": "code",
   "execution_count": 106,
   "id": "81ea2f8a",
   "metadata": {},
   "outputs": [],
   "source": [
    "# Replace - jumps with spaces\n",
    "df['description'] = df['description'].str.replace('\\n', ' ')\n",
    "# Delete the hyphens & ¿\n",
    "df['description'] = df['description'].map(lambda x: x.replace('-', '').replace('¿', ''))\n",
    "# Normalise words (no accents, etc.)\n",
    "df['description'] = df['description'].map(lambda x: unidecode.unidecode(x))\n",
    "# Adding spaces in a word if it contains a capitalised letter in between\n",
    "df['description'] = df['description'].map(lambda x: re.sub(r\"(?<![A-Z])(?<!^)([A-Z])\",r\" \\1\", x))\n",
    "# Adding spaces before and after numbers\n",
    "df['description'] = df['description'].map(lambda x: re.sub(r\"([0-9]+(\\.[0-9]+)?)\", r\" \\1\", x))\n",
    "# Substitute n number of spaces by just one space\n",
    "df['description'] = df['description'].map(lambda x: ' '.join(x.split()))\n",
    "# Remove space before dots and after opening parenthesis\n",
    "df['description'] = df['description'].map(lambda x: x.replace('( ', '(').replace(' .', '.').replace('/ ', '/'))\n",
    "# Fix problems with the normalisation\n",
    "df['description'] = df['description'].map(lambda x: x.replace('ano', 'año').replace('anos', 'años'))\n"
   ]
  },
  {
   "cell_type": "code",
   "execution_count": 107,
   "id": "2b9e2006",
   "metadata": {},
   "outputs": [
    {
     "data": {
      "text/html": [
       "<div>\n",
       "<style scoped>\n",
       "    .dataframe tbody tr th:only-of-type {\n",
       "        vertical-align: middle;\n",
       "    }\n",
       "\n",
       "    .dataframe tbody tr th {\n",
       "        vertical-align: top;\n",
       "    }\n",
       "\n",
       "    .dataframe thead th {\n",
       "        text-align: right;\n",
       "    }\n",
       "</style>\n",
       "<table border=\"1\" class=\"dataframe\">\n",
       "  <thead>\n",
       "    <tr style=\"text-align: right;\">\n",
       "      <th></th>\n",
       "      <th>title</th>\n",
       "      <th>company</th>\n",
       "      <th>location</th>\n",
       "      <th>modality</th>\n",
       "      <th>description</th>\n",
       "      <th>position</th>\n",
       "    </tr>\n",
       "  </thead>\n",
       "  <tbody>\n",
       "    <tr>\n",
       "      <th>0</th>\n",
       "      <td>senior game data analyst</td>\n",
       "      <td>Tilting Point</td>\n",
       "      <td>Barcelona, Catalonia, Spain</td>\n",
       "      <td>Hybrid</td>\n",
       "      <td>At Tilting Point, we combine data, technology, talent and groundbreaking marketing to scale games to success. As the Senior Game Data Analyst, you will work closely with game teams to help inform decisionmaking regarding features of the game, balancing, player interactions, finding hidden opportunities and much more. Your Future at Tilting Point Analyze large, complex datasets to address adhoc and longterm operational and strategic business questions Draw meaningful conclusions and provide actionable insights from data to shape and influence ingame features, economies, and future product roadmaps Own the taxonomy for game data, ensuring all key performance metrics are measurable and can be analyzed efficiently. Present analytical findings as both written communication and visual representations that are clear, concise, and understandable, to both technical and nontechnical audiences. Build relationships with stakeholders and processes around data deliverables to ensure data driven decisions can be made at all levels across Tilting Point Collaborate with all teams at Tilting Point, driving and supporting data and analytics related projects with game team, User Acquisition, Marketing, Engineering, and more Your XP &amp; Skills Effectively communicate in English across verbal and written form. University degree (BA or BS) in Analytics, Economics, Mathematics, Statistics, Business Management, Information Systems, Computer Science or a related field 3+ years of work experience as a data analyst or scientist, supporting consumerfacing products, mobile app/game preferred Proficient with SQL 2+ years with Python/R a plus Adept in at least one visualization tool such as Tableau Familiarity with Py Spark and/or Amplitude a plus Passionate about mobile/social gaming with a good understanding of the market.</td>\n",
       "      <td>data analyst</td>\n",
       "    </tr>\n",
       "    <tr>\n",
       "      <th>1</th>\n",
       "      <td>data analyst (operations team)</td>\n",
       "      <td>Holaluz</td>\n",
       "      <td>Barcelona, Catalonia, Spain</td>\n",
       "      <td>On-site</td>\n",
       "      <td>Description Quienes somos? Somos Holaluz, la empresa que lleva una decada revolucionando el sector energetico. Nacimos para cambiar el mundo conectando a las personas con la energia verde , y tu y el planeta sois nuestra motivacion para ser como somos y hacer lo que hacemos. Nuestra voluntad de hacer las cosas de un modo distinto, nos ha llevado a liderar la transformacion del sector electrico y a ser la primera electrica en obtener el certificado BCorp. Te sumas? Unete a la revolucion. Que haras? Formaras parte del Chapter de Data Analytics, con foco en el area de Operaciones. Que esperamos de ti? Identificar las grandes necesidades de Data Analytics dentro del area de Operaciones y transformarlas en proyectos que impacten positivamente sus OKRs. Transformar los datos relativos a Operaciones y Customer Care en Insights accionables que mejoren la satisfaccion de nuestras clientas y que hagan mas eficiente el trabajo del equipo del area de Operaciones. Tambien tendras que comunicar toda la informacion critica e insights a otros departamentos relevantes y a la empresa en general ya que Holaluz trabaja por y para el cliente. Mentorizar y dar soporte al resto de integrantes del equipo de Data Analytics que trabajan en el equipo de Customer Care y en Operaciones. El objetivo es ayudarles en su crecimiento profesional Realizar la interlocucion con todos los integrantes del area de Operaciones para asegurar que se cumplen los OKRs definidos y que tambien se atienden las necesidades surgidas del dia a dia. Deberas contribuir en la mejora continua del area y para ello tendras que empaparte de los procesos, la operativa y los retos para poder proponer mejoras Participar activamente en la mejora continua del Chapter de Data Analytics: identificacion de best practices, priorizacion de proyectos, puesta en marcha de modelos de Machine Learning, etc. Desarrollar una planificacion clara y estructurada de los datos con el objetivo de identificar las oportunidades de mejora y conocer que necesita el cliente externo e interno. Trabajar en la configuracion de la infraestructura de datos de Operaciones que impacta en la gestion del cliente, incluidas las plataformas de analisis, almacenamiento y reporte de datos. Esta tarea la realizaras con el apoyo del Chapter de Data Analytics Y como # Say Things As They Are es uno de nuestros valores, queremos ser claros y transparentes en explicarte que haras durante tus primeros 6 meses en Holaluz. En 1 mes... Despues del primer mes ya sabras como esta todo montado, te habras empapado de la cultura y la vision, te habras reunido con todos los equipos y sabras que es lo que hacen y que necesitan. Empezaras a analizar las decisiones que han hecho los diferentes equipos y areas para empezar a enfrentarte a tus primeros retos. Tambien habras ido a comer algun dia con las personas del equipo, habras asistido a algunas de las sesiones que hacemos con el objetivo de que fluya el conocimiento. En 3 meses... Seguro que ya habras tomado muchas decisiones sobre como aportar en Operaciones y en el Chapter de Data Analytics. Estaras trabajando codo a codo con tus colegas, en otras palabras, habras visto la LUZ. Habras disfrutado de algun team building con el equipo y habras tenido la oportunidad de hacer mas de una presentacion. En 6 meses... Tendras (casi) todo bajo control y habras contribuido en la madurez y crecimiento de tu equipo. Habras aportado valor mas alla de tu equipo compartiendo conocimiento, y haciendo valer toda tu experiencia para mejorar el area de Operaciones y el Chapter de Data Analytics. Ademas, habras tenido varias reuniones con tu responsable para saber como te sientes en tus primeros meses con Holaluz. Como lo haras? Otro de nuestros valores es # Keep Rowing o seguir remando, lo que significa que el trabajo en equipo y la alineacion del mismo es fundamental para poder avanzar y hacer frente a nuestros objetivos compartidos. En Holaluz hemos construido un sistema organizativo robusto y en constante iteracion, que nos permite adaptarnos a los constantes cambios que demanda la industria y lograr el proposito que perseguimos. En Holaluz las reuniones y decisiones se toman de forma colaborativa, fluye el feedback entre los diferentes equipos y se fomenta el apoyo entre personas. Con quien lo haras? # Always People First es tambien un valor muy importante en Holaluz, y para nosotros es clave tener un buen equipo de trabajo, por eso te explicamos que somos un equipo de unas 800 personas con un ambiente inmejorable, y con las que tendras la oportunidad de trabajar en tu dia a dia. Ademas, trabajaras de la maño con Adria y Victor de tu equipo de Data y junto con tus stakeholders. Sabias que nuestro Chapter de Analytics esta compuesto por casi el 50% de talento femenino? ! Te presentamos a dos companeras! Marta Matematica, valenciana y gran aficionada al baloncesto. Es muy fan de hacer listas para todo y darle un toque de humor a cada reunion. Marta combina sus multiples hobbies con su pasion por una visualizacion bien estructurada. Y a pesar de tener muchas reuniones, si le ofreces tomar un cafe mientras comentais algun tema, aceptara sin dudarlo. Elia Es la mas joven del equipo pero desborda sabiduria. Elia es una optimista incorregible con un don para encontrar el lado bueno de las cosas. En 5min te contagiara su buen rollo. A la catalana del equipo le encanta la escalada y siempre busca nuevos retos con unas ganas inagotables por aprender de otras areas. El saber no ocupa lugar. Donde lo haras? Que mejor lugar para hacerlo que en nuestras oficinas de Barcelona a solo 200 metros del mar. Esta excepcional ubicacion al lado de la playa es perfecta para hacer un break con chapuzon y poder poner en practica otro de nuestros valores # Have Fun. Requirements Que necesitamos? Hemos pensado muy muy bien lo que buscamos y lo que de verdad importa: Licenciatura en Ciencias Empresariales/Economicas, Matematicas o Ingenieria. Mas de 5 años de experiencia en el campo de Data Analytics, y solvencia en el uso de SQL y de Python Habilidades analiticas de alto nivel y capacidad de traducir informacion en insights accionables y en informes concisos. Storytelling y capacidad de comunicar las conclusiones de tus analisis. Capacidad para trabajar eficazmente en equipo. Gran atencion a los detalles. No hace falta que seas Shakespeare, pero si que puedas comunicarte en Ingles. Todo suma, asi que si tienes alguna de estas cosas SUMA Y SIGUE: Formacion y experiencia en analisis de datos y en el uso de modelos de analitica avanzada y Machine Learning. Elaboracion de dashboards. Conocimientos de Power BI. Requisitos deseables: Orientacion al Cliente. Capacidad para mantener relaciones interpersonales. Alta capacidad de implicacion, dedicacion y motivacion. Elevada orientacion a la consecucion de objetivos y al cumplimiento de resultados. Excelente capacidad de analisis. Benefits Que ofrecemos? Otro de los valores que nos caracteriza en Holaluz es # Es Posible. Por ello, ofrecemos una serie de medidas para que puedas desarrollarte 360o y conseguir todo aquello que te propongas, tanto a nivel personal como profesional: La mayor fuente de nuestra energia: !nuestra gente! Unete a una empresa donde las personas son lo primero, con un ambiente de trabajo inmejorable y un gran talento donde realmente vivimos nuestros valores. Para ello ofrecemos una serie de ventajas y beneficios que te permitiran estar apoyado tanto a nivel personal como profesional. SOSTENIBILIDAD Unete a la primera empresa de servicios electricos con certificacion B Corp de Europa, y actualmente # 1 en el ranking mundial ESG para companias electricas. Tarifa competitiva de movilidad sostenible con e Cooltra. Se trata de bicicletas y patinetes electricos, para que puedas llegar a la oficina de forma rapida y economica, utilizando un transporte individual y ecologico. SALUD Y BIENESTAR Seguro medico privado con Adeslas. Suscripcion de gimnasio a Andjoy (Gympass). Fruta ecologica todos los dias. Te y cafe en la oficina. EQUILIBRIO TRABAJOVIDA Regimen de Retribucion Flexible en guarderia, transporte y comida con Cobee. Tarifa Wifi competitiva con Unique. Creemos en la autonomia y la responsabilidad personal por lo que ofrecemos horarios de trabajo flexibles y la opcion de trabajar de forma remota 6 dias al mes (19 por trimestre). Referencias: obten recompensas si contratamos a personas talentosas que tu nos recomiendes para que se unan a Holaluz. Parking mejores tarifas en W Hotel. Como empresa certificada Baby Friendly: Guarderia interna para ayudar a integrar vida y trabajo a las nuevas familias.\" Casals\" (campamentos durante los largos meses de veraño pero tambien en otras vacaciones). AUTODESARROLLO Eventos de creacion de equipos. Acceso a contenidos de formacion. Biblioteca propia, con contenidos muy diversos. Clases de idiomas gratuitas en clases de ingles, castellaño y catalan. \" Celebramos la diversidad en el mundo y queremos que nuestro equipo refleje esto de manera inclusiva. En Holaluz, estamos comprometidos con la igualdad de oportunidades de empleo independientemente de la etnia, religion, sexo, origen nacional, orientacion sexual, edad, estado civil, discapacidad, genero, identidad o expresion de genero. Ademas, nos esforzamos por empoderar a las mujeres en el lugar de trabajo.\"</td>\n",
       "      <td>data analyst</td>\n",
       "    </tr>\n",
       "  </tbody>\n",
       "</table>\n",
       "</div>"
      ],
      "text/plain": [
       "                            title        company                     location  \\\n",
       "0        senior game data analyst  Tilting Point  Barcelona, Catalonia, Spain   \n",
       "1  data analyst (operations team)        Holaluz  Barcelona, Catalonia, Spain   \n",
       "\n",
       "  modality  \\\n",
       "0   Hybrid   \n",
       "1  On-site   \n",
       "\n",
       "                                                                                                                                                                                                                                                                                                                                                                                                                                                                                                                                                                                                                                                                                                                                                                                                                                                                                                                                                                                                                                                                                                                                                                                                                                                                                                                                                                                                                                                                                                                                                                                                                                                                                                                                                                                                                                                                                                                                                                                                                                                                                                                                                                                                                                                                                                                                                                                                                                                                                                                                                                                                                                                                                                                                                                                                                                                                                                                                                                                                                                                                                                                                                                                                                                                                                                                                                                                                                                                                                                                                                                                                                                                                                                                                                                                                                                                                                                                                                                                                                                                                                                                                                                                                                                                                                                                                                                                                                                                                                                                                                                                                                                                                                                                                                                                                                                                                                                                                                                                                                                                                                                                                                                                                                                                                                                                                                                                                                                                                                                                                                                                                                                                                                                                                                                                                                                                                                                                                                                                                                                                                                                                                                                                                                                                                                                                                                                                                                                                                                                                                                                                                                                                                                                                                                                                                                                                                                                                                                                                                                                                                                                                                                                                                                                                                                                                                                                                                                                                                                                                                                                                                                                                                                                                                                                                                                                                                                                                                                                                                                                                                                                                                                                                                                                                                                                                                                                                                                                                                                                                                                                                                                                                                                                                                                                                                                                                                                                                                                                                                                                                                                                                                                                                                                                                                                                                                                                                                                                                                                                                                                                                                                                                                                                       description  \\\n",
       "0                                                                                                                                                                                                                                                                                                                                                                                                                                                                                                                                                                                                                                                                                                                                                                                                                                                                                                                                                                                                                                                                                                                                                                                                                                                                                                                                                                                                                                                                                                                                                                                                                                                                                                                                                                                                                                                                                                                                                                                                                                                                                                                                                                                                                                                                                                                                                                                                                                                                                                                                                                                                                                                                                                                                                                                                                                                                                                                                                                                                                                                                                                                                                                                                                                                                                                                                                                                                                                                                                                                                                                                                                                                                                                                                                                                                                                                                                                                                                                                                                                                                                                                                                                                                                                                                                                                                                                                                                                                                                                                                                                                                                                                                                                                                                                                                                                                                                                                                                                                                                                                                                                                                                                                                                                                                                                                                                                                                                                                                                                                                                                                                                                                                                                                                                                                                                                                                                                                                                                                                                                                                                                                                                                                                                                                                                                                                                                                                                                                                                                                                                                                                                                                                                                                                                                                                                                                                                                                                                                                                                                                                                                                                                                                                                                                                                                                                                                                                                                                                                                                                                                                                                                                                                                                                                                                                                   At Tilting Point, we combine data, technology, talent and groundbreaking marketing to scale games to success. As the Senior Game Data Analyst, you will work closely with game teams to help inform decisionmaking regarding features of the game, balancing, player interactions, finding hidden opportunities and much more. Your Future at Tilting Point Analyze large, complex datasets to address adhoc and longterm operational and strategic business questions Draw meaningful conclusions and provide actionable insights from data to shape and influence ingame features, economies, and future product roadmaps Own the taxonomy for game data, ensuring all key performance metrics are measurable and can be analyzed efficiently. Present analytical findings as both written communication and visual representations that are clear, concise, and understandable, to both technical and nontechnical audiences. Build relationships with stakeholders and processes around data deliverables to ensure data driven decisions can be made at all levels across Tilting Point Collaborate with all teams at Tilting Point, driving and supporting data and analytics related projects with game team, User Acquisition, Marketing, Engineering, and more Your XP & Skills Effectively communicate in English across verbal and written form. University degree (BA or BS) in Analytics, Economics, Mathematics, Statistics, Business Management, Information Systems, Computer Science or a related field 3+ years of work experience as a data analyst or scientist, supporting consumerfacing products, mobile app/game preferred Proficient with SQL 2+ years with Python/R a plus Adept in at least one visualization tool such as Tableau Familiarity with Py Spark and/or Amplitude a plus Passionate about mobile/social gaming with a good understanding of the market.   \n",
       "1  Description Quienes somos? Somos Holaluz, la empresa que lleva una decada revolucionando el sector energetico. Nacimos para cambiar el mundo conectando a las personas con la energia verde , y tu y el planeta sois nuestra motivacion para ser como somos y hacer lo que hacemos. Nuestra voluntad de hacer las cosas de un modo distinto, nos ha llevado a liderar la transformacion del sector electrico y a ser la primera electrica en obtener el certificado BCorp. Te sumas? Unete a la revolucion. Que haras? Formaras parte del Chapter de Data Analytics, con foco en el area de Operaciones. Que esperamos de ti? Identificar las grandes necesidades de Data Analytics dentro del area de Operaciones y transformarlas en proyectos que impacten positivamente sus OKRs. Transformar los datos relativos a Operaciones y Customer Care en Insights accionables que mejoren la satisfaccion de nuestras clientas y que hagan mas eficiente el trabajo del equipo del area de Operaciones. Tambien tendras que comunicar toda la informacion critica e insights a otros departamentos relevantes y a la empresa en general ya que Holaluz trabaja por y para el cliente. Mentorizar y dar soporte al resto de integrantes del equipo de Data Analytics que trabajan en el equipo de Customer Care y en Operaciones. El objetivo es ayudarles en su crecimiento profesional Realizar la interlocucion con todos los integrantes del area de Operaciones para asegurar que se cumplen los OKRs definidos y que tambien se atienden las necesidades surgidas del dia a dia. Deberas contribuir en la mejora continua del area y para ello tendras que empaparte de los procesos, la operativa y los retos para poder proponer mejoras Participar activamente en la mejora continua del Chapter de Data Analytics: identificacion de best practices, priorizacion de proyectos, puesta en marcha de modelos de Machine Learning, etc. Desarrollar una planificacion clara y estructurada de los datos con el objetivo de identificar las oportunidades de mejora y conocer que necesita el cliente externo e interno. Trabajar en la configuracion de la infraestructura de datos de Operaciones que impacta en la gestion del cliente, incluidas las plataformas de analisis, almacenamiento y reporte de datos. Esta tarea la realizaras con el apoyo del Chapter de Data Analytics Y como # Say Things As They Are es uno de nuestros valores, queremos ser claros y transparentes en explicarte que haras durante tus primeros 6 meses en Holaluz. En 1 mes... Despues del primer mes ya sabras como esta todo montado, te habras empapado de la cultura y la vision, te habras reunido con todos los equipos y sabras que es lo que hacen y que necesitan. Empezaras a analizar las decisiones que han hecho los diferentes equipos y areas para empezar a enfrentarte a tus primeros retos. Tambien habras ido a comer algun dia con las personas del equipo, habras asistido a algunas de las sesiones que hacemos con el objetivo de que fluya el conocimiento. En 3 meses... Seguro que ya habras tomado muchas decisiones sobre como aportar en Operaciones y en el Chapter de Data Analytics. Estaras trabajando codo a codo con tus colegas, en otras palabras, habras visto la LUZ. Habras disfrutado de algun team building con el equipo y habras tenido la oportunidad de hacer mas de una presentacion. En 6 meses... Tendras (casi) todo bajo control y habras contribuido en la madurez y crecimiento de tu equipo. Habras aportado valor mas alla de tu equipo compartiendo conocimiento, y haciendo valer toda tu experiencia para mejorar el area de Operaciones y el Chapter de Data Analytics. Ademas, habras tenido varias reuniones con tu responsable para saber como te sientes en tus primeros meses con Holaluz. Como lo haras? Otro de nuestros valores es # Keep Rowing o seguir remando, lo que significa que el trabajo en equipo y la alineacion del mismo es fundamental para poder avanzar y hacer frente a nuestros objetivos compartidos. En Holaluz hemos construido un sistema organizativo robusto y en constante iteracion, que nos permite adaptarnos a los constantes cambios que demanda la industria y lograr el proposito que perseguimos. En Holaluz las reuniones y decisiones se toman de forma colaborativa, fluye el feedback entre los diferentes equipos y se fomenta el apoyo entre personas. Con quien lo haras? # Always People First es tambien un valor muy importante en Holaluz, y para nosotros es clave tener un buen equipo de trabajo, por eso te explicamos que somos un equipo de unas 800 personas con un ambiente inmejorable, y con las que tendras la oportunidad de trabajar en tu dia a dia. Ademas, trabajaras de la maño con Adria y Victor de tu equipo de Data y junto con tus stakeholders. Sabias que nuestro Chapter de Analytics esta compuesto por casi el 50% de talento femenino? ! Te presentamos a dos companeras! Marta Matematica, valenciana y gran aficionada al baloncesto. Es muy fan de hacer listas para todo y darle un toque de humor a cada reunion. Marta combina sus multiples hobbies con su pasion por una visualizacion bien estructurada. Y a pesar de tener muchas reuniones, si le ofreces tomar un cafe mientras comentais algun tema, aceptara sin dudarlo. Elia Es la mas joven del equipo pero desborda sabiduria. Elia es una optimista incorregible con un don para encontrar el lado bueno de las cosas. En 5min te contagiara su buen rollo. A la catalana del equipo le encanta la escalada y siempre busca nuevos retos con unas ganas inagotables por aprender de otras areas. El saber no ocupa lugar. Donde lo haras? Que mejor lugar para hacerlo que en nuestras oficinas de Barcelona a solo 200 metros del mar. Esta excepcional ubicacion al lado de la playa es perfecta para hacer un break con chapuzon y poder poner en practica otro de nuestros valores # Have Fun. Requirements Que necesitamos? Hemos pensado muy muy bien lo que buscamos y lo que de verdad importa: Licenciatura en Ciencias Empresariales/Economicas, Matematicas o Ingenieria. Mas de 5 años de experiencia en el campo de Data Analytics, y solvencia en el uso de SQL y de Python Habilidades analiticas de alto nivel y capacidad de traducir informacion en insights accionables y en informes concisos. Storytelling y capacidad de comunicar las conclusiones de tus analisis. Capacidad para trabajar eficazmente en equipo. Gran atencion a los detalles. No hace falta que seas Shakespeare, pero si que puedas comunicarte en Ingles. Todo suma, asi que si tienes alguna de estas cosas SUMA Y SIGUE: Formacion y experiencia en analisis de datos y en el uso de modelos de analitica avanzada y Machine Learning. Elaboracion de dashboards. Conocimientos de Power BI. Requisitos deseables: Orientacion al Cliente. Capacidad para mantener relaciones interpersonales. Alta capacidad de implicacion, dedicacion y motivacion. Elevada orientacion a la consecucion de objetivos y al cumplimiento de resultados. Excelente capacidad de analisis. Benefits Que ofrecemos? Otro de los valores que nos caracteriza en Holaluz es # Es Posible. Por ello, ofrecemos una serie de medidas para que puedas desarrollarte 360o y conseguir todo aquello que te propongas, tanto a nivel personal como profesional: La mayor fuente de nuestra energia: !nuestra gente! Unete a una empresa donde las personas son lo primero, con un ambiente de trabajo inmejorable y un gran talento donde realmente vivimos nuestros valores. Para ello ofrecemos una serie de ventajas y beneficios que te permitiran estar apoyado tanto a nivel personal como profesional. SOSTENIBILIDAD Unete a la primera empresa de servicios electricos con certificacion B Corp de Europa, y actualmente # 1 en el ranking mundial ESG para companias electricas. Tarifa competitiva de movilidad sostenible con e Cooltra. Se trata de bicicletas y patinetes electricos, para que puedas llegar a la oficina de forma rapida y economica, utilizando un transporte individual y ecologico. SALUD Y BIENESTAR Seguro medico privado con Adeslas. Suscripcion de gimnasio a Andjoy (Gympass). Fruta ecologica todos los dias. Te y cafe en la oficina. EQUILIBRIO TRABAJOVIDA Regimen de Retribucion Flexible en guarderia, transporte y comida con Cobee. Tarifa Wifi competitiva con Unique. Creemos en la autonomia y la responsabilidad personal por lo que ofrecemos horarios de trabajo flexibles y la opcion de trabajar de forma remota 6 dias al mes (19 por trimestre). Referencias: obten recompensas si contratamos a personas talentosas que tu nos recomiendes para que se unan a Holaluz. Parking mejores tarifas en W Hotel. Como empresa certificada Baby Friendly: Guarderia interna para ayudar a integrar vida y trabajo a las nuevas familias.\" Casals\" (campamentos durante los largos meses de veraño pero tambien en otras vacaciones). AUTODESARROLLO Eventos de creacion de equipos. Acceso a contenidos de formacion. Biblioteca propia, con contenidos muy diversos. Clases de idiomas gratuitas en clases de ingles, castellaño y catalan. \" Celebramos la diversidad en el mundo y queremos que nuestro equipo refleje esto de manera inclusiva. En Holaluz, estamos comprometidos con la igualdad de oportunidades de empleo independientemente de la etnia, religion, sexo, origen nacional, orientacion sexual, edad, estado civil, discapacidad, genero, identidad o expresion de genero. Ademas, nos esforzamos por empoderar a las mujeres en el lugar de trabajo.\"   \n",
       "\n",
       "       position  \n",
       "0  data analyst  \n",
       "1  data analyst  "
      ]
     },
     "execution_count": 107,
     "metadata": {},
     "output_type": "execute_result"
    }
   ],
   "source": [
    "df.head(2)"
   ]
  },
  {
   "cell_type": "code",
   "execution_count": null,
   "id": "8b993c9a",
   "metadata": {},
   "outputs": [],
   "source": []
  },
  {
   "cell_type": "code",
   "execution_count": 108,
   "id": "860ce070",
   "metadata": {},
   "outputs": [
    {
     "name": "stdout",
     "output_type": "stream",
     "text": [
      "showing info https://raw.githubusercontent.com/nltk/nltk_data/gh-pages/index.xml\n"
     ]
    },
    {
     "name": "stderr",
     "output_type": "stream",
     "text": [
      "[nltk_data] Downloading package punkt to\n",
      "[nltk_data]     /Users/albertcoca/nltk_data...\n",
      "[nltk_data]   Package punkt is already up-to-date!\n",
      "[nltk_data] Downloading package stopwords to\n",
      "[nltk_data]     /Users/albertcoca/nltk_data...\n",
      "[nltk_data]   Package stopwords is already up-to-date!\n",
      "[nltk_data] Downloading package wordnet to\n",
      "[nltk_data]     /Users/albertcoca/nltk_data...\n",
      "[nltk_data]   Package wordnet is already up-to-date!\n"
     ]
    },
    {
     "name": "stdout",
     "output_type": "stream",
     "text": [
      "Collecting es-core-news-sm==3.6.0\n",
      "  Downloading https://github.com/explosion/spacy-models/releases/download/es_core_news_sm-3.6.0/es_core_news_sm-3.6.0-py3-none-any.whl (12.9 MB)\n",
      "     ━━━━━━━━━━━━━━━━━━━━━━━━━━━━━━━━━━━━━━━━ 12.9/12.9 MB 21.6 MB/s eta 0:00:00\n",
      "Requirement already satisfied: spacy<3.7.0,>=3.6.0 in /Users/albertcoca/opt/anaconda3/lib/python3.9/site-packages (from es-core-news-sm==3.6.0) (3.6.0)\n",
      "Requirement already satisfied: smart-open<7.0.0,>=5.2.1 in /Users/albertcoca/opt/anaconda3/lib/python3.9/site-packages (from spacy<3.7.0,>=3.6.0->es-core-news-sm==3.6.0) (5.2.1)\n",
      "Requirement already satisfied: pathy>=0.10.0 in /Users/albertcoca/opt/anaconda3/lib/python3.9/site-packages (from spacy<3.7.0,>=3.6.0->es-core-news-sm==3.6.0) (0.10.2)\n",
      "Requirement already satisfied: setuptools in /Users/albertcoca/opt/anaconda3/lib/python3.9/site-packages (from spacy<3.7.0,>=3.6.0->es-core-news-sm==3.6.0) (63.4.1)\n",
      "Requirement already satisfied: packaging>=20.0 in /Users/albertcoca/opt/anaconda3/lib/python3.9/site-packages (from spacy<3.7.0,>=3.6.0->es-core-news-sm==3.6.0) (21.3)\n",
      "Requirement already satisfied: thinc<8.2.0,>=8.1.8 in /Users/albertcoca/opt/anaconda3/lib/python3.9/site-packages (from spacy<3.7.0,>=3.6.0->es-core-news-sm==3.6.0) (8.1.10)\n",
      "Requirement already satisfied: wasabi<1.2.0,>=0.9.1 in /Users/albertcoca/opt/anaconda3/lib/python3.9/site-packages (from spacy<3.7.0,>=3.6.0->es-core-news-sm==3.6.0) (1.1.2)\n",
      "Requirement already satisfied: catalogue<2.1.0,>=2.0.6 in /Users/albertcoca/opt/anaconda3/lib/python3.9/site-packages (from spacy<3.7.0,>=3.6.0->es-core-news-sm==3.6.0) (2.0.8)\n",
      "Requirement already satisfied: typer<0.10.0,>=0.3.0 in /Users/albertcoca/opt/anaconda3/lib/python3.9/site-packages (from spacy<3.7.0,>=3.6.0->es-core-news-sm==3.6.0) (0.9.0)\n",
      "Requirement already satisfied: spacy-legacy<3.1.0,>=3.0.11 in /Users/albertcoca/opt/anaconda3/lib/python3.9/site-packages (from spacy<3.7.0,>=3.6.0->es-core-news-sm==3.6.0) (3.0.12)\n",
      "Requirement already satisfied: cymem<2.1.0,>=2.0.2 in /Users/albertcoca/opt/anaconda3/lib/python3.9/site-packages (from spacy<3.7.0,>=3.6.0->es-core-news-sm==3.6.0) (2.0.7)\n",
      "Requirement already satisfied: murmurhash<1.1.0,>=0.28.0 in /Users/albertcoca/opt/anaconda3/lib/python3.9/site-packages (from spacy<3.7.0,>=3.6.0->es-core-news-sm==3.6.0) (1.0.9)\n",
      "Requirement already satisfied: requests<3.0.0,>=2.13.0 in /Users/albertcoca/opt/anaconda3/lib/python3.9/site-packages (from spacy<3.7.0,>=3.6.0->es-core-news-sm==3.6.0) (2.28.1)\n",
      "Requirement already satisfied: langcodes<4.0.0,>=3.2.0 in /Users/albertcoca/opt/anaconda3/lib/python3.9/site-packages (from spacy<3.7.0,>=3.6.0->es-core-news-sm==3.6.0) (3.3.0)\n",
      "Requirement already satisfied: tqdm<5.0.0,>=4.38.0 in /Users/albertcoca/opt/anaconda3/lib/python3.9/site-packages (from spacy<3.7.0,>=3.6.0->es-core-news-sm==3.6.0) (4.64.1)\n",
      "Requirement already satisfied: preshed<3.1.0,>=3.0.2 in /Users/albertcoca/opt/anaconda3/lib/python3.9/site-packages (from spacy<3.7.0,>=3.6.0->es-core-news-sm==3.6.0) (3.0.8)\n",
      "Requirement already satisfied: jinja2 in /Users/albertcoca/opt/anaconda3/lib/python3.9/site-packages (from spacy<3.7.0,>=3.6.0->es-core-news-sm==3.6.0) (2.11.3)\n",
      "Requirement already satisfied: spacy-loggers<2.0.0,>=1.0.0 in /Users/albertcoca/opt/anaconda3/lib/python3.9/site-packages (from spacy<3.7.0,>=3.6.0->es-core-news-sm==3.6.0) (1.0.4)\n",
      "Requirement already satisfied: srsly<3.0.0,>=2.4.3 in /Users/albertcoca/opt/anaconda3/lib/python3.9/site-packages (from spacy<3.7.0,>=3.6.0->es-core-news-sm==3.6.0) (2.4.6)\n",
      "Requirement already satisfied: numpy>=1.15.0 in /Users/albertcoca/opt/anaconda3/lib/python3.9/site-packages (from spacy<3.7.0,>=3.6.0->es-core-news-sm==3.6.0) (1.21.5)\n",
      "Requirement already satisfied: pydantic!=1.8,!=1.8.1,<1.11.0,>=1.7.4 in /Users/albertcoca/opt/anaconda3/lib/python3.9/site-packages (from spacy<3.7.0,>=3.6.0->es-core-news-sm==3.6.0) (1.10.11)\n",
      "Requirement already satisfied: pyparsing!=3.0.5,>=2.0.2 in /Users/albertcoca/opt/anaconda3/lib/python3.9/site-packages (from packaging>=20.0->spacy<3.7.0,>=3.6.0->es-core-news-sm==3.6.0) (3.0.9)\n",
      "Requirement already satisfied: typing-extensions>=4.2.0 in /Users/albertcoca/opt/anaconda3/lib/python3.9/site-packages (from pydantic!=1.8,!=1.8.1,<1.11.0,>=1.7.4->spacy<3.7.0,>=3.6.0->es-core-news-sm==3.6.0) (4.3.0)\n",
      "Requirement already satisfied: urllib3<1.27,>=1.21.1 in /Users/albertcoca/opt/anaconda3/lib/python3.9/site-packages (from requests<3.0.0,>=2.13.0->spacy<3.7.0,>=3.6.0->es-core-news-sm==3.6.0) (1.26.11)\n",
      "Requirement already satisfied: certifi>=2017.4.17 in /Users/albertcoca/opt/anaconda3/lib/python3.9/site-packages (from requests<3.0.0,>=2.13.0->spacy<3.7.0,>=3.6.0->es-core-news-sm==3.6.0) (2022.9.24)\n",
      "Requirement already satisfied: charset-normalizer<3,>=2 in /Users/albertcoca/opt/anaconda3/lib/python3.9/site-packages (from requests<3.0.0,>=2.13.0->spacy<3.7.0,>=3.6.0->es-core-news-sm==3.6.0) (2.0.4)\n",
      "Requirement already satisfied: idna<4,>=2.5 in /Users/albertcoca/opt/anaconda3/lib/python3.9/site-packages (from requests<3.0.0,>=2.13.0->spacy<3.7.0,>=3.6.0->es-core-news-sm==3.6.0) (2.10)\n",
      "Requirement already satisfied: confection<1.0.0,>=0.0.1 in /Users/albertcoca/opt/anaconda3/lib/python3.9/site-packages (from thinc<8.2.0,>=8.1.8->spacy<3.7.0,>=3.6.0->es-core-news-sm==3.6.0) (0.1.0)\n",
      "Requirement already satisfied: blis<0.8.0,>=0.7.8 in /Users/albertcoca/opt/anaconda3/lib/python3.9/site-packages (from thinc<8.2.0,>=8.1.8->spacy<3.7.0,>=3.6.0->es-core-news-sm==3.6.0) (0.7.9)\n",
      "Requirement already satisfied: click<9.0.0,>=7.1.1 in /Users/albertcoca/opt/anaconda3/lib/python3.9/site-packages (from typer<0.10.0,>=0.3.0->spacy<3.7.0,>=3.6.0->es-core-news-sm==3.6.0) (8.0.4)\n",
      "Requirement already satisfied: MarkupSafe>=0.23 in /Users/albertcoca/opt/anaconda3/lib/python3.9/site-packages (from jinja2->spacy<3.7.0,>=3.6.0->es-core-news-sm==3.6.0) (2.0.1)\n",
      "\u001b[38;5;2m✔ Download and installation successful\u001b[0m\n",
      "You can now load the package via spacy.load('es_core_news_sm')\n"
     ]
    }
   ],
   "source": [
    "import pandas as pd\n",
    "import nltk\n",
    "from nltk.corpus import stopwords\n",
    "from nltk.tokenize import word_tokenize\n",
    "from nltk.stem import WordNetLemmatizer\n",
    "import string\n",
    "import spacy\n",
    "nltk.download()\n",
    "\n",
    "nltk.download('punkt')\n",
    "nltk.download('stopwords')\n",
    "nltk.download('wordnet')\n",
    "\n",
    "# Descargar modelo de SpaCy\n",
    "spacy.cli.download(\"es_core_news_sm\")\n",
    "\n",
    "# Cargar modelo de SpaCy\n",
    "nlp = spacy.load(\"es_core_news_sm\")"
   ]
  },
  {
   "cell_type": "markdown",
   "id": "c1650961",
   "metadata": {},
   "source": [
    "- Let's convert list to string ('Description' column)"
   ]
  },
  {
   "cell_type": "code",
   "execution_count": null,
   "id": "2ca26b17",
   "metadata": {},
   "outputs": [],
   "source": []
  },
  {
   "cell_type": "code",
   "execution_count": 109,
   "id": "397fc0a6",
   "metadata": {},
   "outputs": [],
   "source": [
    "tokenizer = RegexpTokenizer(r'\\w+')\n",
    "df['description'] = df['description'].map(lambda x: tokenizer.tokenize(x.lower()))\n",
    "# Removing stopwords\n",
    "stop_words = stopwords.words('english')\n",
    "#for index, des in df['description'].iteritems():\n",
    "    #df.iloc[index, 3] =  [w for w in des if not w in stop_words]\n",
    "# Lemmatization\n",
    "def lemma(text):\n",
    "    return [WordNetLemmatizer().lemmatize(w) for w in text]\n",
    "df['description'] = df['description'].apply(lemma)\n",
    "\n"
   ]
  },
  {
   "cell_type": "code",
   "execution_count": 133,
   "id": "740cbfac",
   "metadata": {},
   "outputs": [
    {
     "data": {
      "text/html": [
       "<div>\n",
       "<style scoped>\n",
       "    .dataframe tbody tr th:only-of-type {\n",
       "        vertical-align: middle;\n",
       "    }\n",
       "\n",
       "    .dataframe tbody tr th {\n",
       "        vertical-align: top;\n",
       "    }\n",
       "\n",
       "    .dataframe thead th {\n",
       "        text-align: right;\n",
       "    }\n",
       "</style>\n",
       "<table border=\"1\" class=\"dataframe\">\n",
       "  <thead>\n",
       "    <tr style=\"text-align: right;\">\n",
       "      <th></th>\n",
       "      <th>title</th>\n",
       "      <th>company</th>\n",
       "      <th>location</th>\n",
       "      <th>modality</th>\n",
       "      <th>description</th>\n",
       "      <th>position</th>\n",
       "      <th>seniority</th>\n",
       "    </tr>\n",
       "  </thead>\n",
       "  <tbody>\n",
       "    <tr>\n",
       "      <th>0</th>\n",
       "      <td>senior game data analyst</td>\n",
       "      <td>Tilting Point</td>\n",
       "      <td>Barcelona, Catalonia, Spain</td>\n",
       "      <td>Hybrid</td>\n",
       "      <td>[at, tilting, point, we, combine, data, technology, talent, and, groundbreaking, marketing, to, scale, game, to, success, a, the, senior, game, data, analyst, you, will, work, closely, with, game, team, to, help, inform, decisionmaking, regarding, feature, of, the, game, balancing, player, interaction, finding, hidden, opportunity, and, much, more, your, future, at, tilting, point, analyze, large, complex, datasets, to, address, adhoc, and, longterm, operational, and, strategic, business, question, draw, meaningful, conclusion, and, provide, actionable, insight, from, data, to, shape, and, influence, ingame, feature, economy, and, future, product, roadmaps, own, the, taxonomy, for, game, data, ensuring, all, key, performance, metric, are, measurable, and, ...]</td>\n",
       "      <td>data analyst</td>\n",
       "      <td>senior</td>\n",
       "    </tr>\n",
       "    <tr>\n",
       "      <th>1</th>\n",
       "      <td>data analyst (operations team)</td>\n",
       "      <td>Holaluz</td>\n",
       "      <td>Barcelona, Catalonia, Spain</td>\n",
       "      <td>On-site</td>\n",
       "      <td>[description, quienes, somos, somos, holaluz, la, empresa, que, lleva, una, decada, revolucionando, el, sector, energetico, nacimos, para, cambiar, el, mundo, conectando, a, la, persona, con, la, energia, verde, y, tu, y, el, planeta, sois, nuestra, motivacion, para, ser, como, somos, y, hacer, lo, que, hacemos, nuestra, voluntad, de, hacer, la, cosas, de, un, modo, distinto, no, ha, llevado, a, liderar, la, transformacion, del, sector, electrico, y, a, ser, la, primera, electrica, en, obtener, el, certificado, bcorp, te, sumas, unete, a, la, revolucion, que, haras, formaras, parte, del, chapter, de, data, analytics, con, foco, en, el, area, de, operaciones, que, esperamos, ...]</td>\n",
       "      <td>data analyst</td>\n",
       "      <td>unknown</td>\n",
       "    </tr>\n",
       "  </tbody>\n",
       "</table>\n",
       "</div>"
      ],
      "text/plain": [
       "                            title        company                     location  \\\n",
       "0        senior game data analyst  Tilting Point  Barcelona, Catalonia, Spain   \n",
       "1  data analyst (operations team)        Holaluz  Barcelona, Catalonia, Spain   \n",
       "\n",
       "  modality  \\\n",
       "0   Hybrid   \n",
       "1  On-site   \n",
       "\n",
       "                                                                                                                                                                                                                                                                                                                                                                                                                                                                                                                                                                                                                                                                                                                                                                                          description  \\\n",
       "0  [at, tilting, point, we, combine, data, technology, talent, and, groundbreaking, marketing, to, scale, game, to, success, a, the, senior, game, data, analyst, you, will, work, closely, with, game, team, to, help, inform, decisionmaking, regarding, feature, of, the, game, balancing, player, interaction, finding, hidden, opportunity, and, much, more, your, future, at, tilting, point, analyze, large, complex, datasets, to, address, adhoc, and, longterm, operational, and, strategic, business, question, draw, meaningful, conclusion, and, provide, actionable, insight, from, data, to, shape, and, influence, ingame, feature, economy, and, future, product, roadmaps, own, the, taxonomy, for, game, data, ensuring, all, key, performance, metric, are, measurable, and, ...]   \n",
       "1                                                                                     [description, quienes, somos, somos, holaluz, la, empresa, que, lleva, una, decada, revolucionando, el, sector, energetico, nacimos, para, cambiar, el, mundo, conectando, a, la, persona, con, la, energia, verde, y, tu, y, el, planeta, sois, nuestra, motivacion, para, ser, como, somos, y, hacer, lo, que, hacemos, nuestra, voluntad, de, hacer, la, cosas, de, un, modo, distinto, no, ha, llevado, a, liderar, la, transformacion, del, sector, electrico, y, a, ser, la, primera, electrica, en, obtener, el, certificado, bcorp, te, sumas, unete, a, la, revolucion, que, haras, formaras, parte, del, chapter, de, data, analytics, con, foco, en, el, area, de, operaciones, que, esperamos, ...]   \n",
       "\n",
       "       position seniority  \n",
       "0  data analyst    senior  \n",
       "1  data analyst   unknown  "
      ]
     },
     "execution_count": 133,
     "metadata": {},
     "output_type": "execute_result"
    }
   ],
   "source": [
    "df.head(2)"
   ]
  },
  {
   "cell_type": "markdown",
   "id": "73261d50",
   "metadata": {},
   "source": [
    "# NLTK - Descriptions and titles"
   ]
  },
  {
   "cell_type": "code",
   "execution_count": 111,
   "id": "53a3c2dd",
   "metadata": {},
   "outputs": [
    {
     "name": "stderr",
     "output_type": "stream",
     "text": [
      "[nltk_data] Downloading package stopwords to\n",
      "[nltk_data]     /Users/albertcoca/nltk_data...\n",
      "[nltk_data]   Package stopwords is already up-to-date!\n",
      "[nltk_data] Downloading package punkt to\n",
      "[nltk_data]     /Users/albertcoca/nltk_data...\n",
      "[nltk_data]   Package punkt is already up-to-date!\n"
     ]
    },
    {
     "data": {
      "text/plain": [
       "True"
      ]
     },
     "execution_count": 111,
     "metadata": {},
     "output_type": "execute_result"
    }
   ],
   "source": [
    "import nltk\n",
    "from nltk.tokenize import word_tokenize\n",
    "from nltk.corpus import stopwords\n",
    "nltk.download('stopwords')\n",
    "nltk.download('punkt')\n",
    "\n",
    "\n",
    "\n",
    "\n",
    "\n",
    "\n",
    "\n"
   ]
  },
  {
   "cell_type": "markdown",
   "id": "de247a87",
   "metadata": {},
   "source": [
    "Descriptions"
   ]
  },
  {
   "cell_type": "code",
   "execution_count": 112,
   "id": "feb6f6e8",
   "metadata": {},
   "outputs": [],
   "source": [
    "all_des = []\n",
    "all_wrds = []\n",
    "for des in df['description']:\n",
    "    all_des.append(des)\n",
    "    for word in des:\n",
    "        all_wrds.append(word)\n",
    "all_wrds = [w.replace('visualisation', 'visualization') for w in all_wrds]\n",
    "all_wrds = [w.replace('modelling', 'modeling') for w in all_wrds]\n",
    "all_wrds = [w.replace('artificial intelligence', 'ai') for w in all_wrds]\n",
    "all_wrds = [w.replace('dashboarding', 'dashboard') for w in all_wrds]\n",
    "all_wrds = [w.replace('kpis', 'kpi') for w in all_wrds]\n",
    "all_wrds = [w.replace('report', 'reporting') for w in all_wrds]\n",
    "all_wrds = [w.replace('predict', 'prediction') for w in all_wrds]\n",
    "all_wrds = [w.replace('creative', 'creativity') for w in all_wrds]\n",
    "for l in all_wrds:\n",
    "    if l == 'team' and all_wrds[all_wrds.index(l) + 1] == 'working':\n",
    "        all_wrds[all_wrds.index(l) + 1] = 'work'\n",
    "descriptions = Text(all_wrds)"
   ]
  },
  {
   "cell_type": "code",
   "execution_count": 113,
   "id": "c828f249",
   "metadata": {},
   "outputs": [],
   "source": [
    "all_des_a = []\n",
    "all_des_s = []\n",
    "all_des_e = []\n",
    "for des in df[df['position'] == 'data analyst']['description']:\n",
    "    for word in des:\n",
    "        all_des_a.append(word)\n",
    "for des in df[df['position'] == 'data scientist']['description']:\n",
    "    for word in des:\n",
    "        all_des_s.append(word)\n",
    "for des in df[df['position'] == 'data engineer']['description']:\n",
    "    for word in des:\n",
    "        all_des_e.append(word)\n",
    "\n",
    "\n",
    "\n",
    "descriptions_a = Text(all_des_a)\n",
    "descriptions_s = Text(all_des_s)\n",
    "descriptions_e = Text(all_des_e)"
   ]
  },
  {
   "cell_type": "markdown",
   "id": "9c14fc85",
   "metadata": {},
   "source": [
    "titles"
   ]
  },
  {
   "cell_type": "code",
   "execution_count": 114,
   "id": "150c94af",
   "metadata": {},
   "outputs": [],
   "source": [
    "all_titles = []\n",
    "for title in df['title']:\n",
    "    for word in title:\n",
    "        all_titles.append(word)\n",
    "titles = Text(all_titles)"
   ]
  },
  {
   "cell_type": "code",
   "execution_count": 115,
   "id": "f76554f5",
   "metadata": {},
   "outputs": [],
   "source": [
    "for index, d in df['description'].iteritems():\n",
    "    d = [w.replace('visualisation', 'visualization') for w in d]\n",
    "    d = [w.replace('modelling', 'modeling') for w in d]\n",
    "    d = [w.replace('artificial intelligence', 'ai') for w in d]\n",
    "    d = [w.replace('dashboarding', 'dashboard') for w in d]\n",
    "    d = [w.replace('kpis', 'kpi') for w in d]\n",
    "    d = [w.replace('report', 'reporting') for w in d]\n",
    "    d = [w.replace('predict', 'prediction') for w in d]\n",
    "    d = [w.replace('creative', 'creativity') for w in d]\n",
    "    df['description'][index] = d"
   ]
  },
  {
   "cell_type": "markdown",
   "id": "0c4dd16a",
   "metadata": {},
   "source": [
    "# EXPERIENCE EXPLORATION"
   ]
  },
  {
   "cell_type": "code",
   "execution_count": 116,
   "id": "d6a5faa5",
   "metadata": {},
   "outputs": [
    {
     "name": "stdout",
     "output_type": "stream",
     "text": [
      "86\n",
      "20\n"
     ]
    }
   ],
   "source": [
    "#In the title\n",
    "seniority = 0\n",
    "juniority = 0\n",
    "\n",
    "for des in df['title']:\n",
    "    if 'senior' in des or 'sr' in des or 'head' in des or 'manager' in des or 'director' in des:\n",
    "        seniority += 1\n",
    "    elif 'junior' in des or 'jr' in des or 'intern' in des or 'associate' in des or 'trainee' in des:\n",
    "        juniority += 1\n",
    "\n",
    "print(seniority)\n",
    "print(juniority)"
   ]
  },
  {
   "cell_type": "code",
   "execution_count": 117,
   "id": "95153785",
   "metadata": {},
   "outputs": [
    {
     "name": "stdout",
     "output_type": "stream",
     "text": [
      "70\n",
      "27\n"
     ]
    }
   ],
   "source": [
    "#In the descrption\n",
    "seniority = 0\n",
    "juniority = 0\n",
    "\n",
    "for des in df['description']:\n",
    "    if 'senior' in des or 'sr' in des:\n",
    "        seniority += 1\n",
    "    elif 'junior' in des or 'jr' in des or 'intern' in des or 'associate' in des or 'trainee' in des:\n",
    "        juniority += 1\n",
    "\n",
    "print(seniority)\n",
    "print(juniority)\n"
   ]
  },
  {
   "cell_type": "markdown",
   "id": "18e7e286",
   "metadata": {},
   "source": [
    "# Lets segment it by experience"
   ]
  },
  {
   "cell_type": "code",
   "execution_count": 118,
   "id": "0ad1bd39",
   "metadata": {},
   "outputs": [],
   "source": [
    "seniority = []\n",
    "for i in range(len(df)):\n",
    "    des = df.loc[i, 'description']\n",
    "    tit = df.loc[i, 'title']\n",
    "    if 'senior' in des or 'sr' in des or 'head' in des or 'manager' in des or 'director' in des or 'expert' in des or 'senior' in tit or 'sr' in tit or 'head' in tit or 'manager' in tit or 'director' in tit or 'expert' in tit:\n",
    "        seniority.append('senior')\n",
    "    elif 'junior' in des or 'jr' in des or 'intern' in des or 'associate' in des or 'beca' in des or 'trainee' in des or 'junior' in tit or 'jr' in tit or 'intern' in tit or 'associate' in tit or 'trainee' in tit or 'beca' in tit:\n",
    "        seniority.append('junior')\n",
    "    else:\n",
    "        try:\n",
    "            s = Text(des).concordance_list('year')[0]\n",
    "            try:\n",
    "                y = int(s[0][-1])\n",
    "                if y < 4:\n",
    "                    seniority.append('junior')\n",
    "                else:\n",
    "                    seniority.append('senior')\n",
    "            except ValueError:\n",
    "                seniority.append('unknown')\n",
    "        except IndexError:\n",
    "            seniority.append('unknown')\n"
   ]
  },
  {
   "cell_type": "code",
   "execution_count": 119,
   "id": "78045562",
   "metadata": {},
   "outputs": [
    {
     "data": {
      "text/plain": [
       "senior     190\n",
       "unknown     86\n",
       "junior      41\n",
       "Name: seniority, dtype: int64"
      ]
     },
     "execution_count": 119,
     "metadata": {},
     "output_type": "execute_result"
    }
   ],
   "source": [
    "df['seniority'] = seniority\n",
    "df['seniority'].value_counts()"
   ]
  },
  {
   "cell_type": "markdown",
   "id": "567aa043",
   "metadata": {},
   "source": [
    "# Keywords (one of the most interesting parts)"
   ]
  },
  {
   "cell_type": "markdown",
   "id": "96efc4fc",
   "metadata": {},
   "source": [
    "TOOLS"
   ]
  },
  {
   "cell_type": "code",
   "execution_count": 120,
   "id": "c5f82e46",
   "metadata": {},
   "outputs": [],
   "source": [
    "tools = ['excel','qlik', 'python', 'r', 'sql', 'git', 'power bi', 'aws', 'azure', 'looker',\n",
    "        'agile', 'knime', 'matlab', 'tableau']"
   ]
  },
  {
   "cell_type": "markdown",
   "id": "63982cbe",
   "metadata": {},
   "source": [
    "HARD SKILLS"
   ]
  },
  {
   "cell_type": "code",
   "execution_count": 121,
   "id": "f74f6f25",
   "metadata": {},
   "outputs": [],
   "source": [
    "hard_skills = ['programming', 'machine learning','visualization',\n",
    "               'modeling','business analyst','research','deep learning', 'analytical skill',\n",
    "               'optimization', 'automation', 'ab', 'ai', 'dashboard',\n",
    "               'kpi', 'big data', 'data mining', 'etl', 'reporting', 'segmentation',\n",
    "               'business intelligence', 'natural language', 'prediction', 'algorithm']"
   ]
  },
  {
   "cell_type": "markdown",
   "id": "0e5f4773",
   "metadata": {},
   "source": [
    "SOFT SKILLS"
   ]
  },
  {
   "cell_type": "code",
   "execution_count": 122,
   "id": "799b7c88",
   "metadata": {},
   "outputs": [],
   "source": [
    "soft_skills = ['communication', 'client oriented', 'team work', 'presentation', 'management', 'decision making',\n",
    "              'creativity', 'curiosity', 'leadership', 'problem solving', 'attention detail',\n",
    "              'motivation', 'proactive', 'empathetic', ]"
   ]
  },
  {
   "cell_type": "markdown",
   "id": "7f547703",
   "metadata": {},
   "source": [
    "# EXTRACTION - KW"
   ]
  },
  {
   "cell_type": "code",
   "execution_count": 123,
   "id": "61578581",
   "metadata": {},
   "outputs": [],
   "source": [
    "tfidf = TfidfVectorizer(ngram_range=(1,2), token_pattern='(?u)\\\\b\\\\w+\\\\b')\n",
    "text = [' '.join(doc) for doc in df['description']]\n",
    "tfidf.fit(text)\n",
    "dtm = tfidf.transform(text)\n",
    "dtm = pd.DataFrame(dtm.todense(), columns=tfidf.get_feature_names_out())"
   ]
  },
  {
   "cell_type": "code",
   "execution_count": 124,
   "id": "bd69d1a8",
   "metadata": {},
   "outputs": [],
   "source": [
    "key_words = dtm.loc[:, dtm.columns.isin(tools + hard_skills + soft_skills)]\n"
   ]
  },
  {
   "cell_type": "markdown",
   "id": "f1912f3a",
   "metadata": {},
   "source": [
    "# KEYWORDS' DF"
   ]
  },
  {
   "cell_type": "code",
   "execution_count": 128,
   "id": "5e09cbc9",
   "metadata": {},
   "outputs": [],
   "source": [
    "df_key = pd.concat([df, key_words], axis=1)\n"
   ]
  },
  {
   "cell_type": "code",
   "execution_count": 129,
   "id": "095988fa",
   "metadata": {},
   "outputs": [],
   "source": [
    "df_key.drop(['description', 'title'], axis=1, inplace=True)\n"
   ]
  },
  {
   "cell_type": "code",
   "execution_count": 130,
   "id": "e59cbed2",
   "metadata": {},
   "outputs": [
    {
     "data": {
      "text/html": [
       "<div>\n",
       "<style scoped>\n",
       "    .dataframe tbody tr th:only-of-type {\n",
       "        vertical-align: middle;\n",
       "    }\n",
       "\n",
       "    .dataframe tbody tr th {\n",
       "        vertical-align: top;\n",
       "    }\n",
       "\n",
       "    .dataframe thead th {\n",
       "        text-align: right;\n",
       "    }\n",
       "</style>\n",
       "<table border=\"1\" class=\"dataframe\">\n",
       "  <thead>\n",
       "    <tr style=\"text-align: right;\">\n",
       "      <th></th>\n",
       "      <th>ab</th>\n",
       "      <th>agile</th>\n",
       "      <th>ai</th>\n",
       "      <th>algorithm</th>\n",
       "      <th>analytical skill</th>\n",
       "      <th>automation</th>\n",
       "      <th>aws</th>\n",
       "      <th>azure</th>\n",
       "      <th>big data</th>\n",
       "      <th>business analyst</th>\n",
       "      <th>...</th>\n",
       "      <th>python</th>\n",
       "      <th>qlik</th>\n",
       "      <th>r</th>\n",
       "      <th>reporting</th>\n",
       "      <th>research</th>\n",
       "      <th>segmentation</th>\n",
       "      <th>sql</th>\n",
       "      <th>tableau</th>\n",
       "      <th>team work</th>\n",
       "      <th>visualization</th>\n",
       "    </tr>\n",
       "    <tr>\n",
       "      <th>position</th>\n",
       "      <th></th>\n",
       "      <th></th>\n",
       "      <th></th>\n",
       "      <th></th>\n",
       "      <th></th>\n",
       "      <th></th>\n",
       "      <th></th>\n",
       "      <th></th>\n",
       "      <th></th>\n",
       "      <th></th>\n",
       "      <th></th>\n",
       "      <th></th>\n",
       "      <th></th>\n",
       "      <th></th>\n",
       "      <th></th>\n",
       "      <th></th>\n",
       "      <th></th>\n",
       "      <th></th>\n",
       "      <th></th>\n",
       "      <th></th>\n",
       "      <th></th>\n",
       "    </tr>\n",
       "  </thead>\n",
       "  <tbody>\n",
       "    <tr>\n",
       "      <th>data analyst</th>\n",
       "      <td>0.000585</td>\n",
       "      <td>0.002496</td>\n",
       "      <td>0.005733</td>\n",
       "      <td>0.000542</td>\n",
       "      <td>0.002204</td>\n",
       "      <td>0.004949</td>\n",
       "      <td>0.001567</td>\n",
       "      <td>0.002406</td>\n",
       "      <td>0.002040</td>\n",
       "      <td>0.001204</td>\n",
       "      <td>...</td>\n",
       "      <td>0.005062</td>\n",
       "      <td>0.005286</td>\n",
       "      <td>0.005331</td>\n",
       "      <td>0.009510</td>\n",
       "      <td>0.004404</td>\n",
       "      <td>0.000311</td>\n",
       "      <td>0.009313</td>\n",
       "      <td>0.008016</td>\n",
       "      <td>0.000770</td>\n",
       "      <td>0.008400</td>\n",
       "    </tr>\n",
       "    <tr>\n",
       "      <th>data engineer</th>\n",
       "      <td>0.000000</td>\n",
       "      <td>0.006555</td>\n",
       "      <td>0.006417</td>\n",
       "      <td>0.001526</td>\n",
       "      <td>0.000630</td>\n",
       "      <td>0.003518</td>\n",
       "      <td>0.009203</td>\n",
       "      <td>0.012008</td>\n",
       "      <td>0.007388</td>\n",
       "      <td>0.000482</td>\n",
       "      <td>...</td>\n",
       "      <td>0.007604</td>\n",
       "      <td>0.001511</td>\n",
       "      <td>0.002709</td>\n",
       "      <td>0.002546</td>\n",
       "      <td>0.002410</td>\n",
       "      <td>0.000000</td>\n",
       "      <td>0.013258</td>\n",
       "      <td>0.001314</td>\n",
       "      <td>0.001570</td>\n",
       "      <td>0.002397</td>\n",
       "    </tr>\n",
       "    <tr>\n",
       "      <th>data scientist</th>\n",
       "      <td>0.001150</td>\n",
       "      <td>0.004598</td>\n",
       "      <td>0.010430</td>\n",
       "      <td>0.010511</td>\n",
       "      <td>0.000319</td>\n",
       "      <td>0.001816</td>\n",
       "      <td>0.006009</td>\n",
       "      <td>0.002889</td>\n",
       "      <td>0.007606</td>\n",
       "      <td>0.000588</td>\n",
       "      <td>...</td>\n",
       "      <td>0.009729</td>\n",
       "      <td>0.000792</td>\n",
       "      <td>0.009414</td>\n",
       "      <td>0.003181</td>\n",
       "      <td>0.009945</td>\n",
       "      <td>0.003765</td>\n",
       "      <td>0.007480</td>\n",
       "      <td>0.002888</td>\n",
       "      <td>0.000264</td>\n",
       "      <td>0.007011</td>\n",
       "    </tr>\n",
       "  </tbody>\n",
       "</table>\n",
       "<p>3 rows × 49 columns</p>\n",
       "</div>"
      ],
      "text/plain": [
       "                      ab     agile        ai  algorithm  analytical skill  \\\n",
       "position                                                                    \n",
       "data analyst    0.000585  0.002496  0.005733   0.000542          0.002204   \n",
       "data engineer   0.000000  0.006555  0.006417   0.001526          0.000630   \n",
       "data scientist  0.001150  0.004598  0.010430   0.010511          0.000319   \n",
       "\n",
       "                automation       aws     azure  big data  business analyst  \\\n",
       "position                                                                     \n",
       "data analyst      0.004949  0.001567  0.002406  0.002040          0.001204   \n",
       "data engineer     0.003518  0.009203  0.012008  0.007388          0.000482   \n",
       "data scientist    0.001816  0.006009  0.002889  0.007606          0.000588   \n",
       "\n",
       "                ...    python      qlik         r  reporting  research  \\\n",
       "position        ...                                                      \n",
       "data analyst    ...  0.005062  0.005286  0.005331   0.009510  0.004404   \n",
       "data engineer   ...  0.007604  0.001511  0.002709   0.002546  0.002410   \n",
       "data scientist  ...  0.009729  0.000792  0.009414   0.003181  0.009945   \n",
       "\n",
       "                segmentation       sql   tableau  team work  visualization  \n",
       "position                                                                    \n",
       "data analyst        0.000311  0.009313  0.008016   0.000770       0.008400  \n",
       "data engineer       0.000000  0.013258  0.001314   0.001570       0.002397  \n",
       "data scientist      0.003765  0.007480  0.002888   0.000264       0.007011  \n",
       "\n",
       "[3 rows x 49 columns]"
      ]
     },
     "execution_count": 130,
     "metadata": {},
     "output_type": "execute_result"
    }
   ],
   "source": [
    "df_key.groupby('position').agg('mean')\n"
   ]
  },
  {
   "cell_type": "code",
   "execution_count": 131,
   "id": "08bc082f",
   "metadata": {},
   "outputs": [],
   "source": [
    "df_key.to_csv('df_keys.csv', index=None, header=True)\n"
   ]
  },
  {
   "cell_type": "code",
   "execution_count": 134,
   "id": "8172005c",
   "metadata": {},
   "outputs": [
    {
     "data": {
      "text/html": [
       "<div>\n",
       "<style scoped>\n",
       "    .dataframe tbody tr th:only-of-type {\n",
       "        vertical-align: middle;\n",
       "    }\n",
       "\n",
       "    .dataframe tbody tr th {\n",
       "        vertical-align: top;\n",
       "    }\n",
       "\n",
       "    .dataframe thead th {\n",
       "        text-align: right;\n",
       "    }\n",
       "</style>\n",
       "<table border=\"1\" class=\"dataframe\">\n",
       "  <thead>\n",
       "    <tr style=\"text-align: right;\">\n",
       "      <th></th>\n",
       "      <th>company</th>\n",
       "      <th>location</th>\n",
       "      <th>modality</th>\n",
       "      <th>position</th>\n",
       "      <th>seniority</th>\n",
       "      <th>ab</th>\n",
       "      <th>agile</th>\n",
       "      <th>ai</th>\n",
       "      <th>algorithm</th>\n",
       "      <th>analytical skill</th>\n",
       "      <th>...</th>\n",
       "      <th>python</th>\n",
       "      <th>qlik</th>\n",
       "      <th>r</th>\n",
       "      <th>reporting</th>\n",
       "      <th>research</th>\n",
       "      <th>segmentation</th>\n",
       "      <th>sql</th>\n",
       "      <th>tableau</th>\n",
       "      <th>team work</th>\n",
       "      <th>visualization</th>\n",
       "    </tr>\n",
       "  </thead>\n",
       "  <tbody>\n",
       "    <tr>\n",
       "      <th>0</th>\n",
       "      <td>Tilting Point</td>\n",
       "      <td>Barcelona, Catalonia, Spain</td>\n",
       "      <td>Hybrid</td>\n",
       "      <td>data analyst</td>\n",
       "      <td>senior</td>\n",
       "      <td>0.0</td>\n",
       "      <td>0.0</td>\n",
       "      <td>0.000000</td>\n",
       "      <td>0.0</td>\n",
       "      <td>0.000000</td>\n",
       "      <td>...</td>\n",
       "      <td>0.012703</td>\n",
       "      <td>0.0</td>\n",
       "      <td>0.019824</td>\n",
       "      <td>0.000000</td>\n",
       "      <td>0.000000</td>\n",
       "      <td>0.000000</td>\n",
       "      <td>0.013639</td>\n",
       "      <td>0.022108</td>\n",
       "      <td>0.0</td>\n",
       "      <td>0.020491</td>\n",
       "    </tr>\n",
       "    <tr>\n",
       "      <th>1</th>\n",
       "      <td>Holaluz</td>\n",
       "      <td>Barcelona, Catalonia, Spain</td>\n",
       "      <td>On-site</td>\n",
       "      <td>data analyst</td>\n",
       "      <td>unknown</td>\n",
       "      <td>0.0</td>\n",
       "      <td>0.0</td>\n",
       "      <td>0.000000</td>\n",
       "      <td>0.0</td>\n",
       "      <td>0.000000</td>\n",
       "      <td>...</td>\n",
       "      <td>0.002768</td>\n",
       "      <td>0.0</td>\n",
       "      <td>0.000000</td>\n",
       "      <td>0.000000</td>\n",
       "      <td>0.000000</td>\n",
       "      <td>0.000000</td>\n",
       "      <td>0.002971</td>\n",
       "      <td>0.000000</td>\n",
       "      <td>0.0</td>\n",
       "      <td>0.000000</td>\n",
       "    </tr>\n",
       "    <tr>\n",
       "      <th>2</th>\n",
       "      <td>IOMED</td>\n",
       "      <td>Barcelona, Catalonia, Spain</td>\n",
       "      <td>Hybrid</td>\n",
       "      <td>data engineer</td>\n",
       "      <td>junior</td>\n",
       "      <td>0.0</td>\n",
       "      <td>0.0</td>\n",
       "      <td>0.028947</td>\n",
       "      <td>0.0</td>\n",
       "      <td>0.000000</td>\n",
       "      <td>...</td>\n",
       "      <td>0.014619</td>\n",
       "      <td>0.0</td>\n",
       "      <td>0.000000</td>\n",
       "      <td>0.000000</td>\n",
       "      <td>0.027534</td>\n",
       "      <td>0.000000</td>\n",
       "      <td>0.023544</td>\n",
       "      <td>0.000000</td>\n",
       "      <td>0.0</td>\n",
       "      <td>0.000000</td>\n",
       "    </tr>\n",
       "    <tr>\n",
       "      <th>3</th>\n",
       "      <td>CGI</td>\n",
       "      <td>Spain</td>\n",
       "      <td>Remote</td>\n",
       "      <td>data analyst</td>\n",
       "      <td>senior</td>\n",
       "      <td>0.0</td>\n",
       "      <td>0.0</td>\n",
       "      <td>0.000000</td>\n",
       "      <td>0.0</td>\n",
       "      <td>0.000000</td>\n",
       "      <td>...</td>\n",
       "      <td>0.000000</td>\n",
       "      <td>0.0</td>\n",
       "      <td>0.000000</td>\n",
       "      <td>0.000000</td>\n",
       "      <td>0.000000</td>\n",
       "      <td>0.000000</td>\n",
       "      <td>0.000000</td>\n",
       "      <td>0.000000</td>\n",
       "      <td>0.0</td>\n",
       "      <td>0.000000</td>\n",
       "    </tr>\n",
       "    <tr>\n",
       "      <th>4</th>\n",
       "      <td>Olala Homes</td>\n",
       "      <td>Barcelona, Catalonia, Spain</td>\n",
       "      <td>Hybrid</td>\n",
       "      <td>data analyst</td>\n",
       "      <td>junior</td>\n",
       "      <td>0.0</td>\n",
       "      <td>0.0</td>\n",
       "      <td>0.000000</td>\n",
       "      <td>0.0</td>\n",
       "      <td>0.022596</td>\n",
       "      <td>...</td>\n",
       "      <td>0.000000</td>\n",
       "      <td>0.0</td>\n",
       "      <td>0.000000</td>\n",
       "      <td>0.040021</td>\n",
       "      <td>0.000000</td>\n",
       "      <td>0.022961</td>\n",
       "      <td>0.008405</td>\n",
       "      <td>0.000000</td>\n",
       "      <td>0.0</td>\n",
       "      <td>0.037882</td>\n",
       "    </tr>\n",
       "    <tr>\n",
       "      <th>...</th>\n",
       "      <td>...</td>\n",
       "      <td>...</td>\n",
       "      <td>...</td>\n",
       "      <td>...</td>\n",
       "      <td>...</td>\n",
       "      <td>...</td>\n",
       "      <td>...</td>\n",
       "      <td>...</td>\n",
       "      <td>...</td>\n",
       "      <td>...</td>\n",
       "      <td>...</td>\n",
       "      <td>...</td>\n",
       "      <td>...</td>\n",
       "      <td>...</td>\n",
       "      <td>...</td>\n",
       "      <td>...</td>\n",
       "      <td>...</td>\n",
       "      <td>...</td>\n",
       "      <td>...</td>\n",
       "      <td>...</td>\n",
       "      <td>...</td>\n",
       "    </tr>\n",
       "    <tr>\n",
       "      <th>312</th>\n",
       "      <td>TransPerfect</td>\n",
       "      <td>Barcelona, Catalonia, Spain</td>\n",
       "      <td>Hybrid</td>\n",
       "      <td>data analyst</td>\n",
       "      <td>unknown</td>\n",
       "      <td>0.0</td>\n",
       "      <td>0.0</td>\n",
       "      <td>0.027027</td>\n",
       "      <td>0.0</td>\n",
       "      <td>0.000000</td>\n",
       "      <td>...</td>\n",
       "      <td>0.000000</td>\n",
       "      <td>0.0</td>\n",
       "      <td>0.000000</td>\n",
       "      <td>0.000000</td>\n",
       "      <td>0.000000</td>\n",
       "      <td>0.000000</td>\n",
       "      <td>0.000000</td>\n",
       "      <td>0.000000</td>\n",
       "      <td>0.0</td>\n",
       "      <td>0.000000</td>\n",
       "    </tr>\n",
       "    <tr>\n",
       "      <th>313</th>\n",
       "      <td>Digital Legends Entertainment</td>\n",
       "      <td>Barcelona, Catalonia, Spain</td>\n",
       "      <td>Hybrid</td>\n",
       "      <td>data engineer</td>\n",
       "      <td>senior</td>\n",
       "      <td>0.0</td>\n",
       "      <td>0.0</td>\n",
       "      <td>0.000000</td>\n",
       "      <td>0.0</td>\n",
       "      <td>0.000000</td>\n",
       "      <td>...</td>\n",
       "      <td>0.011205</td>\n",
       "      <td>0.0</td>\n",
       "      <td>0.034971</td>\n",
       "      <td>0.000000</td>\n",
       "      <td>0.021104</td>\n",
       "      <td>0.000000</td>\n",
       "      <td>0.000000</td>\n",
       "      <td>0.000000</td>\n",
       "      <td>0.0</td>\n",
       "      <td>0.000000</td>\n",
       "    </tr>\n",
       "    <tr>\n",
       "      <th>314</th>\n",
       "      <td>TELUS International AI Data Solutions</td>\n",
       "      <td>Barcelona, Catalonia, Spain</td>\n",
       "      <td>On-site</td>\n",
       "      <td>data analyst</td>\n",
       "      <td>unknown</td>\n",
       "      <td>0.0</td>\n",
       "      <td>0.0</td>\n",
       "      <td>0.095046</td>\n",
       "      <td>0.0</td>\n",
       "      <td>0.000000</td>\n",
       "      <td>...</td>\n",
       "      <td>0.000000</td>\n",
       "      <td>0.0</td>\n",
       "      <td>0.000000</td>\n",
       "      <td>0.000000</td>\n",
       "      <td>0.000000</td>\n",
       "      <td>0.000000</td>\n",
       "      <td>0.000000</td>\n",
       "      <td>0.000000</td>\n",
       "      <td>0.0</td>\n",
       "      <td>0.000000</td>\n",
       "    </tr>\n",
       "    <tr>\n",
       "      <th>315</th>\n",
       "      <td>TransPerfect</td>\n",
       "      <td>Barcelona, Catalonia, Spain</td>\n",
       "      <td>On-site</td>\n",
       "      <td>data analyst</td>\n",
       "      <td>unknown</td>\n",
       "      <td>0.0</td>\n",
       "      <td>0.0</td>\n",
       "      <td>0.028599</td>\n",
       "      <td>0.0</td>\n",
       "      <td>0.000000</td>\n",
       "      <td>...</td>\n",
       "      <td>0.000000</td>\n",
       "      <td>0.0</td>\n",
       "      <td>0.000000</td>\n",
       "      <td>0.000000</td>\n",
       "      <td>0.000000</td>\n",
       "      <td>0.000000</td>\n",
       "      <td>0.000000</td>\n",
       "      <td>0.000000</td>\n",
       "      <td>0.0</td>\n",
       "      <td>0.000000</td>\n",
       "    </tr>\n",
       "    <tr>\n",
       "      <th>316</th>\n",
       "      <td>TransPerfect</td>\n",
       "      <td>Barcelona, Catalonia, Spain</td>\n",
       "      <td>On-site</td>\n",
       "      <td>data analyst</td>\n",
       "      <td>unknown</td>\n",
       "      <td>0.0</td>\n",
       "      <td>0.0</td>\n",
       "      <td>0.028969</td>\n",
       "      <td>0.0</td>\n",
       "      <td>0.000000</td>\n",
       "      <td>...</td>\n",
       "      <td>0.000000</td>\n",
       "      <td>0.0</td>\n",
       "      <td>0.000000</td>\n",
       "      <td>0.000000</td>\n",
       "      <td>0.000000</td>\n",
       "      <td>0.000000</td>\n",
       "      <td>0.000000</td>\n",
       "      <td>0.000000</td>\n",
       "      <td>0.0</td>\n",
       "      <td>0.000000</td>\n",
       "    </tr>\n",
       "  </tbody>\n",
       "</table>\n",
       "<p>317 rows × 54 columns</p>\n",
       "</div>"
      ],
      "text/plain": [
       "                                   company                     location  \\\n",
       "0                            Tilting Point  Barcelona, Catalonia, Spain   \n",
       "1                                  Holaluz  Barcelona, Catalonia, Spain   \n",
       "2                                    IOMED  Barcelona, Catalonia, Spain   \n",
       "3                                      CGI                        Spain   \n",
       "4                              Olala Homes  Barcelona, Catalonia, Spain   \n",
       "..                                     ...                          ...   \n",
       "312                           TransPerfect  Barcelona, Catalonia, Spain   \n",
       "313          Digital Legends Entertainment  Barcelona, Catalonia, Spain   \n",
       "314  TELUS International AI Data Solutions  Barcelona, Catalonia, Spain   \n",
       "315                           TransPerfect  Barcelona, Catalonia, Spain   \n",
       "316                           TransPerfect  Barcelona, Catalonia, Spain   \n",
       "\n",
       "    modality       position seniority   ab  agile        ai  algorithm  \\\n",
       "0     Hybrid   data analyst    senior  0.0    0.0  0.000000        0.0   \n",
       "1    On-site   data analyst   unknown  0.0    0.0  0.000000        0.0   \n",
       "2     Hybrid  data engineer    junior  0.0    0.0  0.028947        0.0   \n",
       "3     Remote   data analyst    senior  0.0    0.0  0.000000        0.0   \n",
       "4     Hybrid   data analyst    junior  0.0    0.0  0.000000        0.0   \n",
       "..       ...            ...       ...  ...    ...       ...        ...   \n",
       "312   Hybrid   data analyst   unknown  0.0    0.0  0.027027        0.0   \n",
       "313   Hybrid  data engineer    senior  0.0    0.0  0.000000        0.0   \n",
       "314  On-site   data analyst   unknown  0.0    0.0  0.095046        0.0   \n",
       "315  On-site   data analyst   unknown  0.0    0.0  0.028599        0.0   \n",
       "316  On-site   data analyst   unknown  0.0    0.0  0.028969        0.0   \n",
       "\n",
       "     analytical skill  ...    python  qlik         r  reporting  research  \\\n",
       "0            0.000000  ...  0.012703   0.0  0.019824   0.000000  0.000000   \n",
       "1            0.000000  ...  0.002768   0.0  0.000000   0.000000  0.000000   \n",
       "2            0.000000  ...  0.014619   0.0  0.000000   0.000000  0.027534   \n",
       "3            0.000000  ...  0.000000   0.0  0.000000   0.000000  0.000000   \n",
       "4            0.022596  ...  0.000000   0.0  0.000000   0.040021  0.000000   \n",
       "..                ...  ...       ...   ...       ...        ...       ...   \n",
       "312          0.000000  ...  0.000000   0.0  0.000000   0.000000  0.000000   \n",
       "313          0.000000  ...  0.011205   0.0  0.034971   0.000000  0.021104   \n",
       "314          0.000000  ...  0.000000   0.0  0.000000   0.000000  0.000000   \n",
       "315          0.000000  ...  0.000000   0.0  0.000000   0.000000  0.000000   \n",
       "316          0.000000  ...  0.000000   0.0  0.000000   0.000000  0.000000   \n",
       "\n",
       "     segmentation       sql   tableau  team work  visualization  \n",
       "0        0.000000  0.013639  0.022108        0.0       0.020491  \n",
       "1        0.000000  0.002971  0.000000        0.0       0.000000  \n",
       "2        0.000000  0.023544  0.000000        0.0       0.000000  \n",
       "3        0.000000  0.000000  0.000000        0.0       0.000000  \n",
       "4        0.022961  0.008405  0.000000        0.0       0.037882  \n",
       "..            ...       ...       ...        ...            ...  \n",
       "312      0.000000  0.000000  0.000000        0.0       0.000000  \n",
       "313      0.000000  0.000000  0.000000        0.0       0.000000  \n",
       "314      0.000000  0.000000  0.000000        0.0       0.000000  \n",
       "315      0.000000  0.000000  0.000000        0.0       0.000000  \n",
       "316      0.000000  0.000000  0.000000        0.0       0.000000  \n",
       "\n",
       "[317 rows x 54 columns]"
      ]
     },
     "execution_count": 134,
     "metadata": {},
     "output_type": "execute_result"
    }
   ],
   "source": [
    "test = pd.read_csv('df_keys.csv')\n",
    "test"
   ]
  },
  {
   "cell_type": "code",
   "execution_count": null,
   "id": "d0bf2c51",
   "metadata": {},
   "outputs": [],
   "source": []
  },
  {
   "cell_type": "code",
   "execution_count": null,
   "id": "62e6ae6b",
   "metadata": {},
   "outputs": [],
   "source": []
  }
 ],
 "metadata": {
  "kernelspec": {
   "display_name": "Python 3 (ipykernel)",
   "language": "python",
   "name": "python3"
  },
  "language_info": {
   "codemirror_mode": {
    "name": "ipython",
    "version": 3
   },
   "file_extension": ".py",
   "mimetype": "text/x-python",
   "name": "python",
   "nbconvert_exporter": "python",
   "pygments_lexer": "ipython3",
   "version": "3.9.13"
  }
 },
 "nbformat": 4,
 "nbformat_minor": 5
}

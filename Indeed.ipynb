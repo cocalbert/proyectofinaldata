{
 "cells": [
  {
   "cell_type": "code",
   "execution_count": 1,
   "id": "bdaf6fcf",
   "metadata": {},
   "outputs": [],
   "source": []
  },
  {
   "cell_type": "code",
   "execution_count": 14,
   "id": "c49f2d46",
   "metadata": {},
   "outputs": [],
   "source": [
    "import requests\n",
    "from bs4 import BeautifulSoup\n"
   ]
  },
  {
   "cell_type": "code",
   "execution_count": null,
   "id": "6288fdd6",
   "metadata": {},
   "outputs": [],
   "source": []
  },
  {
   "cell_type": "code",
   "execution_count": 15,
   "id": "7e5656d4",
   "metadata": {},
   "outputs": [],
   "source": [
    "url = \"https://es.indeed.com/jobs?q=data+analyst&l=Barcelona%2C+Barcelona+provincia&start=0\""
   ]
  },
  {
   "cell_type": "code",
   "execution_count": 22,
   "id": "21ec17e3",
   "metadata": {},
   "outputs": [
    {
     "name": "stdout",
     "output_type": "stream",
     "text": [
      "<!DOCTYPE html>\n",
      "\n",
      "<!--[if lt IE 7]> <html class=\"no-js ie6 oldie\" lang=\"en-US\"> <![endif]-->\n",
      "<!--[if IE 7]>    <html class=\"no-js ie7 oldie\" lang=\"en-US\"> <![endif]-->\n",
      "<!--[if IE 8]>    <html class=\"no-js ie8 oldie\" lang=\"en-US\"> <![endif]-->\n",
      "<!--[if gt IE 8]><!--> <html class=\"no-js\" lang=\"en-US\"> <!--<![endif]-->\n",
      "<head>\n",
      "<title>Attention Required! | Cloudflare</title>\n",
      "<meta charset=\"utf-8\"/>\n",
      "<meta content=\"text/html; charset=utf-8\" http-equiv=\"Content-Type\"/>\n",
      "<meta content=\"IE=Edge\" http-equiv=\"X-UA-Compatible\"/>\n",
      "<meta content=\"noindex, nofollow\" name=\"robots\"/>\n",
      "<meta content=\"width=device-width,initial-scale=1\" name=\"viewport\"/>\n",
      "<link href=\"/cdn-cgi/styles/cf.errors.css\" id=\"cf_styles-css\" rel=\"stylesheet\"/>\n",
      "<!--[if lt IE 9]><link rel=\"stylesheet\" id='cf_styles-ie-css' href=\"/cdn-cgi/styles/cf.errors.ie.css\" /><![endif]-->\n",
      "<style>body{margin:0;padding:0}</style>\n",
      "<!--[if gte IE 10]><!-->\n",
      "<script>\n",
      "  if (!navigator.cookieEnabled) {\n",
      "    window.addEventListener('DOMContentLoaded', function () {\n",
      "      var cookieEl = document.getElementById('cookie-alert');\n",
      "      cookieEl.style.display = 'block';\n",
      "    })\n",
      "  }\n",
      "</script>\n",
      "<!--<![endif]-->\n",
      "</head>\n",
      "<body>\n",
      "<div id=\"cf-wrapper\">\n",
      "<div class=\"cf-alert cf-alert-error cf-cookie-error\" data-translate=\"enable_cookies\" id=\"cookie-alert\">Please enable cookies.</div>\n",
      "<div class=\"cf-error-details-wrapper\" id=\"cf-error-details\">\n",
      "<div class=\"cf-wrapper cf-header cf-error-overview\">\n",
      "<h1 data-translate=\"block_headline\">Sorry, you have been blocked</h1>\n",
      "<h2 class=\"cf-subheadline\"><span data-translate=\"unable_to_access\">You are unable to access</span> indeed.com</h2>\n",
      "</div><!-- /.header -->\n",
      "<div class=\"cf-section cf-highlight\">\n",
      "<div class=\"cf-wrapper\">\n",
      "<div class=\"cf-screenshot-container cf-screenshot-full\">\n",
      "<span class=\"cf-no-screenshot error\"></span>\n",
      "</div>\n",
      "</div>\n",
      "</div><!-- /.captcha-container -->\n",
      "<div class=\"cf-section cf-wrapper\">\n",
      "<div class=\"cf-columns two\">\n",
      "<div class=\"cf-column\">\n",
      "<h2 data-translate=\"blocked_why_headline\">Why have I been blocked?</h2>\n",
      "<p data-translate=\"blocked_why_detail\">This website is using a security service to protect itself from online attacks. The action you just performed triggered the security solution. There are several actions that could trigger this block including submitting a certain word or phrase, a SQL command or malformed data.</p>\n",
      "</div>\n",
      "<div class=\"cf-column\">\n",
      "<h2 data-translate=\"blocked_resolve_headline\">What can I do to resolve this?</h2>\n",
      "<p data-translate=\"blocked_resolve_detail\">You can email the site owner to let them know you were blocked. Please include what you were doing when this page came up and the Cloudflare Ray ID found at the bottom of this page.</p>\n",
      "</div>\n",
      "</div>\n",
      "</div><!-- /.section -->\n",
      "<div class=\"cf-error-footer cf-wrapper w-240 lg:w-full py-10 sm:py-4 sm:px-8 mx-auto text-center sm:text-left border-solid border-0 border-t border-gray-300\">\n",
      "<p class=\"text-13\">\n",
      "<span class=\"cf-footer-item sm:block sm:mb-1\">Cloudflare Ray ID: <strong class=\"font-semibold\">7df835e8094a1ba6</strong></span>\n",
      "<span class=\"cf-footer-separator sm:hidden\">•</span>\n",
      "<span class=\"cf-footer-item hidden sm:block sm:mb-1\" id=\"cf-footer-item-ip\">\n",
      "      Your IP:\n",
      "      <button class=\"cf-footer-ip-reveal-btn\" id=\"cf-footer-ip-reveal\" type=\"button\">Click to reveal</button>\n",
      "<span class=\"hidden\" id=\"cf-footer-ip\">90.71.161.155</span>\n",
      "<span class=\"cf-footer-separator sm:hidden\">•</span>\n",
      "</span>\n",
      "<span class=\"cf-footer-item sm:block sm:mb-1\"><span>Performance &amp; security by</span> <a href=\"https://www.cloudflare.com/5xx-error-landing\" id=\"brand_link\" rel=\"noopener noreferrer\" target=\"_blank\">Cloudflare</a></span>\n",
      "</p>\n",
      "<script>(function(){function d(){var b=a.getElementById(\"cf-footer-item-ip\"),c=a.getElementById(\"cf-footer-ip-reveal\");b&&\"classList\"in b&&(b.classList.remove(\"hidden\"),c.addEventListener(\"click\",function(){c.classList.add(\"hidden\");a.getElementById(\"cf-footer-ip\").classList.remove(\"hidden\")}))}var a=document;document.addEventListener&&a.addEventListener(\"DOMContentLoaded\",d)})();</script>\n",
      "</div><!-- /.error-footer -->\n",
      "</div><!-- /#cf-error-details -->\n",
      "</div><!-- /#cf-wrapper -->\n",
      "<script>\n",
      "  window._cf_translation = {};\n",
      "  \n",
      "  \n",
      "</script>\n",
      "</body>\n",
      "</html>\n",
      "\n"
     ]
    }
   ],
   "source": [
    "def extract(page):\n",
    "    headers = {'User-Agent' : 'Mozilla/5.0 (Macintosh; Intel Mac OS X 10_15_7) AppleWebKit/537.36 (KHTML, like Gecko) Chrome/114.0.0.0 Safari/537.36'}\n",
    "    url = f'https://es.indeed.com/jobs?q=data+analyst&l=Barcelona%2C+Barcelona+provincia&start={page}'\n",
    "    r = requests.get(url,headers)\n",
    "    soup = BeautifulSoup(r.content, 'html.parser') \n",
    "    return soup\n",
    "def transform(soup):\n",
    "    divs = soup.find_all('div', class_= \"cardOutline\")\n",
    "    for item in divs:\n",
    "        title = item.fins('span').text\n",
    "        print(title)\n",
    "    return\n",
    "\n",
    "    \n",
    "c=extract(0)\n",
    "print(c)"
   ]
  },
  {
   "cell_type": "code",
   "execution_count": null,
   "id": "8c66ec17",
   "metadata": {},
   "outputs": [],
   "source": []
  }
 ],
 "metadata": {
  "kernelspec": {
   "display_name": "Python 3 (ipykernel)",
   "language": "python",
   "name": "python3"
  },
  "language_info": {
   "codemirror_mode": {
    "name": "ipython",
    "version": 3
   },
   "file_extension": ".py",
   "mimetype": "text/x-python",
   "name": "python",
   "nbconvert_exporter": "python",
   "pygments_lexer": "ipython3",
   "version": "3.9.13"
  }
 },
 "nbformat": 4,
 "nbformat_minor": 5
}

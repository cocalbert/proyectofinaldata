{
 "cells": [
  {
   "cell_type": "markdown",
   "id": "e528eb9f",
   "metadata": {},
   "source": [
    "# IMPORTS"
   ]
  },
  {
   "cell_type": "code",
   "execution_count": 1,
   "id": "ca122afe",
   "metadata": {
    "scrolled": true
   },
   "outputs": [],
   "source": [
    "from selenium import webdriver\n",
    "from selenium.webdriver.common.by import By\n",
    "from selenium.webdriver.chrome.service import Service\n",
    "from selenium.webdriver.chrome.options import Options\n",
    "from webdriver_manager.chrome import ChromeDriverManager\n",
    "from bs4 import BeautifulSoup\n",
    "import pandas as pd\n",
    "from tqdm import tqdm"
   ]
  },
  {
   "cell_type": "markdown",
   "id": "31bfd612",
   "metadata": {},
   "source": [
    "# INICIAR EL DRIVER Y LOGGEANDO LINKEDIN"
   ]
  },
  {
   "cell_type": "code",
   "execution_count": 2,
   "id": "85e8b9b0",
   "metadata": {},
   "outputs": [],
   "source": [
    "def driver():\n",
    "    user_agent = 'Mozilla/5.0 (Macintosh; Intel Mac OS X 10_15_7) AppleWebKit/537.36 (KHTML, like Gecko) Chrome/114.0.0.0 Safari/537.36'\n",
    "    options = webdriver.ChromeOptions()\n",
    "    options.add_argument('--ignore-certificate-errors')\n",
    "    options.add_argument('--incognito')\n",
    "    #options.add_argument(\"headless\")\n",
    "    options.add_argument(f'user-agent={user_agent}')\n",
    "    options.add_argument(\"--window-size=1920,1080\")\n",
    "    #options.binary_location = '/Applications/Brave Browser.app/Contents/MacOS/Brave Browser'\n",
    "    s = Service(ChromeDriverManager().install())\n",
    "    return webdriver.Chrome(service=s, options=options)\n"
   ]
  },
  {
   "cell_type": "code",
   "execution_count": 3,
   "id": "dc951ef5",
   "metadata": {},
   "outputs": [],
   "source": [
    "def linkedin_login(driver):\n",
    "    soup = BeautifulSoup(page_source, \"html.parser\")\n",
    "    mail = 'cocazapata.21@gmail.com'\n",
    "    pw = 'fcbarcelona21'\n",
    "    driver.get('https://www.linkedin.com')\n",
    "    username = driver.find_element(By.ID, 'session_key').send_keys(mail)\n",
    "    password = driver.find_element(By.ID, 'session_password').send_keys(pw)\n",
    "    login_button = soup.find(\"button\", {\"class\": \"button[btn-md btn-primary flex-shrink-0 cursor-pointersign-in-form__submit-btn--full-width\"})\n",
    "    login_button.click()\n",
    "    "
   ]
  },
  {
   "cell_type": "markdown",
   "id": "91936586",
   "metadata": {},
   "source": [
    "\n",
    "# DA POSITIONS"
   ]
  },
  {
   "cell_type": "code",
   "execution_count": 4,
   "id": "7eff305e",
   "metadata": {},
   "outputs": [
    {
     "ename": "NameError",
     "evalue": "name 'page_source' is not defined",
     "output_type": "error",
     "traceback": [
      "\u001b[0;31m---------------------------------------------------------------------------\u001b[0m",
      "\u001b[0;31mNameError\u001b[0m                                 Traceback (most recent call last)",
      "\u001b[0;32m/var/folders/q7/v3v0dp3x75b1z141v2hlcr3c0000gn/T/ipykernel_21597/1717878485.py\u001b[0m in \u001b[0;36m<module>\u001b[0;34m\u001b[0m\n\u001b[1;32m     82\u001b[0m     \u001b[0;32mreturn\u001b[0m \u001b[0mdf\u001b[0m\u001b[0;34m\u001b[0m\u001b[0;34m\u001b[0m\u001b[0m\n\u001b[1;32m     83\u001b[0m \u001b[0;34m\u001b[0m\u001b[0m\n\u001b[0;32m---> 84\u001b[0;31m \u001b[0manalyst\u001b[0m \u001b[0;34m=\u001b[0m \u001b[0mdata_analyst\u001b[0m\u001b[0;34m(\u001b[0m\u001b[0;34m)\u001b[0m\u001b[0;34m\u001b[0m\u001b[0;34m\u001b[0m\u001b[0m\n\u001b[0m",
      "\u001b[0;32m/var/folders/q7/v3v0dp3x75b1z141v2hlcr3c0000gn/T/ipykernel_21597/1717878485.py\u001b[0m in \u001b[0;36mdata_analyst\u001b[0;34m()\u001b[0m\n\u001b[1;32m      9\u001b[0m     \u001b[0mdriver\u001b[0m \u001b[0;34m=\u001b[0m \u001b[0mwebdriver\u001b[0m\u001b[0;34m.\u001b[0m\u001b[0mChrome\u001b[0m\u001b[0;34m(\u001b[0m\u001b[0mservice\u001b[0m\u001b[0;34m=\u001b[0m\u001b[0ms\u001b[0m\u001b[0;34m,\u001b[0m \u001b[0moptions\u001b[0m\u001b[0;34m=\u001b[0m\u001b[0moptions\u001b[0m\u001b[0;34m)\u001b[0m\u001b[0;34m\u001b[0m\u001b[0;34m\u001b[0m\u001b[0m\n\u001b[1;32m     10\u001b[0m \u001b[0;34m\u001b[0m\u001b[0m\n\u001b[0;32m---> 11\u001b[0;31m     \u001b[0mlinkedin_login\u001b[0m\u001b[0;34m(\u001b[0m\u001b[0mdriver\u001b[0m\u001b[0;34m)\u001b[0m\u001b[0;34m\u001b[0m\u001b[0;34m\u001b[0m\u001b[0m\n\u001b[0m\u001b[1;32m     12\u001b[0m \u001b[0;34m\u001b[0m\u001b[0m\n\u001b[1;32m     13\u001b[0m     \u001b[0mtitles\u001b[0m \u001b[0;34m=\u001b[0m \u001b[0;34m[\u001b[0m\u001b[0;34m]\u001b[0m\u001b[0;34m\u001b[0m\u001b[0;34m\u001b[0m\u001b[0m\n",
      "\u001b[0;32m/var/folders/q7/v3v0dp3x75b1z141v2hlcr3c0000gn/T/ipykernel_21597/1700105322.py\u001b[0m in \u001b[0;36mlinkedin_login\u001b[0;34m(driver)\u001b[0m\n\u001b[1;32m      1\u001b[0m \u001b[0;32mdef\u001b[0m \u001b[0mlinkedin_login\u001b[0m\u001b[0;34m(\u001b[0m\u001b[0mdriver\u001b[0m\u001b[0;34m)\u001b[0m\u001b[0;34m:\u001b[0m\u001b[0;34m\u001b[0m\u001b[0;34m\u001b[0m\u001b[0m\n\u001b[0;32m----> 2\u001b[0;31m     \u001b[0msoup\u001b[0m \u001b[0;34m=\u001b[0m \u001b[0mBeautifulSoup\u001b[0m\u001b[0;34m(\u001b[0m\u001b[0mpage_source\u001b[0m\u001b[0;34m,\u001b[0m \u001b[0;34m\"html.parser\"\u001b[0m\u001b[0;34m)\u001b[0m\u001b[0;34m\u001b[0m\u001b[0;34m\u001b[0m\u001b[0m\n\u001b[0m\u001b[1;32m      3\u001b[0m     \u001b[0mmail\u001b[0m \u001b[0;34m=\u001b[0m \u001b[0;34m'cocazapata.21@gmail.com'\u001b[0m\u001b[0;34m\u001b[0m\u001b[0;34m\u001b[0m\u001b[0m\n\u001b[1;32m      4\u001b[0m     \u001b[0mpw\u001b[0m \u001b[0;34m=\u001b[0m \u001b[0;34m'fcbarcelona21'\u001b[0m\u001b[0;34m\u001b[0m\u001b[0;34m\u001b[0m\u001b[0m\n\u001b[1;32m      5\u001b[0m     \u001b[0mdriver\u001b[0m\u001b[0;34m.\u001b[0m\u001b[0mget\u001b[0m\u001b[0;34m(\u001b[0m\u001b[0;34m'https://www.linkedin.com'\u001b[0m\u001b[0;34m)\u001b[0m\u001b[0;34m\u001b[0m\u001b[0;34m\u001b[0m\u001b[0m\n",
      "\u001b[0;31mNameError\u001b[0m: name 'page_source' is not defined"
     ]
    }
   ],
   "source": [
    "def data_analyst():\n",
    "    user_agent = 'Mozilla/5.0 (Macintosh; Intel Mac OS X 10_15_7) AppleWebKit/537.36 (KHTML, like Gecko) Chrome/114.0.0.0 Safari/537.36'\n",
    "    options = webdriver.ChromeOptions()\n",
    "    options.add_argument('--ignore-certificate-errors')\n",
    "    options.add_argument('--incognito')\n",
    "    options.add_argument(f'user-agent={user_agent}')\n",
    "    #options.binary_location = '/Applications/Brave Browser.app/Contents/MacOS/Brave Browser'\n",
    "    s = Service(ChromeDriverManager().install())\n",
    "    driver = webdriver.Chrome(service=s, options=options)\n",
    "\n",
    "    linkedin_login(driver)\n",
    "\n",
    "    titles = []\n",
    "    companies = []\n",
    "    locations = []\n",
    "    modalities = []\n",
    "    descriptions = []\n",
    "    type_and_levels = []\n",
    "\n",
    "    for i in tqdm(range(0, 2)):\n",
    "        driver.get(f'https://www.linkedin.com/jobs/search/?currentJobId=3521795653&geoId=107025191&keywords=data%20analyst&location=Barcelona%2C%20Catalonia%2C%20Spain&refresh=true={i}')\n",
    "        page_source = driver.page_source\n",
    "        soup = BeautifulSoup(page_source, \"html.parser\")\n",
    "        all_listings = []\n",
    "        keep_scrolling = True\n",
    "\n",
    "        while keep_scrolling:\n",
    "            listings = driver.find_elements(By.CSS_SELECTOR, \".job-card-list__title\")\n",
    "            if set(listings) == set(all_listings):\n",
    "                keep_scrolling = False\n",
    "            else:\n",
    "                new_listings = list(set(listings) - set(all_listings))\n",
    "                for listing in new_listings:\n",
    "                    all_listings.append(listing)\n",
    "                    try:\n",
    "                        driver.execute_script(\"arguments[0].scrollIntoView({behavior: 'smooth'});\", listing)\n",
    "                        listing.click()\n",
    "                        time.sleep(random.randint(2, 5))\n",
    "                        page_source = driver.page_source\n",
    "                        soup = BeautifulSoup(page_source, \"html.parser\")\n",
    "                        try:\n",
    "                            title = soup.find(\"h2\", {\"class\": \"t-24 t-bold jobs-unified-top-card__job-title\"}).get_text(strip=True)\n",
    "\n",
    "                            if 'data' in title.lower() or 'datos' in title.lower():\n",
    "                                titles.append(title)\n",
    "                                try:\n",
    "                                    company = soup.find(\"span\", {\"class\": \"jobs-unified-top-card__company-name\"}).get_text(strip=True)\n",
    "                                    companies.append(company)\n",
    "                                except AttributeError:\n",
    "                                    companies.append('Unknown')\n",
    "                                try:\n",
    "                                    location = soup.find(\"span\", {\"class\": \"jobs-unified-top-card__bullet\"}).get_text(strip=True)\n",
    "                                    locations.append(location)\n",
    "                                except AttributeError:\n",
    "                                    locations.append('Unknown')\n",
    "                                try:\n",
    "                                    modality = soup.find(\"span\", {\"class\": \"jobs-unified-top-card__workplace-type\"}).get_text(strip=True)\n",
    "                                    modalities.append(modality)\n",
    "                                except AttributeError:\n",
    "                                    modalities.append('Unknown')\n",
    "                                try:\n",
    "                                    description = soup.find(\"div\", {\"class\": \"jobs-description__content jobs-description-content\"}).get_text(strip=True)\n",
    "                                    descriptions.append(description)\n",
    "                                except AttributeError:\n",
    "                                    descriptions.append('Unknown')\n",
    "                                try:\n",
    "                                    span_element = soup.find('span')\n",
    "                                    type_and_level = span_element.get_text(strip=True)\n",
    "                                    type_and_levels.append(type_and_level)\n",
    "                                except AttributeError:\n",
    "                                    type_and_levels.append('Unknown')\n",
    "\n",
    "                        except AttributeError:\n",
    "                            pass\n",
    "                    except:\n",
    "                        pass\n",
    "\n",
    "    driver.quit()\n",
    "\n",
    "    df = pd.DataFrame({'title': titles, 'company': companies, 'location': locations,\n",
    "                       'modality': modalities, 'description': descriptions, 'type_and_level': type_and_levels})\n",
    "    return df\n",
    "\n",
    "analyst = data_analyst()"
   ]
  },
  {
   "cell_type": "code",
   "execution_count": null,
   "id": "c150290d",
   "metadata": {},
   "outputs": [],
   "source": [
    "analyst = data_analyst()\n"
   ]
  },
  {
   "cell_type": "code",
   "execution_count": null,
   "id": "4a236a27",
   "metadata": {},
   "outputs": [],
   "source": []
  },
  {
   "cell_type": "code",
   "execution_count": null,
   "id": "533b5010",
   "metadata": {},
   "outputs": [],
   "source": []
  },
  {
   "cell_type": "code",
   "execution_count": null,
   "id": "b73f6dfa",
   "metadata": {},
   "outputs": [],
   "source": []
  },
  {
   "cell_type": "code",
   "execution_count": null,
   "id": "c6474b82",
   "metadata": {},
   "outputs": [],
   "source": [
    " "
   ]
  },
  {
   "cell_type": "code",
   "execution_count": null,
   "id": "475059da",
   "metadata": {},
   "outputs": [],
   "source": []
  },
  {
   "cell_type": "code",
   "execution_count": null,
   "id": "d760120d",
   "metadata": {},
   "outputs": [],
   "source": []
  }
 ],
 "metadata": {
  "kernelspec": {
   "display_name": "Python 3 (ipykernel)",
   "language": "python",
   "name": "python3"
  },
  "language_info": {
   "codemirror_mode": {
    "name": "ipython",
    "version": 3
   },
   "file_extension": ".py",
   "mimetype": "text/x-python",
   "name": "python",
   "nbconvert_exporter": "python",
   "pygments_lexer": "ipython3",
   "version": "3.9.13"
  }
 },
 "nbformat": 4,
 "nbformat_minor": 5
}
